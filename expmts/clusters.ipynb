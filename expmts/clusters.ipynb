{
 "cells": [
  {
   "cell_type": "code",
   "execution_count": 2,
   "metadata": {},
   "outputs": [],
   "source": [
    "import pandas as pd\n",
    "import numpy as np\n",
    "\n",
    "from scipy.cluster.hierarchy import dendrogram, linkage, fcluster\n",
    "\n",
    "import matplotlib.pyplot as plt\n",
    "import seaborn as sns\n",
    "\n",
    "jtplot.style(figsize=(15, 9))"
   ]
  },
  {
   "cell_type": "code",
   "execution_count": 20,
   "metadata": {},
   "outputs": [
    {
     "data": {
      "text/html": [
       "<div>\n",
       "<style scoped>\n",
       "    .dataframe tbody tr th:only-of-type {\n",
       "        vertical-align: middle;\n",
       "    }\n",
       "\n",
       "    .dataframe tbody tr th {\n",
       "        vertical-align: top;\n",
       "    }\n",
       "\n",
       "    .dataframe thead th {\n",
       "        text-align: right;\n",
       "    }\n",
       "</style>\n",
       "<table border=\"1\" class=\"dataframe\">\n",
       "  <thead>\n",
       "    <tr style=\"text-align: right;\">\n",
       "      <th></th>\n",
       "      <th>AAPL</th>\n",
       "      <th>GDX</th>\n",
       "      <th>GLD</th>\n",
       "      <th>SPY</th>\n",
       "    </tr>\n",
       "    <tr>\n",
       "      <th>Datetime</th>\n",
       "      <th></th>\n",
       "      <th></th>\n",
       "      <th></th>\n",
       "      <th></th>\n",
       "    </tr>\n",
       "  </thead>\n",
       "  <tbody>\n",
       "    <tr>\n",
       "      <th>2022-10-07 14:30:00-04:00</th>\n",
       "      <td>139.721893</td>\n",
       "      <td>24.440001</td>\n",
       "      <td>157.720001</td>\n",
       "      <td>361.619995</td>\n",
       "    </tr>\n",
       "    <tr>\n",
       "      <th>2022-10-07 15:30:00-04:00</th>\n",
       "      <td>140.080002</td>\n",
       "      <td>24.420000</td>\n",
       "      <td>157.919998</td>\n",
       "      <td>362.799988</td>\n",
       "    </tr>\n",
       "    <tr>\n",
       "      <th>2022-10-10 09:30:00-04:00</th>\n",
       "      <td>140.050003</td>\n",
       "      <td>24.250000</td>\n",
       "      <td>155.869995</td>\n",
       "      <td>362.489990</td>\n",
       "    </tr>\n",
       "    <tr>\n",
       "      <th>2022-10-10 10:30:00-04:00</th>\n",
       "      <td>140.020004</td>\n",
       "      <td>24.195000</td>\n",
       "      <td>155.419998</td>\n",
       "      <td>360.339996</td>\n",
       "    </tr>\n",
       "    <tr>\n",
       "      <th>2022-10-10 11:30:00-04:00</th>\n",
       "      <td>139.747498</td>\n",
       "      <td>24.190001</td>\n",
       "      <td>155.265106</td>\n",
       "      <td>359.050110</td>\n",
       "    </tr>\n",
       "  </tbody>\n",
       "</table>\n",
       "</div>"
      ],
      "text/plain": [
       "                                 AAPL        GDX         GLD         SPY\n",
       "Datetime                                                                \n",
       "2022-10-07 14:30:00-04:00  139.721893  24.440001  157.720001  361.619995\n",
       "2022-10-07 15:30:00-04:00  140.080002  24.420000  157.919998  362.799988\n",
       "2022-10-10 09:30:00-04:00  140.050003  24.250000  155.869995  362.489990\n",
       "2022-10-10 10:30:00-04:00  140.020004  24.195000  155.419998  360.339996\n",
       "2022-10-10 11:30:00-04:00  139.747498  24.190001  155.265106  359.050110"
      ]
     },
     "execution_count": 20,
     "metadata": {},
     "output_type": "execute_result"
    }
   ],
   "source": [
    "df = pd.read_csv('../data/bt/gld_gdx_aapl_spy__1H.csv', parse_dates=True, index_col=0, header=[0, 1])\n",
    "df = df['Close']\n",
    "df.head()"
   ]
  },
  {
   "cell_type": "code",
   "execution_count": 21,
   "metadata": {},
   "outputs": [],
   "source": [
    "tickers = df.columns"
   ]
  },
  {
   "cell_type": "code",
   "execution_count": 22,
   "metadata": {},
   "outputs": [],
   "source": [
    "for col in tickers:\n",
    "    df[f'{col}_return'] = np.log(df[col] / df[col].shift(1))\n",
    "    df[f'{col}_direction'] = np.where(df[f'{col}_return'] > 0, 1, 0)\n",
    "\n",
    "df.dropna(inplace=True)"
   ]
  },
  {
   "cell_type": "code",
   "execution_count": 26,
   "metadata": {},
   "outputs": [
    {
     "data": {
      "text/html": [
       "<div>\n",
       "<style scoped>\n",
       "    .dataframe tbody tr th:only-of-type {\n",
       "        vertical-align: middle;\n",
       "    }\n",
       "\n",
       "    .dataframe tbody tr th {\n",
       "        vertical-align: top;\n",
       "    }\n",
       "\n",
       "    .dataframe thead th {\n",
       "        text-align: right;\n",
       "    }\n",
       "</style>\n",
       "<table border=\"1\" class=\"dataframe\">\n",
       "  <thead>\n",
       "    <tr style=\"text-align: right;\">\n",
       "      <th></th>\n",
       "      <th>AAPL_direction</th>\n",
       "      <th>GDX_direction</th>\n",
       "      <th>GLD_direction</th>\n",
       "      <th>SPY_direction</th>\n",
       "    </tr>\n",
       "    <tr>\n",
       "      <th>Datetime</th>\n",
       "      <th></th>\n",
       "      <th></th>\n",
       "      <th></th>\n",
       "      <th></th>\n",
       "    </tr>\n",
       "  </thead>\n",
       "  <tbody>\n",
       "    <tr>\n",
       "      <th>2022-10-07 15:30:00-04:00</th>\n",
       "      <td>1</td>\n",
       "      <td>0</td>\n",
       "      <td>1</td>\n",
       "      <td>1</td>\n",
       "    </tr>\n",
       "    <tr>\n",
       "      <th>2022-10-10 09:30:00-04:00</th>\n",
       "      <td>0</td>\n",
       "      <td>0</td>\n",
       "      <td>0</td>\n",
       "      <td>0</td>\n",
       "    </tr>\n",
       "    <tr>\n",
       "      <th>2022-10-10 10:30:00-04:00</th>\n",
       "      <td>0</td>\n",
       "      <td>0</td>\n",
       "      <td>0</td>\n",
       "      <td>0</td>\n",
       "    </tr>\n",
       "    <tr>\n",
       "      <th>2022-10-10 11:30:00-04:00</th>\n",
       "      <td>0</td>\n",
       "      <td>0</td>\n",
       "      <td>0</td>\n",
       "      <td>0</td>\n",
       "    </tr>\n",
       "    <tr>\n",
       "      <th>2022-10-10 12:30:00-04:00</th>\n",
       "      <td>1</td>\n",
       "      <td>0</td>\n",
       "      <td>1</td>\n",
       "      <td>0</td>\n",
       "    </tr>\n",
       "  </tbody>\n",
       "</table>\n",
       "</div>"
      ],
      "text/plain": [
       "                           AAPL_direction  GDX_direction  GLD_direction  \\\n",
       "Datetime                                                                  \n",
       "2022-10-07 15:30:00-04:00               1              0              1   \n",
       "2022-10-10 09:30:00-04:00               0              0              0   \n",
       "2022-10-10 10:30:00-04:00               0              0              0   \n",
       "2022-10-10 11:30:00-04:00               0              0              0   \n",
       "2022-10-10 12:30:00-04:00               1              0              1   \n",
       "\n",
       "                           SPY_direction  \n",
       "Datetime                                  \n",
       "2022-10-07 15:30:00-04:00              1  \n",
       "2022-10-10 09:30:00-04:00              0  \n",
       "2022-10-10 10:30:00-04:00              0  \n",
       "2022-10-10 11:30:00-04:00              0  \n",
       "2022-10-10 12:30:00-04:00              0  "
      ]
     },
     "execution_count": 26,
     "metadata": {},
     "output_type": "execute_result"
    }
   ],
   "source": [
    "df[[ticker+'_direction' for ticker in tickers]].head()"
   ]
  },
  {
   "cell_type": "code",
   "execution_count": 27,
   "metadata": {},
   "outputs": [],
   "source": [
    "link = linkage(df, 'ward', 'euclidean')"
   ]
  },
  {
   "cell_type": "code",
   "execution_count": 28,
   "metadata": {},
   "outputs": [
    {
     "data": {
      "text/plain": [
       "array([[1.62700000e+03, 1.62800000e+03, 1.02529061e-01, 2.00000000e+00],\n",
       "       [1.52300000e+03, 1.52500000e+03, 1.18371228e-01, 2.00000000e+00],\n",
       "       [2.20200000e+03, 2.20500000e+03, 1.55074313e-01, 2.00000000e+00],\n",
       "       [1.26400000e+03, 1.26600000e+03, 2.01229085e-01, 2.00000000e+00],\n",
       "       [1.06300000e+03, 1.06400000e+03, 2.01242602e-01, 2.00000000e+00]])"
      ]
     },
     "execution_count": 28,
     "metadata": {},
     "output_type": "execute_result"
    }
   ],
   "source": [
    "link[:5]"
   ]
  },
  {
   "cell_type": "code",
   "execution_count": 30,
   "metadata": {},
   "outputs": [],
   "source": [
    "# dn = dendrogram(link)"
   ]
  },
  {
   "cell_type": "code",
   "execution_count": null,
   "metadata": {},
   "outputs": [],
   "source": []
  }
 ],
 "metadata": {
  "kernelspec": {
   "display_name": "Python 3",
   "language": "python",
   "name": "python3"
  },
  "language_info": {
   "codemirror_mode": {
    "name": "ipython",
    "version": 3
   },
   "file_extension": ".py",
   "mimetype": "text/x-python",
   "name": "python",
   "nbconvert_exporter": "python",
   "pygments_lexer": "ipython3",
   "version": "3.8.5"
  }
 },
 "nbformat": 4,
 "nbformat_minor": 2
}
