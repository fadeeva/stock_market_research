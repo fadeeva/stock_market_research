{
 "cells": [
  {
   "cell_type": "code",
   "execution_count": 20,
   "metadata": {},
   "outputs": [],
   "source": [
    "import pandas as pd\n",
    "import numpy as np\n",
    "\n",
    "from scipy.cluster.hierarchy import dendrogram, linkage, fcluster\n",
    "\n",
    "import matplotlib.pyplot as plt\n",
    "import seaborn as sns\n",
    "\n",
    "jtplot.style(figsize=(15, 9))"
   ]
  },
  {
   "cell_type": "code",
   "execution_count": 10,
   "metadata": {},
   "outputs": [
    {
     "data": {
      "text/html": [
       "<div>\n",
       "<style scoped>\n",
       "    .dataframe tbody tr th:only-of-type {\n",
       "        vertical-align: middle;\n",
       "    }\n",
       "\n",
       "    .dataframe tbody tr th {\n",
       "        vertical-align: top;\n",
       "    }\n",
       "\n",
       "    .dataframe thead th {\n",
       "        text-align: right;\n",
       "    }\n",
       "</style>\n",
       "<table border=\"1\" class=\"dataframe\">\n",
       "  <thead>\n",
       "    <tr style=\"text-align: right;\">\n",
       "      <th></th>\n",
       "      <th>AAPL</th>\n",
       "      <th>GDX</th>\n",
       "      <th>GLD</th>\n",
       "      <th>SPY</th>\n",
       "    </tr>\n",
       "    <tr>\n",
       "      <th>Datetime</th>\n",
       "      <th></th>\n",
       "      <th></th>\n",
       "      <th></th>\n",
       "      <th></th>\n",
       "    </tr>\n",
       "  </thead>\n",
       "  <tbody>\n",
       "    <tr>\n",
       "      <th>2022-10-07 14:30:00-04:00</th>\n",
       "      <td>139.721893</td>\n",
       "      <td>24.440001</td>\n",
       "      <td>157.720001</td>\n",
       "      <td>361.619995</td>\n",
       "    </tr>\n",
       "    <tr>\n",
       "      <th>2022-10-07 15:30:00-04:00</th>\n",
       "      <td>140.080002</td>\n",
       "      <td>24.420000</td>\n",
       "      <td>157.919998</td>\n",
       "      <td>362.799988</td>\n",
       "    </tr>\n",
       "    <tr>\n",
       "      <th>2022-10-10 09:30:00-04:00</th>\n",
       "      <td>140.050003</td>\n",
       "      <td>24.250000</td>\n",
       "      <td>155.869995</td>\n",
       "      <td>362.489990</td>\n",
       "    </tr>\n",
       "    <tr>\n",
       "      <th>2022-10-10 10:30:00-04:00</th>\n",
       "      <td>140.020004</td>\n",
       "      <td>24.195000</td>\n",
       "      <td>155.419998</td>\n",
       "      <td>360.339996</td>\n",
       "    </tr>\n",
       "    <tr>\n",
       "      <th>2022-10-10 11:30:00-04:00</th>\n",
       "      <td>139.747498</td>\n",
       "      <td>24.190001</td>\n",
       "      <td>155.265106</td>\n",
       "      <td>359.050110</td>\n",
       "    </tr>\n",
       "  </tbody>\n",
       "</table>\n",
       "</div>"
      ],
      "text/plain": [
       "                                 AAPL        GDX         GLD         SPY\n",
       "Datetime                                                                \n",
       "2022-10-07 14:30:00-04:00  139.721893  24.440001  157.720001  361.619995\n",
       "2022-10-07 15:30:00-04:00  140.080002  24.420000  157.919998  362.799988\n",
       "2022-10-10 09:30:00-04:00  140.050003  24.250000  155.869995  362.489990\n",
       "2022-10-10 10:30:00-04:00  140.020004  24.195000  155.419998  360.339996\n",
       "2022-10-10 11:30:00-04:00  139.747498  24.190001  155.265106  359.050110"
      ]
     },
     "execution_count": 10,
     "metadata": {},
     "output_type": "execute_result"
    }
   ],
   "source": [
    "df = pd.read_csv('../data/bt/gld_gdx_aapl_spy__1H.csv', parse_dates=True, index_col=0, header=[0, 1])\n",
    "df = df['Close']\n",
    "df.head()"
   ]
  },
  {
   "cell_type": "code",
   "execution_count": 3,
   "metadata": {},
   "outputs": [
    {
     "data": {
      "text/plain": [
       "(3492, 4)"
      ]
     },
     "execution_count": 3,
     "metadata": {},
     "output_type": "execute_result"
    }
   ],
   "source": [
    "df.shape"
   ]
  },
  {
   "cell_type": "code",
   "execution_count": 11,
   "metadata": {},
   "outputs": [],
   "source": [
    "tickers = df.columns"
   ]
  },
  {
   "cell_type": "code",
   "execution_count": 12,
   "metadata": {},
   "outputs": [],
   "source": [
    "for col in tickers:\n",
    "    df[f'{col}_return'] = np.log(df[col] / df[col].shift(1))\n",
    "#     df[f'{col}_direction'] = np.where(df[f'{col}_return'] > 0, 1, 0)\n",
    "\n",
    "df.dropna(inplace=True)"
   ]
  },
  {
   "cell_type": "code",
   "execution_count": 6,
   "metadata": {},
   "outputs": [
    {
     "data": {
      "text/html": [
       "<div>\n",
       "<style scoped>\n",
       "    .dataframe tbody tr th:only-of-type {\n",
       "        vertical-align: middle;\n",
       "    }\n",
       "\n",
       "    .dataframe tbody tr th {\n",
       "        vertical-align: top;\n",
       "    }\n",
       "\n",
       "    .dataframe thead th {\n",
       "        text-align: right;\n",
       "    }\n",
       "</style>\n",
       "<table border=\"1\" class=\"dataframe\">\n",
       "  <thead>\n",
       "    <tr style=\"text-align: right;\">\n",
       "      <th></th>\n",
       "      <th>AAPL_direction</th>\n",
       "      <th>GDX_direction</th>\n",
       "      <th>GLD_direction</th>\n",
       "      <th>SPY_direction</th>\n",
       "    </tr>\n",
       "    <tr>\n",
       "      <th>Datetime</th>\n",
       "      <th></th>\n",
       "      <th></th>\n",
       "      <th></th>\n",
       "      <th></th>\n",
       "    </tr>\n",
       "  </thead>\n",
       "  <tbody>\n",
       "    <tr>\n",
       "      <th>2022-10-07 15:30:00-04:00</th>\n",
       "      <td>1</td>\n",
       "      <td>0</td>\n",
       "      <td>1</td>\n",
       "      <td>1</td>\n",
       "    </tr>\n",
       "    <tr>\n",
       "      <th>2022-10-10 09:30:00-04:00</th>\n",
       "      <td>0</td>\n",
       "      <td>0</td>\n",
       "      <td>0</td>\n",
       "      <td>0</td>\n",
       "    </tr>\n",
       "    <tr>\n",
       "      <th>2022-10-10 10:30:00-04:00</th>\n",
       "      <td>0</td>\n",
       "      <td>0</td>\n",
       "      <td>0</td>\n",
       "      <td>0</td>\n",
       "    </tr>\n",
       "    <tr>\n",
       "      <th>2022-10-10 11:30:00-04:00</th>\n",
       "      <td>0</td>\n",
       "      <td>0</td>\n",
       "      <td>0</td>\n",
       "      <td>0</td>\n",
       "    </tr>\n",
       "    <tr>\n",
       "      <th>2022-10-10 12:30:00-04:00</th>\n",
       "      <td>1</td>\n",
       "      <td>0</td>\n",
       "      <td>1</td>\n",
       "      <td>0</td>\n",
       "    </tr>\n",
       "  </tbody>\n",
       "</table>\n",
       "</div>"
      ],
      "text/plain": [
       "                           AAPL_direction  GDX_direction  GLD_direction  \\\n",
       "Datetime                                                                  \n",
       "2022-10-07 15:30:00-04:00               1              0              1   \n",
       "2022-10-10 09:30:00-04:00               0              0              0   \n",
       "2022-10-10 10:30:00-04:00               0              0              0   \n",
       "2022-10-10 11:30:00-04:00               0              0              0   \n",
       "2022-10-10 12:30:00-04:00               1              0              1   \n",
       "\n",
       "                           SPY_direction  \n",
       "Datetime                                  \n",
       "2022-10-07 15:30:00-04:00              1  \n",
       "2022-10-10 09:30:00-04:00              0  \n",
       "2022-10-10 10:30:00-04:00              0  \n",
       "2022-10-10 11:30:00-04:00              0  \n",
       "2022-10-10 12:30:00-04:00              0  "
      ]
     },
     "execution_count": 6,
     "metadata": {},
     "output_type": "execute_result"
    }
   ],
   "source": [
    "# df[[ticker+'_direction' for ticker in tickers]].head()"
   ]
  },
  {
   "cell_type": "code",
   "execution_count": 15,
   "metadata": {},
   "outputs": [
    {
     "data": {
      "text/plain": [
       "(3489, 12)"
      ]
     },
     "execution_count": 15,
     "metadata": {},
     "output_type": "execute_result"
    }
   ],
   "source": [
    "df.shape"
   ]
  },
  {
   "cell_type": "code",
   "execution_count": 13,
   "metadata": {},
   "outputs": [],
   "source": [
    "cols = [ticker+'_return' for ticker in tickers]\n",
    "link = linkage(df[cols], 'ward', 'euclidean')\n",
    "df['clusters'] = fcluster(link, 3, criterion='maxclust')"
   ]
  },
  {
   "cell_type": "code",
   "execution_count": 14,
   "metadata": {},
   "outputs": [
    {
     "data": {
      "text/html": [
       "<div>\n",
       "<style scoped>\n",
       "    .dataframe tbody tr th:only-of-type {\n",
       "        vertical-align: middle;\n",
       "    }\n",
       "\n",
       "    .dataframe tbody tr th {\n",
       "        vertical-align: top;\n",
       "    }\n",
       "\n",
       "    .dataframe thead th {\n",
       "        text-align: right;\n",
       "    }\n",
       "</style>\n",
       "<table border=\"1\" class=\"dataframe\">\n",
       "  <thead>\n",
       "    <tr style=\"text-align: right;\">\n",
       "      <th></th>\n",
       "      <th>AAPL</th>\n",
       "      <th>GDX</th>\n",
       "      <th>GLD</th>\n",
       "      <th>SPY</th>\n",
       "      <th>AAPL_return</th>\n",
       "      <th>GDX_return</th>\n",
       "      <th>GLD_return</th>\n",
       "      <th>SPY_return</th>\n",
       "      <th>clusters</th>\n",
       "    </tr>\n",
       "    <tr>\n",
       "      <th>Datetime</th>\n",
       "      <th></th>\n",
       "      <th></th>\n",
       "      <th></th>\n",
       "      <th></th>\n",
       "      <th></th>\n",
       "      <th></th>\n",
       "      <th></th>\n",
       "      <th></th>\n",
       "      <th></th>\n",
       "    </tr>\n",
       "  </thead>\n",
       "  <tbody>\n",
       "    <tr>\n",
       "      <th>2022-10-07 15:30:00-04:00</th>\n",
       "      <td>140.080002</td>\n",
       "      <td>24.420000</td>\n",
       "      <td>157.919998</td>\n",
       "      <td>362.799988</td>\n",
       "      <td>0.002560</td>\n",
       "      <td>-0.000819</td>\n",
       "      <td>0.001267</td>\n",
       "      <td>0.003258</td>\n",
       "      <td>3</td>\n",
       "    </tr>\n",
       "    <tr>\n",
       "      <th>2022-10-10 09:30:00-04:00</th>\n",
       "      <td>140.050003</td>\n",
       "      <td>24.250000</td>\n",
       "      <td>155.869995</td>\n",
       "      <td>362.489990</td>\n",
       "      <td>-0.000214</td>\n",
       "      <td>-0.006986</td>\n",
       "      <td>-0.013066</td>\n",
       "      <td>-0.000855</td>\n",
       "      <td>1</td>\n",
       "    </tr>\n",
       "    <tr>\n",
       "      <th>2022-10-10 10:30:00-04:00</th>\n",
       "      <td>140.020004</td>\n",
       "      <td>24.195000</td>\n",
       "      <td>155.419998</td>\n",
       "      <td>360.339996</td>\n",
       "      <td>-0.000214</td>\n",
       "      <td>-0.002271</td>\n",
       "      <td>-0.002891</td>\n",
       "      <td>-0.005949</td>\n",
       "      <td>3</td>\n",
       "    </tr>\n",
       "    <tr>\n",
       "      <th>2022-10-10 11:30:00-04:00</th>\n",
       "      <td>139.747498</td>\n",
       "      <td>24.190001</td>\n",
       "      <td>155.265106</td>\n",
       "      <td>359.050110</td>\n",
       "      <td>-0.001948</td>\n",
       "      <td>-0.000207</td>\n",
       "      <td>-0.000997</td>\n",
       "      <td>-0.003586</td>\n",
       "      <td>3</td>\n",
       "    </tr>\n",
       "    <tr>\n",
       "      <th>2022-10-10 12:30:00-04:00</th>\n",
       "      <td>139.949997</td>\n",
       "      <td>24.155001</td>\n",
       "      <td>155.350006</td>\n",
       "      <td>358.980011</td>\n",
       "      <td>0.001448</td>\n",
       "      <td>-0.001448</td>\n",
       "      <td>0.000547</td>\n",
       "      <td>-0.000195</td>\n",
       "      <td>3</td>\n",
       "    </tr>\n",
       "  </tbody>\n",
       "</table>\n",
       "</div>"
      ],
      "text/plain": [
       "                                 AAPL        GDX         GLD         SPY  \\\n",
       "Datetime                                                                   \n",
       "2022-10-07 15:30:00-04:00  140.080002  24.420000  157.919998  362.799988   \n",
       "2022-10-10 09:30:00-04:00  140.050003  24.250000  155.869995  362.489990   \n",
       "2022-10-10 10:30:00-04:00  140.020004  24.195000  155.419998  360.339996   \n",
       "2022-10-10 11:30:00-04:00  139.747498  24.190001  155.265106  359.050110   \n",
       "2022-10-10 12:30:00-04:00  139.949997  24.155001  155.350006  358.980011   \n",
       "\n",
       "                           AAPL_return  GDX_return  GLD_return  SPY_return  \\\n",
       "Datetime                                                                     \n",
       "2022-10-07 15:30:00-04:00     0.002560   -0.000819    0.001267    0.003258   \n",
       "2022-10-10 09:30:00-04:00    -0.000214   -0.006986   -0.013066   -0.000855   \n",
       "2022-10-10 10:30:00-04:00    -0.000214   -0.002271   -0.002891   -0.005949   \n",
       "2022-10-10 11:30:00-04:00    -0.001948   -0.000207   -0.000997   -0.003586   \n",
       "2022-10-10 12:30:00-04:00     0.001448   -0.001448    0.000547   -0.000195   \n",
       "\n",
       "                           clusters  \n",
       "Datetime                             \n",
       "2022-10-07 15:30:00-04:00         3  \n",
       "2022-10-10 09:30:00-04:00         1  \n",
       "2022-10-10 10:30:00-04:00         3  \n",
       "2022-10-10 11:30:00-04:00         3  \n",
       "2022-10-10 12:30:00-04:00         3  "
      ]
     },
     "execution_count": 14,
     "metadata": {},
     "output_type": "execute_result"
    }
   ],
   "source": [
    "df.head()"
   ]
  },
  {
   "cell_type": "code",
   "execution_count": 15,
   "metadata": {},
   "outputs": [
    {
     "data": {
      "text/html": [
       "<div>\n",
       "<style scoped>\n",
       "    .dataframe tbody tr th:only-of-type {\n",
       "        vertical-align: middle;\n",
       "    }\n",
       "\n",
       "    .dataframe tbody tr th {\n",
       "        vertical-align: top;\n",
       "    }\n",
       "\n",
       "    .dataframe thead th {\n",
       "        text-align: right;\n",
       "    }\n",
       "</style>\n",
       "<table border=\"1\" class=\"dataframe\">\n",
       "  <thead>\n",
       "    <tr style=\"text-align: right;\">\n",
       "      <th></th>\n",
       "      <th>AAPL</th>\n",
       "      <th>GDX</th>\n",
       "      <th>GLD</th>\n",
       "      <th>SPY</th>\n",
       "    </tr>\n",
       "    <tr>\n",
       "      <th>clusters</th>\n",
       "      <th></th>\n",
       "      <th></th>\n",
       "      <th></th>\n",
       "      <th></th>\n",
       "    </tr>\n",
       "  </thead>\n",
       "  <tbody>\n",
       "    <tr>\n",
       "      <th>1</th>\n",
       "      <td>427</td>\n",
       "      <td>427</td>\n",
       "      <td>427</td>\n",
       "      <td>427</td>\n",
       "    </tr>\n",
       "    <tr>\n",
       "      <th>2</th>\n",
       "      <td>90</td>\n",
       "      <td>90</td>\n",
       "      <td>90</td>\n",
       "      <td>90</td>\n",
       "    </tr>\n",
       "    <tr>\n",
       "      <th>3</th>\n",
       "      <td>2972</td>\n",
       "      <td>2972</td>\n",
       "      <td>2972</td>\n",
       "      <td>2972</td>\n",
       "    </tr>\n",
       "  </tbody>\n",
       "</table>\n",
       "</div>"
      ],
      "text/plain": [
       "          AAPL   GDX   GLD   SPY\n",
       "clusters                        \n",
       "1          427   427   427   427\n",
       "2           90    90    90    90\n",
       "3         2972  2972  2972  2972"
      ]
     },
     "execution_count": 15,
     "metadata": {},
     "output_type": "execute_result"
    }
   ],
   "source": [
    "df.groupby('clusters').count()[tickers]"
   ]
  },
  {
   "cell_type": "code",
   "execution_count": null,
   "metadata": {},
   "outputs": [],
   "source": []
  },
  {
   "cell_type": "code",
   "execution_count": null,
   "metadata": {},
   "outputs": [],
   "source": []
  },
  {
   "cell_type": "code",
   "execution_count": null,
   "metadata": {},
   "outputs": [],
   "source": []
  },
  {
   "cell_type": "code",
   "execution_count": null,
   "metadata": {},
   "outputs": [],
   "source": []
  },
  {
   "cell_type": "code",
   "execution_count": null,
   "metadata": {},
   "outputs": [],
   "source": []
  }
 ],
 "metadata": {
  "kernelspec": {
   "display_name": "Python 3",
   "language": "python",
   "name": "python3"
  },
  "language_info": {
   "codemirror_mode": {
    "name": "ipython",
    "version": 3
   },
   "file_extension": ".py",
   "mimetype": "text/x-python",
   "name": "python",
   "nbconvert_exporter": "python",
   "pygments_lexer": "ipython3",
   "version": "3.8.5"
  }
 },
 "nbformat": 4,
 "nbformat_minor": 2
}
