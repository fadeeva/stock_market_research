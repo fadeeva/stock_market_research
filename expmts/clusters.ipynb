{
 "cells": [
  {
   "cell_type": "code",
   "execution_count": 19,
   "metadata": {},
   "outputs": [],
   "source": [
    "import pandas as pd\n",
    "import numpy as np\n",
    "\n",
    "from scipy.cluster.hierarchy import dendrogram, linkage, fcluster\n",
    "\n",
    "import matplotlib.pyplot as plt\n",
    "import seaborn as sns\n",
    "\n",
    "jtplot.style(figsize=(15, 9))"
   ]
  },
  {
   "cell_type": "code",
   "execution_count": 2,
   "metadata": {},
   "outputs": [
    {
     "data": {
      "text/html": [
       "<div>\n",
       "<style scoped>\n",
       "    .dataframe tbody tr th:only-of-type {\n",
       "        vertical-align: middle;\n",
       "    }\n",
       "\n",
       "    .dataframe tbody tr th {\n",
       "        vertical-align: top;\n",
       "    }\n",
       "\n",
       "    .dataframe thead th {\n",
       "        text-align: right;\n",
       "    }\n",
       "</style>\n",
       "<table border=\"1\" class=\"dataframe\">\n",
       "  <thead>\n",
       "    <tr style=\"text-align: right;\">\n",
       "      <th></th>\n",
       "      <th>AAPL</th>\n",
       "      <th>GDX</th>\n",
       "      <th>GLD</th>\n",
       "      <th>SPY</th>\n",
       "    </tr>\n",
       "    <tr>\n",
       "      <th>Datetime</th>\n",
       "      <th></th>\n",
       "      <th></th>\n",
       "      <th></th>\n",
       "      <th></th>\n",
       "    </tr>\n",
       "  </thead>\n",
       "  <tbody>\n",
       "    <tr>\n",
       "      <th>2022-10-07 14:30:00-04:00</th>\n",
       "      <td>139.721893</td>\n",
       "      <td>24.440001</td>\n",
       "      <td>157.720001</td>\n",
       "      <td>361.619995</td>\n",
       "    </tr>\n",
       "    <tr>\n",
       "      <th>2022-10-07 15:30:00-04:00</th>\n",
       "      <td>140.080002</td>\n",
       "      <td>24.420000</td>\n",
       "      <td>157.919998</td>\n",
       "      <td>362.799988</td>\n",
       "    </tr>\n",
       "    <tr>\n",
       "      <th>2022-10-10 09:30:00-04:00</th>\n",
       "      <td>140.050003</td>\n",
       "      <td>24.250000</td>\n",
       "      <td>155.869995</td>\n",
       "      <td>362.489990</td>\n",
       "    </tr>\n",
       "    <tr>\n",
       "      <th>2022-10-10 10:30:00-04:00</th>\n",
       "      <td>140.020004</td>\n",
       "      <td>24.195000</td>\n",
       "      <td>155.419998</td>\n",
       "      <td>360.339996</td>\n",
       "    </tr>\n",
       "    <tr>\n",
       "      <th>2022-10-10 11:30:00-04:00</th>\n",
       "      <td>139.747498</td>\n",
       "      <td>24.190001</td>\n",
       "      <td>155.265106</td>\n",
       "      <td>359.050110</td>\n",
       "    </tr>\n",
       "  </tbody>\n",
       "</table>\n",
       "</div>"
      ],
      "text/plain": [
       "                                 AAPL        GDX         GLD         SPY\n",
       "Datetime                                                                \n",
       "2022-10-07 14:30:00-04:00  139.721893  24.440001  157.720001  361.619995\n",
       "2022-10-07 15:30:00-04:00  140.080002  24.420000  157.919998  362.799988\n",
       "2022-10-10 09:30:00-04:00  140.050003  24.250000  155.869995  362.489990\n",
       "2022-10-10 10:30:00-04:00  140.020004  24.195000  155.419998  360.339996\n",
       "2022-10-10 11:30:00-04:00  139.747498  24.190001  155.265106  359.050110"
      ]
     },
     "execution_count": 2,
     "metadata": {},
     "output_type": "execute_result"
    }
   ],
   "source": [
    "df = pd.read_csv('../data/bt/gld_gdx_aapl_spy__1H.csv', parse_dates=True, index_col=0, header=[0, 1])\n",
    "df = df['Close']\n",
    "df.head()"
   ]
  },
  {
   "cell_type": "code",
   "execution_count": 3,
   "metadata": {},
   "outputs": [
    {
     "data": {
      "text/plain": [
       "(3492, 4)"
      ]
     },
     "execution_count": 3,
     "metadata": {},
     "output_type": "execute_result"
    }
   ],
   "source": [
    "df.shape"
   ]
  },
  {
   "cell_type": "code",
   "execution_count": 4,
   "metadata": {},
   "outputs": [],
   "source": [
    "tickers = df.columns"
   ]
  },
  {
   "cell_type": "code",
   "execution_count": 5,
   "metadata": {},
   "outputs": [],
   "source": [
    "for col in tickers:\n",
    "    df[f'{col}_return'] = np.log(df[col] / df[col].shift(1))\n",
    "    df[f'{col}_direction'] = np.where(df[f'{col}_return'] > 0, 1, 0)\n",
    "\n",
    "df.dropna(inplace=True)"
   ]
  },
  {
   "cell_type": "code",
   "execution_count": 6,
   "metadata": {},
   "outputs": [
    {
     "data": {
      "text/html": [
       "<div>\n",
       "<style scoped>\n",
       "    .dataframe tbody tr th:only-of-type {\n",
       "        vertical-align: middle;\n",
       "    }\n",
       "\n",
       "    .dataframe tbody tr th {\n",
       "        vertical-align: top;\n",
       "    }\n",
       "\n",
       "    .dataframe thead th {\n",
       "        text-align: right;\n",
       "    }\n",
       "</style>\n",
       "<table border=\"1\" class=\"dataframe\">\n",
       "  <thead>\n",
       "    <tr style=\"text-align: right;\">\n",
       "      <th></th>\n",
       "      <th>AAPL_direction</th>\n",
       "      <th>GDX_direction</th>\n",
       "      <th>GLD_direction</th>\n",
       "      <th>SPY_direction</th>\n",
       "    </tr>\n",
       "    <tr>\n",
       "      <th>Datetime</th>\n",
       "      <th></th>\n",
       "      <th></th>\n",
       "      <th></th>\n",
       "      <th></th>\n",
       "    </tr>\n",
       "  </thead>\n",
       "  <tbody>\n",
       "    <tr>\n",
       "      <th>2022-10-07 15:30:00-04:00</th>\n",
       "      <td>1</td>\n",
       "      <td>0</td>\n",
       "      <td>1</td>\n",
       "      <td>1</td>\n",
       "    </tr>\n",
       "    <tr>\n",
       "      <th>2022-10-10 09:30:00-04:00</th>\n",
       "      <td>0</td>\n",
       "      <td>0</td>\n",
       "      <td>0</td>\n",
       "      <td>0</td>\n",
       "    </tr>\n",
       "    <tr>\n",
       "      <th>2022-10-10 10:30:00-04:00</th>\n",
       "      <td>0</td>\n",
       "      <td>0</td>\n",
       "      <td>0</td>\n",
       "      <td>0</td>\n",
       "    </tr>\n",
       "    <tr>\n",
       "      <th>2022-10-10 11:30:00-04:00</th>\n",
       "      <td>0</td>\n",
       "      <td>0</td>\n",
       "      <td>0</td>\n",
       "      <td>0</td>\n",
       "    </tr>\n",
       "    <tr>\n",
       "      <th>2022-10-10 12:30:00-04:00</th>\n",
       "      <td>1</td>\n",
       "      <td>0</td>\n",
       "      <td>1</td>\n",
       "      <td>0</td>\n",
       "    </tr>\n",
       "  </tbody>\n",
       "</table>\n",
       "</div>"
      ],
      "text/plain": [
       "                           AAPL_direction  GDX_direction  GLD_direction  \\\n",
       "Datetime                                                                  \n",
       "2022-10-07 15:30:00-04:00               1              0              1   \n",
       "2022-10-10 09:30:00-04:00               0              0              0   \n",
       "2022-10-10 10:30:00-04:00               0              0              0   \n",
       "2022-10-10 11:30:00-04:00               0              0              0   \n",
       "2022-10-10 12:30:00-04:00               1              0              1   \n",
       "\n",
       "                           SPY_direction  \n",
       "Datetime                                  \n",
       "2022-10-07 15:30:00-04:00              1  \n",
       "2022-10-10 09:30:00-04:00              0  \n",
       "2022-10-10 10:30:00-04:00              0  \n",
       "2022-10-10 11:30:00-04:00              0  \n",
       "2022-10-10 12:30:00-04:00              0  "
      ]
     },
     "execution_count": 6,
     "metadata": {},
     "output_type": "execute_result"
    }
   ],
   "source": [
    "df[[ticker+'_direction' for ticker in tickers]].head()"
   ]
  },
  {
   "cell_type": "code",
   "execution_count": 7,
   "metadata": {},
   "outputs": [],
   "source": [
    "batch = df[[ticker+'_direction' for ticker in tickers]].iloc[:100].copy()"
   ]
  },
  {
   "cell_type": "code",
   "execution_count": 8,
   "metadata": {},
   "outputs": [],
   "source": [
    "link = linkage(batch, 'ward', 'euclidean')"
   ]
  },
  {
   "cell_type": "code",
   "execution_count": 9,
   "metadata": {},
   "outputs": [
    {
     "data": {
      "text/plain": [
       "array([[  0.,   5.,   0.,   2.],\n",
       "       [  1.,   2.,   0.,   2.],\n",
       "       [  3., 101.,   0.,   3.],\n",
       "       [  8., 102.,   0.,   4.],\n",
       "       [  7.,  35.,   0.,   2.]])"
      ]
     },
     "execution_count": 9,
     "metadata": {},
     "output_type": "execute_result"
    }
   ],
   "source": [
    "link[:5]"
   ]
  },
  {
   "cell_type": "code",
   "execution_count": 41,
   "metadata": {},
   "outputs": [
    {
     "data": {
      "text/plain": [
       "99"
      ]
     },
     "execution_count": 41,
     "metadata": {},
     "output_type": "execute_result"
    }
   ],
   "source": [
    "len(link)"
   ]
  },
  {
   "cell_type": "code",
   "execution_count": 42,
   "metadata": {},
   "outputs": [
    {
     "data": {
      "image/png": "[encoded data removed]",
      "text/plain": [
       "<Figure size 864x518.4 with 1 Axes>"
      ]
     },
     "metadata": {},
     "output_type": "display_data"
    }
   ],
   "source": [
    "dn = dendrogram(link)"
   ]
  },
  {
   "cell_type": "code",
   "execution_count": 10,
   "metadata": {},
   "outputs": [],
   "source": [
    "batch['cluster'] = fcluster(link, 3, criterion='distance')"
   ]
  },
  {
   "cell_type": "code",
   "execution_count": 11,
   "metadata": {},
   "outputs": [
    {
     "data": {
      "text/html": [
       "<div>\n",
       "<style scoped>\n",
       "    .dataframe tbody tr th:only-of-type {\n",
       "        vertical-align: middle;\n",
       "    }\n",
       "\n",
       "    .dataframe tbody tr th {\n",
       "        vertical-align: top;\n",
       "    }\n",
       "\n",
       "    .dataframe thead th {\n",
       "        text-align: right;\n",
       "    }\n",
       "</style>\n",
       "<table border=\"1\" class=\"dataframe\">\n",
       "  <thead>\n",
       "    <tr style=\"text-align: right;\">\n",
       "      <th></th>\n",
       "      <th>AAPL_direction</th>\n",
       "      <th>GDX_direction</th>\n",
       "      <th>GLD_direction</th>\n",
       "      <th>SPY_direction</th>\n",
       "    </tr>\n",
       "    <tr>\n",
       "      <th>cluster</th>\n",
       "      <th></th>\n",
       "      <th></th>\n",
       "      <th></th>\n",
       "      <th></th>\n",
       "    </tr>\n",
       "  </thead>\n",
       "  <tbody>\n",
       "    <tr>\n",
       "      <th>1</th>\n",
       "      <td>0.000000</td>\n",
       "      <td>0.000000</td>\n",
       "      <td>0.0</td>\n",
       "      <td>0.000000</td>\n",
       "    </tr>\n",
       "    <tr>\n",
       "      <th>2</th>\n",
       "      <td>0.500000</td>\n",
       "      <td>0.800000</td>\n",
       "      <td>0.2</td>\n",
       "      <td>0.000000</td>\n",
       "    </tr>\n",
       "    <tr>\n",
       "      <th>3</th>\n",
       "      <td>0.000000</td>\n",
       "      <td>0.583333</td>\n",
       "      <td>1.0</td>\n",
       "      <td>0.333333</td>\n",
       "    </tr>\n",
       "    <tr>\n",
       "      <th>4</th>\n",
       "      <td>0.777778</td>\n",
       "      <td>0.388889</td>\n",
       "      <td>0.0</td>\n",
       "      <td>1.000000</td>\n",
       "    </tr>\n",
       "    <tr>\n",
       "      <th>5</th>\n",
       "      <td>1.000000</td>\n",
       "      <td>1.000000</td>\n",
       "      <td>1.0</td>\n",
       "      <td>1.000000</td>\n",
       "    </tr>\n",
       "    <tr>\n",
       "      <th>6</th>\n",
       "      <td>1.000000</td>\n",
       "      <td>0.000000</td>\n",
       "      <td>1.0</td>\n",
       "      <td>1.000000</td>\n",
       "    </tr>\n",
       "  </tbody>\n",
       "</table>\n",
       "</div>"
      ],
      "text/plain": [
       "         AAPL_direction  GDX_direction  GLD_direction  SPY_direction\n",
       "cluster                                                             \n",
       "1              0.000000       0.000000            0.0       0.000000\n",
       "2              0.500000       0.800000            0.2       0.000000\n",
       "3              0.000000       0.583333            1.0       0.333333\n",
       "4              0.777778       0.388889            0.0       1.000000\n",
       "5              1.000000       1.000000            1.0       1.000000\n",
       "6              1.000000       0.000000            1.0       1.000000"
      ]
     },
     "execution_count": 11,
     "metadata": {},
     "output_type": "execute_result"
    }
   ],
   "source": [
    "batch.groupby('cluster').mean()"
   ]
  },
  {
   "cell_type": "code",
   "execution_count": 45,
   "metadata": {},
   "outputs": [
    {
     "data": {
      "text/plain": [
       "<AxesSubplot:xlabel='cluster'>"
      ]
     },
     "execution_count": 45,
     "metadata": {},
     "output_type": "execute_result"
    },
    {
     "data": {
      "image/png": "[encoded data removed]",
      "text/plain": [
       "<Figure size 864x518.4 with 1 Axes>"
      ]
     },
     "metadata": {},
     "output_type": "display_data"
    }
   ],
   "source": [
    "batch.groupby('cluster').size().plot.bar()"
   ]
  },
  {
   "cell_type": "code",
   "execution_count": 13,
   "metadata": {},
   "outputs": [
    {
     "data": {
      "text/html": [
       "<div>\n",
       "<style scoped>\n",
       "    .dataframe tbody tr th:only-of-type {\n",
       "        vertical-align: middle;\n",
       "    }\n",
       "\n",
       "    .dataframe tbody tr th {\n",
       "        vertical-align: top;\n",
       "    }\n",
       "\n",
       "    .dataframe thead th {\n",
       "        text-align: right;\n",
       "    }\n",
       "</style>\n",
       "<table border=\"1\" class=\"dataframe\">\n",
       "  <thead>\n",
       "    <tr style=\"text-align: right;\">\n",
       "      <th></th>\n",
       "      <th>AAPL_direction</th>\n",
       "      <th>GDX_direction</th>\n",
       "      <th>GLD_direction</th>\n",
       "      <th>SPY_direction</th>\n",
       "      <th>cluster</th>\n",
       "    </tr>\n",
       "    <tr>\n",
       "      <th>Datetime</th>\n",
       "      <th></th>\n",
       "      <th></th>\n",
       "      <th></th>\n",
       "      <th></th>\n",
       "      <th></th>\n",
       "    </tr>\n",
       "  </thead>\n",
       "  <tbody>\n",
       "    <tr>\n",
       "      <th>2022-10-10 09:30:00-04:00</th>\n",
       "      <td>0</td>\n",
       "      <td>0</td>\n",
       "      <td>0</td>\n",
       "      <td>0</td>\n",
       "      <td>1</td>\n",
       "    </tr>\n",
       "    <tr>\n",
       "      <th>2022-10-10 10:30:00-04:00</th>\n",
       "      <td>0</td>\n",
       "      <td>0</td>\n",
       "      <td>0</td>\n",
       "      <td>0</td>\n",
       "      <td>1</td>\n",
       "    </tr>\n",
       "    <tr>\n",
       "      <th>2022-10-10 11:30:00-04:00</th>\n",
       "      <td>0</td>\n",
       "      <td>0</td>\n",
       "      <td>0</td>\n",
       "      <td>0</td>\n",
       "      <td>1</td>\n",
       "    </tr>\n",
       "    <tr>\n",
       "      <th>2022-10-11 09:30:00-04:00</th>\n",
       "      <td>0</td>\n",
       "      <td>0</td>\n",
       "      <td>0</td>\n",
       "      <td>0</td>\n",
       "      <td>1</td>\n",
       "    </tr>\n",
       "    <tr>\n",
       "      <th>2022-10-11 13:30:00-04:00</th>\n",
       "      <td>0</td>\n",
       "      <td>0</td>\n",
       "      <td>0</td>\n",
       "      <td>0</td>\n",
       "      <td>1</td>\n",
       "    </tr>\n",
       "    <tr>\n",
       "      <th>2022-10-11 14:30:00-04:00</th>\n",
       "      <td>0</td>\n",
       "      <td>0</td>\n",
       "      <td>0</td>\n",
       "      <td>0</td>\n",
       "      <td>1</td>\n",
       "    </tr>\n",
       "    <tr>\n",
       "      <th>2022-10-12 11:30:00-04:00</th>\n",
       "      <td>0</td>\n",
       "      <td>0</td>\n",
       "      <td>0</td>\n",
       "      <td>0</td>\n",
       "      <td>1</td>\n",
       "    </tr>\n",
       "    <tr>\n",
       "      <th>2022-10-12 14:30:00-04:00</th>\n",
       "      <td>0</td>\n",
       "      <td>0</td>\n",
       "      <td>0</td>\n",
       "      <td>0</td>\n",
       "      <td>1</td>\n",
       "    </tr>\n",
       "    <tr>\n",
       "      <th>2022-10-13 09:30:00-04:00</th>\n",
       "      <td>0</td>\n",
       "      <td>0</td>\n",
       "      <td>0</td>\n",
       "      <td>0</td>\n",
       "      <td>1</td>\n",
       "    </tr>\n",
       "    <tr>\n",
       "      <th>2022-10-13 13:30:00-04:00</th>\n",
       "      <td>0</td>\n",
       "      <td>0</td>\n",
       "      <td>0</td>\n",
       "      <td>0</td>\n",
       "      <td>1</td>\n",
       "    </tr>\n",
       "    <tr>\n",
       "      <th>2022-10-14 09:30:00-04:00</th>\n",
       "      <td>0</td>\n",
       "      <td>0</td>\n",
       "      <td>0</td>\n",
       "      <td>0</td>\n",
       "      <td>1</td>\n",
       "    </tr>\n",
       "    <tr>\n",
       "      <th>2022-10-14 11:30:00-04:00</th>\n",
       "      <td>0</td>\n",
       "      <td>0</td>\n",
       "      <td>0</td>\n",
       "      <td>0</td>\n",
       "      <td>1</td>\n",
       "    </tr>\n",
       "    <tr>\n",
       "      <th>2022-10-14 13:30:00-04:00</th>\n",
       "      <td>0</td>\n",
       "      <td>0</td>\n",
       "      <td>0</td>\n",
       "      <td>0</td>\n",
       "      <td>1</td>\n",
       "    </tr>\n",
       "    <tr>\n",
       "      <th>2022-10-17 13:30:00-04:00</th>\n",
       "      <td>0</td>\n",
       "      <td>0</td>\n",
       "      <td>0</td>\n",
       "      <td>0</td>\n",
       "      <td>1</td>\n",
       "    </tr>\n",
       "    <tr>\n",
       "      <th>2022-10-18 14:30:00-04:00</th>\n",
       "      <td>0</td>\n",
       "      <td>0</td>\n",
       "      <td>0</td>\n",
       "      <td>0</td>\n",
       "      <td>1</td>\n",
       "    </tr>\n",
       "    <tr>\n",
       "      <th>2022-10-19 10:30:00-04:00</th>\n",
       "      <td>0</td>\n",
       "      <td>0</td>\n",
       "      <td>0</td>\n",
       "      <td>0</td>\n",
       "      <td>1</td>\n",
       "    </tr>\n",
       "    <tr>\n",
       "      <th>2022-10-19 11:30:00-04:00</th>\n",
       "      <td>0</td>\n",
       "      <td>0</td>\n",
       "      <td>0</td>\n",
       "      <td>0</td>\n",
       "      <td>1</td>\n",
       "    </tr>\n",
       "    <tr>\n",
       "      <th>2022-10-20 10:30:00-04:00</th>\n",
       "      <td>0</td>\n",
       "      <td>0</td>\n",
       "      <td>0</td>\n",
       "      <td>0</td>\n",
       "      <td>1</td>\n",
       "    </tr>\n",
       "    <tr>\n",
       "      <th>2022-10-20 11:30:00-04:00</th>\n",
       "      <td>0</td>\n",
       "      <td>0</td>\n",
       "      <td>0</td>\n",
       "      <td>0</td>\n",
       "      <td>1</td>\n",
       "    </tr>\n",
       "    <tr>\n",
       "      <th>2022-10-20 12:30:00-04:00</th>\n",
       "      <td>0</td>\n",
       "      <td>0</td>\n",
       "      <td>0</td>\n",
       "      <td>0</td>\n",
       "      <td>1</td>\n",
       "    </tr>\n",
       "    <tr>\n",
       "      <th>2022-10-20 13:30:00-04:00</th>\n",
       "      <td>0</td>\n",
       "      <td>0</td>\n",
       "      <td>0</td>\n",
       "      <td>0</td>\n",
       "      <td>1</td>\n",
       "    </tr>\n",
       "    <tr>\n",
       "      <th>2022-10-21 15:30:00-04:00</th>\n",
       "      <td>0</td>\n",
       "      <td>0</td>\n",
       "      <td>0</td>\n",
       "      <td>0</td>\n",
       "      <td>1</td>\n",
       "    </tr>\n",
       "    <tr>\n",
       "      <th>2022-10-24 12:30:00-04:00</th>\n",
       "      <td>0</td>\n",
       "      <td>0</td>\n",
       "      <td>0</td>\n",
       "      <td>0</td>\n",
       "      <td>1</td>\n",
       "    </tr>\n",
       "    <tr>\n",
       "      <th>2022-10-24 15:30:00-04:00</th>\n",
       "      <td>0</td>\n",
       "      <td>0</td>\n",
       "      <td>0</td>\n",
       "      <td>0</td>\n",
       "      <td>1</td>\n",
       "    </tr>\n",
       "    <tr>\n",
       "      <th>2022-10-25 12:30:00-04:00</th>\n",
       "      <td>0</td>\n",
       "      <td>0</td>\n",
       "      <td>0</td>\n",
       "      <td>0</td>\n",
       "      <td>1</td>\n",
       "    </tr>\n",
       "    <tr>\n",
       "      <th>2022-10-26 12:30:00-04:00</th>\n",
       "      <td>0</td>\n",
       "      <td>0</td>\n",
       "      <td>0</td>\n",
       "      <td>0</td>\n",
       "      <td>1</td>\n",
       "    </tr>\n",
       "    <tr>\n",
       "      <th>2022-10-27 11:30:00-04:00</th>\n",
       "      <td>0</td>\n",
       "      <td>0</td>\n",
       "      <td>0</td>\n",
       "      <td>0</td>\n",
       "      <td>1</td>\n",
       "    </tr>\n",
       "    <tr>\n",
       "      <th>2022-10-27 13:30:00-04:00</th>\n",
       "      <td>0</td>\n",
       "      <td>0</td>\n",
       "      <td>0</td>\n",
       "      <td>0</td>\n",
       "      <td>1</td>\n",
       "    </tr>\n",
       "  </tbody>\n",
       "</table>\n",
       "</div>"
      ],
      "text/plain": [
       "                           AAPL_direction  GDX_direction  GLD_direction  \\\n",
       "Datetime                                                                  \n",
       "2022-10-10 09:30:00-04:00               0              0              0   \n",
       "2022-10-10 10:30:00-04:00               0              0              0   \n",
       "2022-10-10 11:30:00-04:00               0              0              0   \n",
       "2022-10-11 09:30:00-04:00               0              0              0   \n",
       "2022-10-11 13:30:00-04:00               0              0              0   \n",
       "2022-10-11 14:30:00-04:00               0              0              0   \n",
       "2022-10-12 11:30:00-04:00               0              0              0   \n",
       "2022-10-12 14:30:00-04:00               0              0              0   \n",
       "2022-10-13 09:30:00-04:00               0              0              0   \n",
       "2022-10-13 13:30:00-04:00               0              0              0   \n",
       "2022-10-14 09:30:00-04:00               0              0              0   \n",
       "2022-10-14 11:30:00-04:00               0              0              0   \n",
       "2022-10-14 13:30:00-04:00               0              0              0   \n",
       "2022-10-17 13:30:00-04:00               0              0              0   \n",
       "2022-10-18 14:30:00-04:00               0              0              0   \n",
       "2022-10-19 10:30:00-04:00               0              0              0   \n",
       "2022-10-19 11:30:00-04:00               0              0              0   \n",
       "2022-10-20 10:30:00-04:00               0              0              0   \n",
       "2022-10-20 11:30:00-04:00               0              0              0   \n",
       "2022-10-20 12:30:00-04:00               0              0              0   \n",
       "2022-10-20 13:30:00-04:00               0              0              0   \n",
       "2022-10-21 15:30:00-04:00               0              0              0   \n",
       "2022-10-24 12:30:00-04:00               0              0              0   \n",
       "2022-10-24 15:30:00-04:00               0              0              0   \n",
       "2022-10-25 12:30:00-04:00               0              0              0   \n",
       "2022-10-26 12:30:00-04:00               0              0              0   \n",
       "2022-10-27 11:30:00-04:00               0              0              0   \n",
       "2022-10-27 13:30:00-04:00               0              0              0   \n",
       "\n",
       "                           SPY_direction  cluster  \n",
       "Datetime                                           \n",
       "2022-10-10 09:30:00-04:00              0        1  \n",
       "2022-10-10 10:30:00-04:00              0        1  \n",
       "2022-10-10 11:30:00-04:00              0        1  \n",
       "2022-10-11 09:30:00-04:00              0        1  \n",
       "2022-10-11 13:30:00-04:00              0        1  \n",
       "2022-10-11 14:30:00-04:00              0        1  \n",
       "2022-10-12 11:30:00-04:00              0        1  \n",
       "2022-10-12 14:30:00-04:00              0        1  \n",
       "2022-10-13 09:30:00-04:00              0        1  \n",
       "2022-10-13 13:30:00-04:00              0        1  \n",
       "2022-10-14 09:30:00-04:00              0        1  \n",
       "2022-10-14 11:30:00-04:00              0        1  \n",
       "2022-10-14 13:30:00-04:00              0        1  \n",
       "2022-10-17 13:30:00-04:00              0        1  \n",
       "2022-10-18 14:30:00-04:00              0        1  \n",
       "2022-10-19 10:30:00-04:00              0        1  \n",
       "2022-10-19 11:30:00-04:00              0        1  \n",
       "2022-10-20 10:30:00-04:00              0        1  \n",
       "2022-10-20 11:30:00-04:00              0        1  \n",
       "2022-10-20 12:30:00-04:00              0        1  \n",
       "2022-10-20 13:30:00-04:00              0        1  \n",
       "2022-10-21 15:30:00-04:00              0        1  \n",
       "2022-10-24 12:30:00-04:00              0        1  \n",
       "2022-10-24 15:30:00-04:00              0        1  \n",
       "2022-10-25 12:30:00-04:00              0        1  \n",
       "2022-10-26 12:30:00-04:00              0        1  \n",
       "2022-10-27 11:30:00-04:00              0        1  \n",
       "2022-10-27 13:30:00-04:00              0        1  "
      ]
     },
     "execution_count": 13,
     "metadata": {},
     "output_type": "execute_result"
    }
   ],
   "source": [
    "batch[batch['cluster']==1]"
   ]
  },
  {
   "cell_type": "code",
   "execution_count": 17,
   "metadata": {},
   "outputs": [
    {
     "data": {
      "text/html": [
       "<div>\n",
       "<style scoped>\n",
       "    .dataframe tbody tr th:only-of-type {\n",
       "        vertical-align: middle;\n",
       "    }\n",
       "\n",
       "    .dataframe tbody tr th {\n",
       "        vertical-align: top;\n",
       "    }\n",
       "\n",
       "    .dataframe thead th {\n",
       "        text-align: right;\n",
       "    }\n",
       "</style>\n",
       "<table border=\"1\" class=\"dataframe\">\n",
       "  <thead>\n",
       "    <tr style=\"text-align: right;\">\n",
       "      <th></th>\n",
       "      <th>AAPL</th>\n",
       "      <th>GDX</th>\n",
       "      <th>GLD</th>\n",
       "      <th>SPY</th>\n",
       "    </tr>\n",
       "    <tr>\n",
       "      <th>Datetime</th>\n",
       "      <th></th>\n",
       "      <th></th>\n",
       "      <th></th>\n",
       "      <th></th>\n",
       "    </tr>\n",
       "  </thead>\n",
       "  <tbody>\n",
       "    <tr>\n",
       "      <th>2022-10-07 14:30:00-04:00</th>\n",
       "      <td>139.721893</td>\n",
       "      <td>24.440001</td>\n",
       "      <td>157.720001</td>\n",
       "      <td>361.619995</td>\n",
       "    </tr>\n",
       "    <tr>\n",
       "      <th>2022-10-07 15:30:00-04:00</th>\n",
       "      <td>140.080002</td>\n",
       "      <td>24.420000</td>\n",
       "      <td>157.919998</td>\n",
       "      <td>362.799988</td>\n",
       "    </tr>\n",
       "    <tr>\n",
       "      <th>2022-10-10 09:30:00-04:00</th>\n",
       "      <td>140.050003</td>\n",
       "      <td>24.250000</td>\n",
       "      <td>155.869995</td>\n",
       "      <td>362.489990</td>\n",
       "    </tr>\n",
       "    <tr>\n",
       "      <th>2022-10-10 10:30:00-04:00</th>\n",
       "      <td>140.020004</td>\n",
       "      <td>24.195000</td>\n",
       "      <td>155.419998</td>\n",
       "      <td>360.339996</td>\n",
       "    </tr>\n",
       "    <tr>\n",
       "      <th>2022-10-10 11:30:00-04:00</th>\n",
       "      <td>139.747498</td>\n",
       "      <td>24.190001</td>\n",
       "      <td>155.265106</td>\n",
       "      <td>359.050110</td>\n",
       "    </tr>\n",
       "  </tbody>\n",
       "</table>\n",
       "</div>"
      ],
      "text/plain": [
       "                                 AAPL        GDX         GLD         SPY\n",
       "Datetime                                                                \n",
       "2022-10-07 14:30:00-04:00  139.721893  24.440001  157.720001  361.619995\n",
       "2022-10-07 15:30:00-04:00  140.080002  24.420000  157.919998  362.799988\n",
       "2022-10-10 09:30:00-04:00  140.050003  24.250000  155.869995  362.489990\n",
       "2022-10-10 10:30:00-04:00  140.020004  24.195000  155.419998  360.339996\n",
       "2022-10-10 11:30:00-04:00  139.747498  24.190001  155.265106  359.050110"
      ]
     },
     "execution_count": 17,
     "metadata": {},
     "output_type": "execute_result"
    }
   ],
   "source": [
    "close = pd.read_csv('../data/bt/gld_gdx_aapl_spy__1H.csv', parse_dates=True, index_col=0, header=[0, 1])\n",
    "close = close['Close']\n",
    "close = close.iloc[:100].copy()\n",
    "close.head()"
   ]
  },
  {
   "cell_type": "code",
   "execution_count": 66,
   "metadata": {},
   "outputs": [
    {
     "data": {
      "text/plain": [
       "<matplotlib.legend.Legend at 0xe5d2328>"
      ]
     },
     "execution_count": 66,
     "metadata": {},
     "output_type": "execute_result"
    },
    {
     "data": {
      "image/png": "[encoded data removed]",
      "text/plain": [
       "<Figure size 1512x504 with 1 Axes>"
      ]
     },
     "metadata": {},
     "output_type": "display_data"
    }
   ],
   "source": [
    "clusters_idx = [\n",
    "    batch[batch['cluster']==1].index,\n",
    "    batch[batch['cluster']==2].index,\n",
    "    batch[batch['cluster']==3].index,\n",
    "#     batch[batch['cluster']==4].index,\n",
    "    batch[batch['cluster']==5].index,\n",
    "    batch[batch['cluster']==6].index,\n",
    "]\n",
    "fig, ax = plt.subplots(1, figsize=(21, 7))\n",
    "for ticker in close.columns:\n",
    "    ax.plot(close[ticker])\n",
    "    for n, cluster in enumerate(clusters_idx):\n",
    "        ax.scatter(cluster, close.loc[cluster][ticker], label=n+1)\n",
    "    break\n",
    "ax.legend()"
   ]
  },
  {
   "cell_type": "code",
   "execution_count": 68,
   "metadata": {},
   "outputs": [
    {
     "data": {
      "text/plain": [
       "[<matplotlib.lines.Line2D at 0xe57b658>]"
      ]
     },
     "execution_count": 68,
     "metadata": {},
     "output_type": "execute_result"
    },
    {
     "data": {
      "image/png": "[encoded data removed]",
      "text/plain": [
       "<Figure size 864x518.4 with 1 Axes>"
      ]
     },
     "metadata": {},
     "output_type": "display_data"
    }
   ],
   "source": [
    "# [datetime.datetime(2022, 10, 28, 9, 30, tzinfo=tzoffset(None, -14400))]\n",
    "for cluster in clusters_idx:\n",
    "    plt.scatter(cluster, close.loc[cluster]['AAPL'])\n",
    "\n",
    "plt.plot(close['AAPL'], alpha=0.5)"
   ]
  },
  {
   "cell_type": "code",
   "execution_count": null,
   "metadata": {},
   "outputs": [],
   "source": []
  }
 ],
 "metadata": {
  "kernelspec": {
   "display_name": "Python 3",
   "language": "python",
   "name": "python3"
  },
  "language_info": {
   "codemirror_mode": {
    "name": "ipython",
    "version": 3
   },
   "file_extension": ".py",
   "mimetype": "text/x-python",
   "name": "python",
   "nbconvert_exporter": "python",
   "pygments_lexer": "ipython3",
   "version": "3.8.5"
  }
 },
 "nbformat": 4,
 "nbformat_minor": 2
}
