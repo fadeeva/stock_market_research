{
 "cells": [
  {
   "cell_type": "markdown",
   "metadata": {},
   "source": [
    "# T-test"
   ]
  },
  {
   "cell_type": "code",
   "execution_count": 44,
   "metadata": {},
   "outputs": [],
   "source": [
    "import pandas as pd\n",
    "import numpy as np\n",
    "import matplotlib.pyplot as plt\n",
    "\n",
    "from scipy.stats import ttest_ind\n",
    "\n",
    "import seaborn as sns\n",
    "import yfinance as yf\n",
    "\n",
    "from jupyterthemes import jtplot\n",
    "jtplot.style(theme='onedork', figsize=(15, 9))"
   ]
  },
  {
   "cell_type": "code",
   "execution_count": 2,
   "metadata": {},
   "outputs": [],
   "source": [
    "bac_df = pd.read_csv('../data/BAC_2002-01-01_2022-12-31_1d.csv', index_col=0, parse_dates=True)\n",
    "bk_df = pd.read_csv('../data/BK_2002-01-01_2022-12-31_1d.csv', index_col=0, parse_dates=True)"
   ]
  },
  {
   "cell_type": "code",
   "execution_count": 3,
   "metadata": {},
   "outputs": [
    {
     "data": {
      "text/html": [
       "<div>\n",
       "<style scoped>\n",
       "    .dataframe tbody tr th:only-of-type {\n",
       "        vertical-align: middle;\n",
       "    }\n",
       "\n",
       "    .dataframe tbody tr th {\n",
       "        vertical-align: top;\n",
       "    }\n",
       "\n",
       "    .dataframe thead th {\n",
       "        text-align: right;\n",
       "    }\n",
       "</style>\n",
       "<table border=\"1\" class=\"dataframe\">\n",
       "  <thead>\n",
       "    <tr style=\"text-align: right;\">\n",
       "      <th></th>\n",
       "      <th>Open</th>\n",
       "      <th>High</th>\n",
       "      <th>Low</th>\n",
       "      <th>Close</th>\n",
       "      <th>Volume</th>\n",
       "      <th>Dividends</th>\n",
       "      <th>Stock Splits</th>\n",
       "    </tr>\n",
       "    <tr>\n",
       "      <th>Date</th>\n",
       "      <th></th>\n",
       "      <th></th>\n",
       "      <th></th>\n",
       "      <th></th>\n",
       "      <th></th>\n",
       "      <th></th>\n",
       "      <th></th>\n",
       "    </tr>\n",
       "  </thead>\n",
       "  <tbody>\n",
       "    <tr>\n",
       "      <th>2001-12-31</th>\n",
       "      <td>19.101077</td>\n",
       "      <td>19.101077</td>\n",
       "      <td>18.822426</td>\n",
       "      <td>18.861378</td>\n",
       "      <td>5397400</td>\n",
       "      <td>0.0</td>\n",
       "      <td>0.0</td>\n",
       "    </tr>\n",
       "    <tr>\n",
       "      <th>2002-01-02</th>\n",
       "      <td>18.669628</td>\n",
       "      <td>18.906331</td>\n",
       "      <td>18.609703</td>\n",
       "      <td>18.864384</td>\n",
       "      <td>8669200</td>\n",
       "      <td>0.0</td>\n",
       "      <td>0.0</td>\n",
       "    </tr>\n",
       "    <tr>\n",
       "      <th>2002-01-03</th>\n",
       "      <td>18.864382</td>\n",
       "      <td>19.146030</td>\n",
       "      <td>18.804457</td>\n",
       "      <td>18.843409</td>\n",
       "      <td>8237600</td>\n",
       "      <td>0.0</td>\n",
       "      <td>0.0</td>\n",
       "    </tr>\n",
       "    <tr>\n",
       "      <th>2002-01-04</th>\n",
       "      <td>18.912315</td>\n",
       "      <td>19.220929</td>\n",
       "      <td>18.879356</td>\n",
       "      <td>19.137033</td>\n",
       "      <td>10598600</td>\n",
       "      <td>0.0</td>\n",
       "      <td>0.0</td>\n",
       "    </tr>\n",
       "    <tr>\n",
       "      <th>2002-01-07</th>\n",
       "      <td>18.696586</td>\n",
       "      <td>18.990218</td>\n",
       "      <td>18.696586</td>\n",
       "      <td>18.909319</td>\n",
       "      <td>10852200</td>\n",
       "      <td>0.0</td>\n",
       "      <td>0.0</td>\n",
       "    </tr>\n",
       "  </tbody>\n",
       "</table>\n",
       "</div>"
      ],
      "text/plain": [
       "                 Open       High        Low      Close    Volume  Dividends  \\\n",
       "Date                                                                          \n",
       "2001-12-31  19.101077  19.101077  18.822426  18.861378   5397400        0.0   \n",
       "2002-01-02  18.669628  18.906331  18.609703  18.864384   8669200        0.0   \n",
       "2002-01-03  18.864382  19.146030  18.804457  18.843409   8237600        0.0   \n",
       "2002-01-04  18.912315  19.220929  18.879356  19.137033  10598600        0.0   \n",
       "2002-01-07  18.696586  18.990218  18.696586  18.909319  10852200        0.0   \n",
       "\n",
       "            Stock Splits  \n",
       "Date                      \n",
       "2001-12-31           0.0  \n",
       "2002-01-02           0.0  \n",
       "2002-01-03           0.0  \n",
       "2002-01-04           0.0  \n",
       "2002-01-07           0.0  "
      ]
     },
     "execution_count": 3,
     "metadata": {},
     "output_type": "execute_result"
    }
   ],
   "source": [
    "bac_df.head()"
   ]
  },
  {
   "cell_type": "code",
   "execution_count": 4,
   "metadata": {},
   "outputs": [
    {
     "data": {
      "text/html": [
       "<div>\n",
       "<style scoped>\n",
       "    .dataframe tbody tr th:only-of-type {\n",
       "        vertical-align: middle;\n",
       "    }\n",
       "\n",
       "    .dataframe tbody tr th {\n",
       "        vertical-align: top;\n",
       "    }\n",
       "\n",
       "    .dataframe thead th {\n",
       "        text-align: right;\n",
       "    }\n",
       "</style>\n",
       "<table border=\"1\" class=\"dataframe\">\n",
       "  <thead>\n",
       "    <tr style=\"text-align: right;\">\n",
       "      <th></th>\n",
       "      <th>Open</th>\n",
       "      <th>High</th>\n",
       "      <th>Low</th>\n",
       "      <th>Close</th>\n",
       "      <th>Volume</th>\n",
       "      <th>Dividends</th>\n",
       "      <th>Stock Splits</th>\n",
       "    </tr>\n",
       "    <tr>\n",
       "      <th>Date</th>\n",
       "      <th></th>\n",
       "      <th></th>\n",
       "      <th></th>\n",
       "      <th></th>\n",
       "      <th></th>\n",
       "      <th></th>\n",
       "      <th></th>\n",
       "    </tr>\n",
       "  </thead>\n",
       "  <tbody>\n",
       "    <tr>\n",
       "      <th>2001-12-31</th>\n",
       "      <td>26.588255</td>\n",
       "      <td>26.880790</td>\n",
       "      <td>26.490742</td>\n",
       "      <td>26.523245</td>\n",
       "      <td>1106703</td>\n",
       "      <td>0.0</td>\n",
       "      <td>0.0</td>\n",
       "    </tr>\n",
       "    <tr>\n",
       "      <th>2002-01-02</th>\n",
       "      <td>26.523270</td>\n",
       "      <td>26.653287</td>\n",
       "      <td>25.879690</td>\n",
       "      <td>26.646786</td>\n",
       "      <td>1397930</td>\n",
       "      <td>0.0</td>\n",
       "      <td>0.0</td>\n",
       "    </tr>\n",
       "    <tr>\n",
       "      <th>2002-01-03</th>\n",
       "      <td>26.750778</td>\n",
       "      <td>27.368352</td>\n",
       "      <td>26.750778</td>\n",
       "      <td>27.238337</td>\n",
       "      <td>2267556</td>\n",
       "      <td>0.0</td>\n",
       "      <td>0.0</td>\n",
       "    </tr>\n",
       "    <tr>\n",
       "      <th>2002-01-04</th>\n",
       "      <td>27.595880</td>\n",
       "      <td>27.940422</td>\n",
       "      <td>27.472366</td>\n",
       "      <td>27.699894</td>\n",
       "      <td>1658780</td>\n",
       "      <td>0.0</td>\n",
       "      <td>0.0</td>\n",
       "    </tr>\n",
       "    <tr>\n",
       "      <th>2002-01-07</th>\n",
       "      <td>28.538502</td>\n",
       "      <td>28.701022</td>\n",
       "      <td>27.953431</td>\n",
       "      <td>28.571007</td>\n",
       "      <td>3413033</td>\n",
       "      <td>0.0</td>\n",
       "      <td>0.0</td>\n",
       "    </tr>\n",
       "  </tbody>\n",
       "</table>\n",
       "</div>"
      ],
      "text/plain": [
       "                 Open       High        Low      Close   Volume  Dividends  \\\n",
       "Date                                                                         \n",
       "2001-12-31  26.588255  26.880790  26.490742  26.523245  1106703        0.0   \n",
       "2002-01-02  26.523270  26.653287  25.879690  26.646786  1397930        0.0   \n",
       "2002-01-03  26.750778  27.368352  26.750778  27.238337  2267556        0.0   \n",
       "2002-01-04  27.595880  27.940422  27.472366  27.699894  1658780        0.0   \n",
       "2002-01-07  28.538502  28.701022  27.953431  28.571007  3413033        0.0   \n",
       "\n",
       "            Stock Splits  \n",
       "Date                      \n",
       "2001-12-31           0.0  \n",
       "2002-01-02           0.0  \n",
       "2002-01-03           0.0  \n",
       "2002-01-04           0.0  \n",
       "2002-01-07           0.0  "
      ]
     },
     "execution_count": 4,
     "metadata": {},
     "output_type": "execute_result"
    }
   ],
   "source": [
    "bk_df.head()"
   ]
  },
  {
   "cell_type": "code",
   "execution_count": 5,
   "metadata": {},
   "outputs": [
    {
     "data": {
      "text/plain": [
       "Date\n",
       "2001-12-31         NaN\n",
       "2002-01-02    0.000159\n",
       "2002-01-03   -0.001113\n",
       "2002-01-04    0.015462\n",
       "2002-01-07   -0.011971\n",
       "                ...   \n",
       "2022-12-23    0.002467\n",
       "2022-12-27    0.001846\n",
       "2022-12-28    0.007351\n",
       "2022-12-29    0.011228\n",
       "2022-12-30   -0.000604\n",
       "Name: Close, Length: 5288, dtype: float64"
      ]
     },
     "execution_count": 5,
     "metadata": {},
     "output_type": "execute_result"
    }
   ],
   "source": [
    "bac_returns_df = np.log(bac_df['Close'].div(bac_df['Close'].shift(1)))\n",
    "bac_returns_df"
   ]
  },
  {
   "cell_type": "code",
   "execution_count": 6,
   "metadata": {},
   "outputs": [
    {
     "data": {
      "text/plain": [
       "Date\n",
       "2001-12-31         NaN\n",
       "2002-01-02    0.004647\n",
       "2002-01-03    0.021957\n",
       "2002-01-04    0.016803\n",
       "2002-01-07    0.030964\n",
       "                ...   \n",
       "2022-12-23    0.003815\n",
       "2022-12-27    0.003800\n",
       "2022-12-28   -0.004248\n",
       "2022-12-29    0.022816\n",
       "2022-12-30   -0.003071\n",
       "Name: Close, Length: 5288, dtype: float64"
      ]
     },
     "execution_count": 6,
     "metadata": {},
     "output_type": "execute_result"
    }
   ],
   "source": [
    "bk_returns_df = np.log(bk_df['Close'].div(bk_df['Close'].shift(1)))\n",
    "bk_returns_df"
   ]
  },
  {
   "cell_type": "code",
   "execution_count": 7,
   "metadata": {},
   "outputs": [],
   "source": [
    "full_df = pd.concat([bac_returns_df, bk_returns_df], axis=1)\n",
    "full_df.dropna(inplace=True)\n",
    "full_df.columns = ['bac_returns', 'bk_returns']"
   ]
  },
  {
   "cell_type": "code",
   "execution_count": 8,
   "metadata": {},
   "outputs": [
    {
     "data": {
      "text/html": [
       "<div>\n",
       "<style scoped>\n",
       "    .dataframe tbody tr th:only-of-type {\n",
       "        vertical-align: middle;\n",
       "    }\n",
       "\n",
       "    .dataframe tbody tr th {\n",
       "        vertical-align: top;\n",
       "    }\n",
       "\n",
       "    .dataframe thead th {\n",
       "        text-align: right;\n",
       "    }\n",
       "</style>\n",
       "<table border=\"1\" class=\"dataframe\">\n",
       "  <thead>\n",
       "    <tr style=\"text-align: right;\">\n",
       "      <th></th>\n",
       "      <th>bac_returns</th>\n",
       "      <th>bk_returns</th>\n",
       "    </tr>\n",
       "    <tr>\n",
       "      <th>Date</th>\n",
       "      <th></th>\n",
       "      <th></th>\n",
       "    </tr>\n",
       "  </thead>\n",
       "  <tbody>\n",
       "    <tr>\n",
       "      <th>2002-01-02</th>\n",
       "      <td>0.000159</td>\n",
       "      <td>0.004647</td>\n",
       "    </tr>\n",
       "    <tr>\n",
       "      <th>2002-01-03</th>\n",
       "      <td>-0.001113</td>\n",
       "      <td>0.021957</td>\n",
       "    </tr>\n",
       "    <tr>\n",
       "      <th>2002-01-04</th>\n",
       "      <td>0.015462</td>\n",
       "      <td>0.016803</td>\n",
       "    </tr>\n",
       "    <tr>\n",
       "      <th>2002-01-07</th>\n",
       "      <td>-0.011971</td>\n",
       "      <td>0.030964</td>\n",
       "    </tr>\n",
       "    <tr>\n",
       "      <th>2002-01-08</th>\n",
       "      <td>-0.016133</td>\n",
       "      <td>-0.014208</td>\n",
       "    </tr>\n",
       "    <tr>\n",
       "      <th>...</th>\n",
       "      <td>...</td>\n",
       "      <td>...</td>\n",
       "    </tr>\n",
       "    <tr>\n",
       "      <th>2022-12-23</th>\n",
       "      <td>0.002467</td>\n",
       "      <td>0.003815</td>\n",
       "    </tr>\n",
       "    <tr>\n",
       "      <th>2022-12-27</th>\n",
       "      <td>0.001846</td>\n",
       "      <td>0.003800</td>\n",
       "    </tr>\n",
       "    <tr>\n",
       "      <th>2022-12-28</th>\n",
       "      <td>0.007351</td>\n",
       "      <td>-0.004248</td>\n",
       "    </tr>\n",
       "    <tr>\n",
       "      <th>2022-12-29</th>\n",
       "      <td>0.011228</td>\n",
       "      <td>0.022816</td>\n",
       "    </tr>\n",
       "    <tr>\n",
       "      <th>2022-12-30</th>\n",
       "      <td>-0.000604</td>\n",
       "      <td>-0.003071</td>\n",
       "    </tr>\n",
       "  </tbody>\n",
       "</table>\n",
       "<p>5287 rows × 2 columns</p>\n",
       "</div>"
      ],
      "text/plain": [
       "            bac_returns  bk_returns\n",
       "Date                               \n",
       "2002-01-02     0.000159    0.004647\n",
       "2002-01-03    -0.001113    0.021957\n",
       "2002-01-04     0.015462    0.016803\n",
       "2002-01-07    -0.011971    0.030964\n",
       "2002-01-08    -0.016133   -0.014208\n",
       "...                 ...         ...\n",
       "2022-12-23     0.002467    0.003815\n",
       "2022-12-27     0.001846    0.003800\n",
       "2022-12-28     0.007351   -0.004248\n",
       "2022-12-29     0.011228    0.022816\n",
       "2022-12-30    -0.000604   -0.003071\n",
       "\n",
       "[5287 rows x 2 columns]"
      ]
     },
     "execution_count": 8,
     "metadata": {},
     "output_type": "execute_result"
    }
   ],
   "source": [
    "full_df"
   ]
  },
  {
   "cell_type": "code",
   "execution_count": 42,
   "metadata": {},
   "outputs": [
    {
     "data": {
      "text/plain": [
       "Ttest_indResult(statistic=0.1694519703424449, pvalue=0.8660307818287919)"
      ]
     },
     "execution_count": 42,
     "metadata": {},
     "output_type": "execute_result"
    }
   ],
   "source": [
    "ttest_ind(full_df['bac_returns'].iloc[:30], full_df['bk_returns'].iloc[:30])"
   ]
  },
  {
   "cell_type": "code",
   "execution_count": 45,
   "metadata": {},
   "outputs": [
    {
     "data": {
      "text/html": [
       "<div>\n",
       "<style scoped>\n",
       "    .dataframe tbody tr th:only-of-type {\n",
       "        vertical-align: middle;\n",
       "    }\n",
       "\n",
       "    .dataframe tbody tr th {\n",
       "        vertical-align: top;\n",
       "    }\n",
       "\n",
       "    .dataframe thead th {\n",
       "        text-align: right;\n",
       "    }\n",
       "</style>\n",
       "<table border=\"1\" class=\"dataframe\">\n",
       "  <thead>\n",
       "    <tr style=\"text-align: right;\">\n",
       "      <th></th>\n",
       "      <th>statistics</th>\n",
       "      <th>pvalue</th>\n",
       "    </tr>\n",
       "  </thead>\n",
       "  <tbody>\n",
       "    <tr>\n",
       "      <th>0</th>\n",
       "      <td>0.169452</td>\n",
       "      <td>0.866031</td>\n",
       "    </tr>\n",
       "    <tr>\n",
       "      <th>1</th>\n",
       "      <td>0.249466</td>\n",
       "      <td>0.803434</td>\n",
       "    </tr>\n",
       "    <tr>\n",
       "      <th>2</th>\n",
       "      <td>1.289369</td>\n",
       "      <td>0.198943</td>\n",
       "    </tr>\n",
       "    <tr>\n",
       "      <th>3</th>\n",
       "      <td>1.094488</td>\n",
       "      <td>0.274847</td>\n",
       "    </tr>\n",
       "    <tr>\n",
       "      <th>4</th>\n",
       "      <td>0.857664</td>\n",
       "      <td>0.391767</td>\n",
       "    </tr>\n",
       "    <tr>\n",
       "      <th>...</th>\n",
       "      <td>...</td>\n",
       "      <td>...</td>\n",
       "    </tr>\n",
       "    <tr>\n",
       "      <th>172</th>\n",
       "      <td>0.047616</td>\n",
       "      <td>0.962023</td>\n",
       "    </tr>\n",
       "    <tr>\n",
       "      <th>173</th>\n",
       "      <td>0.039479</td>\n",
       "      <td>0.968509</td>\n",
       "    </tr>\n",
       "    <tr>\n",
       "      <th>174</th>\n",
       "      <td>0.075260</td>\n",
       "      <td>0.940010</td>\n",
       "    </tr>\n",
       "    <tr>\n",
       "      <th>175</th>\n",
       "      <td>0.008627</td>\n",
       "      <td>0.993117</td>\n",
       "    </tr>\n",
       "    <tr>\n",
       "      <th>176</th>\n",
       "      <td>0.008627</td>\n",
       "      <td>0.993117</td>\n",
       "    </tr>\n",
       "  </tbody>\n",
       "</table>\n",
       "<p>177 rows × 2 columns</p>\n",
       "</div>"
      ],
      "text/plain": [
       "     statistics    pvalue\n",
       "0      0.169452  0.866031\n",
       "1      0.249466  0.803434\n",
       "2      1.289369  0.198943\n",
       "3      1.094488  0.274847\n",
       "4      0.857664  0.391767\n",
       "..          ...       ...\n",
       "172    0.047616  0.962023\n",
       "173    0.039479  0.968509\n",
       "174    0.075260  0.940010\n",
       "175    0.008627  0.993117\n",
       "176    0.008627  0.993117\n",
       "\n",
       "[177 rows x 2 columns]"
      ]
     },
     "execution_count": 45,
     "metadata": {},
     "output_type": "execute_result"
    }
   ],
   "source": [
    "number_of_steps = full_df.shape[0] // 30 * 30\n",
    "cols = ['statistics', 'pvalue']\n",
    "t_df = pd.DataFrame(columns=cols)\n",
    "for i in range(30, number_of_steps+1, 30):\n",
    "    t_df = final_df.append(\n",
    "                pd.Series(\n",
    "                    [\n",
    "                        ttest_ind(full_df['bac_returns'].iloc[:i], full_df['bk_returns'].iloc[:i])[0],\n",
    "                        ttest_ind(full_df['bac_returns'].iloc[:i], full_df['bk_returns'].iloc[:i])[1],\n",
    "                    ], index=cols\n",
    "                ), ignore_index=True\n",
    "            )\n",
    "t_df"
   ]
  },
  {
   "cell_type": "code",
   "execution_count": 51,
   "metadata": {},
   "outputs": [
    {
     "data": {
      "text/plain": [
       "0.188505620842825"
      ]
     },
     "execution_count": 51,
     "metadata": {},
     "output_type": "execute_result"
    }
   ],
   "source": [
    "t_df['pvalue'].min()"
   ]
  },
  {
   "cell_type": "code",
   "execution_count": 50,
   "metadata": {},
   "outputs": [
    {
     "data": {
      "text/plain": [
       "<AxesSubplot:>"
      ]
     },
     "execution_count": 50,
     "metadata": {},
     "output_type": "execute_result"
    },
    {
     "data": {
      "image/png": "[encoded data removed]",
      "text/plain": [
       "<Figure size 864x518.4 with 1 Axes>"
      ]
     },
     "metadata": {},
     "output_type": "display_data"
    }
   ],
   "source": [
    "t_df['pvalue'].plot()"
   ]
  },
  {
   "cell_type": "code",
   "execution_count": 9,
   "metadata": {},
   "outputs": [],
   "source": [
    "date_comb = full_df.copy()"
   ]
  },
  {
   "cell_type": "code",
   "execution_count": 21,
   "metadata": {},
   "outputs": [
    {
     "data": {
      "text/html": [
       "<div>\n",
       "<style scoped>\n",
       "    .dataframe tbody tr th:only-of-type {\n",
       "        vertical-align: middle;\n",
       "    }\n",
       "\n",
       "    .dataframe tbody tr th {\n",
       "        vertical-align: top;\n",
       "    }\n",
       "\n",
       "    .dataframe thead th {\n",
       "        text-align: right;\n",
       "    }\n",
       "</style>\n",
       "<table border=\"1\" class=\"dataframe\">\n",
       "  <thead>\n",
       "    <tr style=\"text-align: right;\">\n",
       "      <th></th>\n",
       "      <th>bac_returns</th>\n",
       "      <th>bk_returns</th>\n",
       "    </tr>\n",
       "    <tr>\n",
       "      <th>Date</th>\n",
       "      <th></th>\n",
       "      <th></th>\n",
       "    </tr>\n",
       "  </thead>\n",
       "  <tbody>\n",
       "    <tr>\n",
       "      <th>2002-01-02</th>\n",
       "      <td>0.000159</td>\n",
       "      <td>0.004647</td>\n",
       "    </tr>\n",
       "    <tr>\n",
       "      <th>2002-01-03</th>\n",
       "      <td>-0.001113</td>\n",
       "      <td>0.021957</td>\n",
       "    </tr>\n",
       "    <tr>\n",
       "      <th>2002-01-04</th>\n",
       "      <td>0.015462</td>\n",
       "      <td>0.016803</td>\n",
       "    </tr>\n",
       "    <tr>\n",
       "      <th>2002-01-07</th>\n",
       "      <td>-0.011971</td>\n",
       "      <td>0.030964</td>\n",
       "    </tr>\n",
       "    <tr>\n",
       "      <th>2002-01-08</th>\n",
       "      <td>-0.016133</td>\n",
       "      <td>-0.014208</td>\n",
       "    </tr>\n",
       "    <tr>\n",
       "      <th>...</th>\n",
       "      <td>...</td>\n",
       "      <td>...</td>\n",
       "    </tr>\n",
       "    <tr>\n",
       "      <th>2022-12-23</th>\n",
       "      <td>0.002467</td>\n",
       "      <td>0.003815</td>\n",
       "    </tr>\n",
       "    <tr>\n",
       "      <th>2022-12-27</th>\n",
       "      <td>0.001846</td>\n",
       "      <td>0.003800</td>\n",
       "    </tr>\n",
       "    <tr>\n",
       "      <th>2022-12-28</th>\n",
       "      <td>0.007351</td>\n",
       "      <td>-0.004248</td>\n",
       "    </tr>\n",
       "    <tr>\n",
       "      <th>2022-12-29</th>\n",
       "      <td>0.011228</td>\n",
       "      <td>0.022816</td>\n",
       "    </tr>\n",
       "    <tr>\n",
       "      <th>2022-12-30</th>\n",
       "      <td>-0.000604</td>\n",
       "      <td>-0.003071</td>\n",
       "    </tr>\n",
       "  </tbody>\n",
       "</table>\n",
       "<p>5287 rows × 2 columns</p>\n",
       "</div>"
      ],
      "text/plain": [
       "            bac_returns  bk_returns\n",
       "Date                               \n",
       "2002-01-02     0.000159    0.004647\n",
       "2002-01-03    -0.001113    0.021957\n",
       "2002-01-04     0.015462    0.016803\n",
       "2002-01-07    -0.011971    0.030964\n",
       "2002-01-08    -0.016133   -0.014208\n",
       "...                 ...         ...\n",
       "2022-12-23     0.002467    0.003815\n",
       "2022-12-27     0.001846    0.003800\n",
       "2022-12-28     0.007351   -0.004248\n",
       "2022-12-29     0.011228    0.022816\n",
       "2022-12-30    -0.000604   -0.003071\n",
       "\n",
       "[5287 rows x 2 columns]"
      ]
     },
     "execution_count": 21,
     "metadata": {},
     "output_type": "execute_result"
    }
   ],
   "source": [
    "date_comb"
   ]
  },
  {
   "cell_type": "code",
   "execution_count": null,
   "metadata": {},
   "outputs": [],
   "source": []
  }
 ],
 "metadata": {
  "kernelspec": {
   "display_name": "Python 3",
   "language": "python",
   "name": "python3"
  },
  "language_info": {
   "codemirror_mode": {
    "name": "ipython",
    "version": 3
   },
   "file_extension": ".py",
   "mimetype": "text/x-python",
   "name": "python",
   "nbconvert_exporter": "python",
   "pygments_lexer": "ipython3",
   "version": "3.8.5"
  }
 },
 "nbformat": 4,
 "nbformat_minor": 2
}
