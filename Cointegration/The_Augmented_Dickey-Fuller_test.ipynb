{
 "cells": [
  {
   "cell_type": "markdown",
   "metadata": {},
   "source": [
    "# The Augmented Dickey-Fuller test"
   ]
  },
  {
   "cell_type": "code",
   "execution_count": 17,
   "metadata": {},
   "outputs": [],
   "source": [
    "import numpy as np\n",
    "import pandas as pd\n",
    "\n",
    "import matplotlib.pylab as plt\n",
    "import seaborn as sns\n",
    "\n",
    "from statsmodels.tsa.stattools import adfuller\n",
    "\n",
    "import yfinance as yf\n",
    "import datetime as dt\n",
    "from datetime import timedelta\n",
    "\n",
    "from jupyterthemes import jtplot\n",
    "jtplot.style(figsize=(15, 9))"
   ]
  },
  {
   "cell_type": "code",
   "execution_count": 2,
   "metadata": {},
   "outputs": [],
   "source": [
    "date_start = dt.datetime(2017, 1, 1)\n",
    "date_end = dt.datetime(2022, 1, 1)"
   ]
  },
  {
   "cell_type": "code",
   "execution_count": 22,
   "metadata": {},
   "outputs": [],
   "source": [
    "tickers = ['GDX', 'GLD', 'AAPL', 'BAC', 'BK', 'ES=F', '^IXIC']"
   ]
  },
  {
   "cell_type": "code",
   "execution_count": 23,
   "metadata": {},
   "outputs": [
    {
     "name": "stdout",
     "output_type": "stream",
     "text": [
      "[*********************100%***********************]  7 of 7 completed\n",
      "[*********************100%***********************]  7 of 7 completed\n",
      "[*********************100%***********************]  7 of 7 completed\n",
      "[*********************100%***********************]  7 of 7 completed\n",
      "[*********************100%***********************]  7 of 7 completed\n",
      "[*********************100%***********************]  7 of 7 completed\n"
     ]
    }
   ],
   "source": [
    "_1wk = yf.download(tickers, period='max', interval='1wk', auto_adjust=True)\n",
    "_1d = yf.download(tickers, period='max', interval='1d', auto_adjust=True)\n",
    "_1h = yf.download(tickers, start=dt.datetime.now()-dt.timedelta(days=730), end=dt.datetime.now(), interval='1h', auto_adjust=True)\n",
    "_15m = yf.download(tickers, start=dt.datetime.now()-dt.timedelta(days=60), end=dt.datetime.now(), interval='15m', auto_adjust=True)\n",
    "_5m = yf.download(tickers, start=dt.datetime.now()-dt.timedelta(days=60), end=dt.datetime.now(), interval='5m', auto_adjust=True)\n",
    "_1m = yf.download(tickers, period='max', interval='1m', auto_adjust=True)"
   ]
  },
  {
   "cell_type": "code",
   "execution_count": 24,
   "metadata": {},
   "outputs": [
    {
     "data": {
      "text/plain": [
       "((2784, 35), (13477, 35), (14975, 35), (4013, 35), (11987, 35), (6840, 35))"
      ]
     },
     "execution_count": 24,
     "metadata": {},
     "output_type": "execute_result"
    }
   ],
   "source": [
    "_1wk.shape, _1d.shape, _1h.shape, _15m.shape, _5m.shape, _1m.shape"
   ]
  },
  {
   "cell_type": "code",
   "execution_count": 33,
   "metadata": {},
   "outputs": [],
   "source": [
    "_1wk_gdx_gld = _1wk['Close'][['GDX', 'GLD']].dropna()"
   ]
  },
  {
   "cell_type": "code",
   "execution_count": 34,
   "metadata": {},
   "outputs": [
    {
     "data": {
      "text/html": [
       "<div>\n",
       "<style scoped>\n",
       "    .dataframe tbody tr th:only-of-type {\n",
       "        vertical-align: middle;\n",
       "    }\n",
       "\n",
       "    .dataframe tbody tr th {\n",
       "        vertical-align: top;\n",
       "    }\n",
       "\n",
       "    .dataframe thead th {\n",
       "        text-align: right;\n",
       "    }\n",
       "</style>\n",
       "<table border=\"1\" class=\"dataframe\">\n",
       "  <thead>\n",
       "    <tr style=\"text-align: right;\">\n",
       "      <th></th>\n",
       "      <th>GDX</th>\n",
       "      <th>GLD</th>\n",
       "    </tr>\n",
       "    <tr>\n",
       "      <th>Date</th>\n",
       "      <th></th>\n",
       "      <th></th>\n",
       "    </tr>\n",
       "  </thead>\n",
       "  <tbody>\n",
       "    <tr>\n",
       "      <th>2006-05-22</th>\n",
       "      <td>33.339119</td>\n",
       "      <td>65.099998</td>\n",
       "    </tr>\n",
       "    <tr>\n",
       "      <th>2006-05-29</th>\n",
       "      <td>33.840721</td>\n",
       "      <td>63.500000</td>\n",
       "    </tr>\n",
       "    <tr>\n",
       "      <th>2006-06-05</th>\n",
       "      <td>30.329521</td>\n",
       "      <td>60.450001</td>\n",
       "    </tr>\n",
       "    <tr>\n",
       "      <th>2006-06-12</th>\n",
       "      <td>29.897099</td>\n",
       "      <td>57.680000</td>\n",
       "    </tr>\n",
       "    <tr>\n",
       "      <th>2006-06-19</th>\n",
       "      <td>31.375963</td>\n",
       "      <td>57.990002</td>\n",
       "    </tr>\n",
       "    <tr>\n",
       "      <th>...</th>\n",
       "      <td>...</td>\n",
       "      <td>...</td>\n",
       "    </tr>\n",
       "    <tr>\n",
       "      <th>2024-05-06</th>\n",
       "      <td>35.250000</td>\n",
       "      <td>218.710007</td>\n",
       "    </tr>\n",
       "    <tr>\n",
       "      <th>2024-05-13</th>\n",
       "      <td>36.869999</td>\n",
       "      <td>223.660004</td>\n",
       "    </tr>\n",
       "    <tr>\n",
       "      <th>2024-05-20</th>\n",
       "      <td>35.259998</td>\n",
       "      <td>215.919998</td>\n",
       "    </tr>\n",
       "    <tr>\n",
       "      <th>2024-05-27</th>\n",
       "      <td>35.299999</td>\n",
       "      <td>215.300003</td>\n",
       "    </tr>\n",
       "    <tr>\n",
       "      <th>2024-06-03</th>\n",
       "      <td>33.605000</td>\n",
       "      <td>213.029999</td>\n",
       "    </tr>\n",
       "  </tbody>\n",
       "</table>\n",
       "<p>942 rows × 2 columns</p>\n",
       "</div>"
      ],
      "text/plain": [
       "                  GDX         GLD\n",
       "Date                             \n",
       "2006-05-22  33.339119   65.099998\n",
       "2006-05-29  33.840721   63.500000\n",
       "2006-06-05  30.329521   60.450001\n",
       "2006-06-12  29.897099   57.680000\n",
       "2006-06-19  31.375963   57.990002\n",
       "...               ...         ...\n",
       "2024-05-06  35.250000  218.710007\n",
       "2024-05-13  36.869999  223.660004\n",
       "2024-05-20  35.259998  215.919998\n",
       "2024-05-27  35.299999  215.300003\n",
       "2024-06-03  33.605000  213.029999\n",
       "\n",
       "[942 rows x 2 columns]"
      ]
     },
     "execution_count": 34,
     "metadata": {},
     "output_type": "execute_result"
    }
   ],
   "source": [
    "_1wk_gdx_gld"
   ]
  },
  {
   "cell_type": "code",
   "execution_count": 37,
   "metadata": {},
   "outputs": [],
   "source": [
    "def show_adf_result(result, header=''):\n",
    "    print(f'{header}__Results of Dickey-Fuller Test:')\n",
    "    print(f'ADF Statistic: {result[0]}')\n",
    "    print(f'p-value: {result[1]}')\n",
    "    print('Critical Values:')\n",
    "    for key, value in result[4].items():\n",
    "        print(f'\\t{key}: {value}')\n",
    "    print('******************************\\n')"
   ]
  },
  {
   "cell_type": "code",
   "execution_count": 42,
   "metadata": {},
   "outputs": [
    {
     "name": "stdout",
     "output_type": "stream",
     "text": [
      "GDX__Results of Dickey-Fuller Test:\n",
      "ADF Statistic: 1.2048620701568056\n",
      "p-value: 0.9960193039024354\n",
      "Critical Values:\n",
      "\t1%: -3.5078527246648834\n",
      "\t5%: -2.895382030636155\n",
      "\t10%: -2.584823877658872\n",
      "******************************\n",
      "\n"
     ]
    }
   ],
   "source": [
    "res = adfuller(_1wk_gdx_gld['GDX'].iloc[:100])\n",
    "show_adf_result(res, 'GDX')"
   ]
  },
  {
   "cell_type": "code",
   "execution_count": 43,
   "metadata": {},
   "outputs": [
    {
     "name": "stdout",
     "output_type": "stream",
     "text": [
      "GLD__Results of Dickey-Fuller Test:\n",
      "ADF Statistic: -0.038226893742398245\n",
      "p-value: 0.9552542443902938\n",
      "Critical Values:\n",
      "\t1%: -3.4996365338407074\n",
      "\t5%: -2.8918307730370025\n",
      "\t10%: -2.5829283377617176\n",
      "******************************\n",
      "\n"
     ]
    }
   ],
   "source": [
    "res = adfuller(_1wk_gdx_gld['GLD'].iloc[:100])\n",
    "show_adf_result(res, 'GLD')"
   ]
  },
  {
   "cell_type": "code",
   "execution_count": 44,
   "metadata": {},
   "outputs": [
    {
     "name": "stdout",
     "output_type": "stream",
     "text": [
      "GLD+GDX__Results of Dickey-Fuller Test:\n",
      "ADF Statistic: 1.9299616481370443\n",
      "p-value: 0.9985747277844554\n",
      "Critical Values:\n",
      "\t1%: -3.5078527246648834\n",
      "\t5%: -2.895382030636155\n",
      "\t10%: -2.584823877658872\n",
      "******************************\n",
      "\n"
     ]
    }
   ],
   "source": [
    "res = adfuller(_1wk_gdx_gld['GLD'].iloc[:100]+_1wk_gdx_gld['GDX'].iloc[:100])\n",
    "show_adf_result(res, 'GLD+GDX')"
   ]
  },
  {
   "cell_type": "code",
   "execution_count": null,
   "metadata": {},
   "outputs": [],
   "source": []
  }
 ],
 "metadata": {
  "kernelspec": {
   "display_name": "Python 3",
   "language": "python",
   "name": "python3"
  },
  "language_info": {
   "codemirror_mode": {
    "name": "ipython",
    "version": 3
   },
   "file_extension": ".py",
   "mimetype": "text/x-python",
   "name": "python",
   "nbconvert_exporter": "python",
   "pygments_lexer": "ipython3",
   "version": "3.8.5"
  }
 },
 "nbformat": 4,
 "nbformat_minor": 2
}
