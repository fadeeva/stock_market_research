{
 "cells": [
  {
   "cell_type": "code",
   "execution_count": 1,
   "metadata": {},
   "outputs": [],
   "source": [
    "# Based on SF Education's notebook"
   ]
  },
  {
   "cell_type": "code",
   "execution_count": 1,
   "metadata": {},
   "outputs": [],
   "source": [
    "import numpy as np\n",
    "import pandas as pd\n",
    "import scipy as sp\n",
    "import scipy.stats as sps\n",
    "import scipy.optimize as spop\n",
    "import matplotlib.pyplot as plt"
   ]
  },
  {
   "cell_type": "code",
   "execution_count": 2,
   "metadata": {},
   "outputs": [
    {
     "data": {
      "text/html": [
       "<div>\n",
       "<style scoped>\n",
       "    .dataframe tbody tr th:only-of-type {\n",
       "        vertical-align: middle;\n",
       "    }\n",
       "\n",
       "    .dataframe tbody tr th {\n",
       "        vertical-align: top;\n",
       "    }\n",
       "\n",
       "    .dataframe thead th {\n",
       "        text-align: right;\n",
       "    }\n",
       "</style>\n",
       "<table border=\"1\" class=\"dataframe\">\n",
       "  <thead>\n",
       "    <tr style=\"text-align: right;\">\n",
       "      <th></th>\n",
       "      <th>Open</th>\n",
       "      <th>High</th>\n",
       "      <th>Low</th>\n",
       "      <th>Close</th>\n",
       "      <th>Volume</th>\n",
       "      <th>Dividends</th>\n",
       "      <th>Stock Splits</th>\n",
       "    </tr>\n",
       "    <tr>\n",
       "      <th>Date</th>\n",
       "      <th></th>\n",
       "      <th></th>\n",
       "      <th></th>\n",
       "      <th></th>\n",
       "      <th></th>\n",
       "      <th></th>\n",
       "      <th></th>\n",
       "    </tr>\n",
       "  </thead>\n",
       "  <tbody>\n",
       "    <tr>\n",
       "      <th>2001-12-31</th>\n",
       "      <td>19.101077</td>\n",
       "      <td>19.101077</td>\n",
       "      <td>18.822426</td>\n",
       "      <td>18.861378</td>\n",
       "      <td>5397400</td>\n",
       "      <td>0.0</td>\n",
       "      <td>0.0</td>\n",
       "    </tr>\n",
       "    <tr>\n",
       "      <th>2002-01-02</th>\n",
       "      <td>18.669628</td>\n",
       "      <td>18.906331</td>\n",
       "      <td>18.609703</td>\n",
       "      <td>18.864384</td>\n",
       "      <td>8669200</td>\n",
       "      <td>0.0</td>\n",
       "      <td>0.0</td>\n",
       "    </tr>\n",
       "    <tr>\n",
       "      <th>2002-01-03</th>\n",
       "      <td>18.864382</td>\n",
       "      <td>19.146030</td>\n",
       "      <td>18.804457</td>\n",
       "      <td>18.843409</td>\n",
       "      <td>8237600</td>\n",
       "      <td>0.0</td>\n",
       "      <td>0.0</td>\n",
       "    </tr>\n",
       "    <tr>\n",
       "      <th>2002-01-04</th>\n",
       "      <td>18.912315</td>\n",
       "      <td>19.220929</td>\n",
       "      <td>18.879356</td>\n",
       "      <td>19.137033</td>\n",
       "      <td>10598600</td>\n",
       "      <td>0.0</td>\n",
       "      <td>0.0</td>\n",
       "    </tr>\n",
       "    <tr>\n",
       "      <th>2002-01-07</th>\n",
       "      <td>18.696586</td>\n",
       "      <td>18.990218</td>\n",
       "      <td>18.696586</td>\n",
       "      <td>18.909319</td>\n",
       "      <td>10852200</td>\n",
       "      <td>0.0</td>\n",
       "      <td>0.0</td>\n",
       "    </tr>\n",
       "  </tbody>\n",
       "</table>\n",
       "</div>"
      ],
      "text/plain": [
       "                 Open       High        Low      Close    Volume  Dividends  \\\n",
       "Date                                                                          \n",
       "2001-12-31  19.101077  19.101077  18.822426  18.861378   5397400        0.0   \n",
       "2002-01-02  18.669628  18.906331  18.609703  18.864384   8669200        0.0   \n",
       "2002-01-03  18.864382  19.146030  18.804457  18.843409   8237600        0.0   \n",
       "2002-01-04  18.912315  19.220929  18.879356  19.137033  10598600        0.0   \n",
       "2002-01-07  18.696586  18.990218  18.696586  18.909319  10852200        0.0   \n",
       "\n",
       "            Stock Splits  \n",
       "Date                      \n",
       "2001-12-31           0.0  \n",
       "2002-01-02           0.0  \n",
       "2002-01-03           0.0  \n",
       "2002-01-04           0.0  \n",
       "2002-01-07           0.0  "
      ]
     },
     "execution_count": 2,
     "metadata": {},
     "output_type": "execute_result"
    }
   ],
   "source": [
    "df = pd.read_csv('../data/BAC_2002-01-01_2022-12-31_1d.csv', index_col=0)\n",
    "df.head()"
   ]
  },
  {
   "cell_type": "code",
   "execution_count": 3,
   "metadata": {},
   "outputs": [],
   "source": [
    "close = df['Close'].to_frame()\n",
    "close['rank']=(close['Close'].rank(method='first'))/(len(close))\n",
    "close = close.reset_index(drop=True)"
   ]
  },
  {
   "cell_type": "code",
   "execution_count": 4,
   "metadata": {},
   "outputs": [
    {
     "data": {
      "text/html": [
       "<div>\n",
       "<style scoped>\n",
       "    .dataframe tbody tr th:only-of-type {\n",
       "        vertical-align: middle;\n",
       "    }\n",
       "\n",
       "    .dataframe tbody tr th {\n",
       "        vertical-align: top;\n",
       "    }\n",
       "\n",
       "    .dataframe thead th {\n",
       "        text-align: right;\n",
       "    }\n",
       "</style>\n",
       "<table border=\"1\" class=\"dataframe\">\n",
       "  <thead>\n",
       "    <tr style=\"text-align: right;\">\n",
       "      <th></th>\n",
       "      <th>Close</th>\n",
       "      <th>rank</th>\n",
       "    </tr>\n",
       "  </thead>\n",
       "  <tbody>\n",
       "    <tr>\n",
       "      <th>0</th>\n",
       "      <td>18.861378</td>\n",
       "      <td>0.397882</td>\n",
       "    </tr>\n",
       "    <tr>\n",
       "      <th>1</th>\n",
       "      <td>18.864384</td>\n",
       "      <td>0.398071</td>\n",
       "    </tr>\n",
       "    <tr>\n",
       "      <th>2</th>\n",
       "      <td>18.843409</td>\n",
       "      <td>0.397315</td>\n",
       "    </tr>\n",
       "    <tr>\n",
       "      <th>3</th>\n",
       "      <td>19.137033</td>\n",
       "      <td>0.400530</td>\n",
       "    </tr>\n",
       "    <tr>\n",
       "      <th>4</th>\n",
       "      <td>18.909319</td>\n",
       "      <td>0.398449</td>\n",
       "    </tr>\n",
       "  </tbody>\n",
       "</table>\n",
       "</div>"
      ],
      "text/plain": [
       "       Close      rank\n",
       "0  18.861378  0.397882\n",
       "1  18.864384  0.398071\n",
       "2  18.843409  0.397315\n",
       "3  19.137033  0.400530\n",
       "4  18.909319  0.398449"
      ]
     },
     "execution_count": 4,
     "metadata": {},
     "output_type": "execute_result"
    }
   ],
   "source": [
    "close.head()"
   ]
  },
  {
   "cell_type": "code",
   "execution_count": 9,
   "metadata": {},
   "outputs": [],
   "source": [
    "mean = np.average(close['Close'])\n",
    "med = np.median(close['Close'])\n",
    "std = np.std(close['Close'])\n",
    "var = std**2\n",
    "skew = sps.skew(close['Close'])\n",
    "kurt = sps.kurtosis(close['Close'])"
   ]
  },
  {
   "cell_type": "code",
   "execution_count": 10,
   "metadata": {},
   "outputs": [
    {
     "name": "stdout",
     "output_type": "stream",
     "text": [
      "Mean:     22.205834364295907\n",
      "Median:   22.27399253845215\n",
      "Std:      10.209689196412825\n",
      "Variance: 104.23775348734875\n",
      "Skew:     0.1827889739628597\n",
      "Kurtosis: -0.9625491221002185\n"
     ]
    }
   ],
   "source": [
    "print(f'Mean:     {mean}')\n",
    "print(f'Median:   {med}')\n",
    "print(f'Std:      {std}')\n",
    "print(f'Variance: {var}')\n",
    "print(f'Skew:     {skew}')\n",
    "print(f'Kurtosis: {kurt}')"
   ]
  },
  {
   "cell_type": "code",
   "execution_count": 11,
   "metadata": {},
   "outputs": [],
   "source": [
    "# оценим параметры распределения Лапласа методом максимального правдоподобия\n",
    "loc_laplace = med\n",
    "scale_laplace = np.average(abs(close['Close'] - med))"
   ]
  },
  {
   "cell_type": "code",
   "execution_count": 12,
   "metadata": {},
   "outputs": [],
   "source": [
    "# оценим параметры распределения Коши методом моментов\n",
    "loc_cauchy = med\n",
    "scale_cauchy = (np.percentile(close['Close'], 0.75) - np.percentile(close['Close'], 0.25)) / 2"
   ]
  },
  {
   "cell_type": "code",
   "execution_count": 39,
   "metadata": {},
   "outputs": [],
   "source": [
    "# оценим параметры распределения Коши методом максимального правдопододия\n",
    "def cauchy_mle(k:list)->float:\n",
    "    return -np.sum(np.log(1/(np.pi\n",
    "                             *k[1]\n",
    "                             *(1 + ((close['Close'] - k[0]) / k[1])**2)\n",
    "                            )))\n",
    "\n",
    "res = spop.minimize(cauchy_mle, [loc_cauchy, scale_cauchy], method='Powell')\n",
    "loc_cauchy_mle = res.x[0]\n",
    "scale_cauchy_mle = res.x[1]"
   ]
  },
  {
   "cell_type": "code",
   "execution_count": 40,
   "metadata": {},
   "outputs": [
    {
     "data": {
      "text/plain": [
       "(33.843439536037636, -101.41606852206861)"
      ]
     },
     "execution_count": 40,
     "metadata": {},
     "output_type": "execute_result"
    }
   ],
   "source": [
    "loc_cauchy_mle, scale_cauchy_mle"
   ]
  },
  {
   "cell_type": "code",
   "execution_count": 17,
   "metadata": {},
   "outputs": [],
   "source": [
    "# оценим параметры гиперболического секанта методом максимального правдопододия\n",
    "def hypersecant_mle(k:list)->float:\n",
    "    return -np.sum(np.log(np.pi/(k[1])\n",
    "                          *np.exp(np.pi/2*(close['Close']-k[0])/k[1])\n",
    "                          /(1+np.exp(np.pi*(close['Close']-k[0])/k[1]))\n",
    "                         ))\n",
    "\n",
    "res = spop.minimize(hypersecant_mle, [mean, std], method='Powell')\n",
    "loc_hypersecant_mle = res.x[0]\n",
    "scale_hypersecant_mle = res.x[1]"
   ]
  },
  {
   "cell_type": "code",
   "execution_count": 18,
   "metadata": {},
   "outputs": [],
   "source": [
    "# оценим параметры логистического распределения методом моментов\n",
    "loc_logistic = mean\n",
    "scale_logistic = 3**(1/2)/np.pi*std"
   ]
  },
  {
   "cell_type": "code",
   "execution_count": 19,
   "metadata": {},
   "outputs": [],
   "source": [
    "# оценим параметры логистического распределения методом максимального правдоподобия\n",
    "def logistic_mle(k:list)->float:\n",
    "    return -np.sum(np.log(np.exp(-(close['Close']-k[0])/k[1])\n",
    "                          /(k[1]*(1+np.exp(-(close['Close']-k[0])/k[1]))**2)\n",
    "                         ))\n",
    "\n",
    "res = spop.minimize(logistic_mle, [loc_logistic, scale_logistic], method='Powell')\n",
    "loc_logistic_mle = res.x[0]\n",
    "scale_logistic_mle = res.x[1]"
   ]
  },
  {
   "cell_type": "code",
   "execution_count": 20,
   "metadata": {},
   "outputs": [],
   "source": [
    "# оценим параметры распределения Cmьюдента методом моментов\n",
    "df_student = 6/kurt + 4\n",
    "loc_student = mean\n",
    "scale_student = std*((df_student - 2)/df_student)**(1/2)"
   ]
  },
  {
   "cell_type": "code",
   "execution_count": 49,
   "metadata": {},
   "outputs": [],
   "source": [
    "# выведем теоретические функции распределения исходя из оцененных параметров\n",
    "close['Normal'] = sps.norm.cdf(close['Close'], loc=mean, scale=std)\n",
    "\n",
    "# close['Cauchy-MM'] = 1/np.pi*np.arctan((close['Close']-loc_cauchy)/scale_cauchy)+1/2\n",
    "close['Cauchy-MM'] = sps.cauchy.cdf(close['Close'], loc=loc_cauchy, scale=scale_cauchy)\n",
    "\n",
    "close['Cauchy-MMP'] = 1/np.pi*np.arctan((close['Close']-loc_cauchy_mle)/scale_cauchy_mle)+1/2\n",
    "\n",
    "close['Laplace1'] = 1/2*np.exp((close[close['Close']<=loc_laplace]['Close']-med)/scale_laplace)\n",
    "close['Laplace2'] = 1-1/2*np.exp(-(close[close['Close']>med]['Close']-loc_laplace)/scale_laplace)\n",
    "close['Laplace'] = close['Laplace1'].replace(np.nan,0)+close['Laplace2'].replace(np.nan,0)\n",
    "close['Hyperbolic secant-MM'] = 2/np.pi*np.arctan(np.exp(np.pi*(close['Close']-mean)/(2*std)))\n",
    "close['Hyperbolic secant-MMP'] = 2/np.pi*np.arctan(np.exp(np.pi*(close['Close']-loc_hypersecant_mle)/(2*scale_hypersecant_mle)))\n",
    "close['Student'] = sps.t.cdf((close['Close']-loc_student)/(scale_student),df_student,loc=0,scale=1)\n",
    "close['Logistic-MM'] = 1/(1+np.exp(-(close['Close']-loc_logistic)/scale_logistic))\n",
    "close['Logistic-MMP'] = 1/(1+np.exp(-(close['Close']-loc_logistic_mle)/scale_logistic_mle))"
   ]
  },
  {
   "cell_type": "code",
   "execution_count": 54,
   "metadata": {},
   "outputs": [
    {
     "data": {
      "text/html": [
       "<div>\n",
       "<style scoped>\n",
       "    .dataframe tbody tr th:only-of-type {\n",
       "        vertical-align: middle;\n",
       "    }\n",
       "\n",
       "    .dataframe tbody tr th {\n",
       "        vertical-align: top;\n",
       "    }\n",
       "\n",
       "    .dataframe thead th {\n",
       "        text-align: right;\n",
       "    }\n",
       "</style>\n",
       "<table border=\"1\" class=\"dataframe\">\n",
       "  <thead>\n",
       "    <tr style=\"text-align: right;\">\n",
       "      <th></th>\n",
       "      <th>Close</th>\n",
       "      <th>rank</th>\n",
       "      <th>Normal</th>\n",
       "      <th>Cauchy-MM</th>\n",
       "      <th>Cauchy-MMP</th>\n",
       "      <th>Laplace1</th>\n",
       "      <th>Laplace2</th>\n",
       "      <th>Laplace</th>\n",
       "      <th>Hyperbolic secant-MM</th>\n",
       "      <th>Hyperbolic secant-MMP</th>\n",
       "      <th>Student</th>\n",
       "      <th>Logistic-MM</th>\n",
       "      <th>Logistic-MMP</th>\n",
       "    </tr>\n",
       "  </thead>\n",
       "  <tbody>\n",
       "    <tr>\n",
       "      <th>0</th>\n",
       "      <td>18.861378</td>\n",
       "      <td>0.397882</td>\n",
       "      <td>0.371616</td>\n",
       "      <td>0.028754</td>\n",
       "      <td>0.546686</td>\n",
       "      <td>0.338503</td>\n",
       "      <td>NaN</td>\n",
       "      <td>0.338503</td>\n",
       "      <td>0.342995</td>\n",
       "      <td>0.370656</td>\n",
       "      <td>NaN</td>\n",
       "      <td>0.355681</td>\n",
       "      <td>0.374517</td>\n",
       "    </tr>\n",
       "    <tr>\n",
       "      <th>1</th>\n",
       "      <td>18.864384</td>\n",
       "      <td>0.398071</td>\n",
       "      <td>0.371727</td>\n",
       "      <td>0.028780</td>\n",
       "      <td>0.546677</td>\n",
       "      <td>0.338619</td>\n",
       "      <td>NaN</td>\n",
       "      <td>0.338619</td>\n",
       "      <td>0.343125</td>\n",
       "      <td>0.370773</td>\n",
       "      <td>NaN</td>\n",
       "      <td>0.355804</td>\n",
       "      <td>0.374632</td>\n",
       "    </tr>\n",
       "    <tr>\n",
       "      <th>2</th>\n",
       "      <td>18.843409</td>\n",
       "      <td>0.397315</td>\n",
       "      <td>0.370951</td>\n",
       "      <td>0.028605</td>\n",
       "      <td>0.546741</td>\n",
       "      <td>0.337808</td>\n",
       "      <td>NaN</td>\n",
       "      <td>0.337808</td>\n",
       "      <td>0.342220</td>\n",
       "      <td>0.369956</td>\n",
       "      <td>NaN</td>\n",
       "      <td>0.354950</td>\n",
       "      <td>0.373832</td>\n",
       "    </tr>\n",
       "    <tr>\n",
       "      <th>3</th>\n",
       "      <td>19.137033</td>\n",
       "      <td>0.400530</td>\n",
       "      <td>0.381868</td>\n",
       "      <td>0.031266</td>\n",
       "      <td>0.545839</td>\n",
       "      <td>0.349339</td>\n",
       "      <td>NaN</td>\n",
       "      <td>0.349339</td>\n",
       "      <td>0.355003</td>\n",
       "      <td>0.381464</td>\n",
       "      <td>NaN</td>\n",
       "      <td>0.366982</td>\n",
       "      <td>0.385089</td>\n",
       "    </tr>\n",
       "    <tr>\n",
       "      <th>4</th>\n",
       "      <td>18.909319</td>\n",
       "      <td>0.398449</td>\n",
       "      <td>0.373393</td>\n",
       "      <td>0.029162</td>\n",
       "      <td>0.546539</td>\n",
       "      <td>0.340363</td>\n",
       "      <td>NaN</td>\n",
       "      <td>0.340363</td>\n",
       "      <td>0.345066</td>\n",
       "      <td>0.372525</td>\n",
       "      <td>NaN</td>\n",
       "      <td>0.357636</td>\n",
       "      <td>0.376348</td>\n",
       "    </tr>\n",
       "  </tbody>\n",
       "</table>\n",
       "</div>"
      ],
      "text/plain": [
       "       Close      rank    Normal  Cauchy-MM  Cauchy-MMP  Laplace1  Laplace2  \\\n",
       "0  18.861378  0.397882  0.371616   0.028754    0.546686  0.338503       NaN   \n",
       "1  18.864384  0.398071  0.371727   0.028780    0.546677  0.338619       NaN   \n",
       "2  18.843409  0.397315  0.370951   0.028605    0.546741  0.337808       NaN   \n",
       "3  19.137033  0.400530  0.381868   0.031266    0.545839  0.349339       NaN   \n",
       "4  18.909319  0.398449  0.373393   0.029162    0.546539  0.340363       NaN   \n",
       "\n",
       "    Laplace  Hyperbolic secant-MM  Hyperbolic secant-MMP  Student  \\\n",
       "0  0.338503              0.342995               0.370656      NaN   \n",
       "1  0.338619              0.343125               0.370773      NaN   \n",
       "2  0.337808              0.342220               0.369956      NaN   \n",
       "3  0.349339              0.355003               0.381464      NaN   \n",
       "4  0.340363              0.345066               0.372525      NaN   \n",
       "\n",
       "   Logistic-MM  Logistic-MMP  \n",
       "0     0.355681      0.374517  \n",
       "1     0.355804      0.374632  \n",
       "2     0.354950      0.373832  \n",
       "3     0.366982      0.385089  \n",
       "4     0.357636      0.376348  "
      ]
     },
     "execution_count": 54,
     "metadata": {},
     "output_type": "execute_result"
    }
   ],
   "source": [
    "close.head()"
   ]
  },
  {
   "cell_type": "code",
   "execution_count": 52,
   "metadata": {},
   "outputs": [
    {
     "data": {
      "text/plain": [
       "0      -0.237933\n",
       "1      -0.237719\n",
       "2      -0.239211\n",
       "3      -0.218322\n",
       "4      -0.234522\n",
       "          ...   \n",
       "5283    0.715332\n",
       "5284    0.719572\n",
       "5285    0.736537\n",
       "5286    0.762690\n",
       "5287    0.761276\n",
       "Name: Close, Length: 5288, dtype: float64"
      ]
     },
     "execution_count": 52,
     "metadata": {},
     "output_type": "execute_result"
    }
   ],
   "source": [
    "(close['Close']-loc_student)/(scale_student)"
   ]
  },
  {
   "cell_type": "code",
   "execution_count": 51,
   "metadata": {},
   "outputs": [
    {
     "data": {
      "text/plain": [
       "array([nan, nan, nan, ..., nan, nan, nan])"
      ]
     },
     "execution_count": 51,
     "metadata": {},
     "output_type": "execute_result"
    }
   ],
   "source": [
    "sps.t.cdf((close['Close']-loc_student)/(scale_student), df_student, loc=0, scale=1)"
   ]
  },
  {
   "cell_type": "code",
   "execution_count": 27,
   "metadata": {
    "scrolled": false
   },
   "outputs": [
    {
     "name": "stdout",
     "output_type": "stream",
     "text": [
      "\n",
      "Normal\n",
      "\n",
      "супремум равен 0.126\n",
      "p-значение равно 0.0\n",
      "распределение не подходит\n"
     ]
    },
    {
     "data": {
      "image/png": "[encoded data removed]",
      "text/plain": [
       "<Figure size 432x288 with 1 Axes>"
      ]
     },
     "metadata": {
      "needs_background": "dark"
     },
     "output_type": "display_data"
    },
    {
     "name": "stdout",
     "output_type": "stream",
     "text": [
      "\n",
      "Laplace\n",
      "\n",
      "супремум равен 0.1493\n",
      "p-значение равно 0.0\n",
      "распределение не подходит\n"
     ]
    },
    {
     "data": {
      "image/png": "[encoded data removed]",
      "text/plain": [
       "<Figure size 432x288 with 1 Axes>"
      ]
     },
     "metadata": {
      "needs_background": "dark"
     },
     "output_type": "display_data"
    },
    {
     "name": "stdout",
     "output_type": "stream",
     "text": [
      "\n",
      "Hyperbolic secant-MM\n",
      "\n",
      "супремум равен 0.1633\n",
      "p-значение равно 0.0\n",
      "распределение не подходит\n"
     ]
    },
    {
     "data": {
      "image/png": "[encoded data removed]",
      "text/plain": [
       "<Figure size 432x288 with 1 Axes>"
      ]
     },
     "metadata": {
      "needs_background": "dark"
     },
     "output_type": "display_data"
    },
    {
     "name": "stdout",
     "output_type": "stream",
     "text": [
      "\n",
      "Hyperbolic secant-MMP\n",
      "\n",
      "супремум равен 0.1275\n",
      "p-значение равно 0.0\n",
      "распределение не подходит\n"
     ]
    },
    {
     "data": {
      "image/png": "[encoded data removed]",
      "text/plain": [
       "<Figure size 432x288 with 1 Axes>"
      ]
     },
     "metadata": {
      "needs_background": "dark"
     },
     "output_type": "display_data"
    },
    {
     "name": "stdout",
     "output_type": "stream",
     "text": [
      "\n",
      "Cauchy-MM\n",
      "\n",
      "супремум равен 0.4017\n",
      "p-значение равно 0.0\n",
      "распределение не подходит\n"
     ]
    },
    {
     "data": {
      "image/png": "[encoded data removed]",
      "text/plain": [
       "<Figure size 432x288 with 1 Axes>"
      ]
     },
     "metadata": {
      "needs_background": "dark"
     },
     "output_type": "display_data"
    },
    {
     "name": "stdout",
     "output_type": "stream",
     "text": [
      "\n",
      "Cauchy-MMP\n",
      "\n",
      "супремум равен 0.5949\n",
      "p-значение равно 0.0\n",
      "распределение не подходит\n"
     ]
    },
    {
     "data": {
      "image/png": "[encoded data removed]",
      "text/plain": [
       "<Figure size 432x288 with 1 Axes>"
      ]
     },
     "metadata": {
      "needs_background": "dark"
     },
     "output_type": "display_data"
    },
    {
     "name": "stdout",
     "output_type": "stream",
     "text": [
      "\n",
      "Student\n",
      "\n",
      "супремум равен nan\n",
      "p-значение равно nan\n",
      "распределение не подходит\n"
     ]
    },
    {
     "data": {
      "image/png": "[encoded data removed]",
      "text/plain": [
       "<Figure size 432x288 with 1 Axes>"
      ]
     },
     "metadata": {
      "needs_background": "dark"
     },
     "output_type": "display_data"
    },
    {
     "name": "stdout",
     "output_type": "stream",
     "text": [
      "\n",
      "Logistic-MM\n",
      "\n",
      "супремум равен 0.1487\n",
      "p-значение равно 0.0\n",
      "распределение не подходит\n"
     ]
    },
    {
     "data": {
      "image/png": "[encoded data removed]",
      "text/plain": [
       "<Figure size 432x288 with 1 Axes>"
      ]
     },
     "metadata": {
      "needs_background": "dark"
     },
     "output_type": "display_data"
    },
    {
     "name": "stdout",
     "output_type": "stream",
     "text": [
      "\n",
      "Logistic-MMP\n",
      "\n",
      "супремум равен 0.1242\n",
      "p-значение равно 0.0\n",
      "распределение не подходит\n"
     ]
    },
    {
     "data": {
      "image/png": "[encoded data removed]",
      "text/plain": [
       "<Figure size 432x288 with 1 Axes>"
      ]
     },
     "metadata": {
      "needs_background": "dark"
     },
     "output_type": "display_data"
    }
   ],
   "source": [
    "# сравним теоретические функции распределения с эмпирическими для каждого из распределений\n",
    "distributions = ['Normal',\n",
    "                 'Laplace',\n",
    "                 'Hyperbolic secant-MM',\n",
    "                 'Hyperbolic secant-MMP',\n",
    "                 'Cauchy-MM',\n",
    "                 'Cauchy-MMP',\n",
    "                 'Student',\n",
    "                 'Logistic-MM',\n",
    "                 'Logistic-MMP']\n",
    "for dist in distributions:\n",
    "    # вычислим супремум (статистику Колмогорова-Смирнова)\n",
    "    KS_array = abs(close['rank']-close[dist])\n",
    "    KS = max(KS_array)\n",
    "\n",
    "    # вычислим p-значения (вероятность, с которой данные подчиняются этому распределению)\n",
    "    KS_p = np.exp(-KS**2*len(close))\n",
    "\n",
    "    # визуализируем результат и выведем результаты теста Колмогорова-Смирнова\n",
    "    print()\n",
    "    print(dist)\n",
    "    print()\n",
    "    print(f'супремум равен {str(round(KS,4))}')\n",
    "    print(f'p-значение равно {str(round(KS_p,4))}')\n",
    "    if KS_p > 0.1:\n",
    "        print('распределение подходит')\n",
    "    else:\n",
    "        print('распределение не подходит')\n",
    "#     plt.figure(dist)\n",
    "    plt.plot(close['Close'], close['rank'])\n",
    "    plt.plot(close['Close'], close[dist])\n",
    "    plt.title(dist)\n",
    "    plt.show();"
   ]
  },
  {
   "cell_type": "code",
   "execution_count": 55,
   "metadata": {},
   "outputs": [],
   "source": [
    "def fit_distributions(data):\n",
    "    pass"
   ]
  },
  {
   "cell_type": "code",
   "execution_count": null,
   "metadata": {},
   "outputs": [],
   "source": []
  }
 ],
 "metadata": {
  "kernelspec": {
   "display_name": "Python 3",
   "language": "python",
   "name": "python3"
  },
  "language_info": {
   "codemirror_mode": {
    "name": "ipython",
    "version": 3
   },
   "file_extension": ".py",
   "mimetype": "text/x-python",
   "name": "python",
   "nbconvert_exporter": "python",
   "pygments_lexer": "ipython3",
   "version": "3.8.5"
  }
 },
 "nbformat": 4,
 "nbformat_minor": 2
}
