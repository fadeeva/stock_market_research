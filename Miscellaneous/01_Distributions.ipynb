{
 "cells": [
  {
   "cell_type": "code",
   "execution_count": 1,
   "metadata": {},
   "outputs": [],
   "source": [
    "# Based on SF Education's notebook"
   ]
  },
  {
   "cell_type": "code",
   "execution_count": 2,
   "metadata": {},
   "outputs": [],
   "source": [
    "import numpy as np\n",
    "import pandas as pd\n",
    "import scipy as sp\n",
    "import scipy.stats as sps\n",
    "import scipy.optimize as spop\n",
    "import matplotlib.pyplot as plt"
   ]
  },
  {
   "cell_type": "code",
   "execution_count": 12,
   "metadata": {},
   "outputs": [
    {
     "data": {
      "text/html": [
       "<div>\n",
       "<style scoped>\n",
       "    .dataframe tbody tr th:only-of-type {\n",
       "        vertical-align: middle;\n",
       "    }\n",
       "\n",
       "    .dataframe tbody tr th {\n",
       "        vertical-align: top;\n",
       "    }\n",
       "\n",
       "    .dataframe thead th {\n",
       "        text-align: right;\n",
       "    }\n",
       "</style>\n",
       "<table border=\"1\" class=\"dataframe\">\n",
       "  <thead>\n",
       "    <tr style=\"text-align: right;\">\n",
       "      <th></th>\n",
       "      <th>Open</th>\n",
       "      <th>High</th>\n",
       "      <th>Low</th>\n",
       "      <th>Close</th>\n",
       "      <th>Volume</th>\n",
       "      <th>Dividends</th>\n",
       "      <th>Stock Splits</th>\n",
       "    </tr>\n",
       "    <tr>\n",
       "      <th>Date</th>\n",
       "      <th></th>\n",
       "      <th></th>\n",
       "      <th></th>\n",
       "      <th></th>\n",
       "      <th></th>\n",
       "      <th></th>\n",
       "      <th></th>\n",
       "    </tr>\n",
       "  </thead>\n",
       "  <tbody>\n",
       "    <tr>\n",
       "      <th>2001-12-31</th>\n",
       "      <td>19.101077</td>\n",
       "      <td>19.101077</td>\n",
       "      <td>18.822426</td>\n",
       "      <td>18.861378</td>\n",
       "      <td>5397400</td>\n",
       "      <td>0.0</td>\n",
       "      <td>0.0</td>\n",
       "    </tr>\n",
       "    <tr>\n",
       "      <th>2002-01-02</th>\n",
       "      <td>18.669628</td>\n",
       "      <td>18.906331</td>\n",
       "      <td>18.609703</td>\n",
       "      <td>18.864384</td>\n",
       "      <td>8669200</td>\n",
       "      <td>0.0</td>\n",
       "      <td>0.0</td>\n",
       "    </tr>\n",
       "    <tr>\n",
       "      <th>2002-01-03</th>\n",
       "      <td>18.864382</td>\n",
       "      <td>19.146030</td>\n",
       "      <td>18.804457</td>\n",
       "      <td>18.843409</td>\n",
       "      <td>8237600</td>\n",
       "      <td>0.0</td>\n",
       "      <td>0.0</td>\n",
       "    </tr>\n",
       "    <tr>\n",
       "      <th>2002-01-04</th>\n",
       "      <td>18.912315</td>\n",
       "      <td>19.220929</td>\n",
       "      <td>18.879356</td>\n",
       "      <td>19.137033</td>\n",
       "      <td>10598600</td>\n",
       "      <td>0.0</td>\n",
       "      <td>0.0</td>\n",
       "    </tr>\n",
       "    <tr>\n",
       "      <th>2002-01-07</th>\n",
       "      <td>18.696586</td>\n",
       "      <td>18.990218</td>\n",
       "      <td>18.696586</td>\n",
       "      <td>18.909319</td>\n",
       "      <td>10852200</td>\n",
       "      <td>0.0</td>\n",
       "      <td>0.0</td>\n",
       "    </tr>\n",
       "  </tbody>\n",
       "</table>\n",
       "</div>"
      ],
      "text/plain": [
       "                 Open       High        Low      Close    Volume  Dividends  \\\n",
       "Date                                                                          \n",
       "2001-12-31  19.101077  19.101077  18.822426  18.861378   5397400        0.0   \n",
       "2002-01-02  18.669628  18.906331  18.609703  18.864384   8669200        0.0   \n",
       "2002-01-03  18.864382  19.146030  18.804457  18.843409   8237600        0.0   \n",
       "2002-01-04  18.912315  19.220929  18.879356  19.137033  10598600        0.0   \n",
       "2002-01-07  18.696586  18.990218  18.696586  18.909319  10852200        0.0   \n",
       "\n",
       "            Stock Splits  \n",
       "Date                      \n",
       "2001-12-31           0.0  \n",
       "2002-01-02           0.0  \n",
       "2002-01-03           0.0  \n",
       "2002-01-04           0.0  \n",
       "2002-01-07           0.0  "
      ]
     },
     "execution_count": 12,
     "metadata": {},
     "output_type": "execute_result"
    }
   ],
   "source": [
    "df = pd.read_csv('../data/BAC_2002-01-01_2022-12-31_1d.csv', index_col=0)\n",
    "df.head()"
   ]
  },
  {
   "cell_type": "code",
   "execution_count": 16,
   "metadata": {},
   "outputs": [],
   "source": [
    "close = df['Close'].to_frame()\n",
    "close['rank']=(close['Close'].rank(method='first'))/(len(close))\n",
    "close = close.reset_index(drop=True)"
   ]
  },
  {
   "cell_type": "code",
   "execution_count": 21,
   "metadata": {},
   "outputs": [
    {
     "data": {
      "text/html": [
       "<div>\n",
       "<style scoped>\n",
       "    .dataframe tbody tr th:only-of-type {\n",
       "        vertical-align: middle;\n",
       "    }\n",
       "\n",
       "    .dataframe tbody tr th {\n",
       "        vertical-align: top;\n",
       "    }\n",
       "\n",
       "    .dataframe thead th {\n",
       "        text-align: right;\n",
       "    }\n",
       "</style>\n",
       "<table border=\"1\" class=\"dataframe\">\n",
       "  <thead>\n",
       "    <tr style=\"text-align: right;\">\n",
       "      <th></th>\n",
       "      <th>Close</th>\n",
       "      <th>rank</th>\n",
       "    </tr>\n",
       "  </thead>\n",
       "  <tbody>\n",
       "    <tr>\n",
       "      <th>0</th>\n",
       "      <td>18.861378</td>\n",
       "      <td>0.397882</td>\n",
       "    </tr>\n",
       "    <tr>\n",
       "      <th>1</th>\n",
       "      <td>18.864384</td>\n",
       "      <td>0.398071</td>\n",
       "    </tr>\n",
       "    <tr>\n",
       "      <th>2</th>\n",
       "      <td>18.843409</td>\n",
       "      <td>0.397315</td>\n",
       "    </tr>\n",
       "    <tr>\n",
       "      <th>3</th>\n",
       "      <td>19.137033</td>\n",
       "      <td>0.400530</td>\n",
       "    </tr>\n",
       "    <tr>\n",
       "      <th>4</th>\n",
       "      <td>18.909319</td>\n",
       "      <td>0.398449</td>\n",
       "    </tr>\n",
       "  </tbody>\n",
       "</table>\n",
       "</div>"
      ],
      "text/plain": [
       "       Close      rank\n",
       "0  18.861378  0.397882\n",
       "1  18.864384  0.398071\n",
       "2  18.843409  0.397315\n",
       "3  19.137033  0.400530\n",
       "4  18.909319  0.398449"
      ]
     },
     "execution_count": 21,
     "metadata": {},
     "output_type": "execute_result"
    }
   ],
   "source": [
    "close.head()"
   ]
  },
  {
   "cell_type": "code",
   "execution_count": 18,
   "metadata": {},
   "outputs": [],
   "source": [
    "mean = np.average(close['Close'])\n",
    "med = np.median(close['Close'])\n",
    "std = np.std(close['Close'])\n",
    "var = std**2\n",
    "skew = sps.skew(close['Close'])\n",
    "kurt = sps.kurtosis(close['Close'])"
   ]
  },
  {
   "cell_type": "code",
   "execution_count": 20,
   "metadata": {},
   "outputs": [
    {
     "name": "stdout",
     "output_type": "stream",
     "text": [
      "Mean:     22.205834364295907\n",
      "Median:   22.27399253845215\n",
      "Std:      10.209689196412825\n",
      "Variance: 104.23775348734875\n",
      "Skew:     0.1827889739628597\n",
      "Kurtosis: -0.9625491221002185\n"
     ]
    }
   ],
   "source": [
    "print(f'Mean:     {mean}')\n",
    "print(f'Median:   {med}')\n",
    "print(f'Std:      {std}')\n",
    "print(f'Variance: {var}')\n",
    "print(f'Skew:     {skew}')\n",
    "print(f'Kurtosis: {kurt}')"
   ]
  },
  {
   "cell_type": "code",
   "execution_count": 22,
   "metadata": {},
   "outputs": [],
   "source": [
    "# оценим параметры распределения Лапласа методом максимального правдоподобия\n",
    "loc_laplace = med\n",
    "scale_laplace = np.average(abs(close['Close']-med))"
   ]
  },
  {
   "cell_type": "code",
   "execution_count": 25,
   "metadata": {},
   "outputs": [],
   "source": [
    "# оценим параметры распределения Коши методом моментов\n",
    "loc_cauchy = med\n",
    "scale_cauchy = (np.percentile(close['Close'], 0.75) - np.percentile(close['Close'], 0.25)) / 2"
   ]
  },
  {
   "cell_type": "code",
   "execution_count": 27,
   "metadata": {},
   "outputs": [
    {
     "name": "stderr",
     "output_type": "stream",
     "text": [
      "f:\\python\\lib\\site-packages\\pandas\\core\\arraylike.py:364: RuntimeWarning: invalid value encountered in log\n",
      "  result = getattr(ufunc, method)(*inputs, **kwargs)\n"
     ]
    }
   ],
   "source": [
    "# оценим параметры распределения Коши методом максимального правдопододия\n",
    "def cauchy_mle(k):\n",
    "    return -np.sum(np.log(1/(np.pi*k[1]*(1 + ((close['Close'] - k[0]) / k[1])**2))))\n",
    "\n",
    "res = spop.minimize(cauchy_mle, [loc_cauchy, scale_cauchy], method='Powell')\n",
    "loc_cauchy_mle = res.x[0]\n",
    "scale_cauchy_mle = res.x[1]"
   ]
  },
  {
   "cell_type": "code",
   "execution_count": 29,
   "metadata": {},
   "outputs": [
    {
     "data": {
      "text/plain": [
       "(33.843439536037636, -101.41606852206861)"
      ]
     },
     "execution_count": 29,
     "metadata": {},
     "output_type": "execute_result"
    }
   ],
   "source": [
    "loc_cauchy_mle, scale_cauchy_mle"
   ]
  },
  {
   "cell_type": "code",
   "execution_count": null,
   "metadata": {},
   "outputs": [],
   "source": []
  }
 ],
 "metadata": {
  "kernelspec": {
   "display_name": "Python 3",
   "language": "python",
   "name": "python3"
  },
  "language_info": {
   "codemirror_mode": {
    "name": "ipython",
    "version": 3
   },
   "file_extension": ".py",
   "mimetype": "text/x-python",
   "name": "python",
   "nbconvert_exporter": "python",
   "pygments_lexer": "ipython3",
   "version": "3.8.5"
  }
 },
 "nbformat": 4,
 "nbformat_minor": 2
}
