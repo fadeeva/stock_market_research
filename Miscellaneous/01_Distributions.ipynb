{
 "cells": [
  {
   "cell_type": "code",
   "execution_count": 1,
   "metadata": {},
   "outputs": [],
   "source": [
    "# Based on SF Education's notebook"
   ]
  },
  {
   "cell_type": "code",
   "execution_count": 1,
   "metadata": {},
   "outputs": [],
   "source": [
    "import numpy as np\n",
    "import pandas as pd\n",
    "\n",
    "import scipy as sp\n",
    "import scipy.stats as sps\n",
    "import scipy.optimize as spop\n",
    "\n",
    "import matplotlib.pyplot as plt"
   ]
  },
  {
   "cell_type": "code",
   "execution_count": 2,
   "metadata": {},
   "outputs": [
    {
     "data": {
      "text/html": [
       "<div>\n",
       "<style scoped>\n",
       "    .dataframe tbody tr th:only-of-type {\n",
       "        vertical-align: middle;\n",
       "    }\n",
       "\n",
       "    .dataframe tbody tr th {\n",
       "        vertical-align: top;\n",
       "    }\n",
       "\n",
       "    .dataframe thead th {\n",
       "        text-align: right;\n",
       "    }\n",
       "</style>\n",
       "<table border=\"1\" class=\"dataframe\">\n",
       "  <thead>\n",
       "    <tr style=\"text-align: right;\">\n",
       "      <th></th>\n",
       "      <th>Open</th>\n",
       "      <th>High</th>\n",
       "      <th>Low</th>\n",
       "      <th>Close</th>\n",
       "      <th>Volume</th>\n",
       "      <th>Dividends</th>\n",
       "      <th>Stock Splits</th>\n",
       "    </tr>\n",
       "    <tr>\n",
       "      <th>Date</th>\n",
       "      <th></th>\n",
       "      <th></th>\n",
       "      <th></th>\n",
       "      <th></th>\n",
       "      <th></th>\n",
       "      <th></th>\n",
       "      <th></th>\n",
       "    </tr>\n",
       "  </thead>\n",
       "  <tbody>\n",
       "    <tr>\n",
       "      <th>2001-12-31</th>\n",
       "      <td>19.101077</td>\n",
       "      <td>19.101077</td>\n",
       "      <td>18.822426</td>\n",
       "      <td>18.861378</td>\n",
       "      <td>5397400</td>\n",
       "      <td>0.0</td>\n",
       "      <td>0.0</td>\n",
       "    </tr>\n",
       "    <tr>\n",
       "      <th>2002-01-02</th>\n",
       "      <td>18.669628</td>\n",
       "      <td>18.906331</td>\n",
       "      <td>18.609703</td>\n",
       "      <td>18.864384</td>\n",
       "      <td>8669200</td>\n",
       "      <td>0.0</td>\n",
       "      <td>0.0</td>\n",
       "    </tr>\n",
       "    <tr>\n",
       "      <th>2002-01-03</th>\n",
       "      <td>18.864382</td>\n",
       "      <td>19.146030</td>\n",
       "      <td>18.804457</td>\n",
       "      <td>18.843409</td>\n",
       "      <td>8237600</td>\n",
       "      <td>0.0</td>\n",
       "      <td>0.0</td>\n",
       "    </tr>\n",
       "    <tr>\n",
       "      <th>2002-01-04</th>\n",
       "      <td>18.912315</td>\n",
       "      <td>19.220929</td>\n",
       "      <td>18.879356</td>\n",
       "      <td>19.137033</td>\n",
       "      <td>10598600</td>\n",
       "      <td>0.0</td>\n",
       "      <td>0.0</td>\n",
       "    </tr>\n",
       "    <tr>\n",
       "      <th>2002-01-07</th>\n",
       "      <td>18.696586</td>\n",
       "      <td>18.990218</td>\n",
       "      <td>18.696586</td>\n",
       "      <td>18.909319</td>\n",
       "      <td>10852200</td>\n",
       "      <td>0.0</td>\n",
       "      <td>0.0</td>\n",
       "    </tr>\n",
       "  </tbody>\n",
       "</table>\n",
       "</div>"
      ],
      "text/plain": [
       "                 Open       High        Low      Close    Volume  Dividends  \\\n",
       "Date                                                                          \n",
       "2001-12-31  19.101077  19.101077  18.822426  18.861378   5397400        0.0   \n",
       "2002-01-02  18.669628  18.906331  18.609703  18.864384   8669200        0.0   \n",
       "2002-01-03  18.864382  19.146030  18.804457  18.843409   8237600        0.0   \n",
       "2002-01-04  18.912315  19.220929  18.879356  19.137033  10598600        0.0   \n",
       "2002-01-07  18.696586  18.990218  18.696586  18.909319  10852200        0.0   \n",
       "\n",
       "            Stock Splits  \n",
       "Date                      \n",
       "2001-12-31           0.0  \n",
       "2002-01-02           0.0  \n",
       "2002-01-03           0.0  \n",
       "2002-01-04           0.0  \n",
       "2002-01-07           0.0  "
      ]
     },
     "execution_count": 2,
     "metadata": {},
     "output_type": "execute_result"
    }
   ],
   "source": [
    "df = pd.read_csv('../data/BAC_2002-01-01_2022-12-31_1d.csv', index_col=0)\n",
    "df.head()"
   ]
  },
  {
   "cell_type": "code",
   "execution_count": 3,
   "metadata": {},
   "outputs": [],
   "source": [
    "close = df['Close'].to_frame()\n",
    "close['rank']=(close['Close'].rank(method='first'))/(len(close))\n",
    "close = close.reset_index(drop=True)"
   ]
  },
  {
   "cell_type": "code",
   "execution_count": 4,
   "metadata": {},
   "outputs": [
    {
     "data": {
      "text/html": [
       "<div>\n",
       "<style scoped>\n",
       "    .dataframe tbody tr th:only-of-type {\n",
       "        vertical-align: middle;\n",
       "    }\n",
       "\n",
       "    .dataframe tbody tr th {\n",
       "        vertical-align: top;\n",
       "    }\n",
       "\n",
       "    .dataframe thead th {\n",
       "        text-align: right;\n",
       "    }\n",
       "</style>\n",
       "<table border=\"1\" class=\"dataframe\">\n",
       "  <thead>\n",
       "    <tr style=\"text-align: right;\">\n",
       "      <th></th>\n",
       "      <th>Close</th>\n",
       "      <th>rank</th>\n",
       "    </tr>\n",
       "  </thead>\n",
       "  <tbody>\n",
       "    <tr>\n",
       "      <th>0</th>\n",
       "      <td>18.861378</td>\n",
       "      <td>0.397882</td>\n",
       "    </tr>\n",
       "    <tr>\n",
       "      <th>1</th>\n",
       "      <td>18.864384</td>\n",
       "      <td>0.398071</td>\n",
       "    </tr>\n",
       "    <tr>\n",
       "      <th>2</th>\n",
       "      <td>18.843409</td>\n",
       "      <td>0.397315</td>\n",
       "    </tr>\n",
       "    <tr>\n",
       "      <th>3</th>\n",
       "      <td>19.137033</td>\n",
       "      <td>0.400530</td>\n",
       "    </tr>\n",
       "    <tr>\n",
       "      <th>4</th>\n",
       "      <td>18.909319</td>\n",
       "      <td>0.398449</td>\n",
       "    </tr>\n",
       "  </tbody>\n",
       "</table>\n",
       "</div>"
      ],
      "text/plain": [
       "       Close      rank\n",
       "0  18.861378  0.397882\n",
       "1  18.864384  0.398071\n",
       "2  18.843409  0.397315\n",
       "3  19.137033  0.400530\n",
       "4  18.909319  0.398449"
      ]
     },
     "execution_count": 4,
     "metadata": {},
     "output_type": "execute_result"
    }
   ],
   "source": [
    "close.head()"
   ]
  },
  {
   "cell_type": "code",
   "execution_count": 5,
   "metadata": {},
   "outputs": [],
   "source": [
    "mean = np.average(close['Close'])\n",
    "med = np.median(close['Close'])\n",
    "std = np.std(close['Close'])\n",
    "var = std**2\n",
    "skew = sps.skew(close['Close'])\n",
    "kurt = sps.kurtosis(close['Close'])"
   ]
  },
  {
   "cell_type": "code",
   "execution_count": 6,
   "metadata": {},
   "outputs": [
    {
     "name": "stdout",
     "output_type": "stream",
     "text": [
      "Mean:     22.205834364295907\n",
      "Median:   22.27399253845215\n",
      "Std:      10.209689196412825\n",
      "Variance: 104.23775348734875\n",
      "Skew:     0.1827889739628597\n",
      "Kurtosis: -0.9625491221002185\n"
     ]
    }
   ],
   "source": [
    "print(f'Mean:     {mean}')\n",
    "print(f'Median:   {med}')\n",
    "print(f'Std:      {std}')\n",
    "print(f'Variance: {var}')\n",
    "print(f'Skew:     {skew}')\n",
    "print(f'Kurtosis: {kurt}')"
   ]
  },
  {
   "cell_type": "code",
   "execution_count": 7,
   "metadata": {},
   "outputs": [],
   "source": [
    "# оценим параметры распределения Лапласа методом максимального правдоподобия\n",
    "loc_laplace = med\n",
    "scale_laplace = np.average(abs(close['Close'] - med))"
   ]
  },
  {
   "cell_type": "code",
   "execution_count": 8,
   "metadata": {},
   "outputs": [],
   "source": [
    "# оценим параметры распределения Коши методом моментов\n",
    "loc_cauchy = med\n",
    "scale_cauchy = (np.percentile(close['Close'], 0.75) - np.percentile(close['Close'], 0.25)) / 2"
   ]
  },
  {
   "cell_type": "code",
   "execution_count": 9,
   "metadata": {},
   "outputs": [],
   "source": [
    "# оценим параметры распределения Коши методом максимального правдоподобия\n",
    "def cauchy_mle(k:list)->float:\n",
    "    return -np.sum(np.log(1/(np.pi\n",
    "                             *k[1]\n",
    "                             *(1 + (close['Close'] - k[0] / k[1])**2)\n",
    "                            )))\n",
    "\n",
    "bounds = [(0.1, None), (0.1, None)]\n",
    "res = spop.minimize(cauchy_mle, [loc_cauchy, scale_cauchy], method='L-BFGS-B', bounds=bounds)\n",
    "loc_cauchy_mle = res.x[0]\n",
    "scale_cauchy_mle = res.x[1]"
   ]
  },
  {
   "cell_type": "code",
   "execution_count": 10,
   "metadata": {},
   "outputs": [
    {
     "data": {
      "text/plain": [
       "      fun: 14588.649798254934\n",
       " hess_inv: <2x2 LbfgsInvHessProduct with dtype=float64>\n",
       "      jac: array([1.81898941e-04, 5.28800434e+04])\n",
       "  message: 'CONVERGENCE: REL_REDUCTION_OF_F_<=_FACTR*EPSMCH'\n",
       "     nfev: 90\n",
       "      nit: 11\n",
       "     njev: 30\n",
       "   status: 0\n",
       "  success: True\n",
       "        x: array([1.37256612, 0.1       ])"
      ]
     },
     "execution_count": 10,
     "metadata": {},
     "output_type": "execute_result"
    }
   ],
   "source": [
    "res"
   ]
  },
  {
   "cell_type": "code",
   "execution_count": 11,
   "metadata": {},
   "outputs": [
    {
     "data": {
      "text/plain": [
       "[22.27399253845215, 0.3091177716851232]"
      ]
     },
     "execution_count": 11,
     "metadata": {},
     "output_type": "execute_result"
    }
   ],
   "source": [
    "[loc_cauchy, scale_cauchy]"
   ]
  },
  {
   "cell_type": "code",
   "execution_count": 12,
   "metadata": {},
   "outputs": [],
   "source": [
    "# оценим параметры гиперболического секанта методом максимального правдоподобия\n",
    "def hypersecant_mle(k:list)->float:\n",
    "    return -np.sum(np.log(np.pi/(k[1])\n",
    "                          *np.exp(np.pi/2*(close['Close']-k[0])/k[1])\n",
    "                          /(1+np.exp(np.pi*(close['Close']-k[0])/k[1]))\n",
    "                         ))\n",
    "\n",
    "res = spop.minimize(hypersecant_mle, [mean, std], method='Powell')\n",
    "loc_hypersecant_mle = res.x[0]\n",
    "scale_hypersecant_mle = res.x[1]"
   ]
  },
  {
   "cell_type": "code",
   "execution_count": 13,
   "metadata": {},
   "outputs": [],
   "source": [
    "# оценим параметры логистического распределения методом моментов\n",
    "loc_logistic = mean\n",
    "scale_logistic = 3**(1/2)/np.pi*std"
   ]
  },
  {
   "cell_type": "code",
   "execution_count": 14,
   "metadata": {},
   "outputs": [],
   "source": [
    "# оценим параметры логистического распределения методом максимального правдоподобия\n",
    "def logistic_mle(k:list)->float:\n",
    "    return -np.sum(np.log(np.exp(-(close['Close']-k[0])/k[1])\n",
    "                          /(k[1]*(1+np.exp(-(close['Close']-k[0])/k[1]))**2)\n",
    "                         ))\n",
    "\n",
    "res = spop.minimize(logistic_mle, [loc_logistic, scale_logistic], method='Powell')\n",
    "loc_logistic_mle = res.x[0]\n",
    "scale_logistic_mle = res.x[1]"
   ]
  },
  {
   "cell_type": "code",
   "execution_count": 15,
   "metadata": {},
   "outputs": [],
   "source": [
    "# оценим параметры распределения Cmьюдента методом моментов\n",
    "df_student = 6/kurt + 4\n",
    "loc_student = mean\n",
    "scale_student = std*((df_student - 2)/df_student)**(1/2)"
   ]
  },
  {
   "cell_type": "code",
   "execution_count": 47,
   "metadata": {},
   "outputs": [],
   "source": [
    "# выведем теоретические функции распределения исходя из оцененных параметров\n",
    "close['Normal'] = sps.norm.cdf(close['Close'], loc=mean, scale=std)\n",
    "close['Cauchy-MM'] = sps.cauchy.cdf(close['Close'], loc=loc_cauchy, scale=scale_cauchy)\n",
    "close['Cauchy-MMP'] = sps.cauchy.cdf(close['Close'], loc=loc_cauchy_mle, scale=scale_cauchy_mle)\n",
    "close['Laplace1'] = sps.laplace.cdf(close['Close'], loc=loc_laplace, scale=scale_laplace)\n",
    "\n",
    "close['Laplace2'] = 1-1/2*np.exp(-(close[close['Close']>med]['Close']-loc_laplace)/scale_laplace)\n",
    "close['Laplace'] = close['Laplace1'].replace(np.nan,0)+close['Laplace2'].replace(np.nan,0)\n",
    "close['Hyperbolic secant-MM'] = 2/np.pi*np.arctan(np.exp(np.pi*(close['Close']-mean)/(2*std)))\n",
    "close['Hyperbolic secant-MMP'] = 2/np.pi*np.arctan(np.exp(np.pi*(close['Close']-loc_hypersecant_mle)/(2*scale_hypersecant_mle)))\n",
    "close['Student'] = sps.t.cdf((close['Close']-loc_student)/(scale_student),df_student,loc=0,scale=1)\n",
    "close['Logistic-MM'] = 1/(1+np.exp(-(close['Close']-loc_logistic)/scale_logistic))\n",
    "close['Logistic-MMP'] = 1/(1+np.exp(-(close['Close']-loc_logistic_mle)/scale_logistic_mle))"
   ]
  },
  {
   "cell_type": "code",
   "execution_count": 52,
   "metadata": {},
   "outputs": [
    {
     "data": {
      "text/plain": [
       "array([nan, nan, nan, ..., nan, nan, nan])"
      ]
     },
     "execution_count": 52,
     "metadata": {},
     "output_type": "execute_result"
    }
   ],
   "source": [
    "sps.t.cdf((close['Close']-loc_student)/(scale_student),df_student,loc=0,scale=1)"
   ]
  },
  {
   "cell_type": "code",
   "execution_count": 48,
   "metadata": {},
   "outputs": [
    {
     "data": {
      "text/html": [
       "<div>\n",
       "<style scoped>\n",
       "    .dataframe tbody tr th:only-of-type {\n",
       "        vertical-align: middle;\n",
       "    }\n",
       "\n",
       "    .dataframe tbody tr th {\n",
       "        vertical-align: top;\n",
       "    }\n",
       "\n",
       "    .dataframe thead th {\n",
       "        text-align: right;\n",
       "    }\n",
       "</style>\n",
       "<table border=\"1\" class=\"dataframe\">\n",
       "  <thead>\n",
       "    <tr style=\"text-align: right;\">\n",
       "      <th></th>\n",
       "      <th>Close</th>\n",
       "      <th>rank</th>\n",
       "      <th>Normal</th>\n",
       "      <th>Cauchy-MM</th>\n",
       "      <th>Cauchy-MMP</th>\n",
       "      <th>Laplace1</th>\n",
       "      <th>Laplace2</th>\n",
       "      <th>Laplace</th>\n",
       "      <th>Hyperbolic secant-MM</th>\n",
       "      <th>Hyperbolic secant-MMP</th>\n",
       "      <th>Student</th>\n",
       "      <th>Logistic-MM</th>\n",
       "      <th>Logistic-MMP</th>\n",
       "    </tr>\n",
       "  </thead>\n",
       "  <tbody>\n",
       "    <tr>\n",
       "      <th>5283</th>\n",
       "      <td>32.260765</td>\n",
       "      <td>0.822239</td>\n",
       "      <td>0.837649</td>\n",
       "      <td>0.990151</td>\n",
       "      <td>0.998969</td>\n",
       "      <td>0.840335</td>\n",
       "      <td>0.840335</td>\n",
       "      <td>1.680669</td>\n",
       "      <td>0.866464</td>\n",
       "      <td>0.841010</td>\n",
       "      <td>NaN</td>\n",
       "      <td>0.856474</td>\n",
       "      <td>0.841416</td>\n",
       "    </tr>\n",
       "    <tr>\n",
       "      <th>5284</th>\n",
       "      <td>32.320374</td>\n",
       "      <td>0.823563</td>\n",
       "      <td>0.839079</td>\n",
       "      <td>0.990209</td>\n",
       "      <td>0.998971</td>\n",
       "      <td>0.841419</td>\n",
       "      <td>0.841419</td>\n",
       "      <td>1.682837</td>\n",
       "      <td>0.867649</td>\n",
       "      <td>0.842216</td>\n",
       "      <td>NaN</td>\n",
       "      <td>0.857771</td>\n",
       "      <td>0.842707</td>\n",
       "    </tr>\n",
       "    <tr>\n",
       "      <th>5285</th>\n",
       "      <td>32.558830</td>\n",
       "      <td>0.833585</td>\n",
       "      <td>0.844717</td>\n",
       "      <td>0.990436</td>\n",
       "      <td>0.998979</td>\n",
       "      <td>0.845683</td>\n",
       "      <td>0.845683</td>\n",
       "      <td>1.691365</td>\n",
       "      <td>0.872287</td>\n",
       "      <td>0.846956</td>\n",
       "      <td>NaN</td>\n",
       "      <td>0.862861</td>\n",
       "      <td>0.847785</td>\n",
       "    </tr>\n",
       "    <tr>\n",
       "      <th>5286</th>\n",
       "      <td>32.926445</td>\n",
       "      <td>0.843419</td>\n",
       "      <td>0.853151</td>\n",
       "      <td>0.990766</td>\n",
       "      <td>0.998991</td>\n",
       "      <td>0.852033</td>\n",
       "      <td>0.852033</td>\n",
       "      <td>1.704065</td>\n",
       "      <td>0.879138</td>\n",
       "      <td>0.854008</td>\n",
       "      <td>NaN</td>\n",
       "      <td>0.870408</td>\n",
       "      <td>0.855349</td>\n",
       "    </tr>\n",
       "    <tr>\n",
       "      <th>5287</th>\n",
       "      <td>32.906574</td>\n",
       "      <td>0.843230</td>\n",
       "      <td>0.852703</td>\n",
       "      <td>0.990748</td>\n",
       "      <td>0.998991</td>\n",
       "      <td>0.851696</td>\n",
       "      <td>0.851696</td>\n",
       "      <td>1.703393</td>\n",
       "      <td>0.878776</td>\n",
       "      <td>0.853635</td>\n",
       "      <td>NaN</td>\n",
       "      <td>0.870009</td>\n",
       "      <td>0.854948</td>\n",
       "    </tr>\n",
       "  </tbody>\n",
       "</table>\n",
       "</div>"
      ],
      "text/plain": [
       "          Close      rank    Normal  Cauchy-MM  Cauchy-MMP  Laplace1  \\\n",
       "5283  32.260765  0.822239  0.837649   0.990151    0.998969  0.840335   \n",
       "5284  32.320374  0.823563  0.839079   0.990209    0.998971  0.841419   \n",
       "5285  32.558830  0.833585  0.844717   0.990436    0.998979  0.845683   \n",
       "5286  32.926445  0.843419  0.853151   0.990766    0.998991  0.852033   \n",
       "5287  32.906574  0.843230  0.852703   0.990748    0.998991  0.851696   \n",
       "\n",
       "      Laplace2   Laplace  Hyperbolic secant-MM  Hyperbolic secant-MMP  \\\n",
       "5283  0.840335  1.680669              0.866464               0.841010   \n",
       "5284  0.841419  1.682837              0.867649               0.842216   \n",
       "5285  0.845683  1.691365              0.872287               0.846956   \n",
       "5286  0.852033  1.704065              0.879138               0.854008   \n",
       "5287  0.851696  1.703393              0.878776               0.853635   \n",
       "\n",
       "      Student  Logistic-MM  Logistic-MMP  \n",
       "5283      NaN     0.856474      0.841416  \n",
       "5284      NaN     0.857771      0.842707  \n",
       "5285      NaN     0.862861      0.847785  \n",
       "5286      NaN     0.870408      0.855349  \n",
       "5287      NaN     0.870009      0.854948  "
      ]
     },
     "execution_count": 48,
     "metadata": {},
     "output_type": "execute_result"
    }
   ],
   "source": [
    "close.tail()"
   ]
  },
  {
   "cell_type": "code",
   "execution_count": 42,
   "metadata": {},
   "outputs": [
    {
     "data": {
      "text/plain": [
       "[<matplotlib.lines.Line2D at 0xe67cce8>]"
      ]
     },
     "execution_count": 42,
     "metadata": {},
     "output_type": "execute_result"
    },
    {
     "data": {
      "image/png": "[encoded data removed]",
      "text/plain": [
       "<Figure size 432x288 with 1 Axes>"
      ]
     },
     "metadata": {
      "needs_background": "dark"
     },
     "output_type": "display_data"
    }
   ],
   "source": [
    "plt.plot(close['Close'], close['rank'])\n",
    "plt.plot(close['Close'], close['Normal'])\n"
   ]
  },
  {
   "cell_type": "code",
   "execution_count": 51,
   "metadata": {
    "scrolled": false
   },
   "outputs": [
    {
     "name": "stdout",
     "output_type": "stream",
     "text": [
      "\n",
      "Normal\n",
      "\n",
      "супремум равен 0.126\n",
      "p-значение равно 0.0\n",
      "распределение не подходит\n"
     ]
    },
    {
     "data": {
      "image/png": "[encoded data removed]",
      "text/plain": [
       "<Figure size 432x288 with 1 Axes>"
      ]
     },
     "metadata": {
      "needs_background": "dark"
     },
     "output_type": "display_data"
    },
    {
     "name": "stdout",
     "output_type": "stream",
     "text": [
      "\n",
      "Laplace\n",
      "\n",
      "супремум равен 0.9468\n",
      "p-значение равно 0.0\n",
      "распределение не подходит\n"
     ]
    },
    {
     "data": {
      "image/png": "[encoded data removed]",
      "text/plain": [
       "<Figure size 432x288 with 1 Axes>"
      ]
     },
     "metadata": {
      "needs_background": "dark"
     },
     "output_type": "display_data"
    },
    {
     "name": "stdout",
     "output_type": "stream",
     "text": [
      "\n",
      "Hyperbolic secant-MM\n",
      "\n",
      "супремум равен 0.1633\n",
      "p-значение равно 0.0\n",
      "распределение не подходит\n"
     ]
    },
    {
     "data": {
      "image/png": "[encoded data removed]",
      "text/plain": [
       "<Figure size 432x288 with 1 Axes>"
      ]
     },
     "metadata": {
      "needs_background": "dark"
     },
     "output_type": "display_data"
    },
    {
     "name": "stdout",
     "output_type": "stream",
     "text": [
      "\n",
      "Hyperbolic secant-MMP\n",
      "\n",
      "супремум равен 0.1275\n",
      "p-значение равно 0.0\n",
      "распределение не подходит\n"
     ]
    },
    {
     "data": {
      "image/png": "[encoded data removed]",
      "text/plain": [
       "<Figure size 432x288 with 1 Axes>"
      ]
     },
     "metadata": {
      "needs_background": "dark"
     },
     "output_type": "display_data"
    },
    {
     "name": "stdout",
     "output_type": "stream",
     "text": [
      "\n",
      "Cauchy-MM\n",
      "\n",
      "супремум равен 0.4017\n",
      "p-значение равно 0.0\n",
      "распределение не подходит\n"
     ]
    },
    {
     "data": {
      "image/png": "[encoded data removed]",
      "text/plain": [
       "<Figure size 432x288 with 1 Axes>"
      ]
     },
     "metadata": {
      "needs_background": "dark"
     },
     "output_type": "display_data"
    },
    {
     "name": "stdout",
     "output_type": "stream",
     "text": [
      "\n",
      "Cauchy-MMP\n",
      "\n",
      "супремум равен 0.9853\n",
      "p-значение равно 0.0\n",
      "распределение не подходит\n"
     ]
    },
    {
     "data": {
      "image/png": "[encoded data removed]",
      "text/plain": [
       "<Figure size 432x288 with 1 Axes>"
      ]
     },
     "metadata": {
      "needs_background": "dark"
     },
     "output_type": "display_data"
    },
    {
     "name": "stdout",
     "output_type": "stream",
     "text": [
      "\n",
      "Student\n",
      "\n",
      "супремум равен nan\n",
      "p-значение равно nan\n",
      "распределение не подходит\n"
     ]
    },
    {
     "data": {
      "image/png": "[encoded data removed]",
      "text/plain": [
       "<Figure size 432x288 with 1 Axes>"
      ]
     },
     "metadata": {
      "needs_background": "dark"
     },
     "output_type": "display_data"
    },
    {
     "name": "stdout",
     "output_type": "stream",
     "text": [
      "\n",
      "Logistic-MM\n",
      "\n",
      "супремум равен 0.1487\n",
      "p-значение равно 0.0\n",
      "распределение не подходит\n"
     ]
    },
    {
     "data": {
      "image/png": "[encoded data removed]",
      "text/plain": [
       "<Figure size 432x288 with 1 Axes>"
      ]
     },
     "metadata": {
      "needs_background": "dark"
     },
     "output_type": "display_data"
    },
    {
     "name": "stdout",
     "output_type": "stream",
     "text": [
      "\n",
      "Logistic-MMP\n",
      "\n",
      "супремум равен 0.1242\n",
      "p-значение равно 0.0\n",
      "распределение не подходит\n"
     ]
    },
    {
     "data": {
      "image/png": "[encoded data removed]",
      "text/plain": [
       "<Figure size 432x288 with 1 Axes>"
      ]
     },
     "metadata": {
      "needs_background": "dark"
     },
     "output_type": "display_data"
    }
   ],
   "source": [
    "# сравним теоретические функции распределения с эмпирическими для каждого из распределений\n",
    "distributions = ['Normal',\n",
    "                 'Laplace',\n",
    "                 'Hyperbolic secant-MM',\n",
    "                 'Hyperbolic secant-MMP',\n",
    "                 'Cauchy-MM',\n",
    "                 'Cauchy-MMP',\n",
    "                 'Student',\n",
    "                 'Logistic-MM',\n",
    "                 'Logistic-MMP']\n",
    "for dist in distributions:\n",
    "    # вычислим супремум (статистику Колмогорова-Смирнова)\n",
    "    KS_array = abs(close['rank']-close[dist])\n",
    "    KS = max(KS_array)\n",
    "\n",
    "    # вычислим p-значения (вероятность, с которой данные подчиняются этому распределению)\n",
    "    KS_p = np.exp(-KS**2*len(close))\n",
    "\n",
    "    # визуализируем результат и выведем результаты теста Колмогорова-Смирнова\n",
    "    print()\n",
    "    print(dist)\n",
    "    print()\n",
    "    print(f'супремум равен {str(round(KS,4))}')\n",
    "    print(f'p-значение равно {str(round(KS_p,4))}')\n",
    "    if KS_p > 0.1:\n",
    "        print('распределение подходит')\n",
    "    else:\n",
    "        print('распределение не подходит')\n",
    "#     plt.figure(dist)\n",
    "    plt.plot(close['Close'], close['rank'])\n",
    "    plt.scatter(close['Close'], close[dist], c='g')\n",
    "    plt.title(dist)\n",
    "    plt.show();"
   ]
  },
  {
   "cell_type": "code",
   "execution_count": null,
   "metadata": {},
   "outputs": [],
   "source": []
  },
  {
   "cell_type": "code",
   "execution_count": 55,
   "metadata": {},
   "outputs": [],
   "source": [
    "# выведем теоретические функции распределения исходя из оцененных параметров\n",
    "# close['Normal'] = sps.norm.cdf(close['Close'], loc=mean, scale=std)\n",
    "# close['Cauchy-MM'] = 1/np.pi*np.arctan((close['Close']-loc_cauchy)/scale_cauchy)+1/2\n",
    "# close['Cauchy-MMP'] = 1/np.pi*np.arctan((close['Close']-loc_cauchy_mle)/scale_cauchy_mle)+1/2\n",
    "# close['Laplace1'] = 1/2*np.exp((close[close['Close']<=loc_laplace]['Close']-med)/scale_laplace)\n",
    "# close['Laplace2'] = 1-1/2*np.exp(-(close[close['Close']>med]['Close']-loc_laplace)/scale_laplace)\n",
    "# close['Laplace'] = close['Laplace1'].replace(np.nan,0)+close['Laplace2'].replace(np.nan,0)\n",
    "# close['Hyperbolic secant-MM'] = 2/np.pi*np.arctan(np.exp(np.pi*(close['Close']-mean)/(2*std)))\n",
    "# close['Hyperbolic secant-MMP'] = 2/np.pi*np.arctan(np.exp(np.pi*(close['Close']-loc_hypersecant_mle)/(2*scale_hypersecant_mle)))\n",
    "# close['Student'] = sps.t.cdf((close['Close']-loc_student)/(scale_student),df_student,loc=0,scale=1)\n",
    "# close['Logistic-MM'] = 1/(1+np.exp(-(close['Close']-loc_logistic)/scale_logistic))\n",
    "# close['Logistic-MMP'] = 1/(1+np.exp(-(close['Close']-loc_logistic_mle)/scale_logistic_mle))"
   ]
  },
  {
   "cell_type": "code",
   "execution_count": null,
   "metadata": {},
   "outputs": [],
   "source": []
  }
 ],
 "metadata": {
  "kernelspec": {
   "display_name": "Python 3",
   "language": "python",
   "name": "python3"
  },
  "language_info": {
   "codemirror_mode": {
    "name": "ipython",
    "version": 3
   },
   "file_extension": ".py",
   "mimetype": "text/x-python",
   "name": "python",
   "nbconvert_exporter": "python",
   "pygments_lexer": "ipython3",
   "version": "3.8.5"
  }
 },
 "nbformat": 4,
 "nbformat_minor": 2
}
