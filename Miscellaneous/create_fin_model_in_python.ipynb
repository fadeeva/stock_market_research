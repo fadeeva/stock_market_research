{
 "cells": [
  {
   "cell_type": "markdown",
   "metadata": {},
   "source": [
    "# Построение финансовой модели в Python"
   ]
  },
  {
   "cell_type": "markdown",
   "metadata": {},
   "source": [
    "где-то здесь в комментариях ссылка на оригинал: https://www.youtube.com/watch?v=ozq2W5iTmx4&list=PLpSi7aN6q3de2mpy5dyOjnG7QUguLt045&index=12&t=2224s&pp=iAQB"
   ]
  },
  {
   "cell_type": "code",
   "execution_count": 7,
   "metadata": {},
   "outputs": [],
   "source": [
    "import numpy as np\n",
    "import pandas as pd\n",
    "\n",
    "from scipy import stats\n",
    "\n",
    "import matplotlib.pyplot as plt\n",
    "\n",
    "import datetime as dt\n",
    "from dateutil.relativedelta import relativedelta\n",
    "\n",
    "import yfinance as yf\n",
    "\n",
    "jtplot.style(figsize=(15, 9))"
   ]
  },
  {
   "cell_type": "code",
   "execution_count": 2,
   "metadata": {},
   "outputs": [],
   "source": [
    "def extract_value(cell_range):\n",
    "    result = []\n",
    "    for cell in cell_range[0]:\n",
    "        result.append(abs(cell.value))\n",
    "    return result\n",
    "\n",
    "\n",
    "def get_the_average(yearly_values):\n",
    "    return np.array(yearly_values).mean()\n",
    "\n",
    "\n",
    "def define_growth(values):\n",
    "    change_rates = []\n",
    "    for i in range(1, len(values)):\n",
    "        change_rate = values[i]/values[i-1] - 1\n",
    "        change_rates.append(change_rate)\n",
    "    return change_rates\n",
    "\n"
   ]
  },
  {
   "cell_type": "code",
   "execution_count": 8,
   "metadata": {},
   "outputs": [],
   "source": [
    "class Model:\n",
    "    hist_revenues            = []\n",
    "    hist_gross_profit        = []\n",
    "    hist_net_interest        = []\n",
    "    his_depreciation         = []\n",
    "    hist_op_profit           = []\n",
    "    hist_depr                = []\n",
    "    historical_tax_rate      = []\n",
    "    hist_NI                  = []\n",
    "    hist_gross_profit_prct   = []\n",
    "    hist_net_interest_prct   = []\n",
    "    hist_depreciation_prct   = []\n",
    "    hist_op_profit_prct      = []\n",
    "    hist_depr_prct           = []\n",
    "    historical_tax_rate_prct = []\n",
    "    \n",
    "    normalized= [\n",
    "        hist_gross_profit_prct,\n",
    "        hist_net_interest_prct,\n",
    "        hist_op_profit_prct,\n",
    "        hist_depr_prct,\n",
    "    ]\n",
    "\n",
    "    average_rates = {'gross_profit': 0, 'net_interest': 0, 'operating_profit': 0, 'depreciation': 0,}\n",
    "    \n",
    "    def __init__(self, company):\n",
    "        self.ticker = company\n",
    "\n",
    "    def define_revenue(self, cell_range):\n",
    "        self.hist_revenues = extract_value(cell_range)\n",
    "\n",
    "    def define_gross_profit(self, cell_range):\n",
    "        self.hist_gross_profit = extract_value(cell_range)\n",
    "\n",
    "    def define_operating_profit(self, cell_range):\n",
    "        self.hist_op_profit = extract_value(cell_range)\n",
    "    \n",
    "    def calculate_beta(self):\n",
    "        #get the dates\n",
    "        today = dt.datetime.today()\n",
    "        five_years_ago = today - relativedelta(years=5)\n",
    "        \n",
    "        #скачиваем данные и выбираем нужные колонки\n",
    "        stock_price = yf.download(self.ticker, five_years_ago, today, auto_adjust=True)\n",
    "        stock_price = stock_price['Close']\n",
    "        index_price = yf.download('SPY', five_years_ago, today, auto_adjust=True)\n",
    "        index_price = index_price['Close']\n",
    "        \n",
    "        #находим изменения в процентах и выбираем значения после первой строчки\n",
    "        stock_price = stock_price.pct_change(1)[1:]\n",
    "        index_price = index_price.pct_change(1)[1:]\n",
    "        x = index_price\n",
    "        y = stock_price\n",
    "        \n",
    "        #высчитываем бету\n",
    "        slope, intercept, r_value, p_value, std_err = stats.linregress(x, y)\n",
    "        self.beta = slope\n",
    "    \n",
    "    def define_historical_depreciation(self, cell_range):\n",
    "        self.hist_depr = extract_value(cell_range)\n",
    "\n",
    "    def define_net_ineterst(self, cell_range_expense, cell_range_income):\n",
    "        hist_II = np.array(extract_value(cell_range_income))\n",
    "        hist_IE = np.array(extract_value(cell_range_expense))\n",
    "        self.hist_net_interest = hist_II - hist_IE\n",
    "\n",
    "    def define_hist_tax_rate_prct(self, range):\n",
    "        self.historical_tax_rate = extract_value(range)\n",
    "\n",
    "    def define_hist_NI(self, range):\n",
    "        self.hist_NI = extract_value(range)\n",
    "\n",
    "    def percentage_slice(self):\n",
    "        self.all_marks = [\n",
    "            self.hist_gross_profit,\n",
    "            self.hist_net_interest,\n",
    "            self.hist_op_profit,\n",
    "            self.hist_depr,\n",
    "        ]\n",
    "\n",
    "        for data_set_index in range(0, len(self.all_marks)):\n",
    "            data_set = self.all_marks[data_set_index]\n",
    "            for i in range(0, len(data_set)):\n",
    "                pct_value = data_set[i]/self.hist_revenues[i]\n",
    "                self.normalized[data_set_index].append(pct_value)\n",
    "\n",
    "    def define_avg_PCT(self):\n",
    "        for set_index in range( 0, len(self.normalized)):\n",
    "            keys = list(self.average_rates.keys())\n",
    "            key = keys[set_index]\n",
    "            values = self.normalized[set_index]\n",
    "            self.average_rates[key] = get_the_average(values)\n",
    "\n",
    "    def revenue_growth_rate(self):\n",
    "        self.hist_growth_rates = define_growth(self.hist_revenues)\n",
    "        self.average_growth_rate = get_the_average(self.hist_growth_rates)\n",
    "\n",
    "    def model_future_revenue(self, adjustment):\n",
    "        last_actual_revenue = self.hist_revenues[-1]\n",
    "        self.future_revenues = [last_actual_revenue]\n",
    "        for future_year in range(1,7):\n",
    "            growth_rate = (1 + self.average_growth_rate + adjustment)\n",
    "            future_current_revenue = self.future_revenues[future_year-1] * growth_rate\n",
    "            self.future_revenues.append(future_current_revenue)\n",
    "\n",
    "        self.future_revenues = self.future_revenues[1:]\n",
    "\n",
    "    def model_EBIT(self):\n",
    "        self.future_EBIT = []\n",
    "        EBIT_rate = self.average_rates['operating_profit']\n",
    "        for revenue in self.future_revenues:\n",
    "            modelled_EBIT = revenue*EBIT_rate\n",
    "            self.future_EBIT.append(modelled_EBIT)"
   ]
  },
  {
   "cell_type": "code",
   "execution_count": 9,
   "metadata": {},
   "outputs": [],
   "source": [
    "nvda = Model('NVDA')"
   ]
  },
  {
   "cell_type": "code",
   "execution_count": 10,
   "metadata": {},
   "outputs": [
    {
     "name": "stdout",
     "output_type": "stream",
     "text": [
      "[*********************100%***********************]  1 of 1 completed\n",
      "[*********************100%***********************]  1 of 1 completed\n"
     ]
    }
   ],
   "source": [
    "nvda.calculate_beta()"
   ]
  },
  {
   "cell_type": "code",
   "execution_count": 11,
   "metadata": {},
   "outputs": [
    {
     "data": {
      "text/plain": [
       "1.7616662822739744"
      ]
     },
     "execution_count": 11,
     "metadata": {},
     "output_type": "execute_result"
    }
   ],
   "source": [
    "nvda.beta"
   ]
  },
  {
   "cell_type": "code",
   "execution_count": null,
   "metadata": {},
   "outputs": [],
   "source": []
  }
 ],
 "metadata": {
  "kernelspec": {
   "display_name": "Python 3",
   "language": "python",
   "name": "python3"
  },
  "language_info": {
   "codemirror_mode": {
    "name": "ipython",
    "version": 3
   },
   "file_extension": ".py",
   "mimetype": "text/x-python",
   "name": "python",
   "nbconvert_exporter": "python",
   "pygments_lexer": "ipython3",
   "version": "3.8.5"
  }
 },
 "nbformat": 4,
 "nbformat_minor": 2
}
