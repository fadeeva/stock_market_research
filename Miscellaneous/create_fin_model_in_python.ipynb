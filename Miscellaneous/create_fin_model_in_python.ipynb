{
 "cells": [
  {
   "cell_type": "markdown",
   "metadata": {},
   "source": [
    "# Построение финансовой модели в Python"
   ]
  },
  {
   "cell_type": "markdown",
   "metadata": {},
   "source": [
    "где-то здесь в комментариях ссылка на оригинал: https://www.youtube.com/watch?v=ozq2W5iTmx4&list=PLpSi7aN6q3de2mpy5dyOjnG7QUguLt045&index=12&t=2224s&pp=iAQB"
   ]
  },
  {
   "cell_type": "code",
   "execution_count": 6,
   "metadata": {},
   "outputs": [],
   "source": [
    "import numpy as np\n",
    "import pandas as pd\n",
    "import matplotlib.pyplot as plt\n",
    "\n",
    "import datetime as dt\n",
    "from dateutil.relativedelta import relativedelta\n",
    "\n",
    "import yfinance as yf\n",
    "\n",
    "from jupyterthemes import jtplot\n",
    "jtplot.style(theme='onedork', figsize=(15, 9))"
   ]
  },
  {
   "cell_type": "code",
   "execution_count": 5,
   "metadata": {},
   "outputs": [],
   "source": [
    "def extract_value(cell_range):\n",
    "    result = []\n",
    "    for cell in cell_range[0]:\n",
    "        result.append(abs(cell.value))\n",
    "    return result\n",
    "\n",
    "\n",
    "def get_the_average(yearly_values):\n",
    "    return np.array(yearly_values).mean()\n",
    "\n",
    "\n",
    "def define_growth(values):\n",
    "    change_rates = []\n",
    "    for i in range(1, len(values)):\n",
    "        change_rate = values[i]/values[i-1] - 1\n",
    "        change_rates.append(change_rate)\n",
    "    return change_rates"
   ]
  },
  {
   "cell_type": "code",
   "execution_count": 7,
   "metadata": {},
   "outputs": [],
   "source": [
    "class Model:\n",
    "    hist_revenues            = []\n",
    "    hist_gross_profit        = []\n",
    "    hist_net_interest        = []\n",
    "    his_depreciation         = []\n",
    "    hist_op_profit           = []\n",
    "    hist_depr                = []\n",
    "    historical_tax_rate      = []\n",
    "    hist_NI                  = []\n",
    "    hist_gross_profit_prct   = []\n",
    "    hist_net_interest_prct   = []\n",
    "    hist_depreciation_prct   = []\n",
    "    hist_op_profit_prct      = []\n",
    "    hist_depr_prct           = []\n",
    "    historical_tax_rate_prct = []\n",
    "    \n",
    "    normalized= [\n",
    "        hist_gross_profit_prct,\n",
    "        hist_net_interest_prct,\n",
    "        hist_op_profit_prct,\n",
    "        hist_depr_prct,\n",
    "    ]\n",
    "\n",
    "    average_rates = {'gross_profit': 0, 'net_interest': 0, 'operating_profit': 0, 'depreciation': 0,}\n",
    "    \n",
    "    def __init__(self, company):\n",
    "        self.ticker = company\n",
    "\n",
    "    def define_revenue(self, cell_range):\n",
    "        self.hist_revenues = extract_value(cell_range)\n",
    "\n",
    "    def define_gross_profit(self, cell_range):\n",
    "        self.hist_gross_profit = extract_value(cell_range)\n",
    "\n",
    "    def define_operating_profit(self, cell_range):\n",
    "        self.hist_op_profit = extract_value(cell_range)\n",
    "    \n",
    "    def calculate_beta(self):\n",
    "        #get the dates\n",
    "        today = dt.datetime.today()\n",
    "        five_years_ago = today - relativedelta(years=5)\n",
    "        \n",
    "        #скачиваем данные и выбираем нужные колонки\n",
    "        stock_price = yf.download(self.ticker, five_years_ago, today, auto_adjust=True)\n",
    "        stock_price = stock_price['Close']\n",
    "        index_price = yf.download('SPY', five_years_ago, today, auto_adjust=True)\n",
    "        index_price = index_price['Close']\n",
    "        \n",
    "        #находим изменения в процентах и выбираем значения после первой строчки\n",
    "        stock_price = stock_price.pct_change(1)[1:]\n",
    "        index_price = index_price.pct_change(1)[1:]\n",
    "        x = index_price\n",
    "        y = stock_price\n",
    "        #высчитываем бету\n",
    "        slope, intercept, r_value, p_value, std_err = stats.linregress(x, y)\n",
    "        self.beta = slope"
   ]
  },
  {
   "cell_type": "code",
   "execution_count": null,
   "metadata": {},
   "outputs": [],
   "source": []
  }
 ],
 "metadata": {
  "kernelspec": {
   "display_name": "Python 3",
   "language": "python",
   "name": "python3"
  },
  "language_info": {
   "codemirror_mode": {
    "name": "ipython",
    "version": 3
   },
   "file_extension": ".py",
   "mimetype": "text/x-python",
   "name": "python",
   "nbconvert_exporter": "python",
   "pygments_lexer": "ipython3",
   "version": "3.8.5"
  }
 },
 "nbformat": 4,
 "nbformat_minor": 2
}
