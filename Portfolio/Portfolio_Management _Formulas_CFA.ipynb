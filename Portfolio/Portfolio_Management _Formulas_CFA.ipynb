{
 "cells": [
  {
   "cell_type": "markdown",
   "metadata": {},
   "source": [
    "# Portfolio Management. Formulas CFA"
   ]
  },
  {
   "cell_type": "code",
   "execution_count": 2,
   "metadata": {},
   "outputs": [],
   "source": [
    "import pandas as pd\n",
    "import numpy as np\n",
    "\n",
    "import scipy.stats as stats\n",
    "from sklearn import covariance\n",
    "\n",
    "import datetime as dt\n",
    "import yfinance as yf\n",
    "\n",
    "import matplotlib.pyplot as plt\n",
    "import seaborn as sns\n",
    "\n",
    "import random\n",
    "\n",
    "jtplot.style(figsize=(15, 9))"
   ]
  },
  {
   "cell_type": "code",
   "execution_count": 3,
   "metadata": {},
   "outputs": [],
   "source": [
    "tickers  = ['AMD', 'AMZN', 'BAC', 'META', 'AVGO', 'TER']\n",
    "amounts  = [20, 10, 30, 10, 2, 5]\n",
    "weights = [i / sum(amounts) for i in amounts]\n",
    "returns = [f'{t}_returns' for t in tickers]"
   ]
  },
  {
   "cell_type": "code",
   "execution_count": 4,
   "metadata": {},
   "outputs": [
    {
     "name": "stdout",
     "output_type": "stream",
     "text": [
      "[*********************100%***********************]  6 of 6 completed\n"
     ]
    },
    {
     "data": {
      "text/html": [
       "<div>\n",
       "<style scoped>\n",
       "    .dataframe tbody tr th:only-of-type {\n",
       "        vertical-align: middle;\n",
       "    }\n",
       "\n",
       "    .dataframe tbody tr th {\n",
       "        vertical-align: top;\n",
       "    }\n",
       "\n",
       "    .dataframe thead tr th {\n",
       "        text-align: left;\n",
       "    }\n",
       "\n",
       "    .dataframe thead tr:last-of-type th {\n",
       "        text-align: right;\n",
       "    }\n",
       "</style>\n",
       "<table border=\"1\" class=\"dataframe\">\n",
       "  <thead>\n",
       "    <tr>\n",
       "      <th></th>\n",
       "      <th colspan=\"6\" halign=\"left\">Close</th>\n",
       "      <th colspan=\"4\" halign=\"left\">High</th>\n",
       "      <th>...</th>\n",
       "      <th colspan=\"4\" halign=\"left\">Open</th>\n",
       "      <th colspan=\"6\" halign=\"left\">Volume</th>\n",
       "    </tr>\n",
       "    <tr>\n",
       "      <th></th>\n",
       "      <th>AMD</th>\n",
       "      <th>AMZN</th>\n",
       "      <th>AVGO</th>\n",
       "      <th>BAC</th>\n",
       "      <th>META</th>\n",
       "      <th>TER</th>\n",
       "      <th>AMD</th>\n",
       "      <th>AMZN</th>\n",
       "      <th>AVGO</th>\n",
       "      <th>BAC</th>\n",
       "      <th>...</th>\n",
       "      <th>AVGO</th>\n",
       "      <th>BAC</th>\n",
       "      <th>META</th>\n",
       "      <th>TER</th>\n",
       "      <th>AMD</th>\n",
       "      <th>AMZN</th>\n",
       "      <th>AVGO</th>\n",
       "      <th>BAC</th>\n",
       "      <th>META</th>\n",
       "      <th>TER</th>\n",
       "    </tr>\n",
       "    <tr>\n",
       "      <th>Date</th>\n",
       "      <th></th>\n",
       "      <th></th>\n",
       "      <th></th>\n",
       "      <th></th>\n",
       "      <th></th>\n",
       "      <th></th>\n",
       "      <th></th>\n",
       "      <th></th>\n",
       "      <th></th>\n",
       "      <th></th>\n",
       "      <th></th>\n",
       "      <th></th>\n",
       "      <th></th>\n",
       "      <th></th>\n",
       "      <th></th>\n",
       "      <th></th>\n",
       "      <th></th>\n",
       "      <th></th>\n",
       "      <th></th>\n",
       "      <th></th>\n",
       "      <th></th>\n",
       "    </tr>\n",
       "  </thead>\n",
       "  <tbody>\n",
       "    <tr>\n",
       "      <th>2023-01-03</th>\n",
       "      <td>64.019997</td>\n",
       "      <td>85.820000</td>\n",
       "      <td>537.162781</td>\n",
       "      <td>32.075714</td>\n",
       "      <td>124.484192</td>\n",
       "      <td>85.381950</td>\n",
       "      <td>66.879997</td>\n",
       "      <td>86.959999</td>\n",
       "      <td>550.837418</td>\n",
       "      <td>32.630891</td>\n",
       "      <td>...</td>\n",
       "      <td>548.343177</td>\n",
       "      <td>31.807700</td>\n",
       "      <td>122.568131</td>\n",
       "      <td>88.283325</td>\n",
       "      <td>46851800</td>\n",
       "      <td>76706000</td>\n",
       "      <td>2017300</td>\n",
       "      <td>35221500</td>\n",
       "      <td>35528500</td>\n",
       "      <td>1033200</td>\n",
       "    </tr>\n",
       "    <tr>\n",
       "      <th>2023-01-04</th>\n",
       "      <td>64.660004</td>\n",
       "      <td>85.139999</td>\n",
       "      <td>543.723511</td>\n",
       "      <td>32.678753</td>\n",
       "      <td>127.108803</td>\n",
       "      <td>86.862457</td>\n",
       "      <td>65.790001</td>\n",
       "      <td>86.980003</td>\n",
       "      <td>551.410004</td>\n",
       "      <td>33.329648</td>\n",
       "      <td>...</td>\n",
       "      <td>546.392438</td>\n",
       "      <td>32.449027</td>\n",
       "      <td>127.118777</td>\n",
       "      <td>86.683605</td>\n",
       "      <td>47477100</td>\n",
       "      <td>68885100</td>\n",
       "      <td>1707400</td>\n",
       "      <td>41998500</td>\n",
       "      <td>32397100</td>\n",
       "      <td>2025400</td>\n",
       "    </tr>\n",
       "    <tr>\n",
       "      <th>2023-01-05</th>\n",
       "      <td>62.330002</td>\n",
       "      <td>83.120003</td>\n",
       "      <td>538.657349</td>\n",
       "      <td>32.611744</td>\n",
       "      <td>126.679680</td>\n",
       "      <td>86.564362</td>\n",
       "      <td>64.349998</td>\n",
       "      <td>85.419998</td>\n",
       "      <td>543.335256</td>\n",
       "      <td>32.678748</td>\n",
       "      <td>...</td>\n",
       "      <td>539.327009</td>\n",
       "      <td>32.468163</td>\n",
       "      <td>125.871336</td>\n",
       "      <td>86.286141</td>\n",
       "      <td>46159500</td>\n",
       "      <td>67930800</td>\n",
       "      <td>1627700</td>\n",
       "      <td>34177000</td>\n",
       "      <td>25447100</td>\n",
       "      <td>998700</td>\n",
       "    </tr>\n",
       "    <tr>\n",
       "      <th>2023-01-06</th>\n",
       "      <td>63.959999</td>\n",
       "      <td>86.080002</td>\n",
       "      <td>571.082397</td>\n",
       "      <td>32.937191</td>\n",
       "      <td>129.753372</td>\n",
       "      <td>90.658081</td>\n",
       "      <td>64.300003</td>\n",
       "      <td>86.400002</td>\n",
       "      <td>573.576638</td>\n",
       "      <td>33.099917</td>\n",
       "      <td>...</td>\n",
       "      <td>546.518568</td>\n",
       "      <td>32.630888</td>\n",
       "      <td>128.705522</td>\n",
       "      <td>87.716960</td>\n",
       "      <td>70161300</td>\n",
       "      <td>83303400</td>\n",
       "      <td>3526100</td>\n",
       "      <td>34068700</td>\n",
       "      <td>27584500</td>\n",
       "      <td>1444500</td>\n",
       "    </tr>\n",
       "    <tr>\n",
       "      <th>2023-01-09</th>\n",
       "      <td>67.239998</td>\n",
       "      <td>87.360001</td>\n",
       "      <td>559.882751</td>\n",
       "      <td>32.439449</td>\n",
       "      <td>129.204498</td>\n",
       "      <td>92.615524</td>\n",
       "      <td>69.320000</td>\n",
       "      <td>89.480003</td>\n",
       "      <td>583.932183</td>\n",
       "      <td>33.272211</td>\n",
       "      <td>...</td>\n",
       "      <td>574.838424</td>\n",
       "      <td>33.262640</td>\n",
       "      <td>130.891035</td>\n",
       "      <td>92.347250</td>\n",
       "      <td>69741300</td>\n",
       "      <td>65266100</td>\n",
       "      <td>3773900</td>\n",
       "      <td>43818800</td>\n",
       "      <td>26649100</td>\n",
       "      <td>1654500</td>\n",
       "    </tr>\n",
       "  </tbody>\n",
       "</table>\n",
       "<p>5 rows × 30 columns</p>\n",
       "</div>"
      ],
      "text/plain": [
       "                Close                                                \\\n",
       "                  AMD       AMZN        AVGO        BAC        META   \n",
       "Date                                                                  \n",
       "2023-01-03  64.019997  85.820000  537.162781  32.075714  124.484192   \n",
       "2023-01-04  64.660004  85.139999  543.723511  32.678753  127.108803   \n",
       "2023-01-05  62.330002  83.120003  538.657349  32.611744  126.679680   \n",
       "2023-01-06  63.959999  86.080002  571.082397  32.937191  129.753372   \n",
       "2023-01-09  67.239998  87.360001  559.882751  32.439449  129.204498   \n",
       "\n",
       "                            High                                    ...  \\\n",
       "                  TER        AMD       AMZN        AVGO        BAC  ...   \n",
       "Date                                                                ...   \n",
       "2023-01-03  85.381950  66.879997  86.959999  550.837418  32.630891  ...   \n",
       "2023-01-04  86.862457  65.790001  86.980003  551.410004  33.329648  ...   \n",
       "2023-01-05  86.564362  64.349998  85.419998  543.335256  32.678748  ...   \n",
       "2023-01-06  90.658081  64.300003  86.400002  573.576638  33.099917  ...   \n",
       "2023-01-09  92.615524  69.320000  89.480003  583.932183  33.272211  ...   \n",
       "\n",
       "                  Open                                      Volume            \\\n",
       "                  AVGO        BAC        META        TER       AMD      AMZN   \n",
       "Date                                                                           \n",
       "2023-01-03  548.343177  31.807700  122.568131  88.283325  46851800  76706000   \n",
       "2023-01-04  546.392438  32.449027  127.118777  86.683605  47477100  68885100   \n",
       "2023-01-05  539.327009  32.468163  125.871336  86.286141  46159500  67930800   \n",
       "2023-01-06  546.518568  32.630888  128.705522  87.716960  70161300  83303400   \n",
       "2023-01-09  574.838424  33.262640  130.891035  92.347250  69741300  65266100   \n",
       "\n",
       "                                                  \n",
       "               AVGO       BAC      META      TER  \n",
       "Date                                              \n",
       "2023-01-03  2017300  35221500  35528500  1033200  \n",
       "2023-01-04  1707400  41998500  32397100  2025400  \n",
       "2023-01-05  1627700  34177000  25447100   998700  \n",
       "2023-01-06  3526100  34068700  27584500  1444500  \n",
       "2023-01-09  3773900  43818800  26649100  1654500  \n",
       "\n",
       "[5 rows x 30 columns]"
      ]
     },
     "execution_count": 4,
     "metadata": {},
     "output_type": "execute_result"
    }
   ],
   "source": [
    "df = yf.download(tickers, dt.datetime(2023, 1, 1), dt.datetime.now(), auto_adjust=True)\n",
    "df.head()"
   ]
  },
  {
   "cell_type": "code",
   "execution_count": 5,
   "metadata": {},
   "outputs": [
    {
     "data": {
      "text/html": [
       "<div>\n",
       "<style scoped>\n",
       "    .dataframe tbody tr th:only-of-type {\n",
       "        vertical-align: middle;\n",
       "    }\n",
       "\n",
       "    .dataframe tbody tr th {\n",
       "        vertical-align: top;\n",
       "    }\n",
       "\n",
       "    .dataframe thead th {\n",
       "        text-align: right;\n",
       "    }\n",
       "</style>\n",
       "<table border=\"1\" class=\"dataframe\">\n",
       "  <thead>\n",
       "    <tr style=\"text-align: right;\">\n",
       "      <th></th>\n",
       "      <th>AMD</th>\n",
       "      <th>AMZN</th>\n",
       "      <th>BAC</th>\n",
       "      <th>META</th>\n",
       "      <th>AVGO</th>\n",
       "      <th>TER</th>\n",
       "    </tr>\n",
       "    <tr>\n",
       "      <th>Date</th>\n",
       "      <th></th>\n",
       "      <th></th>\n",
       "      <th></th>\n",
       "      <th></th>\n",
       "      <th></th>\n",
       "      <th></th>\n",
       "    </tr>\n",
       "  </thead>\n",
       "  <tbody>\n",
       "    <tr>\n",
       "      <th>2023-01-03</th>\n",
       "      <td>0</td>\n",
       "      <td>0</td>\n",
       "      <td>0</td>\n",
       "      <td>0</td>\n",
       "      <td>0</td>\n",
       "      <td>0</td>\n",
       "    </tr>\n",
       "    <tr>\n",
       "      <th>2023-01-04</th>\n",
       "      <td>0</td>\n",
       "      <td>0</td>\n",
       "      <td>0</td>\n",
       "      <td>0</td>\n",
       "      <td>0</td>\n",
       "      <td>0</td>\n",
       "    </tr>\n",
       "    <tr>\n",
       "      <th>2023-01-05</th>\n",
       "      <td>0</td>\n",
       "      <td>0</td>\n",
       "      <td>0</td>\n",
       "      <td>0</td>\n",
       "      <td>0</td>\n",
       "      <td>0</td>\n",
       "    </tr>\n",
       "    <tr>\n",
       "      <th>2023-01-06</th>\n",
       "      <td>0</td>\n",
       "      <td>0</td>\n",
       "      <td>0</td>\n",
       "      <td>0</td>\n",
       "      <td>0</td>\n",
       "      <td>0</td>\n",
       "    </tr>\n",
       "    <tr>\n",
       "      <th>2023-01-09</th>\n",
       "      <td>0</td>\n",
       "      <td>0</td>\n",
       "      <td>0</td>\n",
       "      <td>0</td>\n",
       "      <td>0</td>\n",
       "      <td>0</td>\n",
       "    </tr>\n",
       "  </tbody>\n",
       "</table>\n",
       "</div>"
      ],
      "text/plain": [
       "            AMD  AMZN  BAC  META  AVGO  TER\n",
       "Date                                       \n",
       "2023-01-03    0     0    0     0     0    0\n",
       "2023-01-04    0     0    0     0     0    0\n",
       "2023-01-05    0     0    0     0     0    0\n",
       "2023-01-06    0     0    0     0     0    0\n",
       "2023-01-09    0     0    0     0     0    0"
      ]
     },
     "execution_count": 5,
     "metadata": {},
     "output_type": "execute_result"
    }
   ],
   "source": [
    "portfolio = pd.DataFrame(index=df.index, columns=tickers, data=0)\n",
    "portfolio.head()"
   ]
  },
  {
   "cell_type": "code",
   "execution_count": 6,
   "metadata": {},
   "outputs": [
    {
     "data": {
      "text/html": [
       "<div>\n",
       "<style scoped>\n",
       "    .dataframe tbody tr th:only-of-type {\n",
       "        vertical-align: middle;\n",
       "    }\n",
       "\n",
       "    .dataframe tbody tr th {\n",
       "        vertical-align: top;\n",
       "    }\n",
       "\n",
       "    .dataframe thead th {\n",
       "        text-align: right;\n",
       "    }\n",
       "</style>\n",
       "<table border=\"1\" class=\"dataframe\">\n",
       "  <thead>\n",
       "    <tr style=\"text-align: right;\">\n",
       "      <th></th>\n",
       "      <th>AMD</th>\n",
       "      <th>AMZN</th>\n",
       "      <th>BAC</th>\n",
       "      <th>META</th>\n",
       "      <th>AVGO</th>\n",
       "      <th>TER</th>\n",
       "      <th>AMD_returns</th>\n",
       "      <th>AMZN_returns</th>\n",
       "      <th>BAC_returns</th>\n",
       "      <th>META_returns</th>\n",
       "      <th>AVGO_returns</th>\n",
       "      <th>TER_returns</th>\n",
       "    </tr>\n",
       "    <tr>\n",
       "      <th>Date</th>\n",
       "      <th></th>\n",
       "      <th></th>\n",
       "      <th></th>\n",
       "      <th></th>\n",
       "      <th></th>\n",
       "      <th></th>\n",
       "      <th></th>\n",
       "      <th></th>\n",
       "      <th></th>\n",
       "      <th></th>\n",
       "      <th></th>\n",
       "      <th></th>\n",
       "    </tr>\n",
       "  </thead>\n",
       "  <tbody>\n",
       "    <tr>\n",
       "      <th>2023-01-04</th>\n",
       "      <td>1293.200073</td>\n",
       "      <td>851.399994</td>\n",
       "      <td>980.362587</td>\n",
       "      <td>1271.088028</td>\n",
       "      <td>1087.447021</td>\n",
       "      <td>434.312286</td>\n",
       "      <td>0.009947</td>\n",
       "      <td>-0.007955</td>\n",
       "      <td>0.018626</td>\n",
       "      <td>0.020865</td>\n",
       "      <td>0.012140</td>\n",
       "      <td>0.017191</td>\n",
       "    </tr>\n",
       "    <tr>\n",
       "      <th>2023-01-05</th>\n",
       "      <td>1246.600037</td>\n",
       "      <td>831.200027</td>\n",
       "      <td>978.352318</td>\n",
       "      <td>1266.796799</td>\n",
       "      <td>1077.314697</td>\n",
       "      <td>432.821808</td>\n",
       "      <td>-0.036700</td>\n",
       "      <td>-0.024012</td>\n",
       "      <td>-0.002053</td>\n",
       "      <td>-0.003382</td>\n",
       "      <td>-0.009361</td>\n",
       "      <td>-0.003438</td>\n",
       "    </tr>\n",
       "    <tr>\n",
       "      <th>2023-01-06</th>\n",
       "      <td>1279.199982</td>\n",
       "      <td>860.800018</td>\n",
       "      <td>988.115730</td>\n",
       "      <td>1297.533722</td>\n",
       "      <td>1142.164795</td>\n",
       "      <td>453.290405</td>\n",
       "      <td>0.025815</td>\n",
       "      <td>0.034992</td>\n",
       "      <td>0.009930</td>\n",
       "      <td>0.023974</td>\n",
       "      <td>0.058454</td>\n",
       "      <td>0.046207</td>\n",
       "    </tr>\n",
       "    <tr>\n",
       "      <th>2023-01-09</th>\n",
       "      <td>1344.799957</td>\n",
       "      <td>873.600006</td>\n",
       "      <td>973.183479</td>\n",
       "      <td>1292.044983</td>\n",
       "      <td>1119.765503</td>\n",
       "      <td>463.077621</td>\n",
       "      <td>0.050010</td>\n",
       "      <td>0.014760</td>\n",
       "      <td>-0.015227</td>\n",
       "      <td>-0.004239</td>\n",
       "      <td>-0.019806</td>\n",
       "      <td>0.021362</td>\n",
       "    </tr>\n",
       "    <tr>\n",
       "      <th>2023-01-10</th>\n",
       "      <td>1361.000061</td>\n",
       "      <td>898.700027</td>\n",
       "      <td>979.788208</td>\n",
       "      <td>1327.172699</td>\n",
       "      <td>1115.960815</td>\n",
       "      <td>470.877533</td>\n",
       "      <td>0.011974</td>\n",
       "      <td>0.028327</td>\n",
       "      <td>0.006764</td>\n",
       "      <td>0.026825</td>\n",
       "      <td>-0.003404</td>\n",
       "      <td>0.016703</td>\n",
       "    </tr>\n",
       "  </tbody>\n",
       "</table>\n",
       "</div>"
      ],
      "text/plain": [
       "                    AMD        AMZN         BAC         META         AVGO  \\\n",
       "Date                                                                        \n",
       "2023-01-04  1293.200073  851.399994  980.362587  1271.088028  1087.447021   \n",
       "2023-01-05  1246.600037  831.200027  978.352318  1266.796799  1077.314697   \n",
       "2023-01-06  1279.199982  860.800018  988.115730  1297.533722  1142.164795   \n",
       "2023-01-09  1344.799957  873.600006  973.183479  1292.044983  1119.765503   \n",
       "2023-01-10  1361.000061  898.700027  979.788208  1327.172699  1115.960815   \n",
       "\n",
       "                   TER  AMD_returns  AMZN_returns  BAC_returns  META_returns  \\\n",
       "Date                                                                           \n",
       "2023-01-04  434.312286     0.009947     -0.007955     0.018626      0.020865   \n",
       "2023-01-05  432.821808    -0.036700     -0.024012    -0.002053     -0.003382   \n",
       "2023-01-06  453.290405     0.025815      0.034992     0.009930      0.023974   \n",
       "2023-01-09  463.077621     0.050010      0.014760    -0.015227     -0.004239   \n",
       "2023-01-10  470.877533     0.011974      0.028327     0.006764      0.026825   \n",
       "\n",
       "            AVGO_returns  TER_returns  \n",
       "Date                                   \n",
       "2023-01-04      0.012140     0.017191  \n",
       "2023-01-05     -0.009361    -0.003438  \n",
       "2023-01-06      0.058454     0.046207  \n",
       "2023-01-09     -0.019806     0.021362  \n",
       "2023-01-10     -0.003404     0.016703  "
      ]
     },
     "execution_count": 6,
     "metadata": {},
     "output_type": "execute_result"
    }
   ],
   "source": [
    "for ticker, amount in zip(tickers, amounts):\n",
    "    portfolio[ticker] = df['Close'][ticker] * amount\n",
    "    portfolio[f'{ticker}_returns'] = np.log(portfolio[ticker].div(portfolio[ticker].shift(1)))\n",
    "\n",
    "portfolio.dropna(axis=0, inplace=True)\n",
    "portfolio.head()"
   ]
  },
  {
   "cell_type": "code",
   "execution_count": 7,
   "metadata": {},
   "outputs": [
    {
     "name": "stdout",
     "output_type": "stream",
     "text": [
      "[*********************100%***********************]  2 of 2 completed\n"
     ]
    },
    {
     "data": {
      "text/html": [
       "<div>\n",
       "<style scoped>\n",
       "    .dataframe tbody tr th:only-of-type {\n",
       "        vertical-align: middle;\n",
       "    }\n",
       "\n",
       "    .dataframe tbody tr th {\n",
       "        vertical-align: top;\n",
       "    }\n",
       "\n",
       "    .dataframe thead tr th {\n",
       "        text-align: left;\n",
       "    }\n",
       "\n",
       "    .dataframe thead tr:last-of-type th {\n",
       "        text-align: right;\n",
       "    }\n",
       "</style>\n",
       "<table border=\"1\" class=\"dataframe\">\n",
       "  <thead>\n",
       "    <tr>\n",
       "      <th></th>\n",
       "      <th colspan=\"2\" halign=\"left\">Close</th>\n",
       "      <th colspan=\"2\" halign=\"left\">High</th>\n",
       "      <th colspan=\"2\" halign=\"left\">Low</th>\n",
       "      <th colspan=\"2\" halign=\"left\">Open</th>\n",
       "      <th colspan=\"2\" halign=\"left\">Volume</th>\n",
       "    </tr>\n",
       "    <tr>\n",
       "      <th></th>\n",
       "      <th>^GSPC</th>\n",
       "      <th>^TNX</th>\n",
       "      <th>^GSPC</th>\n",
       "      <th>^TNX</th>\n",
       "      <th>^GSPC</th>\n",
       "      <th>^TNX</th>\n",
       "      <th>^GSPC</th>\n",
       "      <th>^TNX</th>\n",
       "      <th>^GSPC</th>\n",
       "      <th>^TNX</th>\n",
       "    </tr>\n",
       "    <tr>\n",
       "      <th>Date</th>\n",
       "      <th></th>\n",
       "      <th></th>\n",
       "      <th></th>\n",
       "      <th></th>\n",
       "      <th></th>\n",
       "      <th></th>\n",
       "      <th></th>\n",
       "      <th></th>\n",
       "      <th></th>\n",
       "      <th></th>\n",
       "    </tr>\n",
       "  </thead>\n",
       "  <tbody>\n",
       "    <tr>\n",
       "      <th>2023-01-03</th>\n",
       "      <td>3824.139893</td>\n",
       "      <td>3.793</td>\n",
       "      <td>3878.459961</td>\n",
       "      <td>3.810</td>\n",
       "      <td>3794.330078</td>\n",
       "      <td>3.724</td>\n",
       "      <td>3853.290039</td>\n",
       "      <td>3.758</td>\n",
       "      <td>3959140000</td>\n",
       "      <td>0</td>\n",
       "    </tr>\n",
       "    <tr>\n",
       "      <th>2023-01-04</th>\n",
       "      <td>3852.969971</td>\n",
       "      <td>3.709</td>\n",
       "      <td>3873.159912</td>\n",
       "      <td>3.728</td>\n",
       "      <td>3815.770020</td>\n",
       "      <td>3.664</td>\n",
       "      <td>3840.360107</td>\n",
       "      <td>3.677</td>\n",
       "      <td>4414080000</td>\n",
       "      <td>0</td>\n",
       "    </tr>\n",
       "    <tr>\n",
       "      <th>2023-01-05</th>\n",
       "      <td>3808.100098</td>\n",
       "      <td>3.720</td>\n",
       "      <td>3839.739990</td>\n",
       "      <td>3.784</td>\n",
       "      <td>3802.419922</td>\n",
       "      <td>3.698</td>\n",
       "      <td>3839.739990</td>\n",
       "      <td>3.728</td>\n",
       "      <td>3893450000</td>\n",
       "      <td>0</td>\n",
       "    </tr>\n",
       "    <tr>\n",
       "      <th>2023-01-06</th>\n",
       "      <td>3895.080078</td>\n",
       "      <td>3.569</td>\n",
       "      <td>3906.189941</td>\n",
       "      <td>3.754</td>\n",
       "      <td>3809.560059</td>\n",
       "      <td>3.558</td>\n",
       "      <td>3823.370117</td>\n",
       "      <td>3.746</td>\n",
       "      <td>3923560000</td>\n",
       "      <td>0</td>\n",
       "    </tr>\n",
       "    <tr>\n",
       "      <th>2023-01-09</th>\n",
       "      <td>3892.090088</td>\n",
       "      <td>3.517</td>\n",
       "      <td>3950.570068</td>\n",
       "      <td>3.591</td>\n",
       "      <td>3890.419922</td>\n",
       "      <td>3.508</td>\n",
       "      <td>3910.820068</td>\n",
       "      <td>3.589</td>\n",
       "      <td>4311770000</td>\n",
       "      <td>0</td>\n",
       "    </tr>\n",
       "  </tbody>\n",
       "</table>\n",
       "</div>"
      ],
      "text/plain": [
       "                  Close                High                 Low         \\\n",
       "                  ^GSPC   ^TNX        ^GSPC   ^TNX        ^GSPC   ^TNX   \n",
       "Date                                                                     \n",
       "2023-01-03  3824.139893  3.793  3878.459961  3.810  3794.330078  3.724   \n",
       "2023-01-04  3852.969971  3.709  3873.159912  3.728  3815.770020  3.664   \n",
       "2023-01-05  3808.100098  3.720  3839.739990  3.784  3802.419922  3.698   \n",
       "2023-01-06  3895.080078  3.569  3906.189941  3.754  3809.560059  3.558   \n",
       "2023-01-09  3892.090088  3.517  3950.570068  3.591  3890.419922  3.508   \n",
       "\n",
       "                   Open             Volume       \n",
       "                  ^GSPC   ^TNX       ^GSPC ^TNX  \n",
       "Date                                             \n",
       "2023-01-03  3853.290039  3.758  3959140000    0  \n",
       "2023-01-04  3840.360107  3.677  4414080000    0  \n",
       "2023-01-05  3839.739990  3.728  3893450000    0  \n",
       "2023-01-06  3823.370117  3.746  3923560000    0  \n",
       "2023-01-09  3910.820068  3.589  4311770000    0  "
      ]
     },
     "execution_count": 7,
     "metadata": {},
     "output_type": "execute_result"
    }
   ],
   "source": [
    "rates = ['^GSPC', '^TNX']\n",
    "rates_df = yf.download(rates, dt.datetime(2023, 1, 1), dt.datetime.now(), auto_adjust=True)\n",
    "rates_df.head()"
   ]
  },
  {
   "cell_type": "code",
   "execution_count": 8,
   "metadata": {},
   "outputs": [],
   "source": [
    "rates_df = rates_df['Close']"
   ]
  },
  {
   "cell_type": "code",
   "execution_count": 9,
   "metadata": {},
   "outputs": [
    {
     "data": {
      "text/html": [
       "<div>\n",
       "<style scoped>\n",
       "    .dataframe tbody tr th:only-of-type {\n",
       "        vertical-align: middle;\n",
       "    }\n",
       "\n",
       "    .dataframe tbody tr th {\n",
       "        vertical-align: top;\n",
       "    }\n",
       "\n",
       "    .dataframe thead th {\n",
       "        text-align: right;\n",
       "    }\n",
       "</style>\n",
       "<table border=\"1\" class=\"dataframe\">\n",
       "  <thead>\n",
       "    <tr style=\"text-align: right;\">\n",
       "      <th></th>\n",
       "      <th>^GSPC</th>\n",
       "      <th>^TNX</th>\n",
       "      <th>market_returns</th>\n",
       "      <th>risk_free_returns</th>\n",
       "    </tr>\n",
       "    <tr>\n",
       "      <th>Date</th>\n",
       "      <th></th>\n",
       "      <th></th>\n",
       "      <th></th>\n",
       "      <th></th>\n",
       "    </tr>\n",
       "  </thead>\n",
       "  <tbody>\n",
       "    <tr>\n",
       "      <th>2023-01-04</th>\n",
       "      <td>3852.969971</td>\n",
       "      <td>3.709</td>\n",
       "      <td>0.007511</td>\n",
       "      <td>-0.022395</td>\n",
       "    </tr>\n",
       "    <tr>\n",
       "      <th>2023-01-05</th>\n",
       "      <td>3808.100098</td>\n",
       "      <td>3.720</td>\n",
       "      <td>-0.011714</td>\n",
       "      <td>0.002961</td>\n",
       "    </tr>\n",
       "    <tr>\n",
       "      <th>2023-01-06</th>\n",
       "      <td>3895.080078</td>\n",
       "      <td>3.569</td>\n",
       "      <td>0.022584</td>\n",
       "      <td>-0.041438</td>\n",
       "    </tr>\n",
       "    <tr>\n",
       "      <th>2023-01-09</th>\n",
       "      <td>3892.090088</td>\n",
       "      <td>3.517</td>\n",
       "      <td>-0.000768</td>\n",
       "      <td>-0.014677</td>\n",
       "    </tr>\n",
       "    <tr>\n",
       "      <th>2023-01-10</th>\n",
       "      <td>3919.250000</td>\n",
       "      <td>3.621</td>\n",
       "      <td>0.006954</td>\n",
       "      <td>0.029142</td>\n",
       "    </tr>\n",
       "  </tbody>\n",
       "</table>\n",
       "</div>"
      ],
      "text/plain": [
       "                  ^GSPC   ^TNX  market_returns  risk_free_returns\n",
       "Date                                                             \n",
       "2023-01-04  3852.969971  3.709        0.007511          -0.022395\n",
       "2023-01-05  3808.100098  3.720       -0.011714           0.002961\n",
       "2023-01-06  3895.080078  3.569        0.022584          -0.041438\n",
       "2023-01-09  3892.090088  3.517       -0.000768          -0.014677\n",
       "2023-01-10  3919.250000  3.621        0.006954           0.029142"
      ]
     },
     "execution_count": 9,
     "metadata": {},
     "output_type": "execute_result"
    }
   ],
   "source": [
    "rates_df['market_returns'] = np.log(rates_df['^GSPC'].div(rates_df['^GSPC'].shift(1)))\n",
    "rates_df['risk_free_returns'] = np.log(rates_df['^TNX'].div(rates_df['^TNX'].shift(1)))\n",
    "\n",
    "rates_df.dropna(inplace=True)\n",
    "rates_df.head()"
   ]
  },
  {
   "cell_type": "code",
   "execution_count": 10,
   "metadata": {},
   "outputs": [
    {
     "data": {
      "text/plain": [
       "<AxesSubplot:xlabel='Date'>"
      ]
     },
     "execution_count": 10,
     "metadata": {},
     "output_type": "execute_result"
    },
    {
     "data": {
      "image/png": "[encoded data removed]",
      "text/plain": [
       "<Figure size 864x518.4 with 1 Axes>"
      ]
     },
     "metadata": {},
     "output_type": "display_data"
    }
   ],
   "source": [
    "rates_df[['market_returns', 'risk_free_returns']].cumsum().plot()"
   ]
  },
  {
   "cell_type": "code",
   "execution_count": 12,
   "metadata": {},
   "outputs": [
    {
     "data": {
      "text/plain": [
       "market_returns       0.376573\n",
       "risk_free_returns    0.118222\n",
       "dtype: float64"
      ]
     },
     "execution_count": 12,
     "metadata": {},
     "output_type": "execute_result"
    }
   ],
   "source": [
    "rates_df[['market_returns', 'risk_free_returns']].sum()"
   ]
  },
  {
   "cell_type": "code",
   "execution_count": 11,
   "metadata": {},
   "outputs": [],
   "source": [
    "risk_free_rate = rates_df['risk_free_returns'].sum()\n",
    "market_rate = rates_df['market_returns'].sum()\n",
    "\n",
    "market_var = np.var(rates_df['market_returns'])"
   ]
  },
  {
   "cell_type": "markdown",
   "metadata": {},
   "source": [
    "## 1. Portfolio Management: an Overview"
   ]
  },
  {
   "cell_type": "markdown",
   "metadata": {},
   "source": [
    "### Diversification Ratio"
   ]
  },
  {
   "cell_type": "code",
   "execution_count": 6,
   "metadata": {},
   "outputs": [
    {
     "data": {
      "text/plain": [
       "0.8122693930736987"
      ]
     },
     "execution_count": 6,
     "metadata": {},
     "output_type": "execute_result"
    }
   ],
   "source": [
    "equally_weighted_portfolio = (df['Close'] * 1 / len(tickers)).sum(axis=1)\n",
    "equally_weighted_portfolio_returns = np.log(equally_weighted_portfolio.div(equally_weighted_portfolio.shift(1)))[1:]\n",
    "\n",
    "random_asset = df['Close'][random.choice(tickers)]\n",
    "random_asset_returns = np.log(random_asset.div(random_asset.shift(1)))[1:]\n",
    "\n",
    "diversification_ratio = equally_weighted_portfolio_returns.std() / random_asset_returns.std()\n",
    "diversification_ratio"
   ]
  },
  {
   "cell_type": "code",
   "execution_count": 10,
   "metadata": {},
   "outputs": [
    {
     "data": {
      "text/plain": [
       "4.812976810626439"
      ]
     },
     "execution_count": 10,
     "metadata": {},
     "output_type": "execute_result"
    }
   ],
   "source": [
    "diversification_ratio = portfolio[returns].sum(axis=1).std() / portfolio[random.choice(returns)].std()\n",
    "diversification_ratio"
   ]
  },
  {
   "cell_type": "markdown",
   "metadata": {},
   "source": [
    "### Net Asset Value per Share (NAVPS)"
   ]
  },
  {
   "cell_type": "code",
   "execution_count": 9,
   "metadata": {},
   "outputs": [
    {
     "data": {
      "text/plain": [
       "77"
      ]
     },
     "execution_count": 9,
     "metadata": {},
     "output_type": "execute_result"
    }
   ],
   "source": [
    "fund_assets = portfolio[tickers].iloc[-1].sum()\n",
    "fund_liabilities = 0\n",
    "number_of_shares_outstanding = sum(amounts)\n",
    "NAV = fund_assets - fund_liabilities\n",
    "\n",
    "net_asset_value_per_share = NAV / number_of_shares_outstanding\n",
    "number_of_shares_outstanding"
   ]
  },
  {
   "cell_type": "markdown",
   "metadata": {},
   "source": [
    "## 2. Portfolio Risk and Return: Part I"
   ]
  },
  {
   "cell_type": "markdown",
   "metadata": {},
   "source": [
    "### Holding Period Return (HPR)"
   ]
  },
  {
   "cell_type": "code",
   "execution_count": 16,
   "metadata": {},
   "outputs": [
    {
     "data": {
      "text/plain": [
       "1.5316936072226048"
      ]
     },
     "execution_count": 16,
     "metadata": {},
     "output_type": "execute_result"
    }
   ],
   "source": [
    "# No cash flows\n",
    "beginning_value = portfolio.iloc[0][tickers].sum()\n",
    "ending_value = portfolio.iloc[-1][tickers].sum()\n",
    "\n",
    "HPR = (ending_value - beginning_value) / beginning_value\n",
    "HPR"
   ]
  },
  {
   "cell_type": "code",
   "execution_count": 47,
   "metadata": {},
   "outputs": [
    {
     "data": {
      "text/plain": [
       "28.838162157358706"
      ]
     },
     "execution_count": 47,
     "metadata": {},
     "output_type": "execute_result"
    }
   ],
   "source": [
    "# multiple periods\n",
    "r_month_periods = portfolio[returns].resample('1M').sum().sum(axis=1)\n",
    "\n",
    "HPR_multiple_periods = 1\n",
    "for r in r_month_periods:\n",
    "    HPR_multiple_periods *= (1 + r)\n",
    "\n",
    "HPR_multiple_periods -= 1\n",
    "HPR_multiple_periods"
   ]
  },
  {
   "cell_type": "markdown",
   "metadata": {},
   "source": [
    "### Arithmetic mean return"
   ]
  },
  {
   "cell_type": "code",
   "execution_count": 43,
   "metadata": {},
   "outputs": [
    {
     "data": {
      "text/html": [
       "<div>\n",
       "<style scoped>\n",
       "    .dataframe tbody tr th:only-of-type {\n",
       "        vertical-align: middle;\n",
       "    }\n",
       "\n",
       "    .dataframe tbody tr th {\n",
       "        vertical-align: top;\n",
       "    }\n",
       "\n",
       "    .dataframe thead th {\n",
       "        text-align: right;\n",
       "    }\n",
       "</style>\n",
       "<table border=\"1\" class=\"dataframe\">\n",
       "  <thead>\n",
       "    <tr style=\"text-align: right;\">\n",
       "      <th></th>\n",
       "      <th>AMD_returns</th>\n",
       "      <th>AMZN_returns</th>\n",
       "      <th>BAC_returns</th>\n",
       "      <th>META_returns</th>\n",
       "      <th>AVGO_returns</th>\n",
       "      <th>TER_returns</th>\n",
       "    </tr>\n",
       "    <tr>\n",
       "      <th>Date</th>\n",
       "      <th></th>\n",
       "      <th></th>\n",
       "      <th></th>\n",
       "      <th></th>\n",
       "      <th></th>\n",
       "      <th></th>\n",
       "    </tr>\n",
       "  </thead>\n",
       "  <tbody>\n",
       "    <tr>\n",
       "      <th>2023-01-31</th>\n",
       "      <td>0.160291</td>\n",
       "      <td>0.183738</td>\n",
       "      <td>0.057125</td>\n",
       "      <td>0.177513</td>\n",
       "      <td>0.055403</td>\n",
       "      <td>0.168494</td>\n",
       "    </tr>\n",
       "    <tr>\n",
       "      <th>2023-02-28</th>\n",
       "      <td>0.044631</td>\n",
       "      <td>-0.090252</td>\n",
       "      <td>-0.033824</td>\n",
       "      <td>0.160698</td>\n",
       "      <td>0.015738</td>\n",
       "      <td>-0.004507</td>\n",
       "    </tr>\n",
       "    <tr>\n",
       "      <th>2023-03-31</th>\n",
       "      <td>0.220952</td>\n",
       "      <td>0.091802</td>\n",
       "      <td>-0.175274</td>\n",
       "      <td>0.191860</td>\n",
       "      <td>0.083676</td>\n",
       "      <td>0.061078</td>\n",
       "    </tr>\n",
       "    <tr>\n",
       "      <th>2023-04-30</th>\n",
       "      <td>-0.092284</td>\n",
       "      <td>0.020696</td>\n",
       "      <td>0.023498</td>\n",
       "      <td>0.125668</td>\n",
       "      <td>-0.023723</td>\n",
       "      <td>-0.162557</td>\n",
       "    </tr>\n",
       "    <tr>\n",
       "      <th>2023-05-31</th>\n",
       "      <td>0.279678</td>\n",
       "      <td>0.134077</td>\n",
       "      <td>-0.052229</td>\n",
       "      <td>0.096701</td>\n",
       "      <td>0.254364</td>\n",
       "      <td>0.093167</td>\n",
       "    </tr>\n",
       "    <tr>\n",
       "      <th>2023-06-30</th>\n",
       "      <td>-0.037054</td>\n",
       "      <td>0.077986</td>\n",
       "      <td>0.039820</td>\n",
       "      <td>0.080740</td>\n",
       "      <td>0.076336</td>\n",
       "      <td>0.105430</td>\n",
       "    </tr>\n",
       "    <tr>\n",
       "      <th>2023-07-31</th>\n",
       "      <td>0.004292</td>\n",
       "      <td>0.025149</td>\n",
       "      <td>0.109187</td>\n",
       "      <td>0.104524</td>\n",
       "      <td>0.035359</td>\n",
       "      <td>0.014358</td>\n",
       "    </tr>\n",
       "    <tr>\n",
       "      <th>2023-08-31</th>\n",
       "      <td>-0.078907</td>\n",
       "      <td>0.031877</td>\n",
       "      <td>-0.101586</td>\n",
       "      <td>-0.073949</td>\n",
       "      <td>0.026616</td>\n",
       "      <td>-0.044905</td>\n",
       "    </tr>\n",
       "    <tr>\n",
       "      <th>2023-09-30</th>\n",
       "      <td>-0.027814</td>\n",
       "      <td>-0.082195</td>\n",
       "      <td>-0.046038</td>\n",
       "      <td>0.014494</td>\n",
       "      <td>-0.099954</td>\n",
       "      <td>-0.071167</td>\n",
       "    </tr>\n",
       "    <tr>\n",
       "      <th>2023-10-31</th>\n",
       "      <td>-0.042923</td>\n",
       "      <td>0.045894</td>\n",
       "      <td>-0.038724</td>\n",
       "      <td>0.003525</td>\n",
       "      <td>0.012907</td>\n",
       "      <td>-0.187671</td>\n",
       "    </tr>\n",
       "    <tr>\n",
       "      <th>2023-11-30</th>\n",
       "      <td>0.207055</td>\n",
       "      <td>0.093197</td>\n",
       "      <td>0.154260</td>\n",
       "      <td>0.082412</td>\n",
       "      <td>0.095551</td>\n",
       "      <td>0.103388</td>\n",
       "    </tr>\n",
       "    <tr>\n",
       "      <th>2023-12-31</th>\n",
       "      <td>0.196106</td>\n",
       "      <td>0.039263</td>\n",
       "      <td>0.099208</td>\n",
       "      <td>0.078765</td>\n",
       "      <td>0.191735</td>\n",
       "      <td>0.162649</td>\n",
       "    </tr>\n",
       "    <tr>\n",
       "      <th>2024-01-31</th>\n",
       "      <td>0.128899</td>\n",
       "      <td>0.021229</td>\n",
       "      <td>0.010047</td>\n",
       "      <td>0.097322</td>\n",
       "      <td>0.055540</td>\n",
       "      <td>-0.116459</td>\n",
       "    </tr>\n",
       "    <tr>\n",
       "      <th>2024-02-29</th>\n",
       "      <td>0.138135</td>\n",
       "      <td>0.130078</td>\n",
       "      <td>0.021904</td>\n",
       "      <td>0.229225</td>\n",
       "      <td>0.097227</td>\n",
       "      <td>0.071148</td>\n",
       "    </tr>\n",
       "    <tr>\n",
       "      <th>2024-03-31</th>\n",
       "      <td>-0.064577</td>\n",
       "      <td>0.020273</td>\n",
       "      <td>0.093940</td>\n",
       "      <td>-0.009327</td>\n",
       "      <td>0.023231</td>\n",
       "      <td>0.085441</td>\n",
       "    </tr>\n",
       "    <tr>\n",
       "      <th>2024-04-30</th>\n",
       "      <td>-0.130678</td>\n",
       "      <td>-0.030280</td>\n",
       "      <td>-0.024291</td>\n",
       "      <td>-0.121164</td>\n",
       "      <td>-0.019150</td>\n",
       "      <td>0.030463</td>\n",
       "    </tr>\n",
       "    <tr>\n",
       "      <th>2024-05-31</th>\n",
       "      <td>0.052398</td>\n",
       "      <td>0.008195</td>\n",
       "      <td>0.077441</td>\n",
       "      <td>0.081785</td>\n",
       "      <td>0.021516</td>\n",
       "      <td>0.192850</td>\n",
       "    </tr>\n",
       "    <tr>\n",
       "      <th>2024-06-30</th>\n",
       "      <td>-0.048844</td>\n",
       "      <td>0.055236</td>\n",
       "      <td>-0.014527</td>\n",
       "      <td>0.081836</td>\n",
       "      <td>0.110565</td>\n",
       "      <td>0.050431</td>\n",
       "    </tr>\n",
       "  </tbody>\n",
       "</table>\n",
       "</div>"
      ],
      "text/plain": [
       "            AMD_returns  AMZN_returns  BAC_returns  META_returns  \\\n",
       "Date                                                               \n",
       "2023-01-31     0.160291      0.183738     0.057125      0.177513   \n",
       "2023-02-28     0.044631     -0.090252    -0.033824      0.160698   \n",
       "2023-03-31     0.220952      0.091802    -0.175274      0.191860   \n",
       "2023-04-30    -0.092284      0.020696     0.023498      0.125668   \n",
       "2023-05-31     0.279678      0.134077    -0.052229      0.096701   \n",
       "2023-06-30    -0.037054      0.077986     0.039820      0.080740   \n",
       "2023-07-31     0.004292      0.025149     0.109187      0.104524   \n",
       "2023-08-31    -0.078907      0.031877    -0.101586     -0.073949   \n",
       "2023-09-30    -0.027814     -0.082195    -0.046038      0.014494   \n",
       "2023-10-31    -0.042923      0.045894    -0.038724      0.003525   \n",
       "2023-11-30     0.207055      0.093197     0.154260      0.082412   \n",
       "2023-12-31     0.196106      0.039263     0.099208      0.078765   \n",
       "2024-01-31     0.128899      0.021229     0.010047      0.097322   \n",
       "2024-02-29     0.138135      0.130078     0.021904      0.229225   \n",
       "2024-03-31    -0.064577      0.020273     0.093940     -0.009327   \n",
       "2024-04-30    -0.130678     -0.030280    -0.024291     -0.121164   \n",
       "2024-05-31     0.052398      0.008195     0.077441      0.081785   \n",
       "2024-06-30    -0.048844      0.055236    -0.014527      0.081836   \n",
       "\n",
       "            AVGO_returns  TER_returns  \n",
       "Date                                   \n",
       "2023-01-31      0.055403     0.168494  \n",
       "2023-02-28      0.015738    -0.004507  \n",
       "2023-03-31      0.083676     0.061078  \n",
       "2023-04-30     -0.023723    -0.162557  \n",
       "2023-05-31      0.254364     0.093167  \n",
       "2023-06-30      0.076336     0.105430  \n",
       "2023-07-31      0.035359     0.014358  \n",
       "2023-08-31      0.026616    -0.044905  \n",
       "2023-09-30     -0.099954    -0.071167  \n",
       "2023-10-31      0.012907    -0.187671  \n",
       "2023-11-30      0.095551     0.103388  \n",
       "2023-12-31      0.191735     0.162649  \n",
       "2024-01-31      0.055540    -0.116459  \n",
       "2024-02-29      0.097227     0.071148  \n",
       "2024-03-31      0.023231     0.085441  \n",
       "2024-04-30     -0.019150     0.030463  \n",
       "2024-05-31      0.021516     0.192850  \n",
       "2024-06-30      0.110565     0.050431  "
      ]
     },
     "execution_count": 43,
     "metadata": {},
     "output_type": "execute_result"
    }
   ],
   "source": [
    "portfolio[returns].resample('1M').sum()"
   ]
  },
  {
   "cell_type": "markdown",
   "metadata": {},
   "source": [
    "### Portfolio Return (Many risky assets)"
   ]
  },
  {
   "cell_type": "code",
   "execution_count": 14,
   "metadata": {},
   "outputs": [
    {
     "data": {
      "text/plain": [
       "<AxesSubplot:xlabel='Date'>"
      ]
     },
     "execution_count": 14,
     "metadata": {},
     "output_type": "execute_result"
    },
    {
     "data": {
      "image/png": "[encoded data removed]",
      "text/plain": [
       "<Figure size 864x518.4 with 1 Axes>"
      ]
     },
     "metadata": {},
     "output_type": "display_data"
    }
   ],
   "source": [
    "portfolio[returns].cumsum().plot()"
   ]
  },
  {
   "cell_type": "code",
   "execution_count": 15,
   "metadata": {},
   "outputs": [
    {
     "data": {
      "text/plain": [
       "(0.010855303578006091, 0.7249069883246855)"
      ]
     },
     "execution_count": 15,
     "metadata": {},
     "output_type": "execute_result"
    }
   ],
   "source": [
    "portfolio_last_day_return = 0\n",
    "portfolio_cumsum_return = 0\n",
    "full_assets = sum(amounts)\n",
    "for ticker, amount in zip(tickers, amounts):\n",
    "    portfolio_last_day_return += portfolio.iloc[-1][ticker+'_returns'] * amount/full_assets\n",
    "    portfolio_cumsum_return += portfolio.cumsum().iloc[-1][ticker+'_returns'] * amount/full_assets\n",
    "\n",
    "portfolio_last_day_return, portfolio_cumsum_return"
   ]
  },
  {
   "cell_type": "code",
   "execution_count": null,
   "metadata": {},
   "outputs": [],
   "source": []
  },
  {
   "cell_type": "markdown",
   "metadata": {},
   "source": [
    "### Portfolio Variance"
   ]
  },
  {
   "cell_type": "code",
   "execution_count": 16,
   "metadata": {},
   "outputs": [
    {
     "data": {
      "text/plain": [
       "[('AMD_returns', 'AMZN_returns'),\n",
       " ('AMD_returns', 'BAC_returns'),\n",
       " ('AMD_returns', 'META_returns'),\n",
       " ('AMD_returns', 'AVGO_returns'),\n",
       " ('AMD_returns', 'TER_returns'),\n",
       " ('AMZN_returns', 'BAC_returns'),\n",
       " ('AMZN_returns', 'META_returns'),\n",
       " ('AMZN_returns', 'AVGO_returns'),\n",
       " ('AMZN_returns', 'TER_returns'),\n",
       " ('BAC_returns', 'META_returns'),\n",
       " ('BAC_returns', 'AVGO_returns'),\n",
       " ('BAC_returns', 'TER_returns'),\n",
       " ('META_returns', 'AVGO_returns'),\n",
       " ('META_returns', 'TER_returns'),\n",
       " ('AVGO_returns', 'TER_returns')]"
      ]
     },
     "execution_count": 16,
     "metadata": {},
     "output_type": "execute_result"
    }
   ],
   "source": [
    "d = []\n",
    "returns_asset_pair = []\n",
    "# [(r1, r2) for r1 in returns for r2 in returns if r1!=r2]\n",
    "for r1 in returns:\n",
    "    d.append(r1)\n",
    "    for r2 in returns:\n",
    "        if r1!=r2 and r2 not in d:\n",
    "            returns_asset_pair.append((r1, r2))\n",
    "\n",
    "returns_asset_pair"
   ]
  },
  {
   "cell_type": "code",
   "execution_count": 17,
   "metadata": {},
   "outputs": [
    {
     "data": {
      "text/plain": [
       "{'AMD_returns': 0.2597402597402597,\n",
       " 'AMZN_returns': 0.12987012987012986,\n",
       " 'BAC_returns': 0.38961038961038963,\n",
       " 'META_returns': 0.12987012987012986,\n",
       " 'AVGO_returns': 0.025974025974025976,\n",
       " 'TER_returns': 0.06493506493506493}"
      ]
     },
     "execution_count": 17,
     "metadata": {},
     "output_type": "execute_result"
    }
   ],
   "source": [
    "t_weights = dict(zip(returns, weights))\n",
    "t_weights"
   ]
  },
  {
   "cell_type": "code",
   "execution_count": 18,
   "metadata": {},
   "outputs": [
    {
     "data": {
      "text/plain": [
       "4.9654028074776e-05"
      ]
     },
     "execution_count": 18,
     "metadata": {},
     "output_type": "execute_result"
    }
   ],
   "source": [
    "portfolio_var = 0\n",
    "for i, j in returns_asset_pair:\n",
    "    portfolio_var += t_weights[i]*t_weights[j]*np.cov(portfolio[i], portfolio[j])[0][1]\n",
    "\n",
    "portfolio_var"
   ]
  },
  {
   "cell_type": "markdown",
   "metadata": {},
   "source": [
    "### Covariance and Correlation"
   ]
  },
  {
   "cell_type": "code",
   "execution_count": 22,
   "metadata": {},
   "outputs": [
    {
     "data": {
      "text/plain": [
       "[(('AMD_returns', 'AMZN_returns'), 0.00025597240653950294),\n",
       " (('AMD_returns', 'BAC_returns'), 6.281262835596843e-05),\n",
       " (('AMD_returns', 'META_returns'), 0.00029418073364961524),\n",
       " (('AMD_returns', 'AVGO_returns'), 0.0003291522263572359),\n",
       " (('AMD_returns', 'TER_returns'), 0.00034948246389626507),\n",
       " (('AMZN_returns', 'BAC_returns'), 3.7003663684417785e-05),\n",
       " (('AMZN_returns', 'META_returns'), 0.000276968522875291),\n",
       " (('AMZN_returns', 'AVGO_returns'), 0.0001438656373486921),\n",
       " (('AMZN_returns', 'TER_returns'), 0.00014691640817001726),\n",
       " (('BAC_returns', 'META_returns'), 6.341008891510928e-05),\n",
       " (('BAC_returns', 'AVGO_returns'), 5.219021767749228e-05),\n",
       " (('BAC_returns', 'TER_returns'), 0.00010673902834238968),\n",
       " (('META_returns', 'AVGO_returns'), 0.00018271347587314922),\n",
       " (('META_returns', 'TER_returns'), 0.00013536373947960756),\n",
       " (('AVGO_returns', 'TER_returns'), 0.0002783273737499471)]"
      ]
     },
     "execution_count": 22,
     "metadata": {},
     "output_type": "execute_result"
    }
   ],
   "source": [
    "[(p, np.cov(portfolio[p[0]], portfolio[p[1]])[0][1]) for p in returns_asset_pair]"
   ]
  },
  {
   "cell_type": "code",
   "execution_count": 20,
   "metadata": {},
   "outputs": [
    {
     "data": {
      "text/plain": [
       "[(('AMD_returns', 'AMZN_returns'), 0.450424847250475),\n",
       " (('AMD_returns', 'BAC_returns'), 0.13500266710321002),\n",
       " (('AMD_returns', 'META_returns'), 0.40579266228649125),\n",
       " (('AMD_returns', 'AVGO_returns'), 0.4970748004698721),\n",
       " (('AMD_returns', 'TER_returns'), 0.5526963973169605),\n",
       " (('AMZN_returns', 'BAC_returns'), 0.12338852031011371),\n",
       " (('AMZN_returns', 'META_returns'), 0.5927274315392614),\n",
       " (('AMZN_returns', 'AVGO_returns'), 0.3370673394435192),\n",
       " (('AMZN_returns', 'TER_returns'), 0.36046756766879245),\n",
       " (('BAC_returns', 'META_returns'), 0.16574833243018197),\n",
       " (('BAC_returns', 'AVGO_returns'), 0.1493533267627276),\n",
       " (('BAC_returns', 'TER_returns'), 0.3198787074408622),\n",
       " (('META_returns', 'AVGO_returns'), 0.33557604640361055),\n",
       " (('META_returns', 'TER_returns'), 0.2603508571880798),\n",
       " (('AVGO_returns', 'TER_returns'), 0.5860674170899156)]"
      ]
     },
     "execution_count": 20,
     "metadata": {},
     "output_type": "execute_result"
    }
   ],
   "source": [
    "[(p, np.corrcoef(portfolio[p[0]], portfolio[p[1]])[0][1]) for p in returns_asset_pair]"
   ]
  },
  {
   "cell_type": "code",
   "execution_count": null,
   "metadata": {},
   "outputs": [],
   "source": [
    "[np.corrcoef(portfolio[p[0]], portfolio[p[1]])[0][1] for p in returns_asset_pair]"
   ]
  },
  {
   "cell_type": "markdown",
   "metadata": {},
   "source": [
    "### Beta"
   ]
  },
  {
   "cell_type": "code",
   "execution_count": 12,
   "metadata": {},
   "outputs": [
    {
     "data": {
      "text/plain": [
       "5.9506371808209664e-05"
      ]
     },
     "execution_count": 12,
     "metadata": {},
     "output_type": "execute_result"
    }
   ],
   "source": [
    "market_returns_var = np.var(rates_df['market_returns'])\n",
    "market_returns_var"
   ]
  },
  {
   "cell_type": "code",
   "execution_count": 13,
   "metadata": {},
   "outputs": [
    {
     "data": {
      "text/plain": [
       "[2.096799425260499,\n",
       " 1.5353681313501224,\n",
       " 1.0714096504988266,\n",
       " 1.8226193975028446,\n",
       " 1.70630209181392,\n",
       " 1.802922447768201]"
      ]
     },
     "execution_count": 13,
     "metadata": {},
     "output_type": "execute_result"
    }
   ],
   "source": [
    "betas = [np.cov(portfolio[i], rates_df['market_returns'])[0][1] / market_returns_var for i in returns]\n",
    "betas"
   ]
  },
  {
   "cell_type": "code",
   "execution_count": 14,
   "metadata": {},
   "outputs": [
    {
     "data": {
      "text/plain": [
       "1.5595502562490038"
      ]
     },
     "execution_count": 14,
     "metadata": {},
     "output_type": "execute_result"
    }
   ],
   "source": [
    "beta_portfolio = sum([beta*w for beta, w in zip(betas, weights)])\n",
    "beta_portfolio"
   ]
  },
  {
   "cell_type": "markdown",
   "metadata": {},
   "source": [
    "### Capital Asset Pricing Model (CAPM)"
   ]
  },
  {
   "cell_type": "code",
   "execution_count": 19,
   "metadata": {},
   "outputs": [
    {
     "name": "stdout",
     "output_type": "stream",
     "text": [
      "AMD 0.6533914844806448\n",
      "AMZN 0.5120339072974733\n",
      "BAC 0.39521810547436836\n",
      "META 0.5843582388168864\n",
      "AVGO 0.5550717834749699\n",
      "TER 0.5793989265687303\n"
     ]
    }
   ],
   "source": [
    "capm = [risk_free_rate + beta*(market_rate - risk_free_rate) for ticker, beta in zip(tickers, betas)]\n",
    "\n",
    "for ticker, c in zip(tickers, capm):\n",
    "    print(ticker, c)"
   ]
  },
  {
   "cell_type": "markdown",
   "metadata": {},
   "source": [
    "### Capital Allocation Line"
   ]
  },
  {
   "cell_type": "code",
   "execution_count": 23,
   "metadata": {},
   "outputs": [
    {
     "data": {
      "text/plain": [
       "0.3539076349872403"
      ]
     },
     "execution_count": 23,
     "metadata": {},
     "output_type": "execute_result"
    }
   ],
   "source": [
    "E_R_portfolio = risk_free_rate + (market_rate - risk_free_rate)*np.sqrt(portfolio_var)/np.sqrt(market_var)\n",
    "E_R_portfolio"
   ]
  },
  {
   "cell_type": "markdown",
   "metadata": {},
   "source": [
    "### Sharpe Ratio"
   ]
  },
  {
   "cell_type": "code",
   "execution_count": 38,
   "metadata": {},
   "outputs": [
    {
     "data": {
      "text/plain": [
       "84.31925875263002"
      ]
     },
     "execution_count": 38,
     "metadata": {},
     "output_type": "execute_result"
    }
   ],
   "source": [
    "sharpe_ratio = (portfolio_cumsum_return - risk_free_rate)/np.sqrt(portfolio_var)\n",
    "sharpe_ratio"
   ]
  },
  {
   "cell_type": "markdown",
   "metadata": {},
   "source": [
    "### M<sup>2</sup> Ratio"
   ]
  },
  {
   "cell_type": "code",
   "execution_count": 22,
   "metadata": {},
   "outputs": [
    {
     "data": {
      "text/plain": [
       "0.4066776453527968"
      ]
     },
     "execution_count": 22,
     "metadata": {},
     "output_type": "execute_result"
    }
   ],
   "source": [
    "M2_ratio = (portfolio_cumsum_return - risk_free_rate)\\\n",
    "           * (np.sqrt(market_var) / np.sqrt(portfolio_var))\\\n",
    "           - (market_rate - risk_free_rate)\n",
    "M2_ratio"
   ]
  },
  {
   "cell_type": "markdown",
   "metadata": {},
   "source": [
    "### Treynor Ratio"
   ]
  },
  {
   "cell_type": "code",
   "execution_count": 27,
   "metadata": {},
   "outputs": [
    {
     "data": {
      "text/plain": [
       "0.1511168125654945"
      ]
     },
     "execution_count": 27,
     "metadata": {},
     "output_type": "execute_result"
    }
   ],
   "source": [
    "treynor_ratio = (E_R_portfolio - risk_free_rate)/beta_portfolio\n",
    "treynor_ratio"
   ]
  },
  {
   "cell_type": "code",
   "execution_count": 30,
   "metadata": {},
   "outputs": [
    {
     "data": {
      "text/plain": [
       "0.38899438147160253"
      ]
     },
     "execution_count": 30,
     "metadata": {},
     "output_type": "execute_result"
    }
   ],
   "source": [
    "treynor_ratio = (portfolio_cumsum_return - risk_free_rate)/beta_portfolio\n",
    "treynor_ratio"
   ]
  },
  {
   "cell_type": "markdown",
   "metadata": {},
   "source": [
    "### Jensen’s Alpha"
   ]
  },
  {
   "cell_type": "code",
   "execution_count": 29,
   "metadata": {},
   "outputs": [
    {
     "data": {
      "text/plain": [
       "0.20375494999652333"
      ]
     },
     "execution_count": 29,
     "metadata": {},
     "output_type": "execute_result"
    }
   ],
   "source": [
    "alpha_portfolio = portfolio_cumsum_return - (risk_free_rate + beta_portfolio*(market_rate - risk_free_rate))\n",
    "alpha_portfolio"
   ]
  },
  {
   "cell_type": "code",
   "execution_count": null,
   "metadata": {},
   "outputs": [],
   "source": []
  },
  {
   "cell_type": "code",
   "execution_count": null,
   "metadata": {},
   "outputs": [],
   "source": []
  },
  {
   "cell_type": "markdown",
   "metadata": {},
   "source": [
    "## Formulas"
   ]
  },
  {
   "cell_type": "markdown",
   "metadata": {},
   "source": [
    "### Portfolio: Risk&Return"
   ]
  },
  {
   "cell_type": "markdown",
   "metadata": {},
   "source": [
    "---\n",
    "#### *The* **population variance**\n",
    "---\n",
    "\n",
    "$\\displaystyle\n",
    "\\sigma^2=\\sum_{i=1}^N \\frac{(x_i-\\mu)^2}{N}\n",
    "$\n",
    "\\begin{align*} \\\\ \\end{align*}\n",
    "\n",
    "---\n",
    "#### *The* **sample variance**\n",
    "---\n",
    "\n",
    "$\\displaystyle\n",
    "s^2=\\sum_{i=1}^n \\frac{(x_i-\\overline{x})^2}{(n-1)}\n",
    "$\n",
    "\\begin{align*} \\\\ \\end{align*}\n",
    "\n",
    "---\n",
    "#### *The* **covariance** *between two assets returns*\n",
    "---\n",
    "\n",
    "$\\displaystyle\n",
    "Cov_{1,2} = \\frac{ \\sum_{i=1}^n \\{ (R_{i,1}-\\overline{R_1})(R_{i,2}-\\overline{R_2}) \\} }{ (n-1) }\n",
    "$\n",
    "\\begin{align*} \\\\ \\end{align*}\n",
    "\n",
    "---\n",
    "#### *The* **correlation**\n",
    "---\n",
    "\n",
    "$\\displaystyle\n",
    "\\rho_{1,2} = \\frac {Cov_{1,2}} {\\sigma_1 \\sigma_2}\n",
    "$\n",
    "\\begin{align*} \\\\ \\end{align*}"
   ]
  },
  {
   "cell_type": "markdown",
   "metadata": {},
   "source": [
    "---\n",
    "#### **Time-weighted** *rate of return*\n",
    "---\n",
    "$\\displaystyle\n",
    "r_{TW}=[ (1+r_1)(1+r_2)\\ldots(1+r_N)^\\frac{1}{N} ] - 1\n",
    "$\n",
    "\\begin{align*} \\\\ \\end{align*}\n",
    "\n",
    "---\n",
    "#### **Annualized** *return*\n",
    "---\n",
    "$\\displaystyle\n",
    "r_{annual} = (1+r_{period})^c-1\n",
    "$\n",
    "\n",
    "- $c$ - number of periods in a year\n",
    "\\begin{align*} \\\\ \\end{align*}\n",
    "\n",
    "---\n",
    "#### **Nominal** *rate of return*\n",
    "---\n",
    "$\\displaystyle\n",
    "(1+r)=(1+r_rF)(1+\\pi)(1+RP)\n",
    "$\n",
    "\n",
    "- $r_rF$ - real risk-free rate of return\n",
    "- $\\pi$ - inflation\n",
    "- $RP$ - risk premium\n",
    "\\begin{align*} \\\\ \\end{align*}\n",
    "\n",
    "---\n",
    "#### **Real** *rate of return*\n",
    "---\n",
    "$\\displaystyle\n",
    "(1+r_{real})=(1+r_rF)(1+RP)=\\frac{1+r}{1+\\pi}\n",
    "$\n",
    "\n",
    "- $r_rF$ - real risk-free rate of return\n",
    "- $\\pi$ - inflation\n",
    "- $RP$ - risk premium\n",
    "\\begin{align*} \\\\ \\end{align*}"
   ]
  },
  {
   "cell_type": "markdown",
   "metadata": {},
   "source": [
    "---\n",
    "#### **Utility** *function*\n",
    "---\n",
    "$\\displaystyle\n",
    "U=E(r)-\\frac{1}{2}A\\sigma^2\n",
    "$\n",
    "\n",
    "- $U$ - utility of an investment\n",
    "- $E(r)$ - expected return\n",
    "- $A$ - risk aversion level\n",
    "\\begin{align*} \\\\ \\end{align*}"
   ]
  },
  {
   "cell_type": "markdown",
   "metadata": {},
   "source": [
    "---\n",
    "#### *Portfolio* **return** (many risky assets)\n",
    "---\n",
    "$\\displaystyle\n",
    "R_p = \\sum_{i=1}^N w_iR_i, \\sum_{i=1}^Nw_i=1\n",
    "$\n",
    "\n",
    "- $R_i$ - return of asset\n",
    "- $w_i$ - weight within the portfolio\n",
    "\\begin{align*} \\\\ \\end{align*}\n",
    "---\n",
    "#### *Portfolio* **variance**\n",
    "---\n",
    "$\\displaystyle\n",
    "\\sigma^2_P = \\sum_{i,j=1}^Nw_iw_jCOV(R_i, R_j)\n",
    "$\n",
    "\\begin{align*} \\\\ \\end{align*}\n",
    "\n",
    "---\n",
    "#### *Portfolio* **variance** (two-asset portfolio)\n",
    "---\n",
    "$\\displaystyle\n",
    "\\sigma^2_P = w^2_1\\sigma^2_1+w^2_2\\sigma^2_2+2w_1w_2COV(R_1, R_2)\n",
    "$\n",
    "\\begin{align*} \\\\ \\end{align*}\n",
    "\n",
    "---\n",
    "#### *Portfolio* **return of two assets** (when one asset is the risk-free asset)\n",
    "---\n",
    "$\\displaystyle\n",
    "E(R_p)=w_1R_f+(1-w_1)E(R_i)\n",
    "$\n",
    "\n",
    "- $R_f$ - returns of risk-free asset\n",
    "- $R_i$ - returns of respective asset\n",
    "- $w_1$ - weight in asset 1\n",
    "- $1-w_1=w_2$\n",
    "\\begin{align*} \\\\ \\end{align*}\n",
    "---\n",
    "#### *Portfolio* **standard deviation** *of two assets* (when one asset is the risk-free asset)\n",
    "---\n",
    "$\\displaystyle\n",
    "\\sigma_P=\\sqrt{w^2_1\\sigma^2_f+(1-w_1)^2\\sigma^2_i+2w_1(1-w_1)\\rho_{1,2}\\sigma_f\\sigma_i}=(1-w_1)\\sigma_i\n",
    "$\n",
    "\n",
    "- $f$ - risk-free asset\n",
    "- $i$ - asset\n",
    "- $\\sigma$ - standard deviation\n",
    "- $w$ - weight\n",
    "\\begin{align*} \\\\ \\end{align*}"
   ]
  },
  {
   "cell_type": "markdown",
   "metadata": {},
   "source": [
    "---\n",
    "#### **Capital Asset Pricing Model** (CAPM)\n",
    "---\n",
    "$\\displaystyle\n",
    "E(R_i)=R_F + \\beta_i[E(R_m)-R_F]\n",
    "$\n",
    "\n",
    "- $\\beta_i$ - return sensitivity of stock $i$ to changes in the market return\n",
    "- $E(R_m)$ - expected return on the market\n",
    "- $[E(R_m)-R_F]$ - expected market risk premium\n",
    "- $R_F$ - risk-free rate of interest\n",
    "\\begin{align*} \\\\ \\end{align*}\n",
    "---\n",
    "#### **Capital allocation line**\n",
    "---\n",
    "$\\displaystyle\n",
    "E(R_p) = R_f + \\frac{E(R_m)-R_f}{\\sigma_m}\\sigma_p\n",
    "$\n",
    "\n",
    "- $E(R_m)$ - expected return of the market portfolio\n",
    "- $R_f$ - risk-free rate of return\n",
    "- $\\sigma_m$ - standard deviation of the market portfolio\n",
    "- $\\sigma_p$ - standard deviation of the portfolio $p$\n",
    "\\begin{align*} \\\\ \\end{align*}\n",
    "---\n",
    "#### **Expected** *return* (multifactor model)\n",
    "---\n",
    "$\\displaystyle\n",
    "E(R_i)-R_f=\\beta_{i1}E(Factor_1)+\\beta_{i2}E(Factor_2)+\\ldots+\\beta_{ik}E(Factor_k)\n",
    "$\n",
    "\n",
    "- $\\beta_{ik}$ - stock i’s sensitivity to changes in the $k^{th}$ factor\n",
    "- $Factor_k$ - expected risk premium for the $k^{th}$ factor\n",
    "\\begin{align*} \\\\ \\end{align*}\n",
    "---\n",
    "#### **Beta** *of an asset*\n",
    "---\n",
    "$\\displaystyle\n",
    "\\beta_i=\\frac{Cov(R_i, R_m)}{\\sigma^2_m}=\\frac{\\rho_{i,m}\\sigma_i\\sigma_m}{\\sigma^2_m}=\\frac{\\rho_{i,m}\\sigma_i}{\\sigma_m}\n",
    "$\n",
    "\n",
    "- $\\sigma$ - standard deviation\n",
    "- $m$ - market portfolio\n",
    "- $i$ - asset portfolio\n",
    "\\begin{align*} \\\\ \\end{align*}\n",
    "---\n",
    "#### *Portfolio* **beta**\n",
    "---\n",
    "$\\displaystyle\n",
    "\\beta_P=\\sum^n_{i=1}w_i\\beta_i \\\\\n",
    "\\sum^n_{i=1}w_i=1\n",
    "$\n",
    "\n",
    "\\begin{align*} \\\\ \\end{align*}\n",
    "\n",
    "---\n",
    "#### **Sharpe ratio**\n",
    "---\n",
    "$\\displaystyle\n",
    "Sharpe\\, Ratio = \\frac{R_p-R_f}{\\sigma_p}\n",
    "$\n",
    "\\begin{align*} \\\\ \\end{align*}\n",
    "\n",
    "---\n",
    "#### **M<sup>2</sup> ratio**\n",
    "---\n",
    "$\\displaystyle\n",
    "M^2\\, Ratio = (R_p-R_f)\\frac{\\sigma_m}{\\sigma_p}-(R_m-R_f)\n",
    "$\n",
    "\n",
    "- $R_m$ - market return\n",
    "\\begin{align*} \\\\ \\end{align*}\n",
    "---\n",
    "#### **Treynor ratio**\n",
    "---\n",
    "$\\displaystyle\n",
    "Treynor\\, Ratio = \\frac{E(R_p)-R_f}{\\beta_p}\n",
    "$\n",
    "\\begin{align*} \\\\ \\end{align*}\n",
    "\n",
    "---\n",
    "#### **Jensen’s alpha**\n",
    "---\n",
    "$\\displaystyle\n",
    "\\alpha_P=R_p-[R_f+\\beta_p(R_m-R_f)]\n",
    "$\n",
    "\\begin{align*} \\\\ \\end{align*}\n"
   ]
  },
  {
   "cell_type": "code",
   "execution_count": null,
   "metadata": {},
   "outputs": [],
   "source": []
  }
 ],
 "metadata": {
  "kernelspec": {
   "display_name": "Python 3",
   "language": "python",
   "name": "python3"
  },
  "language_info": {
   "codemirror_mode": {
    "name": "ipython",
    "version": 3
   },
   "file_extension": ".py",
   "mimetype": "text/x-python",
   "name": "python",
   "nbconvert_exporter": "python",
   "pygments_lexer": "ipython3",
   "version": "3.8.5"
  }
 },
 "nbformat": 4,
 "nbformat_minor": 2
}
