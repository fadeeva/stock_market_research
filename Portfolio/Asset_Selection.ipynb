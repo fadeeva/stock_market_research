{
 "cells": [
  {
   "cell_type": "markdown",
   "metadata": {},
   "source": [
    "# Asset Selection"
   ]
  },
  {
   "cell_type": "code",
   "execution_count": 20,
   "metadata": {},
   "outputs": [],
   "source": [
    "import pandas as pd\n",
    "import numpy as np\n",
    "\n",
    "import scipy.stats as stats\n",
    "from sklearn import covariance\n",
    "\n",
    "import datetime as dt\n",
    "import yfinance as yf\n",
    "\n",
    "import matplotlib.pyplot as plt\n",
    "import seaborn as sns\n",
    "\n",
    "import pickle as pk\n",
    "import requests\n",
    "\n",
    "import random\n",
    "\n",
    "jtplot.style(figsize=(15, 9))"
   ]
  },
  {
   "cell_type": "code",
   "execution_count": 34,
   "metadata": {},
   "outputs": [],
   "source": [
    "with open('../../ntbk/sp500tickers.pickle', 'rb') as f:\n",
    "    sp500 = pk.load(f)\n",
    "\n",
    "with open('../../../alphavantage_token.TXT', 'rb') as f:\n",
    "    TOKEN = f.read().decode('utf-8')"
   ]
  },
  {
   "cell_type": "code",
   "execution_count": 17,
   "metadata": {},
   "outputs": [
    {
     "data": {
      "text/plain": [
       "['MMM', 'ABT', 'ABBV', 'ABMD', 'ACN', 'ATVI', 'ADBE', 'AMD', 'AAP', 'AES']"
      ]
     },
     "execution_count": 17,
     "metadata": {},
     "output_type": "execute_result"
    }
   ],
   "source": [
    "sp500[:10]"
   ]
  },
  {
   "cell_type": "code",
   "execution_count": 35,
   "metadata": {},
   "outputs": [
    {
     "name": "stdout",
     "output_type": "stream",
     "text": [
      "{'Symbol': 'MMM', 'AssetType': 'Common Stock', 'Name': '3M Company', 'Description': 'The 3M Company is an American multinational conglomerate corporation operating in the fields of industry, worker safety, US health care, and consumer goods. The company produces over 60,000 products under several brands, including adhesives, abrasives, laminates, passive fire protection, personal protective equipment, window films, paint protection films, dental and orthodontic products, electrical and electronic connecting and insulating materials, medical products, car-care products, electronic circuits, healthcare software and optical films. It is based in Maplewood, a suburb of Saint Paul, Minnesota.', 'CIK': '66740', 'Exchange': 'NYSE', 'Currency': 'USD', 'Country': 'USA', 'Sector': 'LIFE SCIENCES', 'Industry': 'SURGICAL & MEDICAL INSTRUMENTS & APPARATUS', 'Address': '3M CENTER, BLDG. 220-13E-26A, ST PAUL, MN, US', 'FiscalYearEnd': 'December', 'LatestQuarter': '2024-03-31', 'MarketCapitalization': '57167725000', 'EBITDA': '8146000000', 'PERatio': 'None', 'PEGRatio': '1.905', 'BookValue': '8.79', 'DividendPerShare': '6.01', 'DividendYield': '0.0271', 'EPS': '-12.73', 'RevenuePerShareTTM': '58.89', 'ProfitMargin': '-0.216', 'OperatingMarginTTM': '0.217', 'ReturnOnAssetsTTM': '0.0758', 'ReturnOnEquityTTM': '-0.693', 'RevenueTTM': '32653001000', 'GrossProfitTTM': '15000000000', 'DilutedEPSTTM': '-12.73', 'QuarterlyEarningsGrowthYOY': '-0.051', 'QuarterlyRevenueGrowthYOY': '-0.003', 'AnalystTargetPrice': '110', 'AnalystRatingStrongBuy': '0', 'AnalystRatingBuy': '5', 'AnalystRatingHold': '11', 'AnalystRatingSell': '2', 'AnalystRatingStrongSell': '0', 'TrailingPE': '-', 'ForwardPE': '10.6', 'PriceToSalesRatioTTM': '1.546', 'PriceToBookRatio': '10.51', 'EVToRevenue': '1.879', 'EVToEBITDA': '-9.08', 'Beta': '1.001', '52WeekHigh': '105.31', '52WeekLow': '68.2', '50DayMovingAverage': '100.74', '200DayMovingAverage': '87.66', 'SharesOutstanding': '553361000', 'DividendDate': '2024-06-12', 'ExDividendDate': '2024-05-23'}\n"
     ]
    }
   ],
   "source": [
    "url = f'https://www.alphavantage.co/query?function=OVERVIEW&symbol=MMM&apikey={TOKEN}'\n",
    "r = requests.get(url)\n",
    "data = r.json()\n",
    "\n",
    "print(data)"
   ]
  },
  {
   "cell_type": "code",
   "execution_count": null,
   "metadata": {},
   "outputs": [],
   "source": []
  }
 ],
 "metadata": {
  "kernelspec": {
   "display_name": "Python 3",
   "language": "python",
   "name": "python3"
  },
  "language_info": {
   "codemirror_mode": {
    "name": "ipython",
    "version": 3
   },
   "file_extension": ".py",
   "mimetype": "text/x-python",
   "name": "python",
   "nbconvert_exporter": "python",
   "pygments_lexer": "ipython3",
   "version": "3.8.5"
  }
 },
 "nbformat": 4,
 "nbformat_minor": 2
}
