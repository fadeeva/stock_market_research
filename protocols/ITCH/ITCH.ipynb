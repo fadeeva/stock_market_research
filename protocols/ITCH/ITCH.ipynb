{
  "nbformat": 4,
  "nbformat_minor": 0,
  "metadata": {
    "colab": {
      "provenance": [],
      "toc_visible": true,
      "authorship_tag": "ABX9TyOlb/l6S9a6Z5gqlARTKnzc"
    },
    "kernelspec": {
      "name": "python3",
      "display_name": "Python 3"
    },
    "language_info": {
      "name": "python"
    }
  },
  "cells": [
    {
      "cell_type": "code",
      "execution_count": 2,
      "metadata": {
        "id": "80161UuqhiAu"
      },
      "outputs": [],
      "source": [
        "import gzip\n",
        "import shutil\n",
        "from pathlib import Path\n",
        "from urllib.request import urlretrieve\n",
        "from urllib.parse import urljoin\n",
        "from datetime import datetime\n",
        "from struct import unpack\n",
        "from collections import namedtuple, Counter\n",
        "from datetime import timedelta\n",
        "from time import time\n",
        "\n",
        "import pandas as pd\n",
        "import numpy as np\n",
        "\n",
        "import matplotlib.pyplot as plt"
      ]
    },
    {
      "cell_type": "code",
      "source": [
        "URL = 'https://emi.nasdaq.com/ITCH/Nasdaq%20ITCH/'\n",
        "SOURCE_FILE = '03272019.NASDAQ_ITCH50.gz'"
      ],
      "metadata": {
        "id": "rRzHAhOJkeRX"
      },
      "execution_count": null,
      "outputs": []
    }
  ]
}