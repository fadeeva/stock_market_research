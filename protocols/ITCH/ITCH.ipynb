{
  "nbformat": 4,
  "nbformat_minor": 0,
  "metadata": {
    "colab": {
      "provenance": [],
      "authorship_tag": "ABX9TyNazhdv3bltJCsszQRgtHt2"
    },
    "kernelspec": {
      "name": "python3",
      "display_name": "Python 3"
    },
    "language_info": {
      "name": "python"
    }
  },
  "cells": [
    {
      "cell_type": "markdown",
      "source": [
        "# Analyze NASDAQ ITCH protocol"
      ],
      "metadata": {
        "id": "rkKDyS25d14z"
      }
    },
    {
      "cell_type": "code",
      "execution_count": 2,
      "metadata": {
        "id": "80161UuqhiAu"
      },
      "outputs": [],
      "source": [
        "import gzip\n",
        "import shutil\n",
        "from pathlib import Path\n",
        "from urllib.request import urlretrieve\n",
        "from urllib.parse import urljoin\n",
        "from datetime import datetime\n",
        "from struct import unpack\n",
        "from collections import namedtuple, Counter\n",
        "from datetime import timedelta\n",
        "from time import time\n",
        "\n",
        "import pandas as pd\n",
        "import numpy as np\n",
        "\n",
        "import matplotlib.pyplot as plt"
      ]
    },
    {
      "cell_type": "markdown",
      "source": [
        "## Download Sample Data"
      ],
      "metadata": {
        "id": "GgLCOnP3dvaz"
      }
    },
    {
      "cell_type": "code",
      "source": [
        "URL = 'https://emi.nasdaq.com/ITCH/Nasdaq%20ITCH/'\n",
        "SOURCE_FILE = '03272019.NASDAQ_ITCH50.gz' # .gz 5.13GB, unzipped 11.99GB\n",
        "data_path = Path('data')\n",
        "\n",
        "url = urljoin(URL, SOURCE_FILE)\n",
        "filename = data_path / url.split('/')[-1]\n",
        "if not data_path.exists():\n",
        "    print('Creating directory')\n",
        "    data_path.mkdir()\n",
        "if not filename.exists():\n",
        "    print('Downloading...', url)\n",
        "    urlretrieve(url, filename)\n",
        "unzipped = data_path / (filename.stem + '.bin')\n",
        "if not (data_path / unzipped).exists():\n",
        "    print('Unzipping to', unzipped)\n",
        "    with gzip.open(str(filename), 'rb') as f_in:\n",
        "        with open(unzipped, 'wb') as f_out:\n",
        "            shutil.copyfileobj(f_in, f_out)\n"
      ],
      "metadata": {
        "id": "9lqZeeTvfuc6",
        "outputId": "0d3b2b78-6fdb-48ef-d7c9-3b7a05241f29",
        "colab": {
          "base_uri": "https://localhost:8080/"
        }
      },
      "execution_count": null,
      "outputs": [
        {
          "output_type": "stream",
          "name": "stdout",
          "text": [
            "Creating directory\n",
            "Downloading... https://emi.nasdaq.com/ITCH/Nasdaq%20ITCH/03272019.NASDAQ_ITCH50.gz\n",
            "Unzipping to data/03272019.NASDAQ_ITCH50.bin\n"
          ]
        }
      ]
    },
    {
      "cell_type": "markdown",
      "source": [
        "## Message Formats"
      ],
      "metadata": {
        "id": "aOshFMcKdrGy"
      }
    },
    {
      "cell_type": "code",
      "source": [
        "# https://www.nasdaqtrader.com/content/technicalsupport/specifications/dataproducts/NQTVITCHSpecification.pdf"
      ],
      "metadata": {
        "id": "4sRCQy3ednM4"
      },
      "execution_count": null,
      "outputs": []
    },
    {
      "cell_type": "code",
      "source": [
        "event_codes = {'O': 'Start of Messages',\n",
        "               'S': 'Start of System Hours',\n",
        "               'Q': 'Start of Market Hours',\n",
        "               'M': 'End of Market Hours',\n",
        "               'E': 'End of System Hours',\n",
        "               'C': 'End of Messages'}\n",
        "\n",
        "encoding = {'primary_market_maker': {'Y': 1, 'N': 0},\n",
        "            'printable'           : {'Y': 1, 'N': 0},\n",
        "            'buy_sell_indicator'  : {'B': 1, 'S': -1},\n",
        "            'cross_type'          : {'O': 0, 'C': 1, 'H': 2},\n",
        "            'imbalance_direction' : {'B': 0, 'S': 1, 'N': 0, 'O': -1}}\n",
        "\n",
        "formats = {\n",
        "    ('integer', 2): 'H',\n",
        "    ('integer', 4): 'I',\n",
        "    ('integer', 6): '6s',\n",
        "    ('integer', 8): 'Q',\n",
        "    ('alpha', 1)  : 's',\n",
        "    ('alpha', 2)  : '2s',\n",
        "    ('alpha', 4)  : '4s',\n",
        "    ('alpha', 8)  : '8s',\n",
        "    ('price_4', 4): 'I',\n",
        "    ('price_8', 8): 'Q',\n",
        "}\n"
      ],
      "metadata": {
        "id": "PFIEHndwiGAj"
      },
      "execution_count": 1,
      "outputs": []
    },
    {
      "cell_type": "code",
      "source": [],
      "metadata": {
        "id": "74MC17gvdIFc"
      },
      "execution_count": null,
      "outputs": []
    }
  ]
}