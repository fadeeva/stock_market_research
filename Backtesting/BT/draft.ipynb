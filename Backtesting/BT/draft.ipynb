{
 "cells": [
  {
   "cell_type": "code",
   "execution_count": 4,
   "metadata": {},
   "outputs": [],
   "source": [
    "from typing import List\n",
    "from functools import wraps\n",
    "\n",
    "import numpy as np\n",
    "import pandas as pd\n",
    "\n",
    "import matplotlib.pyplot as plt\n",
    "import seaborn as sns\n",
    "\n",
    "import yfinance as yf\n",
    "import datetime as dt\n",
    "\n",
    "jtplot.style(figsize=(15, 9))"
   ]
  },
  {
   "cell_type": "code",
   "execution_count": 2,
   "metadata": {},
   "outputs": [],
   "source": [
    "# tickers = ['GLD', 'GDX', 'AAPL', 'SPY']\n",
    "# # tickers = ['MSFT', 'NVDA', 'AMD', 'META']\n",
    "# d_start = dt.datetime(2010, 1, 1)\n",
    "# d_final = dt.datetime(2020, 12, 31)\n",
    "#  period = '1d'\n",
    "\n",
    "# df = yf.download(tickers, start=d_start, end=d_final, period=period, auto_adjust=True)\n",
    "# df.to_csv(f\"../../../data/bt/{'_'.join(tickers)}__{period.upper()}.csv\")"
   ]
  },
  {
   "cell_type": "code",
   "execution_count": 5,
   "metadata": {},
   "outputs": [],
   "source": [
    "import os\n",
    "\n",
    "DATA_PATH = '../../data/bt/'\n",
    "\n",
    "def read_csv_bt(csv:str)->pd.DataFrame:\n",
    "    file_path = f\"{DATA_PATH}{csv}\"\n",
    "    tickers, _ = csv.split('__')\n",
    "    if len(tickers)>1:\n",
    "        return pd.read_csv(file_path, parse_dates=True, header=[0, 1], index_col=0)['Close']\n",
    "    else:\n",
    "        return pd.read_csv(file_path, parse_dates=True, index_col=0)['Close']\n",
    "\n",
    "def get_backtest_data()->List[list]:\n",
    "    bt_files = os.listdir(DATA_PATH)\n",
    "    csv_files = []\n",
    "    for csv in bt_files:\n",
    "        try:\n",
    "            tickers, period = csv.split('__')\n",
    "            df = read_csv_bt(csv) # send to some dict with data???\n",
    "            csv_files.append({\n",
    "                'csv': csv,\n",
    "                'tickers': list(map(str.upper, tickers.split('_'))),\n",
    "                'period': period.replace('.csv', ''),\n",
    "                'start': df.iloc[0].name.strftime('%d/%m/%Y'),\n",
    "                'end': df.iloc[-1].name.strftime('%d/%m/%Y')\n",
    "            })\n",
    "        except:\n",
    "            continue\n",
    "    return csv_files\n"
   ]
  },
  {
   "cell_type": "markdown",
   "metadata": {},
   "source": [
    "## Strategies for testing"
   ]
  },
  {
   "cell_type": "code",
   "execution_count": 6,
   "metadata": {},
   "outputs": [],
   "source": [
    "class Strategy:\n",
    "    def __init__(self):\n",
    "        pass\n",
    "    \n",
    "    def set_data(self, ticker:str, data:pd.DataFrame):\n",
    "        self.data = data.copy()\n",
    "        self.data['returns'] = np.log(self.data[ticker] / self.data[ticker].shift(1))\n",
    "        self.ticker = ticker\n",
    "        self.strategy = []\n",
    "        self.drawdown = []\n",
    "    \n",
    "    def get_result(self):\n",
    "        strategy_result = self.data[self.strategy+['returns']].sum().apply(np.exp)\n",
    "        drawdown_result = self.data[self.drawdown].max()\n",
    "        result = pd.concat([strategy_result, drawdown_result]).to_frame()\n",
    "        result.rename(columns={0: self.ticker}, inplace=True)\n",
    "        \n",
    "        return result\n"
   ]
  },
  {
   "cell_type": "code",
   "execution_count": 7,
   "metadata": {},
   "outputs": [],
   "source": [
    "class SMA(Strategy):\n",
    "    def __init__(self, sma1:List[int]=[42], sma2:List[int]=[252]):\n",
    "        self.sma1 = sma1\n",
    "        self.sma2 = sma2\n",
    "    \n",
    "    def run_strategy(self):\n",
    "        for s1, s2 in zip(self.sma1, self.sma2):\n",
    "            self.data[f'SMA1_{s1}'] = self.data[self.ticker].rolling(s1).mean()\n",
    "            self.data[f'SMA2_{s2}'] = self.data[self.ticker].rolling(s2).mean()\n",
    "            self.data.dropna(inplace=True)\n",
    "\n",
    "            self.data[f'position_{s1}_{s2}'] = np.where(self.data[f'SMA1_{s1}'] > self.data[f'SMA2_{s2}'], 1, -1)\n",
    "            self.data[f'strategy_{s1}_{s2}'] = self.data[f'position_{s1}_{s2}'].shift(1) * self.data['returns']\n",
    "            self.strategy.append(f'strategy_{s1}_{s2}')\n",
    "\n",
    "            self.data[f'cumret_{s1}_{s2}'] = self.data[f'strategy_{s1}_{s2}'].cumsum().apply(np.exp)\n",
    "            self.data[f'cummax_{s1}_{s2}'] = self.data[f'cumret_{s1}_{s2}'].cummax()\n",
    "            self.data[f'drawdown_{s1}_{s2}'] = self.data[f'cummax_{s1}_{s2}'] - self.data[f'cumret_{s1}_{s2}']\n",
    "            self.drawdown.append(f'drawdown_{s1}_{s2}')\n",
    "\n",
    "        result = self.get_result()\n",
    "    \n",
    "        return result, self.data.copy()\n",
    "    "
   ]
  },
  {
   "cell_type": "code",
   "execution_count": 8,
   "metadata": {},
   "outputs": [],
   "source": [
    "class MOM(Strategy):\n",
    "    def __init__(self, moms:List[int]=[1]):\n",
    "        self.moms = moms\n",
    "    \n",
    "    def run_strategy(self):\n",
    "        for mom in self.moms:\n",
    "            self.data[f'MOM_{mom}'] = self.data[self.ticker].rolling(mom).mean()\n",
    "            self.data.dropna(inplace=True)\n",
    "\n",
    "            self.data[f'position_{mom}'] = np.sign(self.data['returns'].rolling(mom).mean())\n",
    "            self.data[f'strategy_{mom}'] = self.data[f'position_{mom}'].shift(1) * self.data['returns']\n",
    "            self.strategy.append(f'strategy_{mom}')\n",
    "\n",
    "            self.data[f'cumret_{mom}'] = self.data[f'strategy_{mom}'].cumsum().apply(np.exp)\n",
    "            self.data[f'cummax_{mom}'] = self.data[f'cumret_{mom}'].cummax()\n",
    "            self.data[f'drawdown_{mom}'] = self.data[f'cummax_{mom}'] - self.data[f'cumret_{mom}']\n",
    "            self.drawdown.append(f'drawdown_{mom}')\n",
    "\n",
    "        result = self.get_result()\n",
    "    \n",
    "        return result, self.data.copy()\n"
   ]
  },
  {
   "cell_type": "code",
   "execution_count": 9,
   "metadata": {},
   "outputs": [],
   "source": [
    "class MeanRe(Strategy):\n",
    "    def __init__(self, sma:List[int]=[25], threshold:float=3.5):\n",
    "        self.sma = sma\n",
    "        self.threshold = threshold\n",
    "        \n",
    "    def run_strategy(self):\n",
    "        for s in self.sma:\n",
    "            self.data['SMA'] = self.data[self.ticker].rolling(s).mean()\n",
    "            self.data['distance'] = self.data[self.ticker] - self.data['SMA']\n",
    "            self.data['distance'].dropna(inplace=True)\n",
    "            \n",
    "            self.data[f'position_{s}'] = np.where(self.data['distance'] > self.threshold,\n",
    "                                                  -1, np.nan)  \n",
    "            self.data[f'position_{s}'] = np.where(self.data['distance'] < -self.threshold,\n",
    "                                                  1, self.data[f'position_{s}'])  \n",
    "            self.data[f'position_{s}'] = np.where(self.data['distance'] * self.data['distance'].shift(1) < 0,\n",
    "                                                  0, self.data[f'position_{s}'])  \n",
    "            self.data[f'position_{s}'] = self.data[f'position_{s}'].ffill().fillna(0)\n",
    "            self.data[f'strategy_{s}'] = self.data[f'position_{s}'].shift(1) * self.data['returns']\n",
    "            self.strategy.append(f'strategy_{s}')\n",
    "            \n",
    "            self.data[f'cumret_{s}'] = self.data[f'strategy_{s}'].cumsum().apply(np.exp)\n",
    "            self.data[f'cummax_{s}'] = self.data[f'cumret_{s}'].cummax()\n",
    "            self.data[f'drawdown_{s}'] = self.data[f'cummax_{s}'] - self.data[f'cumret_{s}']\n",
    "            self.drawdown.append(f'drawdown_{s}')\n",
    "            \n",
    "        result = self.get_result()\n",
    "        \n",
    "        return result, self.data.copy()\n",
    "    "
   ]
  },
  {
   "cell_type": "code",
   "execution_count": 11,
   "metadata": {},
   "outputs": [],
   "source": [
    "def start_backtesting(strategy_cls, *args)->list:\n",
    "    bt_results_dfs = []\n",
    "    bt_data_files = get_backtest_data()\n",
    "    for bt in bt_data_files:\n",
    "        csv, tickers, period, _, _ = bt.values()\n",
    "        data = read_csv_bt(csv)\n",
    "\n",
    "        single_ticker_result = []\n",
    "        STRATEGY = get_strategy(strategy_cls, *args)\n",
    "        for ticker in tickers:\n",
    "            STRATEGY.set_data(ticker, pd.DataFrame(data[ticker]))\n",
    "            result, full_data = STRATEGY.run_strategy()\n",
    "            \n",
    "            single_ticker_result.append(result)\n",
    "\n",
    "        single_ticker_result = pd.concat(single_ticker_result, axis=1)\n",
    "        single_ticker_result.index.name = period\n",
    "        bt_results_dfs.append(single_ticker_result)\n",
    "    return bt_results_dfs\n",
    "        \n",
    "def get_strategy(strategy, *args):\n",
    "    strategies = dict(\n",
    "        sma=SMA,\n",
    "        mom=MOM,\n",
    "        mean_re=MeanRe,\n",
    "    )\n",
    "    return strategies[strategy](*args)\n"
   ]
  },
  {
   "cell_type": "code",
   "execution_count": 10,
   "metadata": {},
   "outputs": [
    {
     "data": {
      "text/plain": [
       "[                      GLD       GDX       AAPL       SPY\n",
       " 1D                                                      \n",
       " strategy_42_252  1.308799  1.065529   6.424632  1.466223\n",
       " strategy_24_180  1.162980  1.102915   6.462446  1.668211\n",
       " strategy_18_64   1.611339  0.746799   3.299714  1.804156\n",
       " strategy_6_22    1.462546  2.269095   5.655584  0.803092\n",
       " returns          1.107165  0.732320  10.219678  3.437358\n",
       " drawdown_42_252  0.447434  1.041484   4.107096  0.623526\n",
       " drawdown_24_180  0.402130  0.787659   1.729420  1.023388\n",
       " drawdown_18_64   0.308936  1.408235   1.144106  0.520338\n",
       " drawdown_6_22    0.322727  2.556176   1.345458  0.557455,\n",
       "                       GLD       GDX      AAPL       SPY\n",
       " 1H                                                     \n",
       " strategy_42_252  1.210578  0.547866  1.141445  1.205247\n",
       " strategy_24_180  1.001059  0.695432  1.112150  1.183577\n",
       " strategy_18_64   1.258914  1.151021  1.049129  1.315175\n",
       " strategy_6_22    0.788741  0.802870  0.819486  1.026587\n",
       " returns          1.325064  1.176649  1.572987  1.422543\n",
       " drawdown_42_252  0.102017  0.587091  0.504713  0.140857\n",
       " drawdown_24_180  0.179167  0.522789  0.306785  0.127559\n",
       " drawdown_18_64   0.142815  0.557039  0.283586  0.096486\n",
       " drawdown_6_22    0.329267  0.471270  0.313121  0.177073,\n",
       "                      MSFT       NVDA        AMD      META\n",
       " 1D                                                       \n",
       " strategy_42_252  3.344814  51.817514   4.318952  1.494979\n",
       " strategy_24_180  4.370648  14.254129   7.735609  1.868235\n",
       " strategy_18_64   2.679757   3.852440   9.515734  1.666678\n",
       " strategy_6_22    0.903091   3.714009   1.175666  0.370789\n",
       " returns          9.610845  42.301740  16.106457  4.302421\n",
       " drawdown_42_252  0.646690  10.681082   1.320996  2.271103\n",
       " drawdown_24_180  1.286986   3.657339   4.123071  1.180385\n",
       " drawdown_18_64   0.724351   2.699340   8.082624  0.474541\n",
       " drawdown_6_22    0.507959   2.173471   3.739029  0.907712,\n",
       "                      MSFT       NVDA        AMD      META\n",
       " 1H                                                       \n",
       " strategy_42_252  3.344808  51.817544   4.318952  1.494978\n",
       " strategy_24_180  4.370646  14.254121   7.735609  1.868235\n",
       " strategy_18_64   2.679754   3.852446   9.515734  1.666678\n",
       " strategy_6_22    0.903090   3.713981   1.175666  0.370789\n",
       " returns          9.610850  42.301724  16.106457  4.302421\n",
       " drawdown_42_252  0.646689  10.681091   1.320996  2.271103\n",
       " drawdown_24_180  1.286984   3.657338   4.123071  1.180385\n",
       " drawdown_18_64   0.724351   2.699342   8.082624  0.474541\n",
       " drawdown_6_22    0.507961   2.173455   3.739029  0.907712]"
      ]
     },
     "execution_count": 10,
     "metadata": {},
     "output_type": "execute_result"
    }
   ],
   "source": [
    "SMA1 = [42, 24, 18, 6]\n",
    "SMA2 = [252, 180, 64, 22]\n",
    "start_backtesting('sma', SMA1, SMA2)"
   ]
  },
  {
   "cell_type": "code",
   "execution_count": 77,
   "metadata": {},
   "outputs": [
    {
     "data": {
      "text/plain": [
       "[                  GLD       GDX       AAPL       SPY\n",
       " 1D                                                  \n",
       " strategy_10  0.995737  0.314059   3.301410  1.175725\n",
       " returns      1.586182  0.809055  20.724333  4.027025\n",
       " drawdown_10  0.323483  1.662379   1.366986  0.677924,\n",
       "                   GLD       GDX      AAPL       SPY\n",
       " 1H                                                 \n",
       " strategy_10  1.011674  0.624452  0.577015  0.893413\n",
       " returns      1.565266  1.620833  1.586997  1.577566\n",
       " drawdown_10  0.159304  0.511475  0.485228  0.169165,\n",
       "                  MSFT       NVDA        AMD      META\n",
       " 1D                                                   \n",
       " strategy_10  0.565772   0.743711   2.656222  0.325733\n",
       " returns      9.193323  32.440119  10.254445  9.184797\n",
       " drawdown_10  1.026777   1.593146   8.999155  1.683596,\n",
       "                  MSFT       NVDA        AMD      META\n",
       " 1H                                                   \n",
       " strategy_10  0.538790   0.885990   2.656222  0.325733\n",
       " returns      9.193321  32.440122  10.254445  9.184797\n",
       " drawdown_10  1.053372   1.768208   8.999155  1.683595]"
      ]
     },
     "execution_count": 77,
     "metadata": {},
     "output_type": "execute_result"
    }
   ],
   "source": [
    "start_backtesting('mom', [10])"
   ]
  },
  {
   "cell_type": "code",
   "execution_count": 10,
   "metadata": {},
   "outputs": [
    {
     "data": {
      "text/plain": [
       "[                  GLD       GDX       AAPL       SPY\n",
       " 1D                                                  \n",
       " strategy_25  1.095107  3.003503   0.414385  1.214852\n",
       " returns      1.618397  0.824147  20.280812  4.083878\n",
       " drawdown_25  0.297397  0.844094   0.832532  0.747674,\n",
       "                   GLD       GDX      AAPL       SPY\n",
       " 1H                                                 \n",
       " strategy_25  0.996823  1.000000  1.092354  1.124085\n",
       " returns      1.538725  1.591653  1.594131  1.570848\n",
       " drawdown_25  0.114540  0.000000  0.248219  0.156182,\n",
       "                  MSFT       NVDA       AMD      META\n",
       " 1D                                                  \n",
       " strategy_25  1.706064   1.000000  0.952347  1.240384\n",
       " returns      9.196292  30.931284  9.514433  7.111431\n",
       " drawdown_25  0.717983   0.000000  0.541103  0.846389,\n",
       "                  MSFT       NVDA       AMD      META\n",
       " 1H                                                  \n",
       " strategy_25  1.706061   1.000000  0.952347  1.240384\n",
       " returns      9.196294  30.931282  9.514433  7.111430\n",
       " drawdown_25  0.717982   0.000000  0.541103  0.846389]"
      ]
     },
     "execution_count": 10,
     "metadata": {},
     "output_type": "execute_result"
    }
   ],
   "source": [
    "start_backtesting('mean_re')"
   ]
  },
  {
   "cell_type": "code",
   "execution_count": null,
   "metadata": {},
   "outputs": [],
   "source": []
  }
 ],
 "metadata": {
  "kernelspec": {
   "display_name": "Python 3",
   "language": "python",
   "name": "python3"
  },
  "language_info": {
   "codemirror_mode": {
    "name": "ipython",
    "version": 3
   },
   "file_extension": ".py",
   "mimetype": "text/x-python",
   "name": "python",
   "nbconvert_exporter": "python",
   "pygments_lexer": "ipython3",
   "version": "3.8.5"
  }
 },
 "nbformat": 4,
 "nbformat_minor": 2
}
