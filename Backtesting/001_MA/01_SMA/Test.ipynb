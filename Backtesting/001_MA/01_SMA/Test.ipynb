{
 "cells": [
  {
   "cell_type": "code",
   "execution_count": 1,
   "metadata": {},
   "outputs": [],
   "source": [
    "from SMAVectorBacktester import *"
   ]
  },
  {
   "cell_type": "code",
   "execution_count": 5,
   "metadata": {},
   "outputs": [
    {
     "data": {
      "text/plain": [
       "<SMAVectorBacktester.SMAVectorBacktester at 0xefc7688>"
      ]
     },
     "execution_count": 5,
     "metadata": {},
     "output_type": "execute_result"
    }
   ],
   "source": [
    "test = SMAVectorBacktester(\n",
    "    symbol='IBM',\n",
    "    start=dt.datetime(2024, 1, 1),\n",
    "    end=dt.datetime(2024, 8, 23),\n",
    "    interval='1d',\n",
    "    SMA1=14,\n",
    "    SMA2=250,\n",
    ")\n",
    "test"
   ]
  },
  {
   "cell_type": "code",
   "execution_count": 6,
   "metadata": {},
   "outputs": [
    {
     "data": {
      "text/plain": [
       "Date\n",
       "2002-12-30    1.014557\n",
       "2002-12-31    0.998193\n",
       "2003-01-02    0.960159\n",
       "2003-01-03    0.947458\n",
       "2003-01-06    0.925469\n",
       "                ...   \n",
       "2022-12-23    0.272045\n",
       "2022-12-27    0.273524\n",
       "2022-12-28    0.268914\n",
       "2022-12-29    0.270912\n",
       "2022-12-30    0.270585\n",
       "Name: c_strategy, Length: 5037, dtype: float64"
      ]
     },
     "execution_count": 6,
     "metadata": {},
     "output_type": "execute_result"
    }
   ],
   "source": [
    "test.run_strategy()"
   ]
  },
  {
   "cell_type": "code",
   "execution_count": null,
   "metadata": {},
   "outputs": [],
   "source": []
  }
 ],
 "metadata": {
  "kernelspec": {
   "display_name": "Python 3",
   "language": "python",
   "name": "python3"
  },
  "language_info": {
   "codemirror_mode": {
    "name": "ipython",
    "version": 3
   },
   "file_extension": ".py",
   "mimetype": "text/x-python",
   "name": "python",
   "nbconvert_exporter": "python",
   "pygments_lexer": "ipython3",
   "version": "3.8.5"
  }
 },
 "nbformat": 4,
 "nbformat_minor": 2
}
