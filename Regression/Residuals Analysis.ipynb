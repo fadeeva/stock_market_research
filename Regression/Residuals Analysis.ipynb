{
 "cells": [
  {
   "cell_type": "markdown",
   "metadata": {},
   "source": [
    "# Residuals Analysis"
   ]
  },
  {
   "cell_type": "code",
   "execution_count": 1,
   "metadata": {},
   "outputs": [],
   "source": [
    "import numpy as np\n",
    "import pandas as pd\n",
    "from statsmodels import regression\n",
    "import statsmodels.api as sm\n",
    "import statsmodels.stats.diagnostic as smd\n",
    "import scipy.stats as stats\n",
    "import matplotlib.pyplot as plt\n",
    "import math\n",
    "\n",
    "import yfinance as yf\n",
    "import datetime as dt\n",
    "\n",
    "from jupyterthemes import jtplot\n",
    "jtplot.style(theme='onedork', figsize=(15, 9))"
   ]
  },
  {
   "cell_type": "code",
   "execution_count": null,
   "metadata": {},
   "outputs": [],
   "source": [
    "class ResidualAnalysis():\n",
    "    def __init__(self, asset, benchmark, start, end):\n",
    "        self.asset = asset\n",
    "        self.benchmark = benchmark\n",
    "        self.start = start\n",
    "        self.end = end\n",
    "    \n",
    "    def get_data(self):\n",
    "        asset = yf.download(self.asset, start=self.start, end=self.end)\n",
    "        benchmark = yf.download(self.benchmark, start=self.start, end=self.end)\n",
    "        \n",
    "        self.asset_returns = np.log(asset['Close'].div(asset['Close'].shift(1)))\n",
    "        self.benchmark_returns = np.log(benchmark['Close'].div(benchmark['Close'].shift(1)))\n",
    "    \n",
    "    def linear_regression_model(self):\n",
    "        self.benchmark_returns = sm.add_constant(self.benchmark_returns)\n",
    "        self.model = sm.OLS(self.asset_returns, self.benchmark_returns).fit()\n",
    "        self.benchmark_returns = self.benchmark_returns[:, 1]\n",
    "        B0, B1 = self.model.params\n",
    "    \n",
    "    def heteroscedasticity_test(self):\n",
    "        bp_test = smd.het_breuschpagan(self.model.resid, self.model.model.exog)\n",
    "\n",
    "        print(f'Lagrange Multiplier Statistic: {bp_test[0]}')\n",
    "        print(f'P-value: {bp_test[1]}')\n",
    "        print(f'f-value: {bp_test[2]}')\n",
    "        print(f'f_p-value: {bp_test[3]}\\n')\n",
    "        if bp_test[1] > 0.05:\n",
    "            print('The relationship is not heteroscedastic.')\n",
    "        if bp_test[1] < 0.05:\n",
    "            print('The relationship is heteroscedastic.')\n",
    "    \n",
    "    def autocorrelation_test(self):\n",
    "        ljung_box = smd.acorr_ljungbox(self.asset_returns)\n",
    "        print(f'P-Values: {ljung_box[1]}\\n')\n",
    "        if any(ljung_box[1] < 0.05):\n",
    "            print('The residuals are autocorrelated.')\n",
    "        else:\n",
    "            print('The residuals are not autocorrelated.')\n",
    "    \n",
    "    \n",
    "    "
   ]
  }
 ],
 "metadata": {
  "kernelspec": {
   "display_name": "Python 3",
   "language": "python",
   "name": "python3"
  },
  "language_info": {
   "codemirror_mode": {
    "name": "ipython",
    "version": 3
   },
   "file_extension": ".py",
   "mimetype": "text/x-python",
   "name": "python",
   "nbconvert_exporter": "python",
   "pygments_lexer": "ipython3",
   "version": "3.8.5"
  }
 },
 "nbformat": 4,
 "nbformat_minor": 2
}
