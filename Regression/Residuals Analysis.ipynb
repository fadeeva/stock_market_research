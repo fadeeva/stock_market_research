{
 "cells": [
  {
   "cell_type": "markdown",
   "metadata": {},
   "source": [
    "# Residuals Analysis"
   ]
  },
  {
   "cell_type": "code",
   "execution_count": 1,
   "metadata": {},
   "outputs": [],
   "source": [
    "import numpy as np\n",
    "import pandas as pd\n",
    "from statsmodels import regression\n",
    "import statsmodels.api as sm\n",
    "import statsmodels.stats.diagnostic as smd\n",
    "import scipy.stats as stats\n",
    "import matplotlib.pyplot as plt\n",
    "import math\n",
    "\n",
    "import yfinance as yf\n",
    "import datetime as dt\n",
    "\n",
    "from jupyterthemes import jtplot\n",
    "jtplot.style(theme='onedork', figsize=(15, 9))"
   ]
  },
  {
   "cell_type": "code",
   "execution_count": null,
   "metadata": {},
   "outputs": [],
   "source": [
    "class ResidualAnalysis():\n",
    "    def __init__(self, asset, benchmark, start, end):\n",
    "        self.asset = asset\n",
    "        self.benchmark = benchmark\n",
    "        self.start = start\n",
    "        self.end = end\n",
    "    \n",
    "    def get_data(self):\n",
    "        asset = yf.download(self.asset, start=self.start, end=self.end)\n",
    "        benchmark = yf.download(self.benchmark, start=self.start, end=self.end)\n",
    "        \n",
    "        self.asset_returns = np.log(asset['Close'].div(asset['Close'].shift(1)))\n",
    "        self.benchmark_returns = np.log(benchmark['Close'].div(benchmark['Close'].shift(1)))\n",
    "    \n",
    "    def linear_regression_model(self):\n",
    "        pass\n",
    "    \n",
    "    def heteroscedasticity_test(self):\n",
    "        pass\n",
    "    \n",
    "    def autocorrelation_test(self):\n",
    "        pass\n",
    "    \n",
    "    \n",
    "    "
   ]
  }
 ],
 "metadata": {
  "kernelspec": {
   "display_name": "Python 3",
   "language": "python",
   "name": "python3"
  },
  "language_info": {
   "codemirror_mode": {
    "name": "ipython",
    "version": 3
   },
   "file_extension": ".py",
   "mimetype": "text/x-python",
   "name": "python",
   "nbconvert_exporter": "python",
   "pygments_lexer": "ipython3",
   "version": "3.8.5"
  }
 },
 "nbformat": 4,
 "nbformat_minor": 2
}
