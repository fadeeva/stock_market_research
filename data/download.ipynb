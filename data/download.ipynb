{
 "cells": [
  {
   "cell_type": "code",
   "execution_count": 4,
   "metadata": {},
   "outputs": [],
   "source": [
    "import pandas as pd\n",
    "import numpy as np\n",
    "import pandas_datareader.data as web\n",
    "import datetime as dt\n",
    "import yfinance as yf"
   ]
  },
  {
   "cell_type": "code",
   "execution_count": 5,
   "metadata": {},
   "outputs": [],
   "source": [
    "def download(ticker, start, end, interval='1d'):\n",
    "    data = yf.download(ticker, start, end, interval, auto_adjust=True)\n",
    "    csv = f'{\"_\".join(str(i) for i in ticker)}_{start.date()}_{end.date()}_{interval}.csv'\n",
    "    data.to_csv(csv)\n",
    "    return csv"
   ]
  },
  {
   "cell_type": "code",
   "execution_count": 9,
   "metadata": {},
   "outputs": [],
   "source": [
    "data = download(['AAPL', 'IBM'], dt.datetime(2021, 1, 1), dt.datetime(2022, 12, 31), '1d')"
   ]
  },
  {
   "cell_type": "code",
   "execution_count": 10,
   "metadata": {},
   "outputs": [],
   "source": [
    "data = download(['^GSPC'], dt.datetime(2020, 9, 29), dt.datetime(2023, 9, 26), '1d')"
   ]
  },
  {
   "cell_type": "code",
   "execution_count": 5,
   "metadata": {},
   "outputs": [
    {
     "name": "stdout",
     "output_type": "stream",
     "text": [
      "[*********************100%***********************]  1 of 1 completed\n"
     ]
    },
    {
     "data": {
      "text/plain": [
       "'MDY_2002-01-01_2022-12-31_1d.csv'"
      ]
     },
     "execution_count": 5,
     "metadata": {},
     "output_type": "execute_result"
    }
   ],
   "source": [
    "download('MDY', dt.datetime(2002, 1, 1), dt.datetime(2022, 12, 31), '1d')"
   ]
  },
  {
   "cell_type": "code",
   "execution_count": 2,
   "metadata": {},
   "outputs": [
    {
     "name": "stdout",
     "output_type": "stream",
     "text": [
      "[*********************100%***********************]  1 of 1 completed\n"
     ]
    }
   ],
   "source": [
    "# start = dt.datetime(2002, 1, 1)\n",
    "# end = dt.datetime(2022, 12, 31)\n",
    "\n",
    "# data = yf.download('SPY', start=start, end=end, interval=\"1d\", auto_adjust=True)\n",
    "\n",
    "# data.to_csv('spy_2002-1-1_2022-12-31_d.csv')"
   ]
  },
  {
   "cell_type": "code",
   "execution_count": 4,
   "metadata": {},
   "outputs": [
    {
     "name": "stdout",
     "output_type": "stream",
     "text": [
      "                 Open       High        Low      Close    Volume\n",
      "Date                                                            \n",
      "2001-12-31  77.603947  77.764298  76.321128  76.367897  14619500\n",
      "2002-01-02  76.909097  77.336703  76.040518  77.189713  18651900\n",
      "2002-01-03  77.269879  78.138452  77.196383  78.064957  15743000\n",
      "2002-01-04  78.285449  78.826642  77.871208  78.586113  20140700\n",
      "2002-01-07  78.639571  78.833331  77.877897  78.031570  13106500\n"
     ]
    }
   ],
   "source": [
    "df = pd.read_csv('spy_2002-1-1_2022-12-31_d.csv')\n",
    "df.set_index('Date', inplace=True)\n",
    "df.head()"
   ]
  }
 ],
 "metadata": {
  "kernelspec": {
   "display_name": "Python 3",
   "language": "python",
   "name": "python3"
  },
  "language_info": {
   "codemirror_mode": {
    "name": "ipython",
    "version": 3
   },
   "file_extension": ".py",
   "mimetype": "text/x-python",
   "name": "python",
   "nbconvert_exporter": "python",
   "pygments_lexer": "ipython3",
   "version": "3.8.5"
  }
 },
 "nbformat": 4,
 "nbformat_minor": 2
}
