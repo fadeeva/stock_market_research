{
 "cells": [
  {
   "cell_type": "code",
   "execution_count": 1,
   "metadata": {},
   "outputs": [],
   "source": [
    "import pandas as pd\n",
    "import numpy as np\n",
    "import pandas_datareader.data as web\n",
    "import datetime as dt\n",
    "import yfinance as yf"
   ]
  },
  {
   "cell_type": "code",
   "execution_count": 17,
   "metadata": {},
   "outputs": [],
   "source": [
    "def download(ticker, start, end, interval='1d'):\n",
    "    data = yf.download(ticker, start, end, interval, auto_adjust=True)\n",
    "    csv = f'{\"_\".join(str(i) for i in ticker)}_{start.date()}_{end.date()}_{interval}.csv'\n",
    "    data.to_csv(csv)\n",
    "    return csv"
   ]
  },
  {
   "cell_type": "code",
   "execution_count": 20,
   "metadata": {},
   "outputs": [
    {
     "name": "stdout",
     "output_type": "stream",
     "text": [
      "[*********************100%***********************]  1 of 1 completed\n"
     ]
    }
   ],
   "source": [
    "data = download(['AAPL'], dt.datetime(2021, 1, 1), dt.datetime(2022, 12, 31), '1d')"
   ]
  },
  {
   "cell_type": "code",
   "execution_count": 1,
   "metadata": {},
   "outputs": [],
   "source": [
    "# csv_name = download('AMD', dt.datetime(2002, 1, 1), dt.datetime(2022, 12, 31), '1d')\n",
    "# df = pd.read_csv(csv_name)\n",
    "# print(df.head())"
   ]
  },
  {
   "cell_type": "code",
   "execution_count": 5,
   "metadata": {},
   "outputs": [
    {
     "name": "stdout",
     "output_type": "stream",
     "text": [
      "[*********************100%***********************]  1 of 1 completed\n"
     ]
    },
    {
     "data": {
      "text/plain": [
       "'MDY_2002-01-01_2022-12-31_1d.csv'"
      ]
     },
     "execution_count": 5,
     "metadata": {},
     "output_type": "execute_result"
    }
   ],
   "source": [
    "download('MDY', dt.datetime(2002, 1, 1), dt.datetime(2022, 12, 31), '1d')"
   ]
  },
  {
   "cell_type": "code",
   "execution_count": 22,
   "metadata": {},
   "outputs": [
    {
     "name": "stdout",
     "output_type": "stream",
     "text": [
      "[*********************100%***********************]  1 of 1 completed\n",
      "         Date         Open         High          Low        Close      Volume  \\\n",
      "0  2001-12-31  1161.020020  1161.160034  1148.040039  1148.079956   943600000   \n",
      "1  2002-01-02  1148.079956  1154.670044  1136.229980  1154.670044  1171000000   \n",
      "2  2002-01-03  1154.670044  1165.270020  1154.010010  1165.270020  1398900000   \n",
      "3  2002-01-04  1165.270020  1176.550049  1163.420044  1172.510010  1513000000   \n",
      "4  2002-01-07  1172.510010  1176.969971  1163.550049  1164.890015  1308300000   \n",
      "\n",
      "   Dividends  Stock Splits  \n",
      "0          0             0  \n",
      "1          0             0  \n",
      "2          0             0  \n",
      "3          0             0  \n",
      "4          0             0  \n"
     ]
    }
   ],
   "source": [
    "# csv_name = download('^GSPC', dt.datetime(2002, 1, 1), dt.datetime(2022, 12, 31), '1d')\n",
    "# df = pd.read_csv(csv_name)\n",
    "# print(df.head())"
   ]
  },
  {
   "cell_type": "code",
   "execution_count": 2,
   "metadata": {},
   "outputs": [
    {
     "name": "stdout",
     "output_type": "stream",
     "text": [
      "[*********************100%***********************]  1 of 1 completed\n"
     ]
    }
   ],
   "source": [
    "# start = dt.datetime(2002, 1, 1)\n",
    "# end = dt.datetime(2022, 12, 31)\n",
    "\n",
    "# data = yf.download('SPY', start=start, end=end, interval=\"1d\", auto_adjust=True)\n",
    "\n",
    "# data.to_csv('spy_2002-1-1_2022-12-31_d.csv')"
   ]
  },
  {
   "cell_type": "code",
   "execution_count": 4,
   "metadata": {},
   "outputs": [
    {
     "name": "stdout",
     "output_type": "stream",
     "text": [
      "                 Open       High        Low      Close    Volume\n",
      "Date                                                            \n",
      "2001-12-31  77.603947  77.764298  76.321128  76.367897  14619500\n",
      "2002-01-02  76.909097  77.336703  76.040518  77.189713  18651900\n",
      "2002-01-03  77.269879  78.138452  77.196383  78.064957  15743000\n",
      "2002-01-04  78.285449  78.826642  77.871208  78.586113  20140700\n",
      "2002-01-07  78.639571  78.833331  77.877897  78.031570  13106500\n"
     ]
    }
   ],
   "source": [
    "df = pd.read_csv('spy_2002-1-1_2022-12-31_d.csv')\n",
    "df.set_index('Date', inplace=True)\n",
    "df.head()"
   ]
  }
 ],
 "metadata": {
  "kernelspec": {
   "display_name": "Python 3",
   "language": "python",
   "name": "python3"
  },
  "language_info": {
   "codemirror_mode": {
    "name": "ipython",
    "version": 3
   },
   "file_extension": ".py",
   "mimetype": "text/x-python",
   "name": "python",
   "nbconvert_exporter": "python",
   "pygments_lexer": "ipython3",
   "version": "3.8.5"
  }
 },
 "nbformat": 4,
 "nbformat_minor": 2
}
