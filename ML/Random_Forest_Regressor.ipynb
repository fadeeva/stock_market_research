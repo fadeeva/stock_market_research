{
 "cells": [
  {
   "cell_type": "markdown",
   "metadata": {},
   "source": [
    "# Random Forest Regressor"
   ]
  },
  {
   "cell_type": "code",
   "execution_count": 32,
   "metadata": {},
   "outputs": [],
   "source": [
    "import pandas as pd\n",
    "import numpy as np\n",
    "import random\n",
    "\n",
    "from sklearn.ensemble import RandomForestRegressor\n",
    "from sklearn.metrics import mean_squared_error, r2_score\n",
    "from sklearn.utils import shuffle\n",
    "from sklearn.pipeline import Pipeline\n",
    "from sklearn.preprocessing import RobustScaler, MinMaxScaler, PolynomialFeatures, PowerTransformer\n",
    "from sklearn.model_selection import train_test_split, GridSearchCV\n",
    "\n",
    "from datetime import datetime\n",
    "\n",
    "import matplotlib.pyplot as plt\n",
    "\n",
    "from jupyterthemes import jtplot\n",
    "jtplot.style(figsize=(15, 9))"
   ]
  },
  {
   "cell_type": "code",
   "execution_count": 2,
   "metadata": {},
   "outputs": [
    {
     "data": {
      "text/html": [
       "<div>\n",
       "<style scoped>\n",
       "    .dataframe tbody tr th:only-of-type {\n",
       "        vertical-align: middle;\n",
       "    }\n",
       "\n",
       "    .dataframe tbody tr th {\n",
       "        vertical-align: top;\n",
       "    }\n",
       "\n",
       "    .dataframe thead th {\n",
       "        text-align: right;\n",
       "    }\n",
       "</style>\n",
       "<table border=\"1\" class=\"dataframe\">\n",
       "  <thead>\n",
       "    <tr style=\"text-align: right;\">\n",
       "      <th></th>\n",
       "      <th>Open</th>\n",
       "      <th>High</th>\n",
       "      <th>Low</th>\n",
       "      <th>Close</th>\n",
       "      <th>Volume</th>\n",
       "    </tr>\n",
       "    <tr>\n",
       "      <th>Date</th>\n",
       "      <th></th>\n",
       "      <th></th>\n",
       "      <th></th>\n",
       "      <th></th>\n",
       "      <th></th>\n",
       "    </tr>\n",
       "  </thead>\n",
       "  <tbody>\n",
       "    <tr>\n",
       "      <th>2001-12-31</th>\n",
       "      <td>77.603947</td>\n",
       "      <td>77.764298</td>\n",
       "      <td>76.321128</td>\n",
       "      <td>76.367897</td>\n",
       "      <td>14619500</td>\n",
       "    </tr>\n",
       "    <tr>\n",
       "      <th>2002-01-02</th>\n",
       "      <td>76.909097</td>\n",
       "      <td>77.336703</td>\n",
       "      <td>76.040518</td>\n",
       "      <td>77.189713</td>\n",
       "      <td>18651900</td>\n",
       "    </tr>\n",
       "    <tr>\n",
       "      <th>2002-01-03</th>\n",
       "      <td>77.269879</td>\n",
       "      <td>78.138452</td>\n",
       "      <td>77.196383</td>\n",
       "      <td>78.064957</td>\n",
       "      <td>15743000</td>\n",
       "    </tr>\n",
       "    <tr>\n",
       "      <th>2002-01-04</th>\n",
       "      <td>78.285449</td>\n",
       "      <td>78.826642</td>\n",
       "      <td>77.871208</td>\n",
       "      <td>78.586113</td>\n",
       "      <td>20140700</td>\n",
       "    </tr>\n",
       "    <tr>\n",
       "      <th>2002-01-07</th>\n",
       "      <td>78.639571</td>\n",
       "      <td>78.833331</td>\n",
       "      <td>77.877897</td>\n",
       "      <td>78.031570</td>\n",
       "      <td>13106500</td>\n",
       "    </tr>\n",
       "    <tr>\n",
       "      <th>...</th>\n",
       "      <td>...</td>\n",
       "      <td>...</td>\n",
       "      <td>...</td>\n",
       "      <td>...</td>\n",
       "      <td>...</td>\n",
       "    </tr>\n",
       "    <tr>\n",
       "      <th>2022-12-23</th>\n",
       "      <td>378.206578</td>\n",
       "      <td>381.603617</td>\n",
       "      <td>376.592742</td>\n",
       "      <td>381.454193</td>\n",
       "      <td>59857300</td>\n",
       "    </tr>\n",
       "    <tr>\n",
       "      <th>2022-12-27</th>\n",
       "      <td>381.334651</td>\n",
       "      <td>381.693267</td>\n",
       "      <td>378.206574</td>\n",
       "      <td>379.949921</td>\n",
       "      <td>51638200</td>\n",
       "    </tr>\n",
       "    <tr>\n",
       "      <th>2022-12-28</th>\n",
       "      <td>379.880163</td>\n",
       "      <td>381.932359</td>\n",
       "      <td>374.988858</td>\n",
       "      <td>375.227936</td>\n",
       "      <td>70911500</td>\n",
       "    </tr>\n",
       "    <tr>\n",
       "      <th>2022-12-29</th>\n",
       "      <td>378.186666</td>\n",
       "      <td>382.888722</td>\n",
       "      <td>377.638738</td>\n",
       "      <td>381.982178</td>\n",
       "      <td>66970900</td>\n",
       "    </tr>\n",
       "    <tr>\n",
       "      <th>2022-12-30</th>\n",
       "      <td>379.192810</td>\n",
       "      <td>381.125406</td>\n",
       "      <td>376.991191</td>\n",
       "      <td>380.975983</td>\n",
       "      <td>84022200</td>\n",
       "    </tr>\n",
       "  </tbody>\n",
       "</table>\n",
       "<p>5288 rows × 5 columns</p>\n",
       "</div>"
      ],
      "text/plain": [
       "                  Open        High         Low       Close    Volume\n",
       "Date                                                                \n",
       "2001-12-31   77.603947   77.764298   76.321128   76.367897  14619500\n",
       "2002-01-02   76.909097   77.336703   76.040518   77.189713  18651900\n",
       "2002-01-03   77.269879   78.138452   77.196383   78.064957  15743000\n",
       "2002-01-04   78.285449   78.826642   77.871208   78.586113  20140700\n",
       "2002-01-07   78.639571   78.833331   77.877897   78.031570  13106500\n",
       "...                ...         ...         ...         ...       ...\n",
       "2022-12-23  378.206578  381.603617  376.592742  381.454193  59857300\n",
       "2022-12-27  381.334651  381.693267  378.206574  379.949921  51638200\n",
       "2022-12-28  379.880163  381.932359  374.988858  375.227936  70911500\n",
       "2022-12-29  378.186666  382.888722  377.638738  381.982178  66970900\n",
       "2022-12-30  379.192810  381.125406  376.991191  380.975983  84022200\n",
       "\n",
       "[5288 rows x 5 columns]"
      ]
     },
     "execution_count": 2,
     "metadata": {},
     "output_type": "execute_result"
    }
   ],
   "source": [
    "df = pd.read_csv('../data/spy_2002-1-1_2022-12-31_d.csv', index_col=0)\n",
    "df"
   ]
  },
  {
   "cell_type": "code",
   "execution_count": 3,
   "metadata": {},
   "outputs": [
    {
     "name": "stderr",
     "output_type": "stream",
     "text": [
      "f:\\python\\lib\\site-packages\\pandas\\core\\frame.py:3607: SettingWithCopyWarning: \n",
      "A value is trying to be set on a copy of a slice from a DataFrame.\n",
      "Try using .loc[row_indexer,col_indexer] = value instead\n",
      "\n",
      "See the caveats in the documentation: https://pandas.pydata.org/pandas-docs/stable/user_guide/indexing.html#returning-a-view-versus-a-copy\n",
      "  self._set_item(key, value)\n"
     ]
    },
    {
     "data": {
      "text/html": [
       "<div>\n",
       "<style scoped>\n",
       "    .dataframe tbody tr th:only-of-type {\n",
       "        vertical-align: middle;\n",
       "    }\n",
       "\n",
       "    .dataframe tbody tr th {\n",
       "        vertical-align: top;\n",
       "    }\n",
       "\n",
       "    .dataframe thead th {\n",
       "        text-align: right;\n",
       "    }\n",
       "</style>\n",
       "<table border=\"1\" class=\"dataframe\">\n",
       "  <thead>\n",
       "    <tr style=\"text-align: right;\">\n",
       "      <th></th>\n",
       "      <th>Close</th>\n",
       "      <th>Low</th>\n",
       "      <th>High</th>\n",
       "      <th>future_price</th>\n",
       "    </tr>\n",
       "    <tr>\n",
       "      <th>Date</th>\n",
       "      <th></th>\n",
       "      <th></th>\n",
       "      <th></th>\n",
       "      <th></th>\n",
       "    </tr>\n",
       "  </thead>\n",
       "  <tbody>\n",
       "    <tr>\n",
       "      <th>2001-12-31</th>\n",
       "      <td>76.367897</td>\n",
       "      <td>76.321128</td>\n",
       "      <td>77.764298</td>\n",
       "      <td>77.189713</td>\n",
       "    </tr>\n",
       "    <tr>\n",
       "      <th>2002-01-02</th>\n",
       "      <td>77.189713</td>\n",
       "      <td>76.040518</td>\n",
       "      <td>77.336703</td>\n",
       "      <td>78.064957</td>\n",
       "    </tr>\n",
       "    <tr>\n",
       "      <th>2002-01-03</th>\n",
       "      <td>78.064957</td>\n",
       "      <td>77.196383</td>\n",
       "      <td>78.138452</td>\n",
       "      <td>78.586113</td>\n",
       "    </tr>\n",
       "    <tr>\n",
       "      <th>2002-01-04</th>\n",
       "      <td>78.586113</td>\n",
       "      <td>77.871208</td>\n",
       "      <td>78.826642</td>\n",
       "      <td>78.031570</td>\n",
       "    </tr>\n",
       "    <tr>\n",
       "      <th>2002-01-07</th>\n",
       "      <td>78.031570</td>\n",
       "      <td>77.877897</td>\n",
       "      <td>78.833331</td>\n",
       "      <td>77.851166</td>\n",
       "    </tr>\n",
       "    <tr>\n",
       "      <th>...</th>\n",
       "      <td>...</td>\n",
       "      <td>...</td>\n",
       "      <td>...</td>\n",
       "      <td>...</td>\n",
       "    </tr>\n",
       "    <tr>\n",
       "      <th>2022-12-23</th>\n",
       "      <td>381.454193</td>\n",
       "      <td>376.592742</td>\n",
       "      <td>381.603617</td>\n",
       "      <td>379.949921</td>\n",
       "    </tr>\n",
       "    <tr>\n",
       "      <th>2022-12-27</th>\n",
       "      <td>379.949921</td>\n",
       "      <td>378.206574</td>\n",
       "      <td>381.693267</td>\n",
       "      <td>375.227936</td>\n",
       "    </tr>\n",
       "    <tr>\n",
       "      <th>2022-12-28</th>\n",
       "      <td>375.227936</td>\n",
       "      <td>374.988858</td>\n",
       "      <td>381.932359</td>\n",
       "      <td>381.982178</td>\n",
       "    </tr>\n",
       "    <tr>\n",
       "      <th>2022-12-29</th>\n",
       "      <td>381.982178</td>\n",
       "      <td>377.638738</td>\n",
       "      <td>382.888722</td>\n",
       "      <td>380.975983</td>\n",
       "    </tr>\n",
       "    <tr>\n",
       "      <th>2022-12-30</th>\n",
       "      <td>380.975983</td>\n",
       "      <td>376.991191</td>\n",
       "      <td>381.125406</td>\n",
       "      <td>NaN</td>\n",
       "    </tr>\n",
       "  </tbody>\n",
       "</table>\n",
       "<p>5288 rows × 4 columns</p>\n",
       "</div>"
      ],
      "text/plain": [
       "                 Close         Low        High  future_price\n",
       "Date                                                        \n",
       "2001-12-31   76.367897   76.321128   77.764298     77.189713\n",
       "2002-01-02   77.189713   76.040518   77.336703     78.064957\n",
       "2002-01-03   78.064957   77.196383   78.138452     78.586113\n",
       "2002-01-04   78.586113   77.871208   78.826642     78.031570\n",
       "2002-01-07   78.031570   77.877897   78.833331     77.851166\n",
       "...                ...         ...         ...           ...\n",
       "2022-12-23  381.454193  376.592742  381.603617    379.949921\n",
       "2022-12-27  379.949921  378.206574  381.693267    375.227936\n",
       "2022-12-28  375.227936  374.988858  381.932359    381.982178\n",
       "2022-12-29  381.982178  377.638738  382.888722    380.975983\n",
       "2022-12-30  380.975983  376.991191  381.125406           NaN\n",
       "\n",
       "[5288 rows x 4 columns]"
      ]
     },
     "execution_count": 3,
     "metadata": {},
     "output_type": "execute_result"
    }
   ],
   "source": [
    "learn_df = df[['Close', 'Low', 'High']]\n",
    "\n",
    "learn_df['future_price'] = learn_df['Close'].shift(-1)\n",
    "learn_df"
   ]
  },
  {
   "cell_type": "code",
   "execution_count": 4,
   "metadata": {},
   "outputs": [
    {
     "name": "stderr",
     "output_type": "stream",
     "text": [
      "f:\\python\\lib\\site-packages\\pandas\\util\\_decorators.py:311: SettingWithCopyWarning: \n",
      "A value is trying to be set on a copy of a slice from a DataFrame\n",
      "\n",
      "See the caveats in the documentation: https://pandas.pydata.org/pandas-docs/stable/user_guide/indexing.html#returning-a-view-versus-a-copy\n",
      "  return func(*args, **kwargs)\n"
     ]
    }
   ],
   "source": [
    "learn_df.dropna(inplace=True)"
   ]
  },
  {
   "cell_type": "code",
   "execution_count": 5,
   "metadata": {},
   "outputs": [],
   "source": [
    "training_size = int(len(learn_df) * 0.70)\n",
    "train_data = learn_df.iloc[:training_size]\n",
    "test_data = learn_df.iloc[training_size:]"
   ]
  },
  {
   "cell_type": "code",
   "execution_count": 6,
   "metadata": {},
   "outputs": [],
   "source": [
    "X_train = train_data[['Close', 'High', 'Low']]\n",
    "y_train = train_data['future_price']\n",
    "\n",
    "X_test = test_data[['Close', 'High', 'Low']]\n",
    "y_test = test_data['future_price']"
   ]
  },
  {
   "cell_type": "code",
   "execution_count": 17,
   "metadata": {},
   "outputs": [
    {
     "data": {
      "text/plain": [
       "RandomForestRegressor(max_depth=7, min_samples_split=8, n_estimators=10,\n",
       "                      random_state=0)"
      ]
     },
     "execution_count": 17,
     "metadata": {},
     "output_type": "execute_result"
    }
   ],
   "source": [
    "regr = RandomForestRegressor(\n",
    "            n_estimators=10,\n",
    "            max_depth=7,\n",
    "            min_samples_split=8,\n",
    "            min_samples_leaf=1,\n",
    "            random_state=0,\n",
    "#             verbose=2\n",
    ")\n",
    "regr.fit(X_train, y_train)"
   ]
  },
  {
   "cell_type": "code",
   "execution_count": 18,
   "metadata": {},
   "outputs": [],
   "source": [
    "prediction = regr.predict(X_test)"
   ]
  },
  {
   "cell_type": "code",
   "execution_count": 19,
   "metadata": {},
   "outputs": [
    {
     "data": {
      "text/plain": [
       "-2.0820027584625"
      ]
     },
     "execution_count": 19,
     "metadata": {},
     "output_type": "execute_result"
    }
   ],
   "source": [
    "regr.score(X_test, y_test)"
   ]
  },
  {
   "cell_type": "code",
   "execution_count": 20,
   "metadata": {},
   "outputs": [
    {
     "data": {
      "text/plain": [
       "array([192.80073821, 191.37206998, 191.22947063, ..., 192.73434154,\n",
       "       192.73434154, 192.73434154])"
      ]
     },
     "execution_count": 20,
     "metadata": {},
     "output_type": "execute_result"
    }
   ],
   "source": [
    "prediction"
   ]
  },
  {
   "cell_type": "code",
   "execution_count": 24,
   "metadata": {},
   "outputs": [
    {
     "data": {
      "text/html": [
       "<div>\n",
       "<style scoped>\n",
       "    .dataframe tbody tr th:only-of-type {\n",
       "        vertical-align: middle;\n",
       "    }\n",
       "\n",
       "    .dataframe tbody tr th {\n",
       "        vertical-align: top;\n",
       "    }\n",
       "\n",
       "    .dataframe thead th {\n",
       "        text-align: right;\n",
       "    }\n",
       "</style>\n",
       "<table border=\"1\" class=\"dataframe\">\n",
       "  <thead>\n",
       "    <tr style=\"text-align: right;\">\n",
       "      <th></th>\n",
       "      <th>Close</th>\n",
       "      <th>High</th>\n",
       "      <th>Low</th>\n",
       "    </tr>\n",
       "    <tr>\n",
       "      <th>Date</th>\n",
       "      <th></th>\n",
       "      <th></th>\n",
       "      <th></th>\n",
       "    </tr>\n",
       "  </thead>\n",
       "  <tbody>\n",
       "    <tr>\n",
       "      <th>2016-09-12</th>\n",
       "      <td>191.993011</td>\n",
       "      <td>192.410119</td>\n",
       "      <td>188.416550</td>\n",
       "    </tr>\n",
       "    <tr>\n",
       "      <th>2016-09-13</th>\n",
       "      <td>189.233017</td>\n",
       "      <td>190.936938</td>\n",
       "      <td>188.585175</td>\n",
       "    </tr>\n",
       "    <tr>\n",
       "      <th>2016-09-14</th>\n",
       "      <td>189.162033</td>\n",
       "      <td>190.537598</td>\n",
       "      <td>188.585190</td>\n",
       "    </tr>\n",
       "    <tr>\n",
       "      <th>2016-09-15</th>\n",
       "      <td>191.052353</td>\n",
       "      <td>191.451707</td>\n",
       "      <td>188.807081</td>\n",
       "    </tr>\n",
       "    <tr>\n",
       "      <th>2016-09-16</th>\n",
       "      <td>190.313736</td>\n",
       "      <td>190.599164</td>\n",
       "      <td>189.600193</td>\n",
       "    </tr>\n",
       "    <tr>\n",
       "      <th>...</th>\n",
       "      <td>...</td>\n",
       "      <td>...</td>\n",
       "      <td>...</td>\n",
       "    </tr>\n",
       "    <tr>\n",
       "      <th>2022-12-22</th>\n",
       "      <td>379.272491</td>\n",
       "      <td>384.741609</td>\n",
       "      <td>373.345101</td>\n",
       "    </tr>\n",
       "    <tr>\n",
       "      <th>2022-12-23</th>\n",
       "      <td>381.454193</td>\n",
       "      <td>381.603617</td>\n",
       "      <td>376.592742</td>\n",
       "    </tr>\n",
       "    <tr>\n",
       "      <th>2022-12-27</th>\n",
       "      <td>379.949921</td>\n",
       "      <td>381.693267</td>\n",
       "      <td>378.206574</td>\n",
       "    </tr>\n",
       "    <tr>\n",
       "      <th>2022-12-28</th>\n",
       "      <td>375.227936</td>\n",
       "      <td>381.932359</td>\n",
       "      <td>374.988858</td>\n",
       "    </tr>\n",
       "    <tr>\n",
       "      <th>2022-12-29</th>\n",
       "      <td>381.982178</td>\n",
       "      <td>382.888722</td>\n",
       "      <td>377.638738</td>\n",
       "    </tr>\n",
       "  </tbody>\n",
       "</table>\n",
       "<p>1587 rows × 3 columns</p>\n",
       "</div>"
      ],
      "text/plain": [
       "                 Close        High         Low\n",
       "Date                                          \n",
       "2016-09-12  191.993011  192.410119  188.416550\n",
       "2016-09-13  189.233017  190.936938  188.585175\n",
       "2016-09-14  189.162033  190.537598  188.585190\n",
       "2016-09-15  191.052353  191.451707  188.807081\n",
       "2016-09-16  190.313736  190.599164  189.600193\n",
       "...                ...         ...         ...\n",
       "2022-12-22  379.272491  384.741609  373.345101\n",
       "2022-12-23  381.454193  381.603617  376.592742\n",
       "2022-12-27  379.949921  381.693267  378.206574\n",
       "2022-12-28  375.227936  381.932359  374.988858\n",
       "2022-12-29  381.982178  382.888722  377.638738\n",
       "\n",
       "[1587 rows x 3 columns]"
      ]
     },
     "execution_count": 24,
     "metadata": {},
     "output_type": "execute_result"
    }
   ],
   "source": [
    "X_test"
   ]
  },
  {
   "cell_type": "code",
   "execution_count": 25,
   "metadata": {},
   "outputs": [
    {
     "data": {
      "text/plain": [
       "Date\n",
       "2016-09-12    189.233017\n",
       "2016-09-13    189.162033\n",
       "2016-09-14    191.052353\n",
       "2016-09-15    190.313736\n",
       "2016-09-16    190.349457\n",
       "                 ...    \n",
       "2022-12-22    381.454193\n",
       "2022-12-23    379.949921\n",
       "2022-12-27    375.227936\n",
       "2022-12-28    381.982178\n",
       "2022-12-29    380.975983\n",
       "Name: future_price, Length: 1587, dtype: float64"
      ]
     },
     "execution_count": 25,
     "metadata": {},
     "output_type": "execute_result"
    }
   ],
   "source": [
    "y_test"
   ]
  },
  {
   "cell_type": "code",
   "execution_count": 46,
   "metadata": {},
   "outputs": [
    {
     "data": {
      "text/plain": [
       "<matplotlib.legend.Legend at 0xe76f9d0>"
      ]
     },
     "execution_count": 46,
     "metadata": {},
     "output_type": "execute_result"
    },
    {
     "data": {
      "image/png": "[encoded data removed]",
      "text/plain": [
       "<Figure size 864x518.4 with 1 Axes>"
      ]
     },
     "metadata": {},
     "output_type": "display_data"
    }
   ],
   "source": [
    "thr = 150\n",
    "\n",
    "plt.plot(pd.to_datetime(y_test[:thr].index), y_test[:thr].values, label='Real')\n",
    "plt.plot(pd.to_datetime(y_test[:thr].index), prediction[:thr], label='Forecast')\n",
    "plt.legend()"
   ]
  },
  {
   "cell_type": "code",
   "execution_count": 12,
   "metadata": {},
   "outputs": [],
   "source": [
    "clf_rf = RandomForestRegressor(random_state=0)\n",
    "params = {'n_estimators': range(10, 50, 10), 'max_depth': range(1, 12, 2),\n",
    "         'min_samples_leaf': [1, 7], 'min_samples_split': range(2, 9, 2)}\n",
    "grid_search_cv_clf = GridSearchCV(clf_rf, params, cv=3, n_jobs=-1)"
   ]
  },
  {
   "cell_type": "code",
   "execution_count": 13,
   "metadata": {},
   "outputs": [
    {
     "data": {
      "text/plain": [
       "GridSearchCV(cv=3, estimator=RandomForestRegressor(random_state=0), n_jobs=-1,\n",
       "             param_grid={'max_depth': range(1, 12, 2),\n",
       "                         'min_samples_leaf': [1, 7],\n",
       "                         'min_samples_split': range(2, 9, 2),\n",
       "                         'n_estimators': range(10, 50, 10)})"
      ]
     },
     "execution_count": 13,
     "metadata": {},
     "output_type": "execute_result"
    }
   ],
   "source": [
    "grid_search_cv_clf.fit(X_train, y_train)"
   ]
  },
  {
   "cell_type": "code",
   "execution_count": 14,
   "metadata": {},
   "outputs": [
    {
     "data": {
      "text/plain": [
       "{'max_depth': 7,\n",
       " 'min_samples_leaf': 1,\n",
       " 'min_samples_split': 8,\n",
       " 'n_estimators': 10}"
      ]
     },
     "execution_count": 14,
     "metadata": {},
     "output_type": "execute_result"
    }
   ],
   "source": [
    "grid_search_cv_clf.best_params_"
   ]
  },
  {
   "cell_type": "code",
   "execution_count": 15,
   "metadata": {},
   "outputs": [
    {
     "data": {
      "text/plain": [
       "-2.0820027584625"
      ]
     },
     "execution_count": 15,
     "metadata": {},
     "output_type": "execute_result"
    }
   ],
   "source": [
    "best_clf = grid_search_cv_clf.best_estimator_\n",
    "best_clf.score(X_test, y_test)"
   ]
  },
  {
   "cell_type": "code",
   "execution_count": 16,
   "metadata": {},
   "outputs": [
    {
     "data": {
      "text/plain": [
       "array([0.4472672 , 0.35073171, 0.20200109])"
      ]
     },
     "execution_count": 16,
     "metadata": {},
     "output_type": "execute_result"
    }
   ],
   "source": [
    "best_clf.feature_importances_"
   ]
  },
  {
   "cell_type": "code",
   "execution_count": null,
   "metadata": {},
   "outputs": [],
   "source": []
  },
  {
   "cell_type": "code",
   "execution_count": null,
   "metadata": {},
   "outputs": [],
   "source": []
  },
  {
   "cell_type": "code",
   "execution_count": null,
   "metadata": {},
   "outputs": [],
   "source": []
  },
  {
   "cell_type": "code",
   "execution_count": 21,
   "metadata": {},
   "outputs": [],
   "source": [
    "pipeline = Pipeline([\n",
    "    ('MinMaxScaler', MinMaxScaler()),\n",
    "    ('robust', RobustScaler()),\n",
    "    ('poly', PolynomialFeatures()),\n",
    "    ('rf', RandomForestRegressor(\n",
    "            n_estimators=10,\n",
    "            max_depth=7,\n",
    "            min_samples_split=8,\n",
    "            min_samples_leaf=1,\n",
    "            random_state=0,\n",
    "#         verbose=2\n",
    "    ))\n",
    "])"
   ]
  },
  {
   "cell_type": "code",
   "execution_count": 22,
   "metadata": {},
   "outputs": [
    {
     "name": "stdout",
     "output_type": "stream",
     "text": [
      "R2 score: -2.082002184081284\n"
     ]
    }
   ],
   "source": [
    "pipeline.fit(X_train, y_train)\n",
    "\n",
    "prediction = pipeline.predict(X_test)\n",
    "\n",
    "r2 = r2_score(y_test, prediction)\n",
    "print(f'R2 score: {r2}')"
   ]
  },
  {
   "cell_type": "code",
   "execution_count": 23,
   "metadata": {},
   "outputs": [
    {
     "data": {
      "text/plain": [
       "array([192.22446059, 190.58384088, 190.58384088, ..., 192.73434154,\n",
       "       192.73434154, 192.73434154])"
      ]
     },
     "execution_count": 23,
     "metadata": {},
     "output_type": "execute_result"
    }
   ],
   "source": [
    "prediction"
   ]
  },
  {
   "cell_type": "code",
   "execution_count": null,
   "metadata": {},
   "outputs": [],
   "source": []
  }
 ],
 "metadata": {
  "kernelspec": {
   "display_name": "Python 3",
   "language": "python",
   "name": "python3"
  },
  "language_info": {
   "codemirror_mode": {
    "name": "ipython",
    "version": 3
   },
   "file_extension": ".py",
   "mimetype": "text/x-python",
   "name": "python",
   "nbconvert_exporter": "python",
   "pygments_lexer": "ipython3",
   "version": "3.8.5"
  }
 },
 "nbformat": 4,
 "nbformat_minor": 2
}
