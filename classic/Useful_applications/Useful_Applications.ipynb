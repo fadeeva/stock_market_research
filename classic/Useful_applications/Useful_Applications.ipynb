{
 "cells": [
  {
   "cell_type": "markdown",
   "metadata": {},
   "source": [
    "# Useful Applications"
   ]
  },
  {
   "cell_type": "code",
   "execution_count": 33,
   "metadata": {},
   "outputs": [],
   "source": [
    "import pandas as pd\n",
    "import numpy as np\n",
    "import matplotlib.pyplot as plt\n",
    "import seaborn as sns\n",
    "import yfinance as yf\n",
    "import datetime as dt\n",
    "import math\n",
    "\n",
    "from jupyterthemes import jtplot\n",
    "jtplot.style(theme='onedork', figsize=(15, 9))"
   ]
  },
  {
   "cell_type": "markdown",
   "metadata": {},
   "source": [
    "## Class"
   ]
  },
  {
   "cell_type": "code",
   "execution_count": 3,
   "metadata": {},
   "outputs": [],
   "source": [
    "class UsefulApplications():\n",
    "    def __init__(self, ticker, start, end):\n",
    "        self.ticker = ticker\n",
    "        self.start = start\n",
    "        self.end = end\n",
    "        self.get_data()\n",
    "    \n",
    "    def get_data(self):\n",
    "        data = yf.download(self.ticker, self.start, self.end, interval='1d', auto_adjust=False, progress=False)\n",
    "        data['returns'] = np.log(data['Close'].div(data['Close'].shift(1)))\n",
    "        data.dropna(inplace=True)\n",
    "        self.asset = data\n",
    "        return data\n",
    "        \n",
    "    def amihud_illiquidity(self):        \n",
    "        data = self.asset.copy()\n",
    "        \n",
    "        dollar_vol = data['Volume'] * data['Close']\n",
    "        rtrns = np.abs(np.log(data['Close'].div(data['Close'].shift(1))))\n",
    "        illiq = rtrns[1:] / (dollar_vol[1:])\n",
    "        \n",
    "        self.print_msg(f'Aminud\\'s illiquidity  for {self.ticker} is {illiq.mean()}')\n",
    "    \n",
    "    def rolls_spread(self):\n",
    "        data = self.asset.copy()\n",
    "        \n",
    "        data['Diff'] = data['Close'].diff()\n",
    "        data_cov     = np.cov(data['Diff'][1:-1], data['Diff'][2:])\n",
    "        \n",
    "        if data_cov[0, 1] < 0:\n",
    "            self.print_msg(f'Roll\\'s Spread for {self.ticker}: {round(2*np.sqrt(-data_cov[0,1]), 5)}')\n",
    "        else:\n",
    "            self.print_msg(f'Roll\\'s Spread for {self.ticker}: {round(2*np.sqrt(data_cov[0,1]), 5)}')\n",
    "    \n",
    "    def pastor_stambaugh_liquidity():\n",
    "        pass\n",
    "    \n",
    "    def print_msg(self, msg):\n",
    "        print(len(msg)*'*')\n",
    "        print(msg)\n",
    "#         print(len(msg)*'*')\n",
    "    \n",
    "    def summary(self):\n",
    "        self.rolls_spread()\n",
    "        self.amihud_illiquidity()\n",
    "    \n"
   ]
  },
  {
   "cell_type": "code",
   "execution_count": 5,
   "metadata": {},
   "outputs": [
    {
     "name": "stdout",
     "output_type": "stream",
     "text": [
      "******************************\n",
      "Roll's Spread for IBM: 1.01175\n",
      "*******************************************************\n",
      "Aminud's illiquidity  for IBM is 1.1600426194329588e-11\n"
     ]
    }
   ],
   "source": [
    "u_app = UsefulApplications('IBM', dt.datetime(2013, 10, 1), dt.datetime(2013, 10, 30))\n",
    "u_app.rolls_spread()\n",
    "u_app.amihud_illiquidity()"
   ]
  },
  {
   "cell_type": "code",
   "execution_count": null,
   "metadata": {},
   "outputs": [],
   "source": [
    "def rolls_spread(ticker, start=dt.datetime(2002, 1, 1), end=dt.datetime(2022, 12, 31), interval='1d', adjustment=False):\n",
    "    asset               = yf.download(ticker, start, end, interval, auto_adjust=adjustment, progress=False)\n",
    "    asset_close         = asset['Close'].to_frame()\n",
    "    asset_close['Diff'] = asset_close['Close'].diff()\n",
    "    asset_close_cov     = np.cov(asset_close['Diff'][1:-1], asset_close['Diff'][2:])\n",
    "\n",
    "    if asset_close_cov[0, 1] < 0:\n",
    "        print(f'Roll\\'s Spread for {ticker}: {round(2*np.sqrt(-asset_close_cov[0,1]), 3)}')\n",
    "    else:\n",
    "        print(f'Roll\\'s Spread for {ticker}: {round(2*np.sqrt(asset_close_cov[0,1]), 3)}')"
   ]
  },
  {
   "cell_type": "markdown",
   "metadata": {},
   "source": [
    "## Roll's model to estimate spread (1984)"
   ]
  },
  {
   "cell_type": "markdown",
   "metadata": {},
   "source": [
    "- __[Trading costs - The Roll Spread Estimator](https://ba-odegaard.no/teach/notes/liquidity_estimators/roll_spread_estimator/roll_lectures.pdf)__\n",
    "- __[A Simple Implicit Measure of the Effective Bid-Ask Spread in an Efficient Market](https://onlinelibrary.wiley.com/doi/full/10.1111/j.1540-6261.1984.tb03897.x)__"
   ]
  },
  {
   "cell_type": "code",
   "execution_count": 22,
   "metadata": {},
   "outputs": [
    {
     "name": "stdout",
     "output_type": "stream",
     "text": [
      "Roll's Spread for AAPL: 0.512\n"
     ]
    }
   ],
   "source": [
    "rolls_spread('AAPL', adjustment=True)"
   ]
  },
  {
   "cell_type": "markdown",
   "metadata": {},
   "source": [
    "### Research"
   ]
  },
  {
   "cell_type": "code",
   "execution_count": 2,
   "metadata": {},
   "outputs": [
    {
     "data": {
      "text/html": [
       "<div>\n",
       "<style scoped>\n",
       "    .dataframe tbody tr th:only-of-type {\n",
       "        vertical-align: middle;\n",
       "    }\n",
       "\n",
       "    .dataframe tbody tr th {\n",
       "        vertical-align: top;\n",
       "    }\n",
       "\n",
       "    .dataframe thead th {\n",
       "        text-align: right;\n",
       "    }\n",
       "</style>\n",
       "<table border=\"1\" class=\"dataframe\">\n",
       "  <thead>\n",
       "    <tr style=\"text-align: right;\">\n",
       "      <th></th>\n",
       "      <th>Open</th>\n",
       "      <th>High</th>\n",
       "      <th>Low</th>\n",
       "      <th>Close</th>\n",
       "      <th>Volume</th>\n",
       "      <th>Dividends</th>\n",
       "      <th>Stock Splits</th>\n",
       "    </tr>\n",
       "    <tr>\n",
       "      <th>Date</th>\n",
       "      <th></th>\n",
       "      <th></th>\n",
       "      <th></th>\n",
       "      <th></th>\n",
       "      <th></th>\n",
       "      <th></th>\n",
       "      <th></th>\n",
       "    </tr>\n",
       "  </thead>\n",
       "  <tbody>\n",
       "    <tr>\n",
       "      <th>2013-09-03</th>\n",
       "      <td>117.398367</td>\n",
       "      <td>117.839496</td>\n",
       "      <td>116.682332</td>\n",
       "      <td>117.609344</td>\n",
       "      <td>3647611</td>\n",
       "      <td>0.0</td>\n",
       "      <td>0.0</td>\n",
       "    </tr>\n",
       "    <tr>\n",
       "      <th>2013-09-04</th>\n",
       "      <td>117.366468</td>\n",
       "      <td>117.756444</td>\n",
       "      <td>116.554525</td>\n",
       "      <td>117.078766</td>\n",
       "      <td>2717403</td>\n",
       "      <td>0.0</td>\n",
       "      <td>0.0</td>\n",
       "    </tr>\n",
       "    <tr>\n",
       "      <th>2013-09-05</th>\n",
       "      <td>117.219388</td>\n",
       "      <td>118.274267</td>\n",
       "      <td>117.040379</td>\n",
       "      <td>117.730843</td>\n",
       "      <td>2999510</td>\n",
       "      <td>0.0</td>\n",
       "      <td>0.0</td>\n",
       "    </tr>\n",
       "    <tr>\n",
       "      <th>2013-09-06</th>\n",
       "      <td>118.050496</td>\n",
       "      <td>118.267872</td>\n",
       "      <td>116.771854</td>\n",
       "      <td>117.014801</td>\n",
       "      <td>3037061</td>\n",
       "      <td>0.0</td>\n",
       "      <td>0.0</td>\n",
       "    </tr>\n",
       "    <tr>\n",
       "      <th>2013-09-09</th>\n",
       "      <td>117.430359</td>\n",
       "      <td>118.587533</td>\n",
       "      <td>117.193810</td>\n",
       "      <td>118.261475</td>\n",
       "      <td>3155991</td>\n",
       "      <td>0.0</td>\n",
       "      <td>0.0</td>\n",
       "    </tr>\n",
       "  </tbody>\n",
       "</table>\n",
       "</div>"
      ],
      "text/plain": [
       "                  Open        High         Low       Close   Volume  \\\n",
       "Date                                                                  \n",
       "2013-09-03  117.398367  117.839496  116.682332  117.609344  3647611   \n",
       "2013-09-04  117.366468  117.756444  116.554525  117.078766  2717403   \n",
       "2013-09-05  117.219388  118.274267  117.040379  117.730843  2999510   \n",
       "2013-09-06  118.050496  118.267872  116.771854  117.014801  3037061   \n",
       "2013-09-09  117.430359  118.587533  117.193810  118.261475  3155991   \n",
       "\n",
       "            Dividends  Stock Splits  \n",
       "Date                                 \n",
       "2013-09-03        0.0           0.0  \n",
       "2013-09-04        0.0           0.0  \n",
       "2013-09-05        0.0           0.0  \n",
       "2013-09-06        0.0           0.0  \n",
       "2013-09-09        0.0           0.0  "
      ]
     },
     "execution_count": 2,
     "metadata": {},
     "output_type": "execute_result"
    }
   ],
   "source": [
    "df = pd.read_csv('../../data/IBM_2013-09-01_2013-11-11_1d.csv', index_col=0, parse_dates=True)\n",
    "df.head()"
   ]
  },
  {
   "cell_type": "code",
   "execution_count": 3,
   "metadata": {},
   "outputs": [
    {
     "data": {
      "text/html": [
       "<div>\n",
       "<style scoped>\n",
       "    .dataframe tbody tr th:only-of-type {\n",
       "        vertical-align: middle;\n",
       "    }\n",
       "\n",
       "    .dataframe tbody tr th {\n",
       "        vertical-align: top;\n",
       "    }\n",
       "\n",
       "    .dataframe thead th {\n",
       "        text-align: right;\n",
       "    }\n",
       "</style>\n",
       "<table border=\"1\" class=\"dataframe\">\n",
       "  <thead>\n",
       "    <tr style=\"text-align: right;\">\n",
       "      <th></th>\n",
       "      <th>Close</th>\n",
       "    </tr>\n",
       "    <tr>\n",
       "      <th>Date</th>\n",
       "      <th></th>\n",
       "    </tr>\n",
       "  </thead>\n",
       "  <tbody>\n",
       "    <tr>\n",
       "      <th>2013-09-03</th>\n",
       "      <td>117.609344</td>\n",
       "    </tr>\n",
       "    <tr>\n",
       "      <th>2013-09-04</th>\n",
       "      <td>117.078766</td>\n",
       "    </tr>\n",
       "    <tr>\n",
       "      <th>2013-09-05</th>\n",
       "      <td>117.730843</td>\n",
       "    </tr>\n",
       "    <tr>\n",
       "      <th>2013-09-06</th>\n",
       "      <td>117.014801</td>\n",
       "    </tr>\n",
       "    <tr>\n",
       "      <th>2013-09-09</th>\n",
       "      <td>118.261475</td>\n",
       "    </tr>\n",
       "  </tbody>\n",
       "</table>\n",
       "</div>"
      ],
      "text/plain": [
       "                 Close\n",
       "Date                  \n",
       "2013-09-03  117.609344\n",
       "2013-09-04  117.078766\n",
       "2013-09-05  117.730843\n",
       "2013-09-06  117.014801\n",
       "2013-09-09  118.261475"
      ]
     },
     "execution_count": 3,
     "metadata": {},
     "output_type": "execute_result"
    }
   ],
   "source": [
    "close = df['Close'].to_frame()\n",
    "close.head()"
   ]
  },
  {
   "cell_type": "code",
   "execution_count": 4,
   "metadata": {},
   "outputs": [
    {
     "data": {
      "text/html": [
       "<div>\n",
       "<style scoped>\n",
       "    .dataframe tbody tr th:only-of-type {\n",
       "        vertical-align: middle;\n",
       "    }\n",
       "\n",
       "    .dataframe tbody tr th {\n",
       "        vertical-align: top;\n",
       "    }\n",
       "\n",
       "    .dataframe thead th {\n",
       "        text-align: right;\n",
       "    }\n",
       "</style>\n",
       "<table border=\"1\" class=\"dataframe\">\n",
       "  <thead>\n",
       "    <tr style=\"text-align: right;\">\n",
       "      <th></th>\n",
       "      <th>Close</th>\n",
       "      <th>Diff</th>\n",
       "    </tr>\n",
       "    <tr>\n",
       "      <th>Date</th>\n",
       "      <th></th>\n",
       "      <th></th>\n",
       "    </tr>\n",
       "  </thead>\n",
       "  <tbody>\n",
       "    <tr>\n",
       "      <th>2013-09-03</th>\n",
       "      <td>117.609344</td>\n",
       "      <td>NaN</td>\n",
       "    </tr>\n",
       "    <tr>\n",
       "      <th>2013-09-04</th>\n",
       "      <td>117.078766</td>\n",
       "      <td>-0.530579</td>\n",
       "    </tr>\n",
       "    <tr>\n",
       "      <th>2013-09-05</th>\n",
       "      <td>117.730843</td>\n",
       "      <td>0.652077</td>\n",
       "    </tr>\n",
       "    <tr>\n",
       "      <th>2013-09-06</th>\n",
       "      <td>117.014801</td>\n",
       "      <td>-0.716042</td>\n",
       "    </tr>\n",
       "    <tr>\n",
       "      <th>2013-09-09</th>\n",
       "      <td>118.261475</td>\n",
       "      <td>1.246674</td>\n",
       "    </tr>\n",
       "  </tbody>\n",
       "</table>\n",
       "</div>"
      ],
      "text/plain": [
       "                 Close      Diff\n",
       "Date                            \n",
       "2013-09-03  117.609344       NaN\n",
       "2013-09-04  117.078766 -0.530579\n",
       "2013-09-05  117.730843  0.652077\n",
       "2013-09-06  117.014801 -0.716042\n",
       "2013-09-09  118.261475  1.246674"
      ]
     },
     "execution_count": 4,
     "metadata": {},
     "output_type": "execute_result"
    }
   ],
   "source": [
    "close['Diff'] = df['Close'].diff()\n",
    "close.head()"
   ]
  },
  {
   "cell_type": "code",
   "execution_count": 5,
   "metadata": {},
   "outputs": [
    {
     "data": {
      "text/plain": [
       "-0.14103707800980902"
      ]
     },
     "execution_count": 5,
     "metadata": {},
     "output_type": "execute_result"
    }
   ],
   "source": [
    "_cov = np.cov(close['Diff'][1:-1], close['Diff'][2:])\n",
    "_cov[0, 1]"
   ]
  },
  {
   "cell_type": "code",
   "execution_count": 6,
   "metadata": {},
   "outputs": [
    {
     "data": {
      "text/plain": [
       "-0.05134942727349844"
      ]
     },
     "execution_count": 6,
     "metadata": {},
     "output_type": "execute_result"
    }
   ],
   "source": [
    "np.corrcoef(close['Diff'][1:-1], close['Diff'][2:])[0,1]"
   ]
  },
  {
   "cell_type": "code",
   "execution_count": 7,
   "metadata": {},
   "outputs": [
    {
     "name": "stdout",
     "output_type": "stream",
     "text": [
      "Roll's Spread for IBM: 0.751\n"
     ]
    }
   ],
   "source": [
    "if _cov[0, 1] < 0:\n",
    "    print(f'Roll\\'s Spread for IBM: {round(2*np.sqrt(-_cov[0,1]), 3)}')\n",
    "else:\n",
    "    print(f'Roll\\'s Spread for IBM: {round(2*np.sqrt(_cov[0,1]), 3)}')"
   ]
  },
  {
   "cell_type": "code",
   "execution_count": 8,
   "metadata": {},
   "outputs": [
    {
     "name": "stdout",
     "output_type": "stream",
     "text": [
      "[*********************100%***********************]  1 of 1 completed\n"
     ]
    }
   ],
   "source": [
    "ibm_wo_adjustment = yf.download('IBM', dt.datetime(2013, 9, 11), dt.datetime(2013, 11, 11), '1d')"
   ]
  },
  {
   "cell_type": "code",
   "execution_count": 10,
   "metadata": {},
   "outputs": [
    {
     "data": {
      "text/html": [
       "<div>\n",
       "<style scoped>\n",
       "    .dataframe tbody tr th:only-of-type {\n",
       "        vertical-align: middle;\n",
       "    }\n",
       "\n",
       "    .dataframe tbody tr th {\n",
       "        vertical-align: top;\n",
       "    }\n",
       "\n",
       "    .dataframe thead th {\n",
       "        text-align: right;\n",
       "    }\n",
       "</style>\n",
       "<table border=\"1\" class=\"dataframe\">\n",
       "  <thead>\n",
       "    <tr style=\"text-align: right;\">\n",
       "      <th></th>\n",
       "      <th>Close</th>\n",
       "      <th>Diff</th>\n",
       "    </tr>\n",
       "    <tr>\n",
       "      <th>Date</th>\n",
       "      <th></th>\n",
       "      <th></th>\n",
       "    </tr>\n",
       "  </thead>\n",
       "  <tbody>\n",
       "    <tr>\n",
       "      <th>2013-09-11</th>\n",
       "      <td>182.313583</td>\n",
       "      <td>NaN</td>\n",
       "    </tr>\n",
       "    <tr>\n",
       "      <th>2013-09-12</th>\n",
       "      <td>182.342255</td>\n",
       "      <td>0.028671</td>\n",
       "    </tr>\n",
       "    <tr>\n",
       "      <th>2013-09-13</th>\n",
       "      <td>183.718933</td>\n",
       "      <td>1.376678</td>\n",
       "    </tr>\n",
       "    <tr>\n",
       "      <th>2013-09-16</th>\n",
       "      <td>184.655838</td>\n",
       "      <td>0.936905</td>\n",
       "    </tr>\n",
       "    <tr>\n",
       "      <th>2013-09-17</th>\n",
       "      <td>183.709366</td>\n",
       "      <td>-0.946472</td>\n",
       "    </tr>\n",
       "  </tbody>\n",
       "</table>\n",
       "</div>"
      ],
      "text/plain": [
       "                 Close      Diff\n",
       "Date                            \n",
       "2013-09-11  182.313583       NaN\n",
       "2013-09-12  182.342255  0.028671\n",
       "2013-09-13  183.718933  1.376678\n",
       "2013-09-16  184.655838  0.936905\n",
       "2013-09-17  183.709366 -0.946472"
      ]
     },
     "execution_count": 10,
     "metadata": {},
     "output_type": "execute_result"
    }
   ],
   "source": [
    "ibm_wo_adj_close = ibm_wo_adjustment['Close'].to_frame()\n",
    "ibm_wo_adj_close['Diff'] = ibm_wo_adj_close['Close'].diff()\n",
    "ibm_wo_adj_close.head()"
   ]
  },
  {
   "cell_type": "code",
   "execution_count": 12,
   "metadata": {},
   "outputs": [
    {
     "data": {
      "text/plain": [
       "-0.5197988161154193"
      ]
     },
     "execution_count": 12,
     "metadata": {},
     "output_type": "execute_result"
    }
   ],
   "source": [
    "_ibm_wo_adj_cov = np.cov(ibm_wo_adj_close['Diff'][1:-1], ibm_wo_adj_close['Diff'][2:])\n",
    "_ibm_wo_adj_cov[0, 1]"
   ]
  },
  {
   "cell_type": "code",
   "execution_count": 13,
   "metadata": {},
   "outputs": [
    {
     "name": "stdout",
     "output_type": "stream",
     "text": [
      "Roll's Spread for IBM(no adjustment): 1.442\n"
     ]
    }
   ],
   "source": [
    "if _ibm_wo_adj_cov[0, 1] < 0:\n",
    "    print(f'Roll\\'s Spread for IBM(no adjustment): {round(2*np.sqrt(-_ibm_wo_adj_cov[0,1]), 3)}')\n",
    "else:\n",
    "    print(f'Roll\\'s Spread for IBM(no adjustment): {round(2*np.sqrt(_ibm_wo_adj_cov[0,1]), 3)}')"
   ]
  },
  {
   "cell_type": "markdown",
   "metadata": {},
   "source": [
    "## Amihud's model for illiquidity (2002)"
   ]
  },
  {
   "cell_type": "markdown",
   "metadata": {},
   "source": [
    "- __[Amihud Illiquidity Measure](https://breakingdownfinance.com/finance-topics/alternative-investments/amihud-illiquidity-measure/)__\n",
    "- __[ILLIQUIDITY AND STOCK RETURNS: Cross-Section and Time-Series Effects](https://deliverypdf.ssrn.com/delivery.php?ID=996103073088116024117083087064091068036022029078044001090016109113126101021095072012074014095026118068068048028116102114123091093097081107024117113108069091098068086072104076008064076097125&EXT=pdf&INDEX=TRUE)__\n",
    "- __[The Night and Day of Amihud’s (2002) Liquidity Measure](https://www.chapman.edu/business/_files/faculty-research/2019-conference-money-finance/yashar-barardehi-paper.pdf)__\n",
    "- __[Price Impact or Trading Volume: Why is the Amihud (2002) Illiquidity Measure Priced?](https://www.lehigh.edu/~jms408/Lu_2014.pdf)__\n",
    "- __[Illiquidity: A study on how investing in illiquid assets can be profitable](http://arno.uvt.nl/show.cgi?fid=142126)__\n",
    "- __[An Analysis of the Amihud Illiquidity Premium](https://www.researchgate.net/publication/228315879_An_Analysis_of_the_Amihud_Illiquidity_Premium)__\n",
    "- __[Illiquidity and Stock Returns: Empirical Evidence from the Stockholm Stock Exchange](http://arc.hhs.se/download.aspx?MediumId=1481)__"
   ]
  },
  {
   "cell_type": "code",
   "execution_count": 3,
   "metadata": {},
   "outputs": [
    {
     "name": "stdout",
     "output_type": "stream",
     "text": [
      "[*********************100%***********************]  1 of 1 completed\n"
     ]
    },
    {
     "data": {
      "text/html": [
       "<div>\n",
       "<style scoped>\n",
       "    .dataframe tbody tr th:only-of-type {\n",
       "        vertical-align: middle;\n",
       "    }\n",
       "\n",
       "    .dataframe tbody tr th {\n",
       "        vertical-align: top;\n",
       "    }\n",
       "\n",
       "    .dataframe thead th {\n",
       "        text-align: right;\n",
       "    }\n",
       "</style>\n",
       "<table border=\"1\" class=\"dataframe\">\n",
       "  <thead>\n",
       "    <tr style=\"text-align: right;\">\n",
       "      <th></th>\n",
       "      <th>Open</th>\n",
       "      <th>High</th>\n",
       "      <th>Low</th>\n",
       "      <th>Close</th>\n",
       "      <th>Volume</th>\n",
       "      <th>Dividends</th>\n",
       "      <th>Stock Splits</th>\n",
       "    </tr>\n",
       "    <tr>\n",
       "      <th>Date</th>\n",
       "      <th></th>\n",
       "      <th></th>\n",
       "      <th></th>\n",
       "      <th></th>\n",
       "      <th></th>\n",
       "      <th></th>\n",
       "      <th></th>\n",
       "    </tr>\n",
       "  </thead>\n",
       "  <tbody>\n",
       "    <tr>\n",
       "      <th>2013-10-01</th>\n",
       "      <td>118.491670</td>\n",
       "      <td>119.329174</td>\n",
       "      <td>118.050531</td>\n",
       "      <td>119.156563</td>\n",
       "      <td>2804535</td>\n",
       "      <td>0.0</td>\n",
       "      <td>0.0</td>\n",
       "    </tr>\n",
       "    <tr>\n",
       "      <th>2013-10-02</th>\n",
       "      <td>118.619521</td>\n",
       "      <td>119.111803</td>\n",
       "      <td>117.897088</td>\n",
       "      <td>118.248718</td>\n",
       "      <td>3783487</td>\n",
       "      <td>0.0</td>\n",
       "      <td>0.0</td>\n",
       "    </tr>\n",
       "    <tr>\n",
       "      <th>2013-10-03</th>\n",
       "      <td>118.082467</td>\n",
       "      <td>118.248690</td>\n",
       "      <td>116.995619</td>\n",
       "      <td>117.545441</td>\n",
       "      <td>3359543</td>\n",
       "      <td>0.0</td>\n",
       "      <td>0.0</td>\n",
       "    </tr>\n",
       "    <tr>\n",
       "      <th>2013-10-04</th>\n",
       "      <td>117.743620</td>\n",
       "      <td>118.357370</td>\n",
       "      <td>117.366429</td>\n",
       "      <td>117.698875</td>\n",
       "      <td>2995326</td>\n",
       "      <td>0.0</td>\n",
       "      <td>0.0</td>\n",
       "    </tr>\n",
       "    <tr>\n",
       "      <th>2013-10-07</th>\n",
       "      <td>116.260399</td>\n",
       "      <td>117.193809</td>\n",
       "      <td>116.260399</td>\n",
       "      <td>116.362694</td>\n",
       "      <td>4148854</td>\n",
       "      <td>0.0</td>\n",
       "      <td>0.0</td>\n",
       "    </tr>\n",
       "    <tr>\n",
       "      <th>2013-10-08</th>\n",
       "      <td>116.285990</td>\n",
       "      <td>116.349928</td>\n",
       "      <td>114.252956</td>\n",
       "      <td>114.259354</td>\n",
       "      <td>5834902</td>\n",
       "      <td>0.0</td>\n",
       "      <td>0.0</td>\n",
       "    </tr>\n",
       "    <tr>\n",
       "      <th>2013-10-09</th>\n",
       "      <td>114.674874</td>\n",
       "      <td>116.145310</td>\n",
       "      <td>114.502253</td>\n",
       "      <td>115.921547</td>\n",
       "      <td>4626981</td>\n",
       "      <td>0.0</td>\n",
       "      <td>0.0</td>\n",
       "    </tr>\n",
       "    <tr>\n",
       "      <th>2013-10-10</th>\n",
       "      <td>117.104308</td>\n",
       "      <td>118.127228</td>\n",
       "      <td>116.586465</td>\n",
       "      <td>118.127228</td>\n",
       "      <td>3827209</td>\n",
       "      <td>0.0</td>\n",
       "      <td>0.0</td>\n",
       "    </tr>\n",
       "    <tr>\n",
       "      <th>2013-10-11</th>\n",
       "      <td>118.434088</td>\n",
       "      <td>119.060614</td>\n",
       "      <td>117.711656</td>\n",
       "      <td>119.015869</td>\n",
       "      <td>3381300</td>\n",
       "      <td>0.0</td>\n",
       "      <td>0.0</td>\n",
       "    </tr>\n",
       "    <tr>\n",
       "      <th>2013-10-14</th>\n",
       "      <td>118.536368</td>\n",
       "      <td>119.546492</td>\n",
       "      <td>117.903445</td>\n",
       "      <td>119.533707</td>\n",
       "      <td>2785603</td>\n",
       "      <td>0.0</td>\n",
       "      <td>0.0</td>\n",
       "    </tr>\n",
       "    <tr>\n",
       "      <th>2013-10-15</th>\n",
       "      <td>118.747387</td>\n",
       "      <td>118.875253</td>\n",
       "      <td>117.775619</td>\n",
       "      <td>118.056923</td>\n",
       "      <td>3519895</td>\n",
       "      <td>0.0</td>\n",
       "      <td>0.0</td>\n",
       "    </tr>\n",
       "    <tr>\n",
       "      <th>2013-10-16</th>\n",
       "      <td>118.542776</td>\n",
       "      <td>119.380280</td>\n",
       "      <td>118.267871</td>\n",
       "      <td>119.380280</td>\n",
       "      <td>7027028</td>\n",
       "      <td>0.0</td>\n",
       "      <td>0.0</td>\n",
       "    </tr>\n",
       "    <tr>\n",
       "      <th>2013-10-17</th>\n",
       "      <td>111.139421</td>\n",
       "      <td>113.159679</td>\n",
       "      <td>110.327489</td>\n",
       "      <td>111.772354</td>\n",
       "      <td>23397869</td>\n",
       "      <td>0.0</td>\n",
       "      <td>0.0</td>\n",
       "    </tr>\n",
       "    <tr>\n",
       "      <th>2013-10-18</th>\n",
       "      <td>111.753196</td>\n",
       "      <td>111.881063</td>\n",
       "      <td>110.762256</td>\n",
       "      <td>111.101089</td>\n",
       "      <td>11033208</td>\n",
       "      <td>0.0</td>\n",
       "      <td>0.0</td>\n",
       "    </tr>\n",
       "    <tr>\n",
       "      <th>2013-10-21</th>\n",
       "      <td>111.510278</td>\n",
       "      <td>111.721246</td>\n",
       "      <td>110.365890</td>\n",
       "      <td>110.512939</td>\n",
       "      <td>7425240</td>\n",
       "      <td>0.0</td>\n",
       "      <td>0.0</td>\n",
       "    </tr>\n",
       "    <tr>\n",
       "      <th>2013-10-22</th>\n",
       "      <td>110.826167</td>\n",
       "      <td>112.245461</td>\n",
       "      <td>110.570434</td>\n",
       "      <td>111.861862</td>\n",
       "      <td>7298256</td>\n",
       "      <td>0.0</td>\n",
       "      <td>0.0</td>\n",
       "    </tr>\n",
       "    <tr>\n",
       "      <th>2013-10-23</th>\n",
       "      <td>111.938613</td>\n",
       "      <td>112.513996</td>\n",
       "      <td>111.497484</td>\n",
       "      <td>112.373344</td>\n",
       "      <td>5658232</td>\n",
       "      <td>0.0</td>\n",
       "      <td>0.0</td>\n",
       "    </tr>\n",
       "    <tr>\n",
       "      <th>2013-10-24</th>\n",
       "      <td>112.795288</td>\n",
       "      <td>113.728698</td>\n",
       "      <td>112.680207</td>\n",
       "      <td>113.671158</td>\n",
       "      <td>5787832</td>\n",
       "      <td>0.0</td>\n",
       "      <td>0.0</td>\n",
       "    </tr>\n",
       "    <tr>\n",
       "      <th>2013-10-25</th>\n",
       "      <td>114.073913</td>\n",
       "      <td>114.502257</td>\n",
       "      <td>112.686589</td>\n",
       "      <td>113.063789</td>\n",
       "      <td>5065569</td>\n",
       "      <td>0.0</td>\n",
       "      <td>0.0</td>\n",
       "    </tr>\n",
       "    <tr>\n",
       "      <th>2013-10-28</th>\n",
       "      <td>113.185284</td>\n",
       "      <td>113.728708</td>\n",
       "      <td>112.648258</td>\n",
       "      <td>113.383476</td>\n",
       "      <td>3883484</td>\n",
       "      <td>0.0</td>\n",
       "      <td>0.0</td>\n",
       "    </tr>\n",
       "    <tr>\n",
       "      <th>2013-10-29</th>\n",
       "      <td>113.556076</td>\n",
       "      <td>116.560888</td>\n",
       "      <td>113.479363</td>\n",
       "      <td>116.433022</td>\n",
       "      <td>9314212</td>\n",
       "      <td>0.0</td>\n",
       "      <td>0.0</td>\n",
       "    </tr>\n",
       "  </tbody>\n",
       "</table>\n",
       "</div>"
      ],
      "text/plain": [
       "                  Open        High         Low       Close    Volume  \\\n",
       "Date                                                                   \n",
       "2013-10-01  118.491670  119.329174  118.050531  119.156563   2804535   \n",
       "2013-10-02  118.619521  119.111803  117.897088  118.248718   3783487   \n",
       "2013-10-03  118.082467  118.248690  116.995619  117.545441   3359543   \n",
       "2013-10-04  117.743620  118.357370  117.366429  117.698875   2995326   \n",
       "2013-10-07  116.260399  117.193809  116.260399  116.362694   4148854   \n",
       "2013-10-08  116.285990  116.349928  114.252956  114.259354   5834902   \n",
       "2013-10-09  114.674874  116.145310  114.502253  115.921547   4626981   \n",
       "2013-10-10  117.104308  118.127228  116.586465  118.127228   3827209   \n",
       "2013-10-11  118.434088  119.060614  117.711656  119.015869   3381300   \n",
       "2013-10-14  118.536368  119.546492  117.903445  119.533707   2785603   \n",
       "2013-10-15  118.747387  118.875253  117.775619  118.056923   3519895   \n",
       "2013-10-16  118.542776  119.380280  118.267871  119.380280   7027028   \n",
       "2013-10-17  111.139421  113.159679  110.327489  111.772354  23397869   \n",
       "2013-10-18  111.753196  111.881063  110.762256  111.101089  11033208   \n",
       "2013-10-21  111.510278  111.721246  110.365890  110.512939   7425240   \n",
       "2013-10-22  110.826167  112.245461  110.570434  111.861862   7298256   \n",
       "2013-10-23  111.938613  112.513996  111.497484  112.373344   5658232   \n",
       "2013-10-24  112.795288  113.728698  112.680207  113.671158   5787832   \n",
       "2013-10-25  114.073913  114.502257  112.686589  113.063789   5065569   \n",
       "2013-10-28  113.185284  113.728708  112.648258  113.383476   3883484   \n",
       "2013-10-29  113.556076  116.560888  113.479363  116.433022   9314212   \n",
       "\n",
       "            Dividends  Stock Splits  \n",
       "Date                                 \n",
       "2013-10-01        0.0           0.0  \n",
       "2013-10-02        0.0           0.0  \n",
       "2013-10-03        0.0           0.0  \n",
       "2013-10-04        0.0           0.0  \n",
       "2013-10-07        0.0           0.0  \n",
       "2013-10-08        0.0           0.0  \n",
       "2013-10-09        0.0           0.0  \n",
       "2013-10-10        0.0           0.0  \n",
       "2013-10-11        0.0           0.0  \n",
       "2013-10-14        0.0           0.0  \n",
       "2013-10-15        0.0           0.0  \n",
       "2013-10-16        0.0           0.0  \n",
       "2013-10-17        0.0           0.0  \n",
       "2013-10-18        0.0           0.0  \n",
       "2013-10-21        0.0           0.0  \n",
       "2013-10-22        0.0           0.0  \n",
       "2013-10-23        0.0           0.0  \n",
       "2013-10-24        0.0           0.0  \n",
       "2013-10-25        0.0           0.0  \n",
       "2013-10-28        0.0           0.0  \n",
       "2013-10-29        0.0           0.0  "
      ]
     },
     "execution_count": 3,
     "metadata": {},
     "output_type": "execute_result"
    }
   ],
   "source": [
    "ibm_df = yf.download('IBM', dt.datetime(2013, 10, 1), dt.datetime(2013, 10, 30), '1d', auto_adjust=True)\n",
    "ibm_df"
   ]
  },
  {
   "cell_type": "code",
   "execution_count": 44,
   "metadata": {},
   "outputs": [
    {
     "name": "stdout",
     "output_type": "stream",
     "text": [
      "Aminud's illiquidity is 1.7348991460001093e-11\n"
     ]
    }
   ],
   "source": [
    "close      = np.array(ibm_df['Close'])\n",
    "dollar_vol = np.array(ibm_df['Volume'] * close)\n",
    "returns    = np.array((close[1:] - close[:-1]) / close[1:])\n",
    "illiq      = np.mean(np.divide(np.abs(returns), dollar_vol[1:]))\n",
    "print(f'Aminud\\'s illiquidity is {illiq}')"
   ]
  },
  {
   "cell_type": "code",
   "execution_count": 48,
   "metadata": {},
   "outputs": [
    {
     "name": "stdout",
     "output_type": "stream",
     "text": [
      "Aminud's illiquidity is 1.7334306291309935e-11\n"
     ]
    }
   ],
   "source": [
    "close_pd      = ibm_df['Close']\n",
    "dollar_vol_pd = ibm_df['Volume'] * close_pd\n",
    "rtrns         = np.abs(np.log(close_pd.div(close_pd.shift(1))))\n",
    "illiq_pd      = rtrns[1:] / (dollar_vol_pd[1:])\n",
    "print(f'Aminud\\'s illiquidity is {illiq_pd.mean()}')"
   ]
  },
  {
   "cell_type": "markdown",
   "metadata": {},
   "source": [
    "## Pastor and Stambaugh (2003) liquidity measure"
   ]
  },
  {
   "cell_type": "markdown",
   "metadata": {},
   "source": [
    "- __[Pastor Stambaugh Model](https://breakingdownfinance.com/finance-topics/equity-valuation/pastor-stambaugh-model/)__\n",
    "- __[Liquidity Risks and Expected Stock Resturns](https://pages.stern.nyu.edu/~lpederse/courses/LAP/papers/TransactionCosts/PastorStam.pdf)__\n",
    "- __[Liquidity Risk After 20 Years](https://bfi.uchicago.edu/wp-content/uploads/BFI_WP_201957.pdf)__\n",
    "- __[Liquidity Risk?](https://cfr.pub/published/papers/pontiff2020liquidity.pdf)__"
   ]
  },
  {
   "cell_type": "code",
   "execution_count": 4,
   "metadata": {},
   "outputs": [
    {
     "name": "stdout",
     "output_type": "stream",
     "text": [
      "[*********************100%***********************]  1 of 1 completed\n",
      "[*********************100%***********************]  1 of 1 completed\n",
      "[*********************100%***********************]  1 of 1 completed\n"
     ]
    }
   ],
   "source": [
    "ibm_df  = yf.download('IBM', dt.datetime(2013, 1, 1), dt.datetime(2013, 1, 31), '1d', auto_adjust=True)\n",
    "\n",
    "spy_df  = yf.download('SPY', dt.datetime(2013, 1, 1), dt.datetime(2013, 11, 19), '1d', auto_adjust=True)\n",
    "gspc_df = yf.download('^GSPC', dt.datetime(2013, 1, 1), dt.datetime(2013, 11, 19), '1d', auto_adjust=True)"
   ]
  },
  {
   "cell_type": "code",
   "execution_count": 5,
   "metadata": {},
   "outputs": [],
   "source": [
    "ibm_rtrns  = np.log(ibm_df['Close'].div(ibm_df['Close'].shift(1)))\n",
    "spy_rtrns  = np.log(spy_df['Close'].div(spy_df['Close'].shift(1)))\n",
    "gspc_rtrns = np.log(gspc_df['Close'].div(gspc_df['Close'].shift(1)))"
   ]
  },
  {
   "cell_type": "code",
   "execution_count": 6,
   "metadata": {},
   "outputs": [],
   "source": [
    "ibm_dollar_volume = ibm_df['Volume'] * ibm_df['Close']"
   ]
  },
  {
   "cell_type": "code",
   "execution_count": 52,
   "metadata": {},
   "outputs": [],
   "source": [
    "ibm_dollar_volume.name = 'Volume'"
   ]
  },
  {
   "cell_type": "code",
   "execution_count": 56,
   "metadata": {},
   "outputs": [],
   "source": [
    "returns_volume = pd.merge(ibm_rtrns, ibm_dollar_volume, left_index=True, right_index=True)\n",
    "returns_volume.dropna(inplace=True)"
   ]
  },
  {
   "cell_type": "code",
   "execution_count": 57,
   "metadata": {},
   "outputs": [
    {
     "data": {
      "text/html": [
       "<div>\n",
       "<style scoped>\n",
       "    .dataframe tbody tr th:only-of-type {\n",
       "        vertical-align: middle;\n",
       "    }\n",
       "\n",
       "    .dataframe tbody tr th {\n",
       "        vertical-align: top;\n",
       "    }\n",
       "\n",
       "    .dataframe thead th {\n",
       "        text-align: right;\n",
       "    }\n",
       "</style>\n",
       "<table border=\"1\" class=\"dataframe\">\n",
       "  <thead>\n",
       "    <tr style=\"text-align: right;\">\n",
       "      <th></th>\n",
       "      <th>Close</th>\n",
       "      <th>Volume</th>\n",
       "    </tr>\n",
       "    <tr>\n",
       "      <th>Date</th>\n",
       "      <th></th>\n",
       "      <th></th>\n",
       "    </tr>\n",
       "  </thead>\n",
       "  <tbody>\n",
       "    <tr>\n",
       "      <th>2013-01-03</th>\n",
       "      <td>-0.005515</td>\n",
       "      <td>4.693826e+08</td>\n",
       "    </tr>\n",
       "    <tr>\n",
       "      <th>2013-01-04</th>\n",
       "      <td>-0.006577</td>\n",
       "      <td>4.324653e+08</td>\n",
       "    </tr>\n",
       "    <tr>\n",
       "      <th>2013-01-07</th>\n",
       "      <td>-0.004391</td>\n",
       "      <td>3.646002e+08</td>\n",
       "    </tr>\n",
       "    <tr>\n",
       "      <th>2013-01-08</th>\n",
       "      <td>-0.001399</td>\n",
       "      <td>3.850280e+08</td>\n",
       "    </tr>\n",
       "    <tr>\n",
       "      <th>2013-01-09</th>\n",
       "      <td>-0.002856</td>\n",
       "      <td>4.074079e+08</td>\n",
       "    </tr>\n",
       "    <tr>\n",
       "      <th>2013-01-10</th>\n",
       "      <td>0.002908</td>\n",
       "      <td>4.589816e+08</td>\n",
       "    </tr>\n",
       "    <tr>\n",
       "      <th>2013-01-11</th>\n",
       "      <td>0.008107</td>\n",
       "      <td>4.976386e+08</td>\n",
       "    </tr>\n",
       "    <tr>\n",
       "      <th>2013-01-14</th>\n",
       "      <td>-0.009456</td>\n",
       "      <td>5.300244e+08</td>\n",
       "    </tr>\n",
       "    <tr>\n",
       "      <th>2013-01-15</th>\n",
       "      <td>-0.000623</td>\n",
       "      <td>5.296819e+08</td>\n",
       "    </tr>\n",
       "    <tr>\n",
       "      <th>2013-01-16</th>\n",
       "      <td>0.000467</td>\n",
       "      <td>3.763398e+08</td>\n",
       "    </tr>\n",
       "    <tr>\n",
       "      <th>2013-01-17</th>\n",
       "      <td>0.005489</td>\n",
       "      <td>4.957446e+08</td>\n",
       "    </tr>\n",
       "    <tr>\n",
       "      <th>2013-01-18</th>\n",
       "      <td>0.004225</td>\n",
       "      <td>5.848022e+08</td>\n",
       "    </tr>\n",
       "    <tr>\n",
       "      <th>2013-01-22</th>\n",
       "      <td>0.008245</td>\n",
       "      <td>9.275161e+08</td>\n",
       "    </tr>\n",
       "    <tr>\n",
       "      <th>2013-01-23</th>\n",
       "      <td>0.043120</td>\n",
       "      <td>1.691835e+09</td>\n",
       "    </tr>\n",
       "    <tr>\n",
       "      <th>2013-01-24</th>\n",
       "      <td>-0.001466</td>\n",
       "      <td>5.995697e+08</td>\n",
       "    </tr>\n",
       "    <tr>\n",
       "      <th>2013-01-25</th>\n",
       "      <td>0.002687</td>\n",
       "      <td>4.540638e+08</td>\n",
       "    </tr>\n",
       "    <tr>\n",
       "      <th>2013-01-28</th>\n",
       "      <td>-0.000195</td>\n",
       "      <td>3.816398e+08</td>\n",
       "    </tr>\n",
       "    <tr>\n",
       "      <th>2013-01-29</th>\n",
       "      <td>-0.005039</td>\n",
       "      <td>4.864152e+08</td>\n",
       "    </tr>\n",
       "    <tr>\n",
       "      <th>2013-01-30</th>\n",
       "      <td>-0.001865</td>\n",
       "      <td>4.024633e+08</td>\n",
       "    </tr>\n",
       "  </tbody>\n",
       "</table>\n",
       "</div>"
      ],
      "text/plain": [
       "               Close        Volume\n",
       "Date                              \n",
       "2013-01-03 -0.005515  4.693826e+08\n",
       "2013-01-04 -0.006577  4.324653e+08\n",
       "2013-01-07 -0.004391  3.646002e+08\n",
       "2013-01-08 -0.001399  3.850280e+08\n",
       "2013-01-09 -0.002856  4.074079e+08\n",
       "2013-01-10  0.002908  4.589816e+08\n",
       "2013-01-11  0.008107  4.976386e+08\n",
       "2013-01-14 -0.009456  5.300244e+08\n",
       "2013-01-15 -0.000623  5.296819e+08\n",
       "2013-01-16  0.000467  3.763398e+08\n",
       "2013-01-17  0.005489  4.957446e+08\n",
       "2013-01-18  0.004225  5.848022e+08\n",
       "2013-01-22  0.008245  9.275161e+08\n",
       "2013-01-23  0.043120  1.691835e+09\n",
       "2013-01-24 -0.001466  5.995697e+08\n",
       "2013-01-25  0.002687  4.540638e+08\n",
       "2013-01-28 -0.000195  3.816398e+08\n",
       "2013-01-29 -0.005039  4.864152e+08\n",
       "2013-01-30 -0.001865  4.024633e+08"
      ]
     },
     "execution_count": 57,
     "metadata": {},
     "output_type": "execute_result"
    }
   ],
   "source": [
    "returns_volume"
   ]
  },
  {
   "cell_type": "code",
   "execution_count": null,
   "metadata": {},
   "outputs": [],
   "source": []
  }
 ],
 "metadata": {
  "kernelspec": {
   "display_name": "Python 3",
   "language": "python",
   "name": "python3"
  },
  "language_info": {
   "codemirror_mode": {
    "name": "ipython",
    "version": 3
   },
   "file_extension": ".py",
   "mimetype": "text/x-python",
   "name": "python",
   "nbconvert_exporter": "python",
   "pygments_lexer": "ipython3",
   "version": "3.8.5"
  }
 },
 "nbformat": 4,
 "nbformat_minor": 2
}
