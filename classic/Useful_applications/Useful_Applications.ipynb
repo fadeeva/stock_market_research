{
 "cells": [
  {
   "cell_type": "markdown",
   "metadata": {},
   "source": [
    "# Useful Applications"
   ]
  },
  {
   "cell_type": "code",
   "execution_count": 1,
   "metadata": {},
   "outputs": [],
   "source": [
    "import pandas as pd\n",
    "import numpy as np\n",
    "import matplotlib.pyplot as plt\n",
    "import seaborn as sns\n",
    "import yfinance as yf\n",
    "import datetime as dt\n",
    "import math\n",
    "\n",
    "from jupyterthemes import jtplot\n",
    "jtplot.style(theme='onedork', figsize=(15, 9))"
   ]
  },
  {
   "cell_type": "markdown",
   "metadata": {},
   "source": [
    "## Class"
   ]
  },
  {
   "cell_type": "code",
   "execution_count": 28,
   "metadata": {},
   "outputs": [],
   "source": [
    "class UsefulApplications():\n",
    "    def __init__(self, ticker, start, end):\n",
    "        self.ticker = ticker\n",
    "        self.start = start\n",
    "        self.end = end\n",
    "        self.get_data()\n",
    "    \n",
    "    def get_data(self):\n",
    "        data = yf.download(self.ticker, self.start, self.end, interval='1d', auto_adjust=False, progress=False)\n",
    "        data['returns'] = np.log(data['Close'].div(data['Close'].shift(1)))\n",
    "        data.dropna(inplace=True)\n",
    "        self.asset = data\n",
    "        return data\n",
    "        \n",
    "    def amihud_illiquidity(self):\n",
    "#         close      = np.array(ibm_df['Close'])\n",
    "#         dollar_vol = np.array(ibm_df['Volume'] * close)\n",
    "#         returns    = np.array((close[1:] - close[:-1]) / close[1:])\n",
    "#         illiq      = np.mean(np.divide(np.abs(returns), dollar_vol[1:]))\n",
    "        \n",
    "        data = self.asset.copy()\n",
    "        dollar_vol = data['Volume'] * data['Close']\n",
    "        illiq      = np.mean(np.divide(np.abs(data['returns']), dollar_vol[1:]))\n",
    "        self.print_msg(f'Aminud\\'s illiquidity  for {self.ticker} is {illiq}')\n",
    "    \n",
    "    def rolls_spread(self):\n",
    "        data = self.asset.copy()\n",
    "        data['Diff'] = data['Close'].diff()\n",
    "        data_cov     = np.cov(data['Diff'][1:-1], data['Diff'][2:])\n",
    "        \n",
    "        if data_cov[0, 1] < 0:\n",
    "            self.print_msg(f'Roll\\'s Spread for {self.ticker}: {round(2*np.sqrt(-data_cov[0,1]), 5)}')\n",
    "        else:\n",
    "            self.print_msg(f'Roll\\'s Spread for {self.ticker}: {round(2*np.sqrt(data_cov[0,1]), 5)}')\n",
    "    \n",
    "    def print_msg(self, msg):\n",
    "        print(len(msg)*'*')\n",
    "        print(msg)\n",
    "#         print(len(msg)*'*')\n",
    "    \n",
    "    def summary(self):\n",
    "        pass\n",
    "    \n"
   ]
  },
  {
   "cell_type": "code",
   "execution_count": 32,
   "metadata": {},
   "outputs": [
    {
     "name": "stdout",
     "output_type": "stream",
     "text": [
      "******************************\n",
      "Roll's Spread for IBM: 1.01175\n",
      "*******************************************************\n",
      "Aminud's illiquidity  for IBM is 1.1600426194329588e-11\n"
     ]
    }
   ],
   "source": [
    "u_app = UsefulApplications('IBM', dt.datetime(2013, 10, 1), dt.datetime(2013, 10, 30))\n",
    "u_app.rolls_spread()\n",
    "u_app.amihud_illiquidity()"
   ]
  },
  {
   "cell_type": "code",
   "execution_count": null,
   "metadata": {},
   "outputs": [],
   "source": [
    "def rolls_spread(ticker, start=dt.datetime(2002, 1, 1), end=dt.datetime(2022, 12, 31), interval='1d', adjustment=False):\n",
    "    asset               = yf.download(ticker, start, end, interval, auto_adjust=adjustment, progress=False)\n",
    "    asset_close         = asset['Close'].to_frame()\n",
    "    asset_close['Diff'] = asset_close['Close'].diff()\n",
    "    asset_close_cov     = np.cov(asset_close['Diff'][1:-1], asset_close['Diff'][2:])\n",
    "\n",
    "    if asset_close_cov[0, 1] < 0:\n",
    "        print(f'Roll\\'s Spread for {ticker}: {round(2*np.sqrt(-asset_close_cov[0,1]), 3)}')\n",
    "    else:\n",
    "        print(f'Roll\\'s Spread for {ticker}: {round(2*np.sqrt(asset_close_cov[0,1]), 3)}')"
   ]
  },
  {
   "cell_type": "markdown",
   "metadata": {},
   "source": [
    "## Roll's model to estimate spread (1984)"
   ]
  },
  {
   "cell_type": "markdown",
   "metadata": {},
   "source": [
    "- __[Trading costs - The Roll Spread Estimator](https://ba-odegaard.no/teach/notes/liquidity_estimators/roll_spread_estimator/roll_lectures.pdf)__\n",
    "- __[A Simple Implicit Measure of the Effective Bid-Ask Spread in an Efficient Market](https://onlinelibrary.wiley.com/doi/full/10.1111/j.1540-6261.1984.tb03897.x)__"
   ]
  },
  {
   "cell_type": "code",
   "execution_count": 22,
   "metadata": {},
   "outputs": [
    {
     "name": "stdout",
     "output_type": "stream",
     "text": [
      "Roll's Spread for AAPL: 0.512\n"
     ]
    }
   ],
   "source": [
    "rolls_spread('AAPL', adjustment=True)"
   ]
  },
  {
   "cell_type": "markdown",
   "metadata": {},
   "source": [
    "### Research"
   ]
  },
  {
   "cell_type": "code",
   "execution_count": 2,
   "metadata": {},
   "outputs": [
    {
     "data": {
      "text/html": [
       "<div>\n",
       "<style scoped>\n",
       "    .dataframe tbody tr th:only-of-type {\n",
       "        vertical-align: middle;\n",
       "    }\n",
       "\n",
       "    .dataframe tbody tr th {\n",
       "        vertical-align: top;\n",
       "    }\n",
       "\n",
       "    .dataframe thead th {\n",
       "        text-align: right;\n",
       "    }\n",
       "</style>\n",
       "<table border=\"1\" class=\"dataframe\">\n",
       "  <thead>\n",
       "    <tr style=\"text-align: right;\">\n",
       "      <th></th>\n",
       "      <th>Open</th>\n",
       "      <th>High</th>\n",
       "      <th>Low</th>\n",
       "      <th>Close</th>\n",
       "      <th>Volume</th>\n",
       "      <th>Dividends</th>\n",
       "      <th>Stock Splits</th>\n",
       "    </tr>\n",
       "    <tr>\n",
       "      <th>Date</th>\n",
       "      <th></th>\n",
       "      <th></th>\n",
       "      <th></th>\n",
       "      <th></th>\n",
       "      <th></th>\n",
       "      <th></th>\n",
       "      <th></th>\n",
       "    </tr>\n",
       "  </thead>\n",
       "  <tbody>\n",
       "    <tr>\n",
       "      <th>2013-09-03</th>\n",
       "      <td>117.398367</td>\n",
       "      <td>117.839496</td>\n",
       "      <td>116.682332</td>\n",
       "      <td>117.609344</td>\n",
       "      <td>3647611</td>\n",
       "      <td>0.0</td>\n",
       "      <td>0.0</td>\n",
       "    </tr>\n",
       "    <tr>\n",
       "      <th>2013-09-04</th>\n",
       "      <td>117.366468</td>\n",
       "      <td>117.756444</td>\n",
       "      <td>116.554525</td>\n",
       "      <td>117.078766</td>\n",
       "      <td>2717403</td>\n",
       "      <td>0.0</td>\n",
       "      <td>0.0</td>\n",
       "    </tr>\n",
       "    <tr>\n",
       "      <th>2013-09-05</th>\n",
       "      <td>117.219388</td>\n",
       "      <td>118.274267</td>\n",
       "      <td>117.040379</td>\n",
       "      <td>117.730843</td>\n",
       "      <td>2999510</td>\n",
       "      <td>0.0</td>\n",
       "      <td>0.0</td>\n",
       "    </tr>\n",
       "    <tr>\n",
       "      <th>2013-09-06</th>\n",
       "      <td>118.050496</td>\n",
       "      <td>118.267872</td>\n",
       "      <td>116.771854</td>\n",
       "      <td>117.014801</td>\n",
       "      <td>3037061</td>\n",
       "      <td>0.0</td>\n",
       "      <td>0.0</td>\n",
       "    </tr>\n",
       "    <tr>\n",
       "      <th>2013-09-09</th>\n",
       "      <td>117.430359</td>\n",
       "      <td>118.587533</td>\n",
       "      <td>117.193810</td>\n",
       "      <td>118.261475</td>\n",
       "      <td>3155991</td>\n",
       "      <td>0.0</td>\n",
       "      <td>0.0</td>\n",
       "    </tr>\n",
       "  </tbody>\n",
       "</table>\n",
       "</div>"
      ],
      "text/plain": [
       "                  Open        High         Low       Close   Volume  \\\n",
       "Date                                                                  \n",
       "2013-09-03  117.398367  117.839496  116.682332  117.609344  3647611   \n",
       "2013-09-04  117.366468  117.756444  116.554525  117.078766  2717403   \n",
       "2013-09-05  117.219388  118.274267  117.040379  117.730843  2999510   \n",
       "2013-09-06  118.050496  118.267872  116.771854  117.014801  3037061   \n",
       "2013-09-09  117.430359  118.587533  117.193810  118.261475  3155991   \n",
       "\n",
       "            Dividends  Stock Splits  \n",
       "Date                                 \n",
       "2013-09-03        0.0           0.0  \n",
       "2013-09-04        0.0           0.0  \n",
       "2013-09-05        0.0           0.0  \n",
       "2013-09-06        0.0           0.0  \n",
       "2013-09-09        0.0           0.0  "
      ]
     },
     "execution_count": 2,
     "metadata": {},
     "output_type": "execute_result"
    }
   ],
   "source": [
    "df = pd.read_csv('../../data/IBM_2013-09-01_2013-11-11_1d.csv', index_col=0, parse_dates=True)\n",
    "df.head()"
   ]
  },
  {
   "cell_type": "code",
   "execution_count": 3,
   "metadata": {},
   "outputs": [
    {
     "data": {
      "text/html": [
       "<div>\n",
       "<style scoped>\n",
       "    .dataframe tbody tr th:only-of-type {\n",
       "        vertical-align: middle;\n",
       "    }\n",
       "\n",
       "    .dataframe tbody tr th {\n",
       "        vertical-align: top;\n",
       "    }\n",
       "\n",
       "    .dataframe thead th {\n",
       "        text-align: right;\n",
       "    }\n",
       "</style>\n",
       "<table border=\"1\" class=\"dataframe\">\n",
       "  <thead>\n",
       "    <tr style=\"text-align: right;\">\n",
       "      <th></th>\n",
       "      <th>Close</th>\n",
       "    </tr>\n",
       "    <tr>\n",
       "      <th>Date</th>\n",
       "      <th></th>\n",
       "    </tr>\n",
       "  </thead>\n",
       "  <tbody>\n",
       "    <tr>\n",
       "      <th>2013-09-03</th>\n",
       "      <td>117.609344</td>\n",
       "    </tr>\n",
       "    <tr>\n",
       "      <th>2013-09-04</th>\n",
       "      <td>117.078766</td>\n",
       "    </tr>\n",
       "    <tr>\n",
       "      <th>2013-09-05</th>\n",
       "      <td>117.730843</td>\n",
       "    </tr>\n",
       "    <tr>\n",
       "      <th>2013-09-06</th>\n",
       "      <td>117.014801</td>\n",
       "    </tr>\n",
       "    <tr>\n",
       "      <th>2013-09-09</th>\n",
       "      <td>118.261475</td>\n",
       "    </tr>\n",
       "  </tbody>\n",
       "</table>\n",
       "</div>"
      ],
      "text/plain": [
       "                 Close\n",
       "Date                  \n",
       "2013-09-03  117.609344\n",
       "2013-09-04  117.078766\n",
       "2013-09-05  117.730843\n",
       "2013-09-06  117.014801\n",
       "2013-09-09  118.261475"
      ]
     },
     "execution_count": 3,
     "metadata": {},
     "output_type": "execute_result"
    }
   ],
   "source": [
    "close = df['Close'].to_frame()\n",
    "close.head()"
   ]
  },
  {
   "cell_type": "code",
   "execution_count": 4,
   "metadata": {},
   "outputs": [
    {
     "data": {
      "text/html": [
       "<div>\n",
       "<style scoped>\n",
       "    .dataframe tbody tr th:only-of-type {\n",
       "        vertical-align: middle;\n",
       "    }\n",
       "\n",
       "    .dataframe tbody tr th {\n",
       "        vertical-align: top;\n",
       "    }\n",
       "\n",
       "    .dataframe thead th {\n",
       "        text-align: right;\n",
       "    }\n",
       "</style>\n",
       "<table border=\"1\" class=\"dataframe\">\n",
       "  <thead>\n",
       "    <tr style=\"text-align: right;\">\n",
       "      <th></th>\n",
       "      <th>Close</th>\n",
       "      <th>Diff</th>\n",
       "    </tr>\n",
       "    <tr>\n",
       "      <th>Date</th>\n",
       "      <th></th>\n",
       "      <th></th>\n",
       "    </tr>\n",
       "  </thead>\n",
       "  <tbody>\n",
       "    <tr>\n",
       "      <th>2013-09-03</th>\n",
       "      <td>117.609344</td>\n",
       "      <td>NaN</td>\n",
       "    </tr>\n",
       "    <tr>\n",
       "      <th>2013-09-04</th>\n",
       "      <td>117.078766</td>\n",
       "      <td>-0.530579</td>\n",
       "    </tr>\n",
       "    <tr>\n",
       "      <th>2013-09-05</th>\n",
       "      <td>117.730843</td>\n",
       "      <td>0.652077</td>\n",
       "    </tr>\n",
       "    <tr>\n",
       "      <th>2013-09-06</th>\n",
       "      <td>117.014801</td>\n",
       "      <td>-0.716042</td>\n",
       "    </tr>\n",
       "    <tr>\n",
       "      <th>2013-09-09</th>\n",
       "      <td>118.261475</td>\n",
       "      <td>1.246674</td>\n",
       "    </tr>\n",
       "  </tbody>\n",
       "</table>\n",
       "</div>"
      ],
      "text/plain": [
       "                 Close      Diff\n",
       "Date                            \n",
       "2013-09-03  117.609344       NaN\n",
       "2013-09-04  117.078766 -0.530579\n",
       "2013-09-05  117.730843  0.652077\n",
       "2013-09-06  117.014801 -0.716042\n",
       "2013-09-09  118.261475  1.246674"
      ]
     },
     "execution_count": 4,
     "metadata": {},
     "output_type": "execute_result"
    }
   ],
   "source": [
    "close['Diff'] = df['Close'].diff()\n",
    "close.head()"
   ]
  },
  {
   "cell_type": "code",
   "execution_count": 5,
   "metadata": {},
   "outputs": [
    {
     "data": {
      "text/plain": [
       "-0.14103707800980902"
      ]
     },
     "execution_count": 5,
     "metadata": {},
     "output_type": "execute_result"
    }
   ],
   "source": [
    "_cov = np.cov(close['Diff'][1:-1], close['Diff'][2:])\n",
    "_cov[0, 1]"
   ]
  },
  {
   "cell_type": "code",
   "execution_count": 6,
   "metadata": {},
   "outputs": [
    {
     "data": {
      "text/plain": [
       "-0.05134942727349844"
      ]
     },
     "execution_count": 6,
     "metadata": {},
     "output_type": "execute_result"
    }
   ],
   "source": [
    "np.corrcoef(close['Diff'][1:-1], close['Diff'][2:])[0,1]"
   ]
  },
  {
   "cell_type": "code",
   "execution_count": 7,
   "metadata": {},
   "outputs": [
    {
     "name": "stdout",
     "output_type": "stream",
     "text": [
      "Roll's Spread for IBM: 0.751\n"
     ]
    }
   ],
   "source": [
    "if _cov[0, 1] < 0:\n",
    "    print(f'Roll\\'s Spread for IBM: {round(2*np.sqrt(-_cov[0,1]), 3)}')\n",
    "else:\n",
    "    print(f'Roll\\'s Spread for IBM: {round(2*np.sqrt(_cov[0,1]), 3)}')"
   ]
  },
  {
   "cell_type": "code",
   "execution_count": 8,
   "metadata": {},
   "outputs": [
    {
     "name": "stdout",
     "output_type": "stream",
     "text": [
      "[*********************100%***********************]  1 of 1 completed\n"
     ]
    }
   ],
   "source": [
    "ibm_wo_adjustment = yf.download('IBM', dt.datetime(2013, 9, 11), dt.datetime(2013, 11, 11), '1d')"
   ]
  },
  {
   "cell_type": "code",
   "execution_count": 10,
   "metadata": {},
   "outputs": [
    {
     "data": {
      "text/html": [
       "<div>\n",
       "<style scoped>\n",
       "    .dataframe tbody tr th:only-of-type {\n",
       "        vertical-align: middle;\n",
       "    }\n",
       "\n",
       "    .dataframe tbody tr th {\n",
       "        vertical-align: top;\n",
       "    }\n",
       "\n",
       "    .dataframe thead th {\n",
       "        text-align: right;\n",
       "    }\n",
       "</style>\n",
       "<table border=\"1\" class=\"dataframe\">\n",
       "  <thead>\n",
       "    <tr style=\"text-align: right;\">\n",
       "      <th></th>\n",
       "      <th>Close</th>\n",
       "      <th>Diff</th>\n",
       "    </tr>\n",
       "    <tr>\n",
       "      <th>Date</th>\n",
       "      <th></th>\n",
       "      <th></th>\n",
       "    </tr>\n",
       "  </thead>\n",
       "  <tbody>\n",
       "    <tr>\n",
       "      <th>2013-09-11</th>\n",
       "      <td>182.313583</td>\n",
       "      <td>NaN</td>\n",
       "    </tr>\n",
       "    <tr>\n",
       "      <th>2013-09-12</th>\n",
       "      <td>182.342255</td>\n",
       "      <td>0.028671</td>\n",
       "    </tr>\n",
       "    <tr>\n",
       "      <th>2013-09-13</th>\n",
       "      <td>183.718933</td>\n",
       "      <td>1.376678</td>\n",
       "    </tr>\n",
       "    <tr>\n",
       "      <th>2013-09-16</th>\n",
       "      <td>184.655838</td>\n",
       "      <td>0.936905</td>\n",
       "    </tr>\n",
       "    <tr>\n",
       "      <th>2013-09-17</th>\n",
       "      <td>183.709366</td>\n",
       "      <td>-0.946472</td>\n",
       "    </tr>\n",
       "  </tbody>\n",
       "</table>\n",
       "</div>"
      ],
      "text/plain": [
       "                 Close      Diff\n",
       "Date                            \n",
       "2013-09-11  182.313583       NaN\n",
       "2013-09-12  182.342255  0.028671\n",
       "2013-09-13  183.718933  1.376678\n",
       "2013-09-16  184.655838  0.936905\n",
       "2013-09-17  183.709366 -0.946472"
      ]
     },
     "execution_count": 10,
     "metadata": {},
     "output_type": "execute_result"
    }
   ],
   "source": [
    "ibm_wo_adj_close = ibm_wo_adjustment['Close'].to_frame()\n",
    "ibm_wo_adj_close['Diff'] = ibm_wo_adj_close['Close'].diff()\n",
    "ibm_wo_adj_close.head()"
   ]
  },
  {
   "cell_type": "code",
   "execution_count": 12,
   "metadata": {},
   "outputs": [
    {
     "data": {
      "text/plain": [
       "-0.5197988161154193"
      ]
     },
     "execution_count": 12,
     "metadata": {},
     "output_type": "execute_result"
    }
   ],
   "source": [
    "_ibm_wo_adj_cov = np.cov(ibm_wo_adj_close['Diff'][1:-1], ibm_wo_adj_close['Diff'][2:])\n",
    "_ibm_wo_adj_cov[0, 1]"
   ]
  },
  {
   "cell_type": "code",
   "execution_count": 13,
   "metadata": {},
   "outputs": [
    {
     "name": "stdout",
     "output_type": "stream",
     "text": [
      "Roll's Spread for IBM(no adjustment): 1.442\n"
     ]
    }
   ],
   "source": [
    "if _ibm_wo_adj_cov[0, 1] < 0:\n",
    "    print(f'Roll\\'s Spread for IBM(no adjustment): {round(2*np.sqrt(-_ibm_wo_adj_cov[0,1]), 3)}')\n",
    "else:\n",
    "    print(f'Roll\\'s Spread for IBM(no adjustment): {round(2*np.sqrt(_ibm_wo_adj_cov[0,1]), 3)}')"
   ]
  },
  {
   "cell_type": "markdown",
   "metadata": {},
   "source": [
    "## Amihud's model for illiquidity (2002)"
   ]
  },
  {
   "cell_type": "markdown",
   "metadata": {},
   "source": [
    "- __[Amihud Illiquidity Measure](https://breakingdownfinance.com/finance-topics/alternative-investments/amihud-illiquidity-measure/)__\n",
    "- __[ILLIQUIDITY AND STOCK RETURNS: Cross-Section and Time-Series Effects](https://deliverypdf.ssrn.com/delivery.php?ID=996103073088116024117083087064091068036022029078044001090016109113126101021095072012074014095026118068068048028116102114123091093097081107024117113108069091098068086072104076008064076097125&EXT=pdf&INDEX=TRUE)__\n",
    "- __[The Night and Day of Amihud’s (2002) Liquidity Measure](https://www.chapman.edu/business/_files/faculty-research/2019-conference-money-finance/yashar-barardehi-paper.pdf)__\n",
    "- __[Price Impact or Trading Volume: Why is the Amihud (2002) Illiquidity Measure Priced?](https://www.lehigh.edu/~jms408/Lu_2014.pdf)__\n",
    "- __[Illiquidity: A study on how investing in illiquid assets can be profitable](http://arno.uvt.nl/show.cgi?fid=142126)__\n",
    "- __[An Analysis of the Amihud Illiquidity Premium](https://www.researchgate.net/publication/228315879_An_Analysis_of_the_Amihud_Illiquidity_Premium)__\n",
    "- __[Illiquidity and Stock Returns: Empirical Evidence from the Stockholm Stock Exchange](http://arc.hhs.se/download.aspx?MediumId=1481)__"
   ]
  },
  {
   "cell_type": "code",
   "execution_count": 2,
   "metadata": {},
   "outputs": [
    {
     "name": "stdout",
     "output_type": "stream",
     "text": [
      "[*********************100%***********************]  1 of 1 completed\n"
     ]
    },
    {
     "data": {
      "text/html": [
       "<div>\n",
       "<style scoped>\n",
       "    .dataframe tbody tr th:only-of-type {\n",
       "        vertical-align: middle;\n",
       "    }\n",
       "\n",
       "    .dataframe tbody tr th {\n",
       "        vertical-align: top;\n",
       "    }\n",
       "\n",
       "    .dataframe thead th {\n",
       "        text-align: right;\n",
       "    }\n",
       "</style>\n",
       "<table border=\"1\" class=\"dataframe\">\n",
       "  <thead>\n",
       "    <tr style=\"text-align: right;\">\n",
       "      <th></th>\n",
       "      <th>Open</th>\n",
       "      <th>High</th>\n",
       "      <th>Low</th>\n",
       "      <th>Close</th>\n",
       "      <th>Volume</th>\n",
       "      <th>Dividends</th>\n",
       "      <th>Stock Splits</th>\n",
       "    </tr>\n",
       "    <tr>\n",
       "      <th>Date</th>\n",
       "      <th></th>\n",
       "      <th></th>\n",
       "      <th></th>\n",
       "      <th></th>\n",
       "      <th></th>\n",
       "      <th></th>\n",
       "      <th></th>\n",
       "    </tr>\n",
       "  </thead>\n",
       "  <tbody>\n",
       "    <tr>\n",
       "      <th>2013-10-01</th>\n",
       "      <td>118.491640</td>\n",
       "      <td>119.329143</td>\n",
       "      <td>118.050501</td>\n",
       "      <td>119.156532</td>\n",
       "      <td>2804535</td>\n",
       "      <td>0.0</td>\n",
       "      <td>0.0</td>\n",
       "    </tr>\n",
       "    <tr>\n",
       "      <th>2013-10-02</th>\n",
       "      <td>118.619475</td>\n",
       "      <td>119.111757</td>\n",
       "      <td>117.897043</td>\n",
       "      <td>118.248672</td>\n",
       "      <td>3783487</td>\n",
       "      <td>0.0</td>\n",
       "      <td>0.0</td>\n",
       "    </tr>\n",
       "    <tr>\n",
       "      <th>2013-10-03</th>\n",
       "      <td>118.082451</td>\n",
       "      <td>118.248675</td>\n",
       "      <td>116.995604</td>\n",
       "      <td>117.545425</td>\n",
       "      <td>3359543</td>\n",
       "      <td>0.0</td>\n",
       "      <td>0.0</td>\n",
       "    </tr>\n",
       "    <tr>\n",
       "      <th>2013-10-04</th>\n",
       "      <td>117.743620</td>\n",
       "      <td>118.357370</td>\n",
       "      <td>117.366429</td>\n",
       "      <td>117.698875</td>\n",
       "      <td>2995326</td>\n",
       "      <td>0.0</td>\n",
       "      <td>0.0</td>\n",
       "    </tr>\n",
       "    <tr>\n",
       "      <th>2013-10-07</th>\n",
       "      <td>116.260399</td>\n",
       "      <td>117.193809</td>\n",
       "      <td>116.260399</td>\n",
       "      <td>116.362694</td>\n",
       "      <td>4148854</td>\n",
       "      <td>0.0</td>\n",
       "      <td>0.0</td>\n",
       "    </tr>\n",
       "    <tr>\n",
       "      <th>2013-10-08</th>\n",
       "      <td>116.285959</td>\n",
       "      <td>116.349897</td>\n",
       "      <td>114.252925</td>\n",
       "      <td>114.259323</td>\n",
       "      <td>5834902</td>\n",
       "      <td>0.0</td>\n",
       "      <td>0.0</td>\n",
       "    </tr>\n",
       "    <tr>\n",
       "      <th>2013-10-09</th>\n",
       "      <td>114.674844</td>\n",
       "      <td>116.145280</td>\n",
       "      <td>114.502223</td>\n",
       "      <td>115.921516</td>\n",
       "      <td>4626981</td>\n",
       "      <td>0.0</td>\n",
       "      <td>0.0</td>\n",
       "    </tr>\n",
       "    <tr>\n",
       "      <th>2013-10-10</th>\n",
       "      <td>117.104278</td>\n",
       "      <td>118.127197</td>\n",
       "      <td>116.586435</td>\n",
       "      <td>118.127197</td>\n",
       "      <td>3827209</td>\n",
       "      <td>0.0</td>\n",
       "      <td>0.0</td>\n",
       "    </tr>\n",
       "    <tr>\n",
       "      <th>2013-10-11</th>\n",
       "      <td>118.434134</td>\n",
       "      <td>119.060659</td>\n",
       "      <td>117.711701</td>\n",
       "      <td>119.015915</td>\n",
       "      <td>3381300</td>\n",
       "      <td>0.0</td>\n",
       "      <td>0.0</td>\n",
       "    </tr>\n",
       "    <tr>\n",
       "      <th>2013-10-14</th>\n",
       "      <td>118.536376</td>\n",
       "      <td>119.546500</td>\n",
       "      <td>117.903453</td>\n",
       "      <td>119.533714</td>\n",
       "      <td>2785603</td>\n",
       "      <td>0.0</td>\n",
       "      <td>0.0</td>\n",
       "    </tr>\n",
       "    <tr>\n",
       "      <th>2013-10-15</th>\n",
       "      <td>118.747348</td>\n",
       "      <td>118.875215</td>\n",
       "      <td>117.775581</td>\n",
       "      <td>118.056885</td>\n",
       "      <td>3519895</td>\n",
       "      <td>0.0</td>\n",
       "      <td>0.0</td>\n",
       "    </tr>\n",
       "    <tr>\n",
       "      <th>2013-10-16</th>\n",
       "      <td>118.542792</td>\n",
       "      <td>119.380295</td>\n",
       "      <td>118.267886</td>\n",
       "      <td>119.380295</td>\n",
       "      <td>7027028</td>\n",
       "      <td>0.0</td>\n",
       "      <td>0.0</td>\n",
       "    </tr>\n",
       "    <tr>\n",
       "      <th>2013-10-17</th>\n",
       "      <td>111.139459</td>\n",
       "      <td>113.159718</td>\n",
       "      <td>110.327527</td>\n",
       "      <td>111.772392</td>\n",
       "      <td>23397869</td>\n",
       "      <td>0.0</td>\n",
       "      <td>0.0</td>\n",
       "    </tr>\n",
       "    <tr>\n",
       "      <th>2013-10-18</th>\n",
       "      <td>111.753204</td>\n",
       "      <td>111.881070</td>\n",
       "      <td>110.762263</td>\n",
       "      <td>111.101097</td>\n",
       "      <td>11033208</td>\n",
       "      <td>0.0</td>\n",
       "      <td>0.0</td>\n",
       "    </tr>\n",
       "    <tr>\n",
       "      <th>2013-10-21</th>\n",
       "      <td>111.510263</td>\n",
       "      <td>111.721230</td>\n",
       "      <td>110.365874</td>\n",
       "      <td>110.512924</td>\n",
       "      <td>7425240</td>\n",
       "      <td>0.0</td>\n",
       "      <td>0.0</td>\n",
       "    </tr>\n",
       "    <tr>\n",
       "      <th>2013-10-22</th>\n",
       "      <td>110.826190</td>\n",
       "      <td>112.245484</td>\n",
       "      <td>110.570457</td>\n",
       "      <td>111.861885</td>\n",
       "      <td>7298256</td>\n",
       "      <td>0.0</td>\n",
       "      <td>0.0</td>\n",
       "    </tr>\n",
       "    <tr>\n",
       "      <th>2013-10-23</th>\n",
       "      <td>111.938598</td>\n",
       "      <td>112.513981</td>\n",
       "      <td>111.497469</td>\n",
       "      <td>112.373329</td>\n",
       "      <td>5658232</td>\n",
       "      <td>0.0</td>\n",
       "      <td>0.0</td>\n",
       "    </tr>\n",
       "    <tr>\n",
       "      <th>2013-10-24</th>\n",
       "      <td>112.795272</td>\n",
       "      <td>113.728683</td>\n",
       "      <td>112.680192</td>\n",
       "      <td>113.671143</td>\n",
       "      <td>5787832</td>\n",
       "      <td>0.0</td>\n",
       "      <td>0.0</td>\n",
       "    </tr>\n",
       "    <tr>\n",
       "      <th>2013-10-25</th>\n",
       "      <td>114.073906</td>\n",
       "      <td>114.502249</td>\n",
       "      <td>112.686581</td>\n",
       "      <td>113.063782</td>\n",
       "      <td>5065569</td>\n",
       "      <td>0.0</td>\n",
       "      <td>0.0</td>\n",
       "    </tr>\n",
       "    <tr>\n",
       "      <th>2013-10-28</th>\n",
       "      <td>113.185307</td>\n",
       "      <td>113.728731</td>\n",
       "      <td>112.648281</td>\n",
       "      <td>113.383499</td>\n",
       "      <td>3883484</td>\n",
       "      <td>0.0</td>\n",
       "      <td>0.0</td>\n",
       "    </tr>\n",
       "    <tr>\n",
       "      <th>2013-10-29</th>\n",
       "      <td>113.556106</td>\n",
       "      <td>116.560918</td>\n",
       "      <td>113.479392</td>\n",
       "      <td>116.433052</td>\n",
       "      <td>9314212</td>\n",
       "      <td>0.0</td>\n",
       "      <td>0.0</td>\n",
       "    </tr>\n",
       "  </tbody>\n",
       "</table>\n",
       "</div>"
      ],
      "text/plain": [
       "                  Open        High         Low       Close    Volume  \\\n",
       "Date                                                                   \n",
       "2013-10-01  118.491640  119.329143  118.050501  119.156532   2804535   \n",
       "2013-10-02  118.619475  119.111757  117.897043  118.248672   3783487   \n",
       "2013-10-03  118.082451  118.248675  116.995604  117.545425   3359543   \n",
       "2013-10-04  117.743620  118.357370  117.366429  117.698875   2995326   \n",
       "2013-10-07  116.260399  117.193809  116.260399  116.362694   4148854   \n",
       "2013-10-08  116.285959  116.349897  114.252925  114.259323   5834902   \n",
       "2013-10-09  114.674844  116.145280  114.502223  115.921516   4626981   \n",
       "2013-10-10  117.104278  118.127197  116.586435  118.127197   3827209   \n",
       "2013-10-11  118.434134  119.060659  117.711701  119.015915   3381300   \n",
       "2013-10-14  118.536376  119.546500  117.903453  119.533714   2785603   \n",
       "2013-10-15  118.747348  118.875215  117.775581  118.056885   3519895   \n",
       "2013-10-16  118.542792  119.380295  118.267886  119.380295   7027028   \n",
       "2013-10-17  111.139459  113.159718  110.327527  111.772392  23397869   \n",
       "2013-10-18  111.753204  111.881070  110.762263  111.101097  11033208   \n",
       "2013-10-21  111.510263  111.721230  110.365874  110.512924   7425240   \n",
       "2013-10-22  110.826190  112.245484  110.570457  111.861885   7298256   \n",
       "2013-10-23  111.938598  112.513981  111.497469  112.373329   5658232   \n",
       "2013-10-24  112.795272  113.728683  112.680192  113.671143   5787832   \n",
       "2013-10-25  114.073906  114.502249  112.686581  113.063782   5065569   \n",
       "2013-10-28  113.185307  113.728731  112.648281  113.383499   3883484   \n",
       "2013-10-29  113.556106  116.560918  113.479392  116.433052   9314212   \n",
       "\n",
       "            Dividends  Stock Splits  \n",
       "Date                                 \n",
       "2013-10-01        0.0           0.0  \n",
       "2013-10-02        0.0           0.0  \n",
       "2013-10-03        0.0           0.0  \n",
       "2013-10-04        0.0           0.0  \n",
       "2013-10-07        0.0           0.0  \n",
       "2013-10-08        0.0           0.0  \n",
       "2013-10-09        0.0           0.0  \n",
       "2013-10-10        0.0           0.0  \n",
       "2013-10-11        0.0           0.0  \n",
       "2013-10-14        0.0           0.0  \n",
       "2013-10-15        0.0           0.0  \n",
       "2013-10-16        0.0           0.0  \n",
       "2013-10-17        0.0           0.0  \n",
       "2013-10-18        0.0           0.0  \n",
       "2013-10-21        0.0           0.0  \n",
       "2013-10-22        0.0           0.0  \n",
       "2013-10-23        0.0           0.0  \n",
       "2013-10-24        0.0           0.0  \n",
       "2013-10-25        0.0           0.0  \n",
       "2013-10-28        0.0           0.0  \n",
       "2013-10-29        0.0           0.0  "
      ]
     },
     "execution_count": 2,
     "metadata": {},
     "output_type": "execute_result"
    }
   ],
   "source": [
    "ibm_df = yf.download('IBM', dt.datetime(2013, 10, 1), dt.datetime(2013, 10, 30), '1d', auto_adjust=True)\n",
    "ibm_df"
   ]
  },
  {
   "cell_type": "code",
   "execution_count": 7,
   "metadata": {},
   "outputs": [
    {
     "name": "stdout",
     "output_type": "stream",
     "text": [
      "Aminud's illiquidity is 1.7349160136434808e-11\n"
     ]
    }
   ],
   "source": [
    "close      = np.array(ibm_df['Close'])\n",
    "dollar_vol = np.array(ibm_df['Volume'] * close)\n",
    "returns    = np.array((close[1:] - close[:-1]) / close[1:])\n",
    "illiq      = np.mean(np.divide(np.abs(returns), dollar_vol[1:]))\n",
    "print(f'Aminud\\'s illiquidity is {illiq}')"
   ]
  },
  {
   "cell_type": "code",
   "execution_count": 9,
   "metadata": {},
   "outputs": [
    {
     "data": {
      "text/plain": [
       "(array([118.24867249, 117.54542542, 117.69887543, 116.36269379,\n",
       "        114.25932312, 115.92151642, 118.12719727, 119.01591492,\n",
       "        119.53371429, 118.05688477, 119.3802948 , 111.77239227,\n",
       "        111.10109711, 110.51292419, 111.86188507, 112.37332916,\n",
       "        113.67114258, 113.06378174, 113.38349915, 116.43305206]),\n",
       " array([119.15653229, 118.24867249, 117.54542542, 117.69887543,\n",
       "        116.36269379, 114.25932312, 115.92151642, 118.12719727,\n",
       "        119.01591492, 119.53371429, 118.05688477, 119.3802948 ,\n",
       "        111.77239227, 111.10109711, 110.51292419, 111.86188507,\n",
       "        112.37332916, 113.67114258, 113.06378174, 113.38349915]),\n",
       " array([119.15653229, 118.24867249, 117.54542542, 117.69887543,\n",
       "        116.36269379, 114.25932312, 115.92151642, 118.12719727,\n",
       "        119.01591492, 119.53371429, 118.05688477, 119.3802948 ,\n",
       "        111.77239227, 111.10109711, 110.51292419, 111.86188507,\n",
       "        112.37332916, 113.67114258, 113.06378174, 113.38349915,\n",
       "        116.43305206]))"
      ]
     },
     "execution_count": 9,
     "metadata": {},
     "output_type": "execute_result"
    }
   ],
   "source": [
    "close[1:], close[:-1], close"
   ]
  },
  {
   "cell_type": "code",
   "execution_count": null,
   "metadata": {},
   "outputs": [],
   "source": []
  }
 ],
 "metadata": {
  "kernelspec": {
   "display_name": "Python 3",
   "language": "python",
   "name": "python3"
  },
  "language_info": {
   "codemirror_mode": {
    "name": "ipython",
    "version": 3
   },
   "file_extension": ".py",
   "mimetype": "text/x-python",
   "name": "python",
   "nbconvert_exporter": "python",
   "pygments_lexer": "ipython3",
   "version": "3.8.5"
  }
 },
 "nbformat": 4,
 "nbformat_minor": 2
}
