{
 "cells": [
  {
   "cell_type": "markdown",
   "metadata": {},
   "source": [
    "# 52-week high and low trading strategy"
   ]
  },
  {
   "cell_type": "code",
   "execution_count": 1,
   "metadata": {},
   "outputs": [],
   "source": [
    "import pandas as pd\n",
    "import numpy as np\n",
    "import matplotlib.pyplot as plt"
   ]
  },
  {
   "cell_type": "code",
   "execution_count": 2,
   "metadata": {},
   "outputs": [
    {
     "data": {
      "text/plain": [
       "(5288, 7)"
      ]
     },
     "execution_count": 2,
     "metadata": {},
     "output_type": "execute_result"
    }
   ],
   "source": [
    "bac_df = pd.read_csv('../../data/BAC_2002-01-01_2022-12-31_1d.csv')\n",
    "bac_df.set_index('Date', inplace=True)\n",
    "bac_df.shape"
   ]
  },
  {
   "cell_type": "code",
   "execution_count": 3,
   "metadata": {},
   "outputs": [],
   "source": [
    "bac_df.drop(['Dividends', 'Stock Splits'], axis=1, inplace=True)"
   ]
  },
  {
   "cell_type": "code",
   "execution_count": 4,
   "metadata": {},
   "outputs": [
    {
     "data": {
      "text/html": [
       "<div>\n",
       "<style scoped>\n",
       "    .dataframe tbody tr th:only-of-type {\n",
       "        vertical-align: middle;\n",
       "    }\n",
       "\n",
       "    .dataframe tbody tr th {\n",
       "        vertical-align: top;\n",
       "    }\n",
       "\n",
       "    .dataframe thead th {\n",
       "        text-align: right;\n",
       "    }\n",
       "</style>\n",
       "<table border=\"1\" class=\"dataframe\">\n",
       "  <thead>\n",
       "    <tr style=\"text-align: right;\">\n",
       "      <th></th>\n",
       "      <th>Open</th>\n",
       "      <th>High</th>\n",
       "      <th>Low</th>\n",
       "      <th>Close</th>\n",
       "      <th>Volume</th>\n",
       "      <th>52weeksMIN</th>\n",
       "      <th>52weeksMAX</th>\n",
       "    </tr>\n",
       "    <tr>\n",
       "      <th>Date</th>\n",
       "      <th></th>\n",
       "      <th></th>\n",
       "      <th></th>\n",
       "      <th></th>\n",
       "      <th></th>\n",
       "      <th></th>\n",
       "      <th></th>\n",
       "    </tr>\n",
       "  </thead>\n",
       "  <tbody>\n",
       "    <tr>\n",
       "      <th>2022-12-16</th>\n",
       "      <td>31.416241</td>\n",
       "      <td>31.724243</td>\n",
       "      <td>31.147981</td>\n",
       "      <td>31.495726</td>\n",
       "      <td>61795200</td>\n",
       "      <td>29.40624</td>\n",
       "      <td>47.945427</td>\n",
       "    </tr>\n",
       "    <tr>\n",
       "      <th>2022-12-19</th>\n",
       "      <td>31.555337</td>\n",
       "      <td>32.022308</td>\n",
       "      <td>31.525530</td>\n",
       "      <td>31.853405</td>\n",
       "      <td>38374100</td>\n",
       "      <td>29.40624</td>\n",
       "      <td>47.945427</td>\n",
       "    </tr>\n",
       "    <tr>\n",
       "      <th>2022-12-20</th>\n",
       "      <td>32.191215</td>\n",
       "      <td>32.370055</td>\n",
       "      <td>31.932888</td>\n",
       "      <td>31.982565</td>\n",
       "      <td>35561100</td>\n",
       "      <td>29.40624</td>\n",
       "      <td>47.945427</td>\n",
       "    </tr>\n",
       "    <tr>\n",
       "      <th>2022-12-21</th>\n",
       "      <td>32.310441</td>\n",
       "      <td>32.658184</td>\n",
       "      <td>32.201149</td>\n",
       "      <td>32.469410</td>\n",
       "      <td>32544000</td>\n",
       "      <td>29.40624</td>\n",
       "      <td>47.945427</td>\n",
       "    </tr>\n",
       "    <tr>\n",
       "      <th>2022-12-22</th>\n",
       "      <td>32.310442</td>\n",
       "      <td>32.370056</td>\n",
       "      <td>31.664631</td>\n",
       "      <td>32.181278</td>\n",
       "      <td>30234400</td>\n",
       "      <td>29.40624</td>\n",
       "      <td>47.945427</td>\n",
       "    </tr>\n",
       "    <tr>\n",
       "      <th>2022-12-23</th>\n",
       "      <td>32.191216</td>\n",
       "      <td>32.370057</td>\n",
       "      <td>31.982567</td>\n",
       "      <td>32.260765</td>\n",
       "      <td>21378600</td>\n",
       "      <td>29.40624</td>\n",
       "      <td>47.945427</td>\n",
       "    </tr>\n",
       "    <tr>\n",
       "      <th>2022-12-27</th>\n",
       "      <td>32.290568</td>\n",
       "      <td>32.459471</td>\n",
       "      <td>32.071985</td>\n",
       "      <td>32.320374</td>\n",
       "      <td>22776100</td>\n",
       "      <td>29.40624</td>\n",
       "      <td>47.945427</td>\n",
       "    </tr>\n",
       "    <tr>\n",
       "      <th>2022-12-28</th>\n",
       "      <td>32.360118</td>\n",
       "      <td>32.757542</td>\n",
       "      <td>32.320375</td>\n",
       "      <td>32.558830</td>\n",
       "      <td>30541000</td>\n",
       "      <td>29.40624</td>\n",
       "      <td>47.945427</td>\n",
       "    </tr>\n",
       "    <tr>\n",
       "      <th>2022-12-29</th>\n",
       "      <td>32.678056</td>\n",
       "      <td>32.946317</td>\n",
       "      <td>32.538959</td>\n",
       "      <td>32.926445</td>\n",
       "      <td>22252900</td>\n",
       "      <td>29.40624</td>\n",
       "      <td>47.945427</td>\n",
       "    </tr>\n",
       "    <tr>\n",
       "      <th>2022-12-30</th>\n",
       "      <td>32.886703</td>\n",
       "      <td>33.085415</td>\n",
       "      <td>32.648251</td>\n",
       "      <td>32.906574</td>\n",
       "      <td>28198900</td>\n",
       "      <td>29.40624</td>\n",
       "      <td>47.945427</td>\n",
       "    </tr>\n",
       "  </tbody>\n",
       "</table>\n",
       "</div>"
      ],
      "text/plain": [
       "                 Open       High        Low      Close    Volume  52weeksMIN  \\\n",
       "Date                                                                           \n",
       "2022-12-16  31.416241  31.724243  31.147981  31.495726  61795200    29.40624   \n",
       "2022-12-19  31.555337  32.022308  31.525530  31.853405  38374100    29.40624   \n",
       "2022-12-20  32.191215  32.370055  31.932888  31.982565  35561100    29.40624   \n",
       "2022-12-21  32.310441  32.658184  32.201149  32.469410  32544000    29.40624   \n",
       "2022-12-22  32.310442  32.370056  31.664631  32.181278  30234400    29.40624   \n",
       "2022-12-23  32.191216  32.370057  31.982567  32.260765  21378600    29.40624   \n",
       "2022-12-27  32.290568  32.459471  32.071985  32.320374  22776100    29.40624   \n",
       "2022-12-28  32.360118  32.757542  32.320375  32.558830  30541000    29.40624   \n",
       "2022-12-29  32.678056  32.946317  32.538959  32.926445  22252900    29.40624   \n",
       "2022-12-30  32.886703  33.085415  32.648251  32.906574  28198900    29.40624   \n",
       "\n",
       "            52weeksMAX  \n",
       "Date                    \n",
       "2022-12-16   47.945427  \n",
       "2022-12-19   47.945427  \n",
       "2022-12-20   47.945427  \n",
       "2022-12-21   47.945427  \n",
       "2022-12-22   47.945427  \n",
       "2022-12-23   47.945427  \n",
       "2022-12-27   47.945427  \n",
       "2022-12-28   47.945427  \n",
       "2022-12-29   47.945427  \n",
       "2022-12-30   47.945427  "
      ]
     },
     "execution_count": 4,
     "metadata": {},
     "output_type": "execute_result"
    }
   ],
   "source": [
    "bac_df['52weeksMIN'] = bac_df['Close'].rolling(window=260).min()\n",
    "bac_df['52weeksMAX'] = bac_df['Close'].rolling(window=260).max()\n",
    "bac_df.tail(10)"
   ]
  },
  {
   "cell_type": "code",
   "execution_count": 9,
   "metadata": {},
   "outputs": [
    {
     "data": {
      "image/png": "[encoded data removed]",
      "text/plain": [
       "<Figure size 864x576 with 1 Axes>"
      ]
     },
     "metadata": {},
     "output_type": "display_data"
    }
   ],
   "source": [
    "close_price = bac_df['Close'][1000:1100]\n",
    "\n",
    "plt.figure(figsize=(12, 8))\n",
    "ax1 = plt.subplot(211)\n",
    "ax1.plot(close_price.index, close_price, color='lightgray')\n",
    "ax1.set_title('Adjusted Close Price', color='white')\n",
    "\n",
    "ax1.grid(True, color='#555555')\n",
    "ax1.set_axisbelow(True)\n",
    "ax1.set_facecolor('black')\n",
    "ax1.figure.set_facecolor('#121212')\n",
    "ax1.tick_params(axis='x', colors='white')\n",
    "ax1.tick_params(axis='y', colors='white')"
   ]
  },
  {
   "cell_type": "code",
   "execution_count": null,
   "metadata": {},
   "outputs": [],
   "source": []
  }
 ],
 "metadata": {
  "kernelspec": {
   "display_name": "Python 3",
   "language": "python",
   "name": "python3"
  },
  "language_info": {
   "codemirror_mode": {
    "name": "ipython",
    "version": 3
   },
   "file_extension": ".py",
   "mimetype": "text/x-python",
   "name": "python",
   "nbconvert_exporter": "python",
   "pygments_lexer": "ipython3",
   "version": "3.8.5"
  }
 },
 "nbformat": 4,
 "nbformat_minor": 2
}
